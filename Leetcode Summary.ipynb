{
  "nbformat": 4,
  "nbformat_minor": 0,
  "metadata": {
    "kernelspec": {
      "display_name": "Python 3",
      "language": "python",
      "name": "python3"
    },
    "language_info": {
      "codemirror_mode": {
        "name": "ipython",
        "version": 3
      },
      "file_extension": ".py",
      "mimetype": "text/x-python",
      "name": "python",
      "nbconvert_exporter": "python",
      "pygments_lexer": "ipython3",
      "version": "3.7.6"
    },
    "colab": {
      "name": "Leetcode Summary.ipynb",
      "provenance": [],
      "include_colab_link": true
    }
  },
  "cells": [
    {
      "cell_type": "markdown",
      "metadata": {
        "id": "view-in-github",
        "colab_type": "text"
      },
      "source": [
        "<a href=\"https://colab.research.google.com/github/dguo4/LeetCode/blob/master/Leetcode%20Summary.ipynb\" target=\"_parent\"><img src=\"https://colab.research.google.com/assets/colab-badge.svg\" alt=\"Open In Colab\"/></a>"
      ]
    },
    {
      "cell_type": "markdown",
      "metadata": {
        "id": "EwH9lSNtuQeY"
      },
      "source": [
        "# **LC1265-2020/03/31**\n",
        "https://leetcode.com/problems/print-immutable-linked-list-in-reverse/\n",
        "\n",
        "Tag: Class, Stack, Linked List"
      ]
    },
    {
      "cell_type": "markdown",
      "metadata": {
        "id": "6PkypQ4HuQei"
      },
      "source": [
        "You are given an immutable linked list, print out all values of each node in reverse with the help of the following interface:\n",
        "\n",
        "ImmutableListNode: An interface of immutable linked list, you are given the head of the list.\n",
        "You need to use the following functions to access the linked list (you can't access the ImmutableListNode directly):\n",
        "\n",
        "ImmutableListNode.printValue(): Print value of the current node.\n",
        "ImmutableListNode.getNext(): Return the next node.\n",
        "The input is only given to initialize the linked list internally. You must solve this problem without modifying the linked list. In other words, you must operate the linked list using only the mentioned APIs."
      ]
    },
    {
      "cell_type": "code",
      "metadata": {
        "id": "pbEkDyc2uQej"
      },
      "source": [
        "#My Answer \n",
        "#\"\"\"\n",
        "# This is the ImmutableListNode's API interface.\n",
        "# You should not implement it, or speculate about its implementation.\n",
        "# \"\"\"\n",
        "# class ImmutableListNode:\n",
        "#     def printValue(self) -> None: # print the value of this node.\n",
        "#     def getNext(self) -> 'ImmutableListNode': # return the next node.\n",
        "\n",
        "class Solution:\n",
        "    def printLinkedListInReverse(self, head: 'ImmutableListNode') -> None:\n",
        "        stack = []\n",
        "        while head:\n",
        "            stack.append(head)\n",
        "            head = head.getNext()\n",
        "        \n",
        "        while stack:\n",
        "            stack.pop().printValue()\n",
        "#         Below is the wrong answer I produced. \n",
        "#         data_list = []\n",
        "#         output_list =[]\n",
        "#         while head:\n",
        "#             data_list.append(head.printValue())\n",
        "#             head = head.getNext()\n",
        "#         while len(data_list) != 0:\n",
        "#             output_list.append(data_list.pop())\n",
        "#         return output_list"
      ],
      "execution_count": null,
      "outputs": []
    },
    {
      "cell_type": "markdown",
      "metadata": {
        "id": "nqpc9MFpuQel"
      },
      "source": [
        "# LC1119 - 2020/03/31\n",
        "\n",
        "https://leetcode.com/problems/remove-vowels-from-a-string/\n",
        "\n",
        "Tag:\n"
      ]
    },
    {
      "cell_type": "markdown",
      "metadata": {
        "id": "u9MKZRDvuQem"
      },
      "source": [
        "Given a string S, remove the vowels 'a', 'e', 'i', 'o', and 'u' from it, and return the new string."
      ]
    },
    {
      "cell_type": "code",
      "metadata": {
        "id": "-UTVprtpuQem"
      },
      "source": [
        "class Solution:\n",
        "    def removeVowels(self, S: str) -> str:\n",
        "        output = ''\n",
        "        if not S:\n",
        "            return -1\n",
        "        for s in S:\n",
        "            if s != 'a' and s != 'e' and s != 'i' and s != 'o' and s != 'u':\n",
        "                output = output + s\n",
        "        return output"
      ],
      "execution_count": null,
      "outputs": []
    },
    {
      "cell_type": "markdown",
      "metadata": {
        "id": "6MvyfR8auQem"
      },
      "source": [
        "# LC 1108 - 2020/04/01\n",
        "\n",
        "https://leetcode.com/problems/defanging-an-ip-address/\n",
        "\n",
        "Tag: "
      ]
    },
    {
      "cell_type": "markdown",
      "metadata": {
        "id": "MCoG7xt8uQen"
      },
      "source": [
        "Given a valid (IPv4) IP address, return a defanged version of that IP address.\n",
        "\n",
        "A defanged IP address replaces every period \".\" with \"[.]\".\n",
        "\n",
        "Input: address = \"1.1.1.1\"\n",
        "Output: \"1[.]1[.]1[.]1\""
      ]
    },
    {
      "cell_type": "code",
      "metadata": {
        "id": "teLK5P8duQen"
      },
      "source": [
        "# my inistial answer but the runtime is poor\n",
        "class Solution:\n",
        "    def defangIPaddr(self, address: str) -> str:\n",
        "        output = ''\n",
        "        for s in address:\n",
        "            if s == '.':\n",
        "                output = output + '[.]'\n",
        "            else:\n",
        "                output = output + s\n",
        "        return output\n",
        "    \n",
        "# 2nd answer using python build-in function replace with over 50% better runtime\n",
        "class Solution:\n",
        "    def defangIPaddr(self, address: str) -> str:\n",
        "        return address.replace('.', '[.]')"
      ],
      "execution_count": null,
      "outputs": []
    },
    {
      "cell_type": "markdown",
      "metadata": {
        "id": "jlV3VfPEuQen"
      },
      "source": [
        "# LC 1342 - 2020/04/01\n",
        "\n",
        "https://leetcode.com/problems/number-of-steps-to-reduce-a-number-to-zero/\n",
        "\n",
        "Tag: "
      ]
    },
    {
      "cell_type": "markdown",
      "metadata": {
        "id": "z99cQYlsuQen"
      },
      "source": [
        "Given a non-negative integer num, return the number of steps to reduce it to zero. If the current number is even, you have to divide it by 2, otherwise, you have to subtract 1 from it."
      ]
    },
    {
      "cell_type": "code",
      "metadata": {
        "id": "b78CwivpuQeo"
      },
      "source": [
        "class Solution:\n",
        "    def numberOfSteps (self, num: int) -> int:\n",
        "        step = 0\n",
        "        if num < 0:\n",
        "            return -1\n",
        "        while num: \n",
        "            # even\n",
        "            if num % 2 == 0:\n",
        "                num = num/2\n",
        "            # odd\n",
        "            else:\n",
        "                num = num - 1\n",
        "            step += 1\n",
        "        return step"
      ],
      "execution_count": null,
      "outputs": []
    },
    {
      "cell_type": "markdown",
      "metadata": {
        "id": "Zz_PPR1xuQeo"
      },
      "source": [
        "# LC 973: K Closest Points to Origin - 2020/05/12\n",
        "\n",
        "https://leetcode.com/problems/k-closest-points-to-origin/\n",
        "\n",
        "Tag: heapq"
      ]
    },
    {
      "cell_type": "code",
      "metadata": {
        "id": "SrqXlIqzuQeo"
      },
      "source": [
        "import heapq\n",
        "\n",
        "class Solution:\n",
        "    def kClosest(self, points: List[List[int]], K: int) -> List[List[int]]:\n",
        "        heap = []\n",
        "        for each_point in points:\n",
        "            d = self.pointDistance(each_point)\n",
        "            heapq.heappush(heap, (d, each_point))\n",
        "        \n",
        "        output = []\n",
        "        for _ in heapq.nsmallest(K, heap):\n",
        "            output.append(_[1])\n",
        "        return output\n",
        "    \n",
        "    def pointDistance(self, p):\n",
        "        return ((p[0])**2 + (p[1])**2)**0.5"
      ],
      "execution_count": null,
      "outputs": []
    },
    {
      "cell_type": "markdown",
      "metadata": {
        "id": "tIH71dAFuQep"
      },
      "source": [
        "# Summary\n",
        "5/12:\n",
        "我本来是想用dictionary解决的。但dictionary有个问题，就是不能处理如果两个点有相同的distance。所以放弃了。\n",
        "然后发现可以用heapq。\n",
        "\n",
        "可以使用list来初始化为 []  几个常用的functions\n",
        "1. heapq.heappush(heap, item)： 将 item 的值加入 heap 中，保持堆的不变性。\n",
        "2. heapq.heappop(heap)： 弹出并返回 heap 的最小的元素，保持堆的不变性。如果堆为空，抛出 IndexError 。使用 heap[0] ，可以只访问最小的元素而不弹出它。\n",
        "3. heapq.nlargest(n, iterable, key=None)： 从 iterable 所定义的数据集中返回前 n 个最大元素组成的列表。 如果提供了 key 则其应指定一个单参数的函数，用于从 iterable 的每个元素中提取比较键 (例如 key=str.lower)。 等价于: sorted(iterable, key=key, reverse=True)[:n]。\n",
        "4. heapq.nsmallest(n, iterable, key=None)\n",
        "\n",
        "？？？在heapq中，是按照什么排序的？heapq和list的区别是什么呢？？？\n"
      ]
    },
    {
      "cell_type": "markdown",
      "metadata": {
        "id": "T6z3jfrZuQep"
      },
      "source": [
        "# LC1249. Minimum Remove to Make Valid Parentheses - 2020/05/12\n",
        "\n",
        "https://leetcode.com/problems/minimum-remove-to-make-valid-parentheses/\n",
        "\n",
        "Tag: stack"
      ]
    },
    {
      "cell_type": "code",
      "metadata": {
        "id": "e-V1Eh9JuQep"
      },
      "source": [
        "# 1st solution w/o using stack. and its running time is o(n) but only beat 89%\n",
        "class Solution:\n",
        "    def minRemoveToMakeValid(self, s: str) -> str:\n",
        "        flag = 0\n",
        "        output = []\n",
        "        for c in s:\n",
        "            if c.isalpha():\n",
        "                output.append(c)\n",
        "            elif c == '(':\n",
        "                flag += 1\n",
        "                output.append(c)\n",
        "            elif c == ')' and flag != 0:\n",
        "                flag -= 1\n",
        "                output.append(c)\n",
        "        # the issue is that there might be extra openning braces\n",
        "        d = len(output) - 1\n",
        "        while flag > 0 and d >= 0:\n",
        "            if output[d] == '(':\n",
        "                output[d] = ''\n",
        "                flag -= 1\n",
        "            d -= 1\n",
        "        \n",
        "        return ''.join(output)"
      ],
      "execution_count": null,
      "outputs": []
    },
    {
      "cell_type": "code",
      "metadata": {
        "id": "nI5wUMdBuQeq"
      },
      "source": [
        "# 2nd solution using stack. and its running time beat 98%\n",
        "class Solution:\n",
        "    def minRemoveToMakeValid(self, s: str) -> str:\n",
        "        ls, stack = list(s), []\n",
        "        for i, c in enumerate(s):\n",
        "            if c == '(':\n",
        "                stack.append(i)\n",
        "            elif c == ')':\n",
        "                if stack:\n",
        "                    stack.pop()\n",
        "                else:\n",
        "                    # missing paired opening brace\n",
        "                    ls[i] = ''\n",
        "                    \n",
        "        # remaining or additional openning braces\n",
        "        for i in stack:\n",
        "            ls[i] = ''\n",
        "        \n",
        "        return ''.join(ls)"
      ],
      "execution_count": null,
      "outputs": []
    },
    {
      "cell_type": "markdown",
      "metadata": {
        "id": "mKpJYPLouQeq"
      },
      "source": [
        "# Summary:\n",
        "\n",
        "这个题主要在于要处理剩余的opening braces。这个是我没有想到的。同时也可以使用stack. （为什么呢?因为“）”只能和离他最近的那个“（”抵消，所以得利用stack的last in, first out特点）\n",
        "\n",
        "？？？stack和heapq的关系？？？"
      ]
    },
    {
      "cell_type": "markdown",
      "metadata": {
        "id": "ww4_44oLuQeq"
      },
      "source": [
        "# LC311. Sparse Matrix Multiplication - 5/13/2020\n",
        "\n",
        "https://leetcode.com/problems/sparse-matrix-multiplication/\n",
        "\n",
        "Tag:"
      ]
    },
    {
      "cell_type": "code",
      "metadata": {
        "id": "JbmWYWsSuQeq"
      },
      "source": [
        ""
      ],
      "execution_count": null,
      "outputs": []
    },
    {
      "cell_type": "code",
      "metadata": {
        "id": "L823_q87uQer"
      },
      "source": [
        "# 这是我第一次写的code，用的是最基本的矩阵乘法，但有问题。问题在于二维数组的构建。虽然能跑，但速度太差。 \n",
        "\n",
        "class Solution:\n",
        "    def multiply(self, A: List[List[int]], B: List[List[int]]) -> List[List[int]]:\n",
        "        A_row = len(A)\n",
        "        # print(A_row)\n",
        "        A_col = len(A[0])\n",
        "        # print(A_col)\n",
        "        \n",
        "        B_row = len(B)\n",
        "        B_col = len(B[0])\n",
        "        \n",
        "        output = [[0]*B_col]*A_row # 错误的构建二维数组的方法\n",
        "        \n",
        "        for i in range(A_row):\n",
        "            # print('---')\n",
        "            # print('i: ', i)\n",
        "            for j in range(B_row):\n",
        "                # print('~~~')\n",
        "                # print('j: ', j)\n",
        "                for t in range(A_col):\n",
        "                    # print('t: ', t)\n",
        "                    output[i][j] += A[i][t] * B[t][j]\n",
        "                    # print('A is ', A[i][t], ' ', 'B is ', B[t][j], 'output is ', output[i][j])\n",
        "                \n",
        "        return output"
      ],
      "execution_count": null,
      "outputs": []
    },
    {
      "cell_type": "code",
      "metadata": {
        "id": "ZOUsZ0eQuQer",
        "outputId": "9702a6aa-1c0e-45dd-bf19-79489d432165"
      },
      "source": [
        "# 构建二维数组的方法演示\n",
        "n = 2 # column\n",
        "m = 3 # row\n",
        "# 错误的构建方法: [0]*n 只是返回了一个reference。所以[*]*m只是把这个reference重复了m次\n",
        "matrix = [[0]*n]*m \n",
        "print(matrix)\n",
        "print(type([0]*n))\n",
        "print(matrix[0][0])\n",
        "matrix[0][0] = 1\n",
        "print(matrix)\n",
        "print('----')\n",
        "# 正确的构建方法\n",
        "matrix2 = [[0] * n for i in range(m)]\n",
        "print(matrix2)\n",
        "matrix2[0][0] = 1\n",
        "print(matrix2)"
      ],
      "execution_count": null,
      "outputs": [
        {
          "output_type": "stream",
          "text": [
            "[[0, 0], [0, 0], [0, 0]]\n",
            "<class 'list'>\n",
            "0\n",
            "[[1, 0], [1, 0], [1, 0]]\n",
            "----\n",
            "[[0, 0], [0, 0], [0, 0]]\n",
            "[[1, 0], [0, 0], [0, 0]]\n"
          ],
          "name": "stdout"
        }
      ]
    },
    {
      "cell_type": "code",
      "metadata": {
        "id": "uhvTFryzuQes"
      },
      "source": [
        "\n",
        "# 这是第二种的code，解决Sparse的问题。大概思路是既然你的matrix是sparse的，那么我们就用有限的空间去存储有用信息（non-zero）的位置。\n",
        "# 然后根据矩阵相乘的规则计算。非常聪明！\n",
        "\n",
        "class Solution:\n",
        "    def multiply(self, A: List[List[int]], B: List[List[int]]) -> List[List[int]]:\n",
        "        output = [[0]*len(B[0]) for i in range(len(A))]\n",
        "        dictA = {}\n",
        "        dictB = {}\n",
        "        \n",
        "        # for matrix A\n",
        "        for i in range(len(A)):\n",
        "            for j in range(len(A[0])):\n",
        "                if A[i][j] != 0:\n",
        "                    dictA[str(i)+','+str(j)] = A[i][j]\n",
        "        \n",
        "        # for matrix B\n",
        "        for i in range(len(B)):\n",
        "            for j in range(len(B[0])):\n",
        "                if B[i][j] != 0:\n",
        "                    dictB[str(i)+','+str(j)] = B[i][j]\n",
        "        \n",
        "        # for output \n",
        "        for A_key in dictA.keys():\n",
        "            A_row = int(A_key.split(',')[0])\n",
        "            A_col = int(A_key.split(',')[1])\n",
        "            for B_key in dictB.keys():\n",
        "                B_row = int(B_key.split(',')[0])\n",
        "                B_col = int(B_key.split(',')[1])\n",
        "                if A_col == B_row:\n",
        "                    output[A_row][B_col] += dictA[A_key] * dictB[B_key]\n",
        "        \n",
        "        return output"
      ],
      "execution_count": null,
      "outputs": []
    },
    {
      "cell_type": "markdown",
      "metadata": {
        "id": "zCr3cD4FuQes"
      },
      "source": [
        "# LC238. Product of Array Except Self - 5/13/2020\n",
        "\n",
        "https://leetcode.com/problems/product-of-array-except-self/\n",
        "\n",
        "Tag:"
      ]
    },
    {
      "cell_type": "code",
      "metadata": {
        "id": "KRGeHvOhuQet"
      },
      "source": [
        "# 这是我第一次写的，想法很简单，就是移除ith的元素，然后把剩下的相乘。但问题是会 Time Limit Exceeded。？？？这个的o()是 o(n^2)???\n",
        "# 因为他要求不能除而且running time = o(n)。\n",
        "class Solution:\n",
        "    def productExceptSelf(self, nums: List[int]) -> List[int]:\n",
        "        output = []\n",
        "        for i in range(len(nums)):\n",
        "            new_nums = nums[:i] + nums[i+1:]\n",
        "            # print(new_nums)\n",
        "            output.append(self.productList(new_nums))\n",
        "        return output\n",
        "    \n",
        "    def productList(self, nums):\n",
        "        output = 1\n",
        "        for _ in nums:\n",
        "            output *= _\n",
        "        return output"
      ],
      "execution_count": null,
      "outputs": []
    },
    {
      "cell_type": "code",
      "metadata": {
        "id": "QLe8P9otuQet"
      },
      "source": [
        "# z这是第二次写的，看了discussion。里面提到了左乘和右乘。我是按照这个思路走的，我认为这个running time = o(n)。但还是不够快，\n",
        "# 只beat了20%。 ???不知道是哪一步最花时间???\n",
        "\n",
        "class Solution:\n",
        "    def productExceptSelf(self, nums: List[int]) -> List[int]:\n",
        "        # Left product\n",
        "        L_product = []\n",
        "        for i in nums:\n",
        "            if L_product:\n",
        "                L_product.append(L_product[-1]*i)\n",
        "            else:\n",
        "                L_product.append(i)\n",
        "        print('L_product: ', L_product)\n",
        "        # print(L_product)\n",
        "        \n",
        "        # Right product\n",
        "        R_product = []\n",
        "        for i in range(len(nums)-1,-1, -1):\n",
        "            if R_product:\n",
        "                R_product.append(R_product[-1]*nums[i])\n",
        "            else:\n",
        "                R_product.append(nums[i])\n",
        "        R_product.reverse()\n",
        "        print('R_product: ', R_product)\n",
        "        \n",
        "        output = []\n",
        "        \n",
        "        for i in range(len(nums)):\n",
        "            if i == 0:\n",
        "                output.append(R_product[1])\n",
        "            elif i == len(nums)-1:\n",
        "                output.append(L_product[-2])\n",
        "            else:\n",
        "                output.append(L_product[i-1] * R_product[i+1])\n",
        "        \n",
        "        return output"
      ],
      "execution_count": null,
      "outputs": []
    },
    {
      "cell_type": "markdown",
      "metadata": {
        "id": "pjtwZAwZuQet"
      },
      "source": [
        "# LC896. Monotonic Array - 5/13/2020\n",
        "\n",
        "https://leetcode.com/problems/monotonic-array/\n",
        "\n",
        "Tag: List"
      ]
    },
    {
      "cell_type": "code",
      "metadata": {
        "id": "AeRPGhdxuQeu"
      },
      "source": [
        "# 这是第一次的code, 第二部分修改了多次，第一种是情况是[1,1,0],这个时候flag_list=[-1]，所以得加len(); \n",
        "# 第二种情况是[6,5,4,4],这个时候flag_list = [-1, -1]， 所以得加abs（）。但这个code不够快。\n",
        "class Solution:\n",
        "    def isMonotonic(self, A: List[int]) -> bool:\n",
        "        flag_list = []\n",
        "        for i in range(len(A)-1):\n",
        "            if A[i] < A[i+1]:\n",
        "                flag_list.append(1) \n",
        "            elif A[i] > A[i+1]:\n",
        "                flag_list.append(-1)\n",
        "\n",
        "        if len(flag_list) == 1:\n",
        "            return True\n",
        "        elif abs(sum(flag_list)) < len(flag_list):\n",
        "            return False\n",
        "        \n",
        "        return True\n"
      ],
      "execution_count": null,
      "outputs": []
    },
    {
      "cell_type": "code",
      "metadata": {
        "id": "TRajzX1juQeu"
      },
      "source": [
        "# 这是第二种写法。这个问题第一次困扰我的的地方是单调有两个方向，一个是单调递增；一个是单调递减。两种情况的判断方式完全不一样。所以卡壳了很久。\n",
        "# 这个方法提供了一个很聪明的做法，就是通过比较第一个元素和最后一个元素来判断趋势。然后有一个小技巧，就是让list反转，a[::-1].\n",
        "\n",
        "class Solution:\n",
        "    def isMonotonic(self, A: List[int]) -> bool:\n",
        "        # transfer list to a list which A[0] < A[-1].\n",
        "        if A[0] > A[-1]:\n",
        "            A = A[::-1]\n",
        "        \n",
        "        for i in range(len(A)-1):\n",
        "            if A[i] > A[i+1]:\n",
        "                return False\n",
        "        \n",
        "        return True\n"
      ],
      "execution_count": null,
      "outputs": []
    },
    {
      "cell_type": "markdown",
      "metadata": {
        "id": "clWUdN9JuQeu"
      },
      "source": [
        "# LC953. Verifying an Alien Dictionary - 5/13/2020\n",
        "\n",
        "https://leetcode.com/problems/verifying-an-alien-dictionary/\n",
        "\n",
        "Tag: "
      ]
    },
    {
      "cell_type": "code",
      "metadata": {
        "id": "jmAHbj61uQeu"
      },
      "source": [
        "# 这是我憋了一个多小时写的code，还是有问题。本来想法是把string转变成数字，然后比较。后来发现这样做不行。所以还是得走回之前的老路子。一个\n",
        "# 一个character的比较。但其中有一个收获点。把一个int list变成int的方法，int_num = int(\"\".join(map(str, int_num_list))) \n",
        "class Solution:\n",
        "    def isAlienSorted(self, words: List[str], order: str) -> bool:\n",
        "        # create a dictionary for order to easily compare the character's order\n",
        "        order_dict = {}\n",
        "        for idx, _ in enumerate(order):\n",
        "            order_dict[_] = idx+1\n",
        "        \n",
        "        # add the empty value and its order\n",
        "        order_dict[' '] = 0\n",
        "        \n",
        "        i = 0\n",
        "        check_list = []\n",
        "        words_len_list = []\n",
        "        for _ in words:\n",
        "            words_len_list.append(len(_))\n",
        "        max_word_len = max(words_len_list)\n",
        "        \n",
        "        new_words_list = []\n",
        "        for _ in words:\n",
        "            new_words_list.append(_ + ' '*(max_word_len-len(_)))\n",
        "        print(new_words_list)\n",
        "        \n",
        "        new_words_num_list = []\n",
        "        for new_word in new_words_list:\n",
        "            temp = []\n",
        "            for c in new_word:\n",
        "                temp.append(str(order_dict[c]))\n",
        "            print(temp)\n",
        "            new_words_num = int(\"\".join(map(str, temp))) \n",
        "            new_words_num_list.append(new_words_num)\n",
        "        \n",
        "        for idx in range(len(new_words_num_list)-1):\n",
        "            if new_words_num_list[idx] > new_words_num_list[idx+1]:\n",
        "                return False\n",
        "        return True"
      ],
      "execution_count": null,
      "outputs": []
    },
    {
      "cell_type": "code",
      "metadata": {
        "id": "X4vT2U8uuQev"
      },
      "source": [
        "# 这是第二版的code。开始比较各个character，但问题还是有。主要是下面这个test case过不了\n",
        "# [\"apple\",\"app\"]\n",
        "# \"abcdefghijklmnopqrstuvwxyz\"\n",
        "# 问题在于第二个word在补上‘ ’，就算用list()还是不能显示最后的那两个‘ ’\n",
        "\n",
        "class Solution:\n",
        "    def isAlienSorted(self, words: List[str], order: str) -> bool:\n",
        "        # create a dictionary for order to easily compare the character's order\n",
        "        order_dict = {}\n",
        "        for idx, _ in enumerate(order):\n",
        "            order_dict[_] = idx+1\n",
        "        \n",
        "        # add the empty value and its order\n",
        "        order_dict[' '] = 0\n",
        "        \n",
        "        i = 0\n",
        "        check_list = []\n",
        "        words_len_list = []\n",
        "        for _ in words:\n",
        "            words_len_list.append(len(_))\n",
        "        max_word_len = max(words_len_list)\n",
        "        \n",
        "        new_words_list = []\n",
        "        for _ in words:\n",
        "            new_words_list.append(str(_ + ' '*(max_word_len-len(_))))\n",
        "        print(new_words_list)\n",
        "        \n",
        "        for idx in range(len(words)-1):\n",
        "            print(len(list(words[idx])))\n",
        "            print(len(list(words[idx+1])))\n",
        "            while i < max_word_len:\n",
        "                if order_dict[list(words[idx])[i]] < order_dict[list(words[idx+1])[i]]:\n",
        "                    i += 1\n",
        "                    break\n",
        "                elif order_dict[words[idx][i]] == order_dict[words[idx+1][i]]:\n",
        "                    i += 1\n",
        "                else:\n",
        "                    # print(words[idx][i])\n",
        "                    # print(words[idx+1][i])\n",
        "                    return False\n",
        "        return True\n",
        "        "
      ],
      "execution_count": null,
      "outputs": []
    },
    {
      "cell_type": "code",
      "metadata": {
        "id": "v1w1DDbIuQev"
      },
      "source": [
        "class Solution:\n",
        "    def isAlienSorted(self, words: List[str], order: str) -> bool:\n",
        "        # create a dictionary for order to easily compare the character's order\n",
        "        order_dict = {}\n",
        "        for idx, _ in enumerate(order):\n",
        "            order_dict[_] = idx+1\n",
        "        \n",
        "        def compareTwoWord(word1, word2):\n",
        "            for i in range(min(len(word1), len(word2))):\n",
        "                if order_dict[word1[i]] < order_dict[word2[i]]:\n",
        "                    return True\n",
        "                elif order_dict[word1[i]] > order_dict[word2[i]]:\n",
        "                    return False\n",
        "            \n",
        "            if len(word1)>len(word2):\n",
        "                return False\n",
        "            else:\n",
        "                return True\n",
        "        \n",
        "        for w_idx in range(len(words)-1):\n",
        "            print(compareTwoWord(words[w_idx], words[w_idx+1]))\n",
        "            if compareTwoWord(words[w_idx], words[w_idx+1]):\n",
        "                pass\n",
        "            else:\n",
        "                return False\n",
        "\n",
        "        return True\n",
        "                    "
      ],
      "execution_count": null,
      "outputs": []
    },
    {
      "cell_type": "code",
      "metadata": {
        "id": "wmbbucB5uQev",
        "outputId": "8971bcc6-dfa4-48cb-e8dc-6bc36e7f2c02"
      },
      "source": [
        "a = 'abc  '\n",
        "print(len(list(a)))\n",
        "\n",
        "b = 'abc' + ' '+' '\n",
        "print(len(list(b)))"
      ],
      "execution_count": null,
      "outputs": [
        {
          "output_type": "stream",
          "text": [
            "5\n",
            "5\n"
          ],
          "name": "stdout"
        }
      ]
    },
    {
      "cell_type": "markdown",
      "metadata": {
        "id": "FZq3T1HRuQev"
      },
      "source": [
        "# LC1060. Missing Element in Sorted Array - 5/13/2020\n",
        "\n",
        "https://leetcode.com/problems/missing-element-in-sorted-array/\n",
        "\n",
        "Tag:"
      ]
    },
    {
      "cell_type": "code",
      "metadata": {
        "id": "Ssw7lrm7uQev",
        "outputId": "e45ec793-f3a7-4a6b-ff34-d85ee209cb4a"
      },
      "source": [
        "# 这是第一稿，败在了running time上。但我这个已经是o(n)了。？？？难道能更快一点？？？ \n",
        "\n",
        "class Solution:\n",
        "    def missingElement(self, nums: List[int], k: int) -> int:\n",
        "        min_num = nums[0]\n",
        "        max_num = nums[-1]\n",
        "        missing_list = []\n",
        "        for n in range(min_num, max_num+1):\n",
        "            if n in nums:\n",
        "                continue\n",
        "            else:\n",
        "                missing_list.append(n)\n",
        "        \n",
        "        if k <= len(missing_list):\n",
        "            return missing_list[k-1]\n",
        "        else:\n",
        "            return max(missing_list[-1],nums[-1]) + (k-len(missing_list))"
      ],
      "execution_count": null,
      "outputs": [
        {
          "output_type": "error",
          "ename": "NameError",
          "evalue": "name 'List' is not defined",
          "traceback": [
            "\u001b[0;31m---------------------------------------------------------------------------\u001b[0m",
            "\u001b[0;31mNameError\u001b[0m                                 Traceback (most recent call last)",
            "\u001b[0;32m<ipython-input-14-1356f2770098>\u001b[0m in \u001b[0;36m<module>\u001b[0;34m\u001b[0m\n\u001b[1;32m      2\u001b[0m \u001b[0;31m# **<font color = red>但这样的话是否会和中间那项result重复呢</font>**\u001b[0m\u001b[0;34m\u001b[0m\u001b[0;34m\u001b[0m\u001b[0;34m\u001b[0m\u001b[0m\n\u001b[1;32m      3\u001b[0m \u001b[0;34m\u001b[0m\u001b[0m\n\u001b[0;32m----> 4\u001b[0;31m \u001b[0;32mclass\u001b[0m \u001b[0mSolution\u001b[0m\u001b[0;34m:\u001b[0m\u001b[0;34m\u001b[0m\u001b[0;34m\u001b[0m\u001b[0m\n\u001b[0m\u001b[1;32m      5\u001b[0m     \u001b[0;32mdef\u001b[0m \u001b[0mmissingElement\u001b[0m\u001b[0;34m(\u001b[0m\u001b[0mself\u001b[0m\u001b[0;34m,\u001b[0m \u001b[0mnums\u001b[0m\u001b[0;34m:\u001b[0m \u001b[0mList\u001b[0m\u001b[0;34m[\u001b[0m\u001b[0mint\u001b[0m\u001b[0;34m]\u001b[0m\u001b[0;34m,\u001b[0m \u001b[0mk\u001b[0m\u001b[0;34m:\u001b[0m \u001b[0mint\u001b[0m\u001b[0;34m)\u001b[0m \u001b[0;34m->\u001b[0m \u001b[0mint\u001b[0m\u001b[0;34m:\u001b[0m\u001b[0;34m\u001b[0m\u001b[0;34m\u001b[0m\u001b[0m\n\u001b[1;32m      6\u001b[0m         \u001b[0mmin_num\u001b[0m \u001b[0;34m=\u001b[0m \u001b[0mnums\u001b[0m\u001b[0;34m[\u001b[0m\u001b[0;36m0\u001b[0m\u001b[0;34m]\u001b[0m\u001b[0;34m\u001b[0m\u001b[0;34m\u001b[0m\u001b[0m\n",
            "\u001b[0;32m<ipython-input-14-1356f2770098>\u001b[0m in \u001b[0;36mSolution\u001b[0;34m()\u001b[0m\n\u001b[1;32m      3\u001b[0m \u001b[0;34m\u001b[0m\u001b[0m\n\u001b[1;32m      4\u001b[0m \u001b[0;32mclass\u001b[0m \u001b[0mSolution\u001b[0m\u001b[0;34m:\u001b[0m\u001b[0;34m\u001b[0m\u001b[0;34m\u001b[0m\u001b[0m\n\u001b[0;32m----> 5\u001b[0;31m     \u001b[0;32mdef\u001b[0m \u001b[0mmissingElement\u001b[0m\u001b[0;34m(\u001b[0m\u001b[0mself\u001b[0m\u001b[0;34m,\u001b[0m \u001b[0mnums\u001b[0m\u001b[0;34m:\u001b[0m \u001b[0mList\u001b[0m\u001b[0;34m[\u001b[0m\u001b[0mint\u001b[0m\u001b[0;34m]\u001b[0m\u001b[0;34m,\u001b[0m \u001b[0mk\u001b[0m\u001b[0;34m:\u001b[0m \u001b[0mint\u001b[0m\u001b[0;34m)\u001b[0m \u001b[0;34m->\u001b[0m \u001b[0mint\u001b[0m\u001b[0;34m:\u001b[0m\u001b[0;34m\u001b[0m\u001b[0;34m\u001b[0m\u001b[0m\n\u001b[0m\u001b[1;32m      6\u001b[0m         \u001b[0mmin_num\u001b[0m \u001b[0;34m=\u001b[0m \u001b[0mnums\u001b[0m\u001b[0;34m[\u001b[0m\u001b[0;36m0\u001b[0m\u001b[0;34m]\u001b[0m\u001b[0;34m\u001b[0m\u001b[0;34m\u001b[0m\u001b[0m\n\u001b[1;32m      7\u001b[0m         \u001b[0mmax_num\u001b[0m \u001b[0;34m=\u001b[0m \u001b[0mnums\u001b[0m\u001b[0;34m[\u001b[0m\u001b[0;34m-\u001b[0m\u001b[0;36m1\u001b[0m\u001b[0;34m]\u001b[0m\u001b[0;34m\u001b[0m\u001b[0;34m\u001b[0m\u001b[0m\n",
            "\u001b[0;31mNameError\u001b[0m: name 'List' is not defined"
          ]
        }
      ]
    },
    {
      "cell_type": "markdown",
      "metadata": {
        "id": "jxHmQYSEuQew"
      },
      "source": [
        "# LC938. Range Sum of BST - 5/14/2020\n",
        "\n",
        "https://leetcode.com/problems/range-sum-of-bst/\n",
        "\n",
        "Tag: BST, DFS, Recusion"
      ]
    },
    {
      "cell_type": "code",
      "metadata": {
        "id": "u52PJthXuQew"
      },
      "source": [
        "# Definition for a binary tree node.\n",
        "# class TreeNode:\n",
        "#     def __init__(self, val=0, left=None, right=None):\n",
        "#         self.val = val\n",
        "#         self.left = left\n",
        "#         self.right = right\n",
        "class Solution:\n",
        "    def rangeSumBST(self, root: TreeNode, L: int, R: int) -> int:\n",
        "        return sum(self._helper(root, L, R))\n",
        "    \n",
        "    def _helper(self, root, L, R):\n",
        "        result = []\n",
        "        # 如果到leaf了，那就返回目前的result\n",
        "        if not root:\n",
        "            return result\n",
        "        # 在这之间，那我们就把满足条件的node加进去\n",
        "        elif root.val <= R and root.val >= L:\n",
        "            result.append(root.val)\n",
        "            \n",
        "        return self._helper(root.left, L, R) + result + self._helper(root.right, L, R)"
      ],
      "execution_count": null,
      "outputs": []
    },
    {
      "cell_type": "markdown",
      "metadata": {
        "id": "k7pPQ520uQew"
      },
      "source": [
        "## Summary\n",
        "\n",
        "这是一个典型的tree问题。核心是DFS，但其实他不是完全照搬DFS的做法，比如有什么visit flag之类的。相反，我们只是借鉴了DFS的想法，就是一条路走到头（走到leaf）。这个实现就是一个简单的recursion（不停的迭代func(root.left)）。这样我们就能达到tree的最左下角了。但更关键的是怎么从最下面上来.在recursion中，这个return它其实就是会返回到上一级的函数中去。所以这正好符合了我们对tree的要求。\n",
        "\n",
        "这个题里面recursion发生在_helper(root.left, L, R)和_helper(root.right, L, R). 如果这个tree长这个样子的话，那我们的逻辑顺序就应该是\n",
        "\n",
        "      1\n",
        "    /   \\\n",
        "   2     3\n",
        "  / \\   / \\\n",
        " 4   5 6   7\n",
        "\n",
        "i. 1 -> 2 -> 4：我们一步步来到了4\n",
        "ii.到了4之后，因为我们已经到了leaf了，所以就要返回到上一级（2），是哪一项返回的呢？是self._helper(root.left, L, R) 返回了result的，**<font color = red>但这样的话是否会和中间那项result重复呢</font>**。然后我们就要跑到(2)里面的self._helper(root.right, L, R). 然后我们就来到了（5）。\n",
        "iii. 因为（5）是leaf，所以又要返回到上一级（2），又因为这一级（2）已经全部算完了，所以我们就返回到更上的一级（1）。\n",
        "\n",
        "## 5/17/2020 update\n",
        "我忽略了这个题目中的一个重要“提示”，这是一个BST，说明这里面的node都是有顺序的。左边node的value都是要比右边node大，所以我们应该是能根据这个条件做出一些改进的。因为遍历全部node需要的时间太久了，可能适用于一般的tree，但是不适用于BST。"
      ]
    },
    {
      "cell_type": "markdown",
      "metadata": {
        "id": "7ZolIJZHuQew"
      },
      "source": [
        "# LC1379. Find a Corresponding Node of a Binary Tree in a Clone of That Tree - 5/16/2020\n",
        "\n",
        "https://leetcode.com/problems/find-a-corresponding-node-of-a-binary-tree-in-a-clone-of-that-tree/\n",
        "\n",
        "Tag: Tree, deque"
      ]
    },
    {
      "cell_type": "code",
      "metadata": {
        "id": "anxrBkcRuQex"
      },
      "source": [
        "# 这是discussion里面的一个答案，我觉得是比较合乎我的思维逻辑的（因为我根本没有想到DFS）。同时他使用了一个data structure，deque。可是这\n",
        "# 个code的running time只优于10%的submission.所以我按照他的逻辑，重新写了一个不用deque的code（因为我觉得没有必要用popleft）。\n",
        "\n",
        "\n",
        "# Definition for a binary tree node.\n",
        "# class TreeNode:\n",
        "#     def __init__(self, x):\n",
        "#         self.val = x\n",
        "#         self.left = None\n",
        "#         self.right = None\n",
        "\n",
        "class Solution:\n",
        "    def getTargetCopy(self, original: TreeNode, cloned: TreeNode, target: TreeNode) -> TreeNode:\n",
        "        que = collections.deque([(original, cloned)])\n",
        "        while que:\n",
        "            original_node, cloned_node = que.popleft()\n",
        "            if original_node.val == target.val:\n",
        "                return cloned_node\n",
        "            if original_node.left:\n",
        "                que.append([original_node.left, cloned_node.left])\n",
        "            if original_node.right:\n",
        "                que.append([original_node.right, cloned_node.right])"
      ],
      "execution_count": null,
      "outputs": []
    },
    {
      "cell_type": "code",
      "metadata": {
        "id": "ajzLkKLBuQey"
      },
      "source": [
        "# 这是我的改进版本，就用list和最基本的pop。结果running time 击败了80%的submission。\n",
        "\n",
        "# Definition for a binary tree node.\n",
        "# class TreeNode:\n",
        "#     def __init__(self, x):\n",
        "#         self.val = x\n",
        "#         self.left = None\n",
        "#         self.right = None\n",
        "\n",
        "class Solution:\n",
        "    def getTargetCopy(self, original: TreeNode, cloned: TreeNode, target: TreeNode) -> TreeNode:\n",
        "        que = [(original, cloned)]\n",
        "        while que:\n",
        "            original_node, cloned_node = que.pop()\n",
        "            if original_node.val == target.val:\n",
        "                return cloned_node\n",
        "            if original_node.left:\n",
        "                que.append([original_node.left, cloned_node.left])\n",
        "            if original_node.right:\n",
        "                que.append([original_node.right, cloned_node.right])"
      ],
      "execution_count": null,
      "outputs": []
    },
    {
      "cell_type": "markdown",
      "metadata": {
        "id": "kEQDGxwquQey"
      },
      "source": [
        "## Summary\n",
        "个人觉得这是最直接和最容易理解的的答案了。其中用到了用到了一个数据结构，deque。deque也是利用list去初始化。最有意思的地方在于deque可以从两边（left和right）分别pop。在某些场景下，可能会更有用一些。但需要注意的是，**<font color = red>deque可能running time要比一般的list要复杂。 </font>** \n",
        "剩下的一个问题就是，当我们想遍历一个tree的时候，我们什么时候用while tree这种方式（判断tree里面的node是否都遍历完了），什么时候用recursion呢？"
      ]
    },
    {
      "cell_type": "markdown",
      "metadata": {
        "id": "xJzLvGzLuQey"
      },
      "source": [
        "# LC1315. Sum of Nodes with Even-Valued Grandparent - 5/16/2020\n",
        "\n",
        "https://leetcode.com/problems/sum-of-nodes-with-even-valued-grandparent/\n",
        "\n",
        "Tag: Tree"
      ]
    },
    {
      "cell_type": "code",
      "metadata": {
        "id": "CyYOnhhOuQey"
      },
      "source": [
        "# 这是我第二次写的。首先我一开始遇到的问题是当我想计算root.left.left的时候，root.left是None了。比较暴力的解决方式就是在if，分别判断\n",
        "# root.left 和root.right. 现在再一次卡住我的问题是，如果我们到了某一个leaf了，那么这个时候的helper函数该返回什么？\n",
        "\n",
        "# Definition for a binary tree node.\n",
        "# class TreeNode:\n",
        "#     def __init__(self, val=0, left=None, right=None):\n",
        "#         self.val = val\n",
        "#         self.left = left\n",
        "#         self.right = right\n",
        "class Solution:\n",
        "    def sumEvenGrandparent(self, root: TreeNode) -> int:\n",
        "        if not root:\n",
        "            return -1\n",
        "        return self.helper(root)\n",
        "    \n",
        "    def helper(self, root: TreeNode):\n",
        "        total = 0\n",
        "        if not root:\n",
        "            return total\n",
        "        elif self.checkEven(root.val):\n",
        "            print('root: ', root.val)\n",
        "            print('total: ', total)\n",
        "            if root.left:\n",
        "                if root.left.left:\n",
        "                    total += root.left.left.val\n",
        "                if root.left.right:\n",
        "                    total += root.left.right.val\n",
        "            if root.right:\n",
        "                if root.right.left:\n",
        "                    total += root.right.left.val\n",
        "                if root.right.right:\n",
        "                    total += root.right.right.val\n",
        "        return self.helper(root.left) + total + self.helper(root.right)\n",
        "        \n",
        "    def checkEven(self, target: int):\n",
        "        if target % 2 == 0:\n",
        "            return True\n",
        "        else:\n",
        "            return False\n",
        "        "
      ],
      "execution_count": null,
      "outputs": []
    },
    {
      "cell_type": "code",
      "metadata": {
        "id": "2n0TpOvXuQez"
      },
      "source": [
        "# 这是根据LC938写的，但问题在于只返回了左边的node。感觉好像是右边的node过都没有过。\n",
        "# update @ 5/17/2020: 这个问题在于root.left/root.right中，不应该使用if else，因为这两个条件都是独立的，而不是非此即彼的概念。 \n",
        "\n",
        "# Definition for a binary tree node.\n",
        "# class TreeNode:\n",
        "#     def __init__(self, val=0, left=None, right=None):\n",
        "#         self.val = val\n",
        "#         self.left = left\n",
        "#         self.right = right\n",
        "class Solution:\n",
        "    def sumEvenGrandparent(self, root: TreeNode) -> int:\n",
        "        if not root:\n",
        "            return -1\n",
        "        print(self.helper(root))\n",
        "        return sum(self.helper(root))\n",
        "    \n",
        "    def helper(self, root: TreeNode):\n",
        "        result = []\n",
        "        if not root:\n",
        "            return result\n",
        "        elif self.checkEven(root.val):\n",
        "            if root.left:\n",
        "                if root.left.left:\n",
        "                    result.append(root.left.left.val) \n",
        "                if root.left.right:\n",
        "                    result.append(root.left.right.val)\n",
        "            if root.right:\n",
        "                if root.right.left:\n",
        "                    result.append(root.right.left.val)\n",
        "                if root.right.right:\n",
        "                    result.append(root.right.right.val)\n",
        "        \n",
        "        return self.helper(root.left) + result + self.helper(root.right)\n",
        "        \n",
        "    def checkEven(self, target: int):\n",
        "        if target % 2 == 0:\n",
        "            return True\n",
        "        else:\n",
        "            return False\n",
        "        "
      ],
      "execution_count": null,
      "outputs": []
    },
    {
      "cell_type": "markdown",
      "metadata": {
        "id": "pOYaxcR7uQez"
      },
      "source": [
        "## Summary\n",
        "\n",
        "可以和LC938一起看，我们的目标是一样的，都是要遍历整个tree **<font color=red> 可以说大部分的tree问题其实都是遍历整个tree吗？ </font>**. **<font color=blue> 遍历一个tree是一个很麻烦的事，所以要充分利用已经有的条件，比如如果是BST的话，那就要用他自身有order 的特点了。</font>**\n",
        "\n",
        "我需要把上面的两个版本都修改对才算是真的理解了tree的遍历问题。之前的一个问题是在root.left/root.right 中，是两个独立的if，而不是if和else的关系。 \n",
        "\n",
        "其中还有一个问题，就是关于最后一个return。搞清楚我们一共要返回几个部分，这个题和LC938一样，需要返回3个部分，left sub tree + node + right sub tree. 或者说当我们想遍历一个tree的时候，我们可以采用这种方式，将一个复杂的tree变成left sub tree + node + right sub tree\n",
        "的模式。我会尝试用这种方式去解决更多的tree问题。 "
      ]
    },
    {
      "cell_type": "markdown",
      "metadata": {
        "id": "K0svW7ThuQez"
      },
      "source": [
        "# LC104. Maximum Depth of Binary Tree - 5/17/2020\n",
        "\n",
        "https://leetcode.com/problems/maximum-depth-of-binary-tree/\n",
        "\n",
        "Tag: Tree, DFS"
      ]
    },
    {
      "cell_type": "code",
      "metadata": {
        "id": "5UQHiZWBuQez"
      },
      "source": [
        "# Definition for a binary tree node.\n",
        "# class TreeNode:\n",
        "#     def __init__(self, val=0, left=None, right=None):\n",
        "#         self.val = val\n",
        "#         self.left = left\n",
        "#         self.right = right\n",
        "class Solution:\n",
        "    def maxDepth(self, root: TreeNode) -> int:\n",
        "        return self.helper(root)\n",
        "    \n",
        "    def helper(self, root: TreeNode): \n",
        "        if not root:\n",
        "            return 0 \n",
        "        return 1+ max(self.helper(root.left), self.helper(root.right))"
      ],
      "execution_count": null,
      "outputs": []
    },
    {
      "cell_type": "markdown",
      "metadata": {
        "id": "8dwzmt9TuQe0"
      },
      "source": [
        "## Summary\n",
        "看起来很简单的一段code，有几个总结的地方。第一个是关于如果要遍历一个tree的话，我们基本需要用recursion，而以我目前见到的题来说，都是用的DFS.**<font color=red> 不知道为什么这些题都是以DFS作为蓝本？</font>**.而关于这个DFS的helper function结构，我认为可以分成下面三大类：\n",
        "1. **<font>leaf节点如何处理</font>**：\n",
        "    \n",
        "    if not root:\n",
        "        return ...\n",
        "    这里是处理当我们reach leaf的时候该会返回什么值。\n",
        "2. **<font>non-leaf 节点如何处理</font>**：\n",
        "    \n",
        "    if root:\n",
        "        ...\n",
        "        \n",
        "    这里是我们该如何处理每个non-leaf node的步骤，也是每个题不一样的地方，或者说是最复杂的地方了。\n",
        "3. **<font>最后的return </font>**:\n",
        "    这里的结构有两个重点，第一：这里是体现recussion的地方，也就是说这里是一定要调用函数本身的。第二：这里的结构分成three part，分别是root.left, root自己，root.right. 我们需要研究这三项直接的关系，该如何将他们拼接起来。 "
      ]
    },
    {
      "cell_type": "markdown",
      "metadata": {
        "id": "hjs4wh0iuQe0"
      },
      "source": [
        "# LC1302. Deepest Leaves Sum - 5/17/2020\n",
        "\n",
        "https://leetcode.com/problems/deepest-leaves-sum/\n",
        "\n",
        "Tag: Tree, DFS"
      ]
    },
    {
      "cell_type": "code",
      "metadata": {
        "id": "vO2TbGE3uQe0"
      },
      "source": [
        "# 这种方法特别慢，只beat了10%。 \n",
        "\n",
        "# Definition for a binary tree node.\n",
        "# class TreeNode:\n",
        "#     def __init__(self, val=0, left=None, right=None):\n",
        "#         self.val = val\n",
        "#         self.left = left\n",
        "#         self.right = right\n",
        "class Solution:\n",
        "    def deepestLeavesSum(self, root: TreeNode) -> int:\n",
        "        result = collections.Counter()\n",
        "        def helper(root: TreeNode, depth: int):\n",
        "            if not root:\n",
        "                pass\n",
        "            if root:\n",
        "                result[depth] += root.val\n",
        "                helper(root.left, depth+1)\n",
        "                helper(root.right, depth+1)\n",
        "        helper(root, 0)\n",
        "        return result[max(result)]"
      ],
      "execution_count": null,
      "outputs": []
    },
    {
      "cell_type": "markdown",
      "metadata": {
        "id": "DmaRaemruQe0"
      },
      "source": [
        "## Summary\n",
        "这个和之前的不太一样。第一我们并没有把这个helper函数单独写出来，个人觉得这样写有好有坏（对我而言）。好处是，我不需要考虑result该如何作为helper（）的一个变量传进去。还有一个好处是**<font color=red>是否因为我们的helper函数在里面，所以没有return呢？ 还是说这个题本身就是没有return的？</font>** 坏处是可能没有独立写那么整洁。\n",
        "\n",
        "另外，遇到这种需要用dictionary的，可以考虑直接用collections.Counter 不一样的一个地方是当遇到一个新key时，会自动给与一个0值，而不是像dictionary一样，报错。"
      ]
    },
    {
      "cell_type": "markdown",
      "metadata": {
        "id": "sFHY1Ut_uQe0"
      },
      "source": [
        "# LC654. Maximum Binary Tree - 5/17/2020\n",
        "\n",
        "https://leetcode.com/problems/maximum-binary-tree/\n",
        "\n",
        "Tag: Tree, Recusion"
      ]
    },
    {
      "cell_type": "code",
      "metadata": {
        "id": "2Bd6za9puQe1"
      },
      "source": [
        "# 我按照recursion的想法，一点一点写的，但就是不对。\n",
        "\n",
        "# Definition for a binary tree node.\n",
        "# class TreeNode:\n",
        "#     def __init__(self, val=0, left=None, right=None):\n",
        "#         self.val = val\n",
        "#         self.left = left\n",
        "#         self.right = right\n",
        "class Solution:\n",
        "    def constructMaximumBinaryTree(self, nums: List[int]) -> TreeNode:\n",
        "        # initialization\n",
        "        root = TreeNode()   \n",
        "        \n",
        "        def helper(root: TreeNode, nums: List[int]):\n",
        "            \n",
        "            print('nums: ', nums)\n",
        "            \n",
        "            # base case \n",
        "            # base case1: len(nums) = 0 then return None\n",
        "            if len(nums) == 0:\n",
        "                return None\n",
        "                \n",
        "            \n",
        "            # base case2: len(nums) = 1 then return nums itself as leaf\n",
        "            if len(nums) == 1:\n",
        "                root.val = nums[0]\n",
        "                root.left = None\n",
        "                root.right = None\n",
        "                return root\n",
        "            \n",
        "            # recursion: len(nums) >=2:\n",
        "            if len(nums) >= 2:\n",
        "                max_num = max(nums)\n",
        "                max_idx = nums.index(max_num)\n",
        "                root.val = max_num\n",
        "                # left subtree\n",
        "                left_sub_nums = nums[:max_idx]\n",
        "                print('left sub nums list: ', left_sub_nums)\n",
        "                root.left = helper(root, left_sub_nums)\n",
        "                # right subtree\n",
        "                right_sub_nums = nums[max_idx+1:]\n",
        "                print('right sub nums list: ', right_sub_nums)\n",
        "                root.right = helper(root, right_sub_nums)\n",
        "            \n",
        "            return root\n",
        "        \n",
        "        return helper(root, nums)\n",
        "        \n",
        "            "
      ],
      "execution_count": null,
      "outputs": []
    },
    {
      "cell_type": "code",
      "metadata": {
        "id": "wB890TvruQe1"
      },
      "source": [
        "# Definition for a binary tree node.\n",
        "# class TreeNode:\n",
        "#     def __init__(self, val=0, left=None, right=None):\n",
        "#         self.val = val\n",
        "#         self.left = left\n",
        "#         self.right = right\n",
        "class Solution:\n",
        "    def constructMaximumBinaryTree(self, nums: List[int]) -> TreeNode:\n",
        "        if not nums:\n",
        "            return\n",
        "        root = TreeNode(max(nums))\n",
        "        max_num_idx = nums.index(max(nums))\n",
        "        root.left = self.constructMaximumBinaryTree(nums[:max_num_idx])\n",
        "        root.right = self.constructMaximumBinaryTree(nums[max_num_idx+1:])\n",
        "        \n",
        "        return root"
      ],
      "execution_count": null,
      "outputs": []
    },
    {
      "cell_type": "markdown",
      "metadata": {
        "id": "opCt_SsyuQe1"
      },
      "source": [
        "## Summary\n",
        "1. list中删除某一个特定元素的几种方法\n",
        "\n",
        "    1.1 del a[2]\n",
        "    \n",
        "    1.2 a.pop()\n",
        "    \n",
        "    1.3 new_a = a[:1] + a[2:]\n",
        "    \n",
        "    1.4 a.remove(2)\n",
        "    \n",
        "    \n",
        "2. list中返回某个元素的index 的方法\n",
        "\n",
        "3. 如何写一个recusion的algo`\n",
        "\n",
        "对于这个题来说，**<font color=red> 不同于一般的recursion问题，tree的recursion只要关心 leaf node，node， node.left, node.right就可以了呢？</font>**\n"
      ]
    },
    {
      "cell_type": "markdown",
      "metadata": {
        "id": "OfCHeqXfuQe1"
      },
      "source": [
        "# LC226. Invert Binary Tree - 5/17/2020\n",
        "\n",
        "https://leetcode.com/problems/invert-binary-tree/\n",
        "\n",
        "Tag: Tree"
      ]
    },
    {
      "cell_type": "code",
      "metadata": {
        "id": "DaCY3uyXuQe2"
      },
      "source": [
        "# Definition for a binary tree node.\n",
        "# class TreeNode:\n",
        "#     def __init__(self, val=0, left=None, right=None):\n",
        "#         self.val = val\n",
        "#         self.left = left\n",
        "#         self.right = right\n",
        "class Solution:\n",
        "    def invertTree(self, root: TreeNode) -> TreeNode:\n",
        "        temp_node = TreeNode()\n",
        "        if not root:\n",
        "            return \n",
        "        temp_node = root.left\n",
        "        root.left = root.right\n",
        "        root.right = temp_node\n",
        "        self.invertTree(root.left)\n",
        "        self.invertTree(root.right)\n",
        "        return root"
      ],
      "execution_count": null,
      "outputs": []
    },
    {
      "cell_type": "markdown",
      "metadata": {
        "id": "LGY6CebquQe2"
      },
      "source": [
        "## Summary\n",
        "第一次写的code能一次通过，还是比较激动的。总结如下，对于tree的recursion来说，就四个需要注意的地方。分别是leaf，node， node.left，node.right。基本上如果leaf上没啥要做的话，就单放一个return就好了。计算过程应该主要是在node， node.left，node.right这三个部分上。嘴鸥的return，就只需要return root就好了。"
      ]
    },
    {
      "cell_type": "markdown",
      "metadata": {
        "id": "vFQDuUPIuQe2"
      },
      "source": [
        "# LC617. Merge Two Binary Trees - 5/18/2020\n",
        "\n",
        "https://leetcode.com/problems/merge-two-binary-trees/\n",
        "\n",
        "Tag: Tree, Recursion"
      ]
    },
    {
      "cell_type": "code",
      "metadata": {
        "id": "i1j-7IwluQe2"
      },
      "source": [
        "# Definition for a binary tree node.\n",
        "# class TreeNode:\n",
        "#     def __init__(self, val=0, left=None, right=None):\n",
        "#         self.val = val\n",
        "#         self.left = left\n",
        "#         self.right = right\n",
        "class Solution:\n",
        "    def mergeTrees(self, t1: TreeNode, t2: TreeNode) -> TreeNode:\n",
        "        t3 = TreeNode()\n",
        "        if not t1:\n",
        "            return t1\n",
        "        if not t2:\n",
        "            return t2\n",
        "        \n",
        "        t3.val = t1.val + t2.val\n",
        "        t3.left = self.mergeTrees(t1.left, t2.left)\n",
        "        t3.right = self.mergeTrees(t1.right, t2.right)\n",
        "        \n",
        "        return t3"
      ],
      "execution_count": null,
      "outputs": []
    },
    {
      "cell_type": "markdown",
      "metadata": {
        "id": "h36I4-0XuQe3"
      },
      "source": [
        "## Sumary\n",
        "\n",
        "还需要在研究"
      ]
    },
    {
      "cell_type": "markdown",
      "metadata": {
        "id": "uMp0VgWVuQe3"
      },
      "source": [
        "# LC96. Unique Binary Search Trees - 5/18/2020\n",
        "\n",
        "https://leetcode.com/problems/unique-binary-search-trees/\n",
        "\n",
        "Tag: Tree, DP"
      ]
    },
    {
      "cell_type": "code",
      "metadata": {
        "id": "z3Js4qWeuQe3"
      },
      "source": [
        "class Solution:\n",
        "    def numTrees(self, n: int) -> int:\n",
        "        # will use DP to solve this question\n",
        "        dp = {0:1, 1:1, 2:2}\n",
        "        for i in range(3,n+1):\n",
        "            num = 0\n",
        "            for j in range(i):\n",
        "                num += dp[j] * dp[i-j-1]\n",
        "            dp[i] = num\n",
        "        return dp[n]"
      ],
      "execution_count": null,
      "outputs": []
    },
    {
      "cell_type": "markdown",
      "metadata": {
        "id": "X8L_NxSfuQe3"
      },
      "source": [
        "## Summary\n",
        "\n",
        "这个题没想到会是DP，而且不是一个简单能直接看出递推公式的DP。 我是按照discussion中的一个例子写的（也是我觉得思路比较清晰的），虽然这个的running time实在不行 \n",
        "\n",
        "这个题的核心在于构建递推公式。而递推公式的核心在于left subtree和right subtree的。对于1-n中的每个元素，他们都可以做root，所以这是第一层循环。然后是第二层循环，这里就要把tree拆成left subtree和right subtree.我们需要的tree的可能种类 = left subtree的可能种类 * right subtree的可能种类。\n",
        "\n",
        "**n = 0:**\n",
        "我个人倾向于这个只是为了后面的递推公式而强行设定的。因为直观的感受是如果n=0，那么应该是木有一个完整的tree。但如果考虑到后面的递推公式的话，那么我们就不得不把这个设置为1了。\n",
        "\n",
        "**n = 1:**\n",
        "当n=1的时候，还是比较直接的，就一个tree。但问题在于这个是如何得到的。这是一个只有一个root的tree,意味着他的left subtree 和right subtree都是空的。我们认为dp[0] = 1,代表left subtree 或者 right subtree中都没有可能的tree.从而我们就有了dp[1] = dp[0] * dp[0].（因为只有一个root，所以我们只有一项）\n",
        "\n",
        "**n = 2:**\n",
        "当n=2的时候，也是比较直接的，可以直接画出来。首先我们有两项，root = 1 和root = 2\n",
        "\n",
        "当root = 1：right tree有一个可能的tree\n",
        "\n",
        "当root - 2: left tree有一个可能的tree\n",
        "\n",
        "所以我们让dp[1]代表left subtree或者right subtree 中有一个subtree有一个可能的情况。dp[2] = dp[1]*dp[0] + dp[0]*dp[1] = 2\n",
        "\n",
        "\n",
        "**n = 3:**\n",
        "当n=3的时候，就开始不直接了。不太容易直接画出来了。按照同样的方法分析，首先我们有三个root的可能性，分别是root=1, 2, 3\n",
        "\n",
        "当root = 1：right tree有两个元素，left tree不能有任何元素。\n",
        "\n",
        "当root = 2：left tree和right tree均只有一项\n",
        "\n",
        "当root = 3：left tree有两个元素，right tree只有一个元素\n",
        "\n",
        "所以我们让dp[2]代表left subtree或者right subtree中有一个subtree 有两个元素。dp[3] = dp[2]*dp[0] + dp[0]*dp[2] + dp[1]*dp[1] = 5\n",
        "\n",
        "**<font color=red>所以我觉得below link（https://leetcode.com/problems/unique-binary-search-trees/discuss/515632/Easy-understand-DP-solution-with-dictionary-beat-90-time-and-100-space ）不是很正确？ </font>**"
      ]
    },
    {
      "cell_type": "markdown",
      "metadata": {
        "id": "UxH3M-ukuQe3"
      },
      "source": [
        "# LC173. Binary Search Tree Iterator - 5/18/2020\n",
        "\n",
        "https://leetcode.com/problems/binary-search-tree-iterator/\n",
        "\n",
        "Tag: Tree, BST"
      ]
    },
    {
      "cell_type": "code",
      "metadata": {
        "id": "j7Xc_OBVuQe4"
      },
      "source": [
        "# Definition for a binary tree node.\n",
        "# class TreeNode:\n",
        "#     def __init__(self, val=0, left=None, right=None):\n",
        "#         self.val = val\n",
        "#         self.left = left\n",
        "#         self.right = right\n",
        "class BSTIterator:\n",
        "\n",
        "    def __init__(self, root: TreeNode):\n",
        "        self.stack = []\n",
        "        def treeToStack(root:TreeNode):\n",
        "            if root:\n",
        "                treeToStack(root.left)\n",
        "                self.stack.append(root.val)\n",
        "                treeToStack(root.right)\n",
        "                \n",
        "        treeToStack(root)        \n",
        "        \n",
        "    def next(self) -> int:\n",
        "        \"\"\"\n",
        "        @return the next smallest number\n",
        "        \"\"\"\n",
        "        if self.hasNext():\n",
        "            return self.stack.pop(0)\n",
        "        \n",
        "        \n",
        "    def hasNext(self) -> bool:\n",
        "        \"\"\"\n",
        "        @return whether we have a next smallest number\n",
        "        \"\"\"\n",
        "        if len(self.stack) != 0:\n",
        "            return True\n",
        "        else:\n",
        "            return False\n",
        "\n",
        "\n",
        "# Your BSTIterator object will be instantiated and called as such:\n",
        "# obj = BSTIterator(root)\n",
        "# param_1 = obj.next()\n",
        "# param_2 = obj.hasNext()"
      ],
      "execution_count": null,
      "outputs": []
    },
    {
      "cell_type": "markdown",
      "metadata": {
        "id": "qSXyEYuMuQe4"
      },
      "source": [
        "## Summary\n",
        "\n",
        "这个题看起来比较麻烦，需要填写好几个function.但核心就一个问题，如何把一个BST变成一个stack（有小到大的有序stack）。"
      ]
    },
    {
      "cell_type": "markdown",
      "metadata": {
        "id": "XKjJhU1muQe4"
      },
      "source": [
        "# LC1130. Minimum Cost Tree From Leaf Values - 5/18/2020\n",
        "\n",
        "https://leetcode.com/problems/minimum-cost-tree-from-leaf-values/\n",
        "\n",
        "Tag: Tree, Greedy Algo"
      ]
    },
    {
      "cell_type": "code",
      "metadata": {
        "id": "Tx1oN4pmuQe4"
      },
      "source": [
        "class Solution:\n",
        "    def mctFromLeafValues(self, arr: List[int]) -> int:\n",
        "        output = 0\n",
        "        \n",
        "        while len(arr)>1:\n",
        "            min_num = min(arr)\n",
        "            min_num_idx = arr.index(min_num)\n",
        "            if min_num_idx == 0:\n",
        "                output += min_num * arr[1]\n",
        "            elif min_num_idx == len(arr) - 1:\n",
        "                output += min_num * arr[min_num_idx-1]\n",
        "            else:\n",
        "                output += min_num * min(arr[min_num_idx-1],arr[min_num_idx+1])\n",
        "            arr.pop(min_num_idx)\n",
        "        \n",
        "        return output"
      ],
      "execution_count": null,
      "outputs": []
    },
    {
      "cell_type": "markdown",
      "metadata": {
        "id": "jJOTCOpvuQe5"
      },
      "source": [
        "## Summary\n",
        "\n",
        "第一眼一看完全没头绪（一开始看成必须得是BST）。 这个题目需要使用一个greedy algo，就是说我们为了让最后的结果最小，那么我们一开始的时候就去找最小的数以及它周围的数去组成non-leaf。这样的话，我们从bottom up的话，就能得到值最小的tree了。在循环过程中，一共有三种情况需要考虑：\n",
        "\n",
        "1. **最小值是第一个**\n",
        "\n",
        "那么我们返回的non-leaf node就是最小值和它右边相邻的那个数的乘积\n",
        "\n",
        "2. **最小值是最后一个**\n",
        "\n",
        "那么我们返回的non-leaf node就是最小值和它左边相邻的那个数的乘积\n",
        "\n",
        "3. **最小值在中间**\n",
        "\n",
        "那么我们就返回min（最小值和左边数的乘积，最小值和右边数的乘积）\n",
        "\n",
        "然后我们就需要把这个最小值pop（）出来。为什么呢？因为我们的每个non-leaf node都是left subtree 中的最小的和right subtree中最小的。这个最小值正好卡在中间。\n",
        "\n",
        "**<font color=red>如果我们的这个list中有重复的元素呢？ </font>**"
      ]
    },
    {
      "cell_type": "markdown",
      "metadata": {
        "id": "mMiNv2INuQe5"
      },
      "source": [
        "# LC108. Convert Sorted Array to Binary Search Tree - 5/19/2020\n",
        "\n",
        "https://leetcode.com/problems/convert-sorted-array-to-binary-search-tree/\n",
        "\n",
        "Tag: BST, Recursion"
      ]
    },
    {
      "cell_type": "code",
      "metadata": {
        "id": "qXepIcJVuQe5"
      },
      "source": [
        "# Definition for a binary tree node.\n",
        "# class TreeNode:\n",
        "#     def __init__(self, val=0, left=None, right=None):\n",
        "#         self.val = val\n",
        "#         self.left = left\n",
        "#         self.right = right\n",
        "class Solution:\n",
        "    def sortedArrayToBST(self, nums: List[int]) -> TreeNode:        \n",
        "        def helper(nums: List[int], left_idx: int, right_idx: int):\n",
        "            if left_idx > right_idx:\n",
        "                return None\n",
        "            \n",
        "            mid_idx = (left_idx + right_idx)//2\n",
        "            # print(nums[mid_idx])\n",
        "            root=TreeNode(nums[mid_idx])\n",
        "            root.left=helper(nums,left_idx, mid_idx-1)\n",
        "            root.right=helper(nums,mid_idx+1, right_idx)\n",
        "            return root\n",
        "    \n",
        "        return helper(nums, 0, len(nums)-1)"
      ],
      "execution_count": null,
      "outputs": []
    },
    {
      "cell_type": "markdown",
      "metadata": {
        "id": "uSbAQc58uQe5"
      },
      "source": [
        "## Summary\n",
        "\n",
        "tree的recursion核心就在于那root, root.left, root.right。一般来说，root是比较直接的。root.left和root.right是调用recursion的地方"
      ]
    },
    {
      "cell_type": "markdown",
      "metadata": {
        "id": "9b7CD1ycuQe6"
      },
      "source": [
        "# LC100. Same Tree - 5/19/2020\n",
        "\n",
        "https://leetcode.com/problems/same-tree/\n",
        "\n",
        "Tag: Tree, DFS, Easy"
      ]
    },
    {
      "cell_type": "code",
      "metadata": {
        "id": "Qwruq3o1uQe6"
      },
      "source": [
        "# Definition for a binary tree node.\n",
        "# class TreeNode:\n",
        "#     def __init__(self, val=0, left=None, right=None):\n",
        "#         self.val = val\n",
        "#         self.left = left\n",
        "#         self.right = right\n",
        "class Solution:\n",
        "    def isSameTree(self, p: TreeNode, q: TreeNode) -> bool:\n",
        "        def checkSameTree(p: TreeNode, q: TreeNode):\n",
        "            if not p and not q:\n",
        "                return True\n",
        "            elif p and q:\n",
        "                if p.val == q.val:\n",
        "                    return True and checkSameTree(p.left, q.left) and checkSameTree(p.right, q.right)\n",
        "            else:\n",
        "                return False\n",
        "        # print(checkSameTree(p,q))\n",
        "        \n",
        "        return checkSameTree(p,q)"
      ],
      "execution_count": null,
      "outputs": []
    },
    {
      "cell_type": "markdown",
      "metadata": {
        "id": "2RNRy9-quQe6"
      },
      "source": [
        "## Summary\n",
        "\n",
        "这个recursion有三个cases：\n",
        "\n",
        "1. not p and not q: 如果两个node都是null，那就return True\n",
        "\n",
        "2. p and q: 如果两个node都是non-leaf，那么就需要比较这些个node的val。同时还需要考虑的是，每个树的node.left, node.right\n",
        "\n",
        "3. 剩下的所有情况，我们都需要返回False\n",
        "\n",
        "还是之前tree recursion的逻辑，我们的切入点就三个，node， node.left, node.right. 我们的递推公式都要以这三个为核心。"
      ]
    },
    {
      "cell_type": "markdown",
      "metadata": {
        "id": "qE8y1gykuQe6"
      },
      "source": [
        "# LC105. Construct Binary Tree from Preorder and Inorder Traversal - 5/19/2020\n",
        "\n",
        "https://leetcode.com/problems/construct-binary-tree-from-preorder-and-inorder-traversal/\n",
        "\n",
        "Tag: Tree, Inorder, Postorder, Preorder"
      ]
    },
    {
      "cell_type": "code",
      "metadata": {
        "id": "c__DmCnTuQe7"
      },
      "source": [
        "# Definition for a binary tree node.\n",
        "# class TreeNode:\n",
        "#     def __init__(self, val=0, left=None, right=None):\n",
        "#         self.val = val\n",
        "#         self.left = left\n",
        "#         self.right = right\n",
        "class Solution:\n",
        "    def buildTree(self, preorder: List[int], inorder: List[int]) -> TreeNode:\n",
        "        if len(preorder) == 0 or len(inorder) == 0:\n",
        "            return None\n",
        "        \n",
        "        root = TreeNode()\n",
        "        \n",
        "        # root value is always from the 1st item from preorder\n",
        "        # print('preorder list: ', preorder)\n",
        "        root.val = preorder.pop(0)\n",
        "        root_idx = inorder.index(root.val)\n",
        "        # print('root val: ', root.val)\n",
        "        # print('root idx: ', root_idx)\n",
        "        # divid the inorder  with root index\n",
        "        inorder_left = inorder[:root_idx]\n",
        "        # print('inorder_left: ', inorder_left)\n",
        "        inorder_right = inorder[root_idx+1:]\n",
        "        # print('inorder_right: ', inorder_right)\n",
        "        # divid the preorder with inorder_left & inorder_right \n",
        "        preorder_left = preorder[:len(inorder_left)]\n",
        "        # print('preorder_left: ', preorder_left)\n",
        "        preorder_right = preorder[len(inorder_left):]\n",
        "        # print('preorder_right: ', preorder_right)\n",
        "        # print('---')\n",
        "        \n",
        "        root.left = self.buildTree(preorder_left, inorder_left)\n",
        "        root.right = self.buildTree(preorder_right, inorder_right)\n",
        "        \n",
        "        return root"
      ],
      "execution_count": null,
      "outputs": []
    },
    {
      "cell_type": "markdown",
      "metadata": {
        "id": "lO_K7PSHuQe7"
      },
      "source": [
        "## Summary\n",
        "\n",
        "Three different traversal methods for one tree:\n",
        "\n",
        "1. preorder: Head->Left->Right \n",
        "\n",
        "\n",
        "2. inorder: Left->Head->Right\n",
        "\n",
        "\n",
        "3. postorder: Left->Right->Head \n",
        "\n",
        "这个题的流程应该是preorder提供每个root在inorder的位置，将inorder分成left和right两部分。接着用inorder的left部分的长度来决定preorder的left 部分（从而也可以得知preorder的right部分）。最后就是recursion的部分了。"
      ]
    },
    {
      "cell_type": "markdown",
      "metadata": {
        "id": "1L3CeKPzuQe7"
      },
      "source": [
        "# LC95. Unique Binary Search Trees II - 5/20/2020\n",
        "\n",
        "https://leetcode.com/problems/unique-binary-search-trees-ii/\n",
        "\n",
        "Tag: Tree"
      ]
    },
    {
      "cell_type": "code",
      "metadata": {
        "id": "r0FjWWg7uQe7"
      },
      "source": [
        "# Definition for a binary tree node.\n",
        "# class TreeNode:\n",
        "#     def __init__(self, val=0, left=None, right=None):\n",
        "#         self.val = val\n",
        "#         self.left = left\n",
        "#         self.right = right\n",
        "class Solution:\n",
        "    def generateTrees(self, n: int) -> List[TreeNode]:\n",
        "        \n",
        "        def helper(l, r):\n",
        "            if l == r:\n",
        "                return [None]\n",
        "            nodes = []\n",
        "            for i in range(l, r):\n",
        "                for leftNode in helper(l, i):\n",
        "                    for rightNode in helper(i+1, r):\n",
        "                        root = TreeNode(i+1)\n",
        "                        root.left = leftNode\n",
        "                        root.right = rightNode\n",
        "                        nodes.append(root)\n",
        "            return nodes\n",
        "        if n == 0:\n",
        "            return []\n",
        "        else:\n",
        "            return helper(0,n)"
      ],
      "execution_count": null,
      "outputs": []
    },
    {
      "cell_type": "markdown",
      "metadata": {
        "id": "bRWzI9fLuQe8"
      },
      "source": [
        "# LC669. Trim a Binary Search Tree - 5/20/2020\n",
        "\n",
        "https://leetcode.com/problems/trim-a-binary-search-tree/\n",
        "\n",
        "Tag: Tree, Recursion"
      ]
    },
    {
      "cell_type": "code",
      "metadata": {
        "id": "LfHlJ9_zuQe8"
      },
      "source": [
        "# Definition for a binary tree node.\n",
        "# class TreeNode:\n",
        "#     def __init__(self, val=0, left=None, right=None):\n",
        "#         self.val = val\n",
        "#         self.left = left\n",
        "#         self.right = right\n",
        "class Solution:\n",
        "    def trimBST(self, root: TreeNode, L: int, R: int) -> TreeNode:\n",
        "        if not root: \n",
        "            return \n",
        "        if root.val > R:\n",
        "            root = self.trimBST(root.left, L, R)\n",
        "        elif root.val < L:\n",
        "            root = self.trimBST(root.right, L, R)\n",
        "        else:\n",
        "            root.left = self.trimBST(root.left, L, R)\n",
        "            root.right = self.trimBST(root.right, L, R)\n",
        "        return root"
      ],
      "execution_count": null,
      "outputs": []
    },
    {
      "cell_type": "markdown",
      "metadata": {
        "id": "3dG8S1mAuQe8"
      },
      "source": [
        "## Summary\n",
        "\n",
        "还是类似之前的做法，三个部分， node, node.left, node.right. \n",
        "\n",
        "**node**：用来判断和L，R之间的关系。同时利用BST的特点。如果node比L还小，那么就可以跳过他直接去看node.rigth.反之就去看node.left。 \n",
        "\n",
        "**node.left**: recursion下去去看node.left\n",
        "\n",
        "**node.right**: recursion下去去看node.right"
      ]
    },
    {
      "cell_type": "markdown",
      "metadata": {
        "id": "xMvG_xrruQe8"
      },
      "source": [
        "# LC979. Distribute Coins in Binary Tree - 5/20/2020\n",
        "\n",
        "https://leetcode.com/problems/distribute-coins-in-binary-tree/\n",
        "\n",
        "Tag: Tree"
      ]
    },
    {
      "cell_type": "code",
      "metadata": {
        "id": "GT6DCma7uQe9"
      },
      "source": [
        "# Definition for a binary tree node.\n",
        "# class TreeNode:\n",
        "#     def __init__(self, val=0, left=None, right=None):\n",
        "#         self.val = val\n",
        "#         self.left = left\n",
        "#         self.right = right\n",
        "class Solution:\n",
        "    def distributeCoins(self, root: TreeNode) -> int:\n",
        "        self.output = 0\n",
        "        \n",
        "        def helper(node):\n",
        "            if not node: \n",
        "                return 0 \n",
        "            L_extra = helper(node.left)\n",
        "            R_extra = helper(node.right)\n",
        "            self.output += abs(L_extra) + abs(R_extra)\n",
        "            return node.val -1 + L_extra + R_extra\n",
        "        \n",
        "        helper(root)\n",
        "        return self.output"
      ],
      "execution_count": null,
      "outputs": []
    },
    {
      "cell_type": "markdown",
      "metadata": {
        "id": "V9oIhDTvuQe9"
      },
      "source": [
        "## Summary\n",
        "\n",
        "这个题我是真的没头绪。我是按照node， node.left, node.right.但这个逻辑在这个题里面就不行了。（其实也可以这么想，因为最后的code，你可以看出他也是有node.left, node.rigth的部分。但更多的是把node， node.left, node.right当做一个整体来看）。同时我们在考虑这个题的时候，逻辑顺序是从下到上的。也就是说，我们在统计有多少个move的时候，是从最下面的node开始（或者说是从leaf开始）。这样能保证1.所有的node都满足条件；2. 不会出现一个node的coin要跑很远到另外一个node里面去。我只需要保证我现在的这个node满足条件就好了。 \n",
        "\n",
        "所以这也就是我们的output（）为啥只有两个部分（我之前以为我们需要三个部分，node.left, node.right, node）.\n",
        "\n",
        "**<font color=red>这里我就不懂为啥return的是node.val-1+L_extra+R_extra </font>**"
      ]
    },
    {
      "cell_type": "markdown",
      "metadata": {
        "id": "9uMpViYPuQe9"
      },
      "source": [
        "# LC199. Binary Tree Right Side View - 5/20/2020\n",
        "\n",
        "https://leetcode.com/problems/binary-tree-right-side-view/\n",
        "\n",
        "Tag: Tree, DFS"
      ]
    },
    {
      "cell_type": "code",
      "metadata": {
        "id": "pwR-DyAIuQe9"
      },
      "source": [
        "# Definition for a binary tree node.\n",
        "# class TreeNode:\n",
        "#     def __init__(self, val=0, left=None, right=None):\n",
        "#         self.val = val\n",
        "#         self.left = left\n",
        "#         self.right = right\n",
        "class Solution:\n",
        "    def rightSideView(self, root: TreeNode) -> List[int]:\n",
        "        self.output = []\n",
        "        self.maxDepth = float('-inf')\n",
        "        def helper(node, depth):\n",
        "            if not node:\n",
        "                return \n",
        "            if  self.maxDepth < depth:\n",
        "                self.output.append(node.val)\n",
        "                self.maxDepth = depth\n",
        "            helper(node.right, depth+1)\n",
        "            helper(node.left, depth+1)\n",
        "\n",
        "        helper(root, 0)\n",
        "        return self.output"
      ],
      "execution_count": null,
      "outputs": []
    },
    {
      "cell_type": "markdown",
      "metadata": {
        "id": "KnGadkWMuQe9"
      },
      "source": [
        "## Summary\n",
        "\n",
        "这个题的tricky的地方在于，不仅是最右边的nodes会被看到。同时有左边的nodes（没有被右边挡住的）。\n",
        "\n",
        "![Screen%20Shot%202020-05-21%20at%201.39.59%20AM.png](attachment:Screen%20Shot%202020-05-21%20at%201.39.59%20AM.png)\n",
        "\n",
        "**<font color=red> 这段code怎么从node8 to node 9?</font>**"
      ]
    },
    {
      "cell_type": "markdown",
      "metadata": {
        "id": "v7TeLYJ2uQe-"
      },
      "source": [
        "# LC110. Balanced Binary Tree - 5/22/2020\n",
        "\n",
        "https://leetcode.com/problems/balanced-binary-tree/\n",
        "\n",
        "Tag: Tree, DFS, Depth, Height"
      ]
    },
    {
      "cell_type": "code",
      "metadata": {
        "id": "dcsw5mnzuQe-"
      },
      "source": [
        "# Following code could return the height of the node. \n",
        "\n",
        "# Definition for a binary tree node.\n",
        "# class TreeNode:\n",
        "#     def __init__(self, val=0, left=None, right=None):\n",
        "#         self.val = val\n",
        "#         self.left = left\n",
        "#         self.right = right\n",
        "class Solution:\n",
        "    def isBalanced(self, root: TreeNode) -> bool:   \n",
        "        def helper(root):\n",
        "            if not root: \n",
        "                return -1\n",
        "            root_height = max(helper(root.left), helper(root.right))+1\n",
        "            return root_height\n",
        "        # print(helper(root))"
      ],
      "execution_count": null,
      "outputs": []
    },
    {
      "cell_type": "code",
      "metadata": {
        "id": "x-pPZR5PuQe-"
      },
      "source": [
        "# Definition for a binary tree node.\n",
        "# class TreeNode:\n",
        "#     def __init__(self, val=0, left=None, right=None):\n",
        "#         self.val = val\n",
        "#         self.left = left\n",
        "#         self.right = right\n",
        "class Solution:\n",
        "    def isBalanced(self, root: TreeNode) -> bool:   \n",
        "        def helper(root):\n",
        "            if not root: \n",
        "                return True, -1\n",
        "            \n",
        "            left_flag, left_height = helper(root.left)\n",
        "            right_flag, right_height = helper(root.right)\n",
        "            \n",
        "            flag = abs(left_height-right_height)<2 and left_flag and right_flag\n",
        "            height = 1+max(left_height, right_height)\n",
        "    \n",
        "            return flag, height\n",
        "        balance_flag = helper(root)[0]\n",
        "        return balance_flag\n",
        "        # print(helper(root))"
      ],
      "execution_count": null,
      "outputs": []
    },
    {
      "cell_type": "markdown",
      "metadata": {
        "id": "0vuWIeX-uQe-"
      },
      "source": [
        "## Summary\n",
        "\n",
        "首先先clarify两个概念：\n",
        "\n",
        "Depth：root的depth=0\n",
        "\n",
        "Height：leaf的height=0 \n",
        "\n",
        "这个题是个明显的recursion题目。我个人现在总结的recursion主要是三个部分。\n",
        "\n",
        "第一个部分not root的情况。一般来说就是leaf的情况，我们来考虑，当我们reach到了leaf的时候，我们需要return什么？是None还是0还是根本就不需要return任何东西。\n",
        "\n",
        "第二个部分是recursion如何传递下去的。一般都要分两个部分，分别是node.left和node.right。\n",
        "\n",
        "第三个部分就是recursion如何在内部计算的。通常要根据题目的具体要求以及我们想要的返回值来写。\n",
        "\n",
        "我个人的想法是，先假设我们已经有了这个递归函数，我们先要想的是我们需要什么结果，然后根据结果出发，写出这个递归函数，最后才是第三部分的具体编写。 "
      ]
    },
    {
      "cell_type": "markdown",
      "metadata": {
        "id": "y5azjw5uuQe_"
      },
      "source": [
        "# LC56. Merge Intervals - 5/21/2020\n",
        "\n",
        "https://leetcode.com/problems/merge-intervals/\n",
        "\n",
        "Tag: Interval, lambda"
      ]
    },
    {
      "cell_type": "code",
      "metadata": {
        "id": "0YUusoaRuQe_"
      },
      "source": [
        "class Solution:\n",
        "    def merge(self, intervals: List[List[int]]) -> List[List[int]]:\n",
        "        output = []\n",
        "        for i in sorted(intervals,key=lambda x:x[0]):\n",
        "            if output and i[0] <= output[-1][1]:\n",
        "                output[-1][1] = max(i[1],output[-1][1])\n",
        "            else:\n",
        "                output.append(i)\n",
        "        return output\n",
        "        "
      ],
      "execution_count": null,
      "outputs": []
    },
    {
      "cell_type": "code",
      "metadata": {
        "id": "ZriRVb0yuQe_"
      },
      "source": [
        "# 如何按照key value 排序一个dictionary。貌似没有特别简单的方法\n",
        "\n",
        "# Option1 \n",
        "\n",
        "from collections import OrderedDict \n",
        "  \n",
        "dict = {'ravi':'10','rajnish':'9','sanjeev':'15','yash':'2','suraj':'32'} \n",
        "dict1 = OrderedDict(sorted(dict.items())) \n",
        "print(dict1) \n"
      ],
      "execution_count": null,
      "outputs": []
    },
    {
      "cell_type": "markdown",
      "metadata": {
        "id": "3h4YUYSMuQe_"
      },
      "source": [
        "## Summary\n",
        "\n",
        "1. sorted()函数\n",
        "   \n",
        "   list.sort(cmp=None, key=None, reverse=False)\n",
        "   \n",
        "   这里面可以明确排序的key是什么。 \n",
        "\n",
        "2. lambda()函数：A lambda function can take any number of arguments, but can only have one expression.\n",
        "\n",
        "    x = lambda a : a + 10\n",
        "    \n",
        "    x = lambda a, b : a * b\n",
        "\n",
        "结构是lambda 变量（可以多个）：变量的表达式"
      ]
    },
    {
      "cell_type": "markdown",
      "metadata": {
        "id": "Fm5rDCFeuQfA"
      },
      "source": [
        "# LC560. Subarray Sum Equals K - 5/21/2020\n",
        "\n",
        "https://leetcode.com/problems/subarray-sum-equals-k/\n",
        "\n",
        "Tag: Array"
      ]
    },
    {
      "cell_type": "code",
      "metadata": {
        "id": "zIuzD-qjuQfA"
      },
      "source": [
        "# 这是我最开始的想法，o(n^2)。两个loop，第一个loop来判断subarray里面有多少个元素。\n",
        "# 第二个就是遍历整个list找到合适的。现在考虑的就是该如何降低这个running time. \n",
        "# 最直接的想法就是要去减少循环的使用。最好只用一个循环。 \n",
        "\n",
        "class Solution:\n",
        "    def subarraySum(self, nums: List[int], k: int) -> int:\n",
        "        output = 0\n",
        "        for i in range(1, len(nums)+1):\n",
        "            for j in range(len(nums)-i+1):\n",
        "                if sum(nums[j:j+i]) == k:\n",
        "                    output += 1\n",
        "        return output"
      ],
      "execution_count": null,
      "outputs": []
    },
    {
      "cell_type": "code",
      "metadata": {
        "id": "9fYFa2xhuQfA"
      },
      "source": [
        "class Solution:\n",
        "    def subarraySum(self, nums: List[int], k: int) -> int:\n",
        "        d = {}\n",
        "        d[0]= 1\n",
        "        s = 0\n",
        "        count = 0\n",
        "        for i in range(len(nums)):\n",
        "            s += nums[i]\n",
        "            if s-k in d:\n",
        "                count += d[s-k]\n",
        "            \n",
        "            if s in d:\n",
        "                d[s] += 1\n",
        "            else:\n",
        "                d[s] = 1\n",
        "        \n",
        "        return count"
      ],
      "execution_count": null,
      "outputs": []
    },
    {
      "cell_type": "markdown",
      "metadata": {
        "id": "ukRWn-truQfA"
      },
      "source": [
        "## Summary:\n",
        "\n",
        "**<font color=red>为啥第一个algo的running time=o(n^3)</font>**\n",
        "\n",
        "还是要借助一下hashtable（其实就是dictionary）。以及数组的累计求和（这个我之前考虑到了）以及现在的累计和和之前累计和的差值（这个我之前也考虑到了）。\n",
        "\n",
        "这个题目的思路如下：\n",
        "\n",
        "首先先构建关于累计和的hashtable.\n",
        "\n",
        "遍历整个数组（这个是不得不做的，也是唯一我们能做的循环），然后求出每个元素对应的累计和。下面就是我们可能会遇到的三种情况：\n",
        "\n",
        "1. 如果s-k之前在hashtable里面出现过，那就意味着我们在现有累计和的基础上，把s-k累计和的那些元素排除，那么我就能能得到 s-(s-k)=k了。 **<font color=red>那为啥要加上d[s-k]呢</font>** **<font color=blue>我个人的理解是d[s]代表有多少种实现这个s的subarray。</font>**\n",
        "\n",
        "2. 如果累计和出现过，那么就要在d[s]上多一个，表明我们有一种新的subarray可以实现这个s\n",
        "\n",
        "3. 如果累计和没有出现过，那么就在hashtable上多一个元素d[s] = 1\n"
      ]
    },
    {
      "cell_type": "markdown",
      "metadata": {
        "id": "aEiOyQP8uQfA"
      },
      "source": [
        "# LC31. Next Permutation - 5/21/2020\n",
        "\n",
        "https://leetcode.com/problems/next-permutation/\n",
        "\n",
        "Tag: Hard to undertand the problem's logic"
      ]
    },
    {
      "cell_type": "code",
      "metadata": {
        "id": "vXu1yWSBuQfB"
      },
      "source": [
        "class Solution:\n",
        "    def nextPermutation(self, nums: List[int]) -> None:\n",
        "        \"\"\"\n",
        "        Do not return anything, modify nums in-place instead.\n",
        "        \"\"\"\n",
        "        # reverse a subarray btw left index and right index\n",
        "        def reverseSubArray(arr, left_idx, right_idx):\n",
        "            while left_idx < right_idx:\n",
        "                arr[left_idx], arr[right_idx] = arr[right_idx], arr[left_idx]\n",
        "                left_idx += 1\n",
        "                right_idx -= 1\n",
        "        \n",
        "        # find first descending item\n",
        "        firstDescItemIdx = len(nums)-1\n",
        "        while firstDescItemIdx > 0 and nums[firstDescItemIdx]<=nums[firstDescItemIdx-1]:\n",
        "            firstDescItemIdx -= 1\n",
        "        \n",
        "        # if input nums is already in descending order, then reverse all items\n",
        "        if firstDescItemIdx == 0:\n",
        "            reverseSubArray(nums, 0, len(nums)-1)\n",
        "            return \n",
        "        \n",
        "        # find the next item larger than the 1st descending item\n",
        "        nextItemIdx = len(nums)-1\n",
        "        while firstDescItemIdx > 0 and nums[nextItemIdx]<=nums[firstDescItemIdx-1]:\n",
        "            nextItemIdx -= 1\n",
        "        \n",
        "        # reverse the order of the 1st descending item and next item larger than the 1st descending item\n",
        "        nums[firstDescItemIdx-1], nums[nextItemIdx] = nums[nextItemIdx], nums[firstDescItemIdx-1]\n",
        "        \n",
        "        # reverse the rest\n",
        "        reverseSubArray(nums, firstDescItemIdx, len(nums)-1)\n",
        "        "
      ],
      "execution_count": null,
      "outputs": []
    },
    {
      "cell_type": "markdown",
      "metadata": {
        "id": "SP8kFmL4uQfB"
      },
      "source": [
        "## Summary:\n",
        "\n",
        "我一开始完全没搞懂这个题问的是什么？什么叫 “Implement next permutation, which rearranges numbers into the lexicographically next greater permutation of numbers”\n",
        "\n",
        "1. 如果本身已经是递减的话，那就返回全部的递增\n",
        "\n",
        "2. 首先去找第一个开始递减的元素\n",
        "\n",
        "3. 然后去找第一个比这个递减元素大的元素\n",
        "\n",
        "4. 交换两个元素，然后将从第一个递减元素开始的subarray全部reverse\n",
        "\n",
        "**<font color=red>完全不知道这个题考查了什么知识？</font>**"
      ]
    },
    {
      "cell_type": "markdown",
      "metadata": {
        "id": "358VG5WCuQfB"
      },
      "source": [
        "# LC139. Word Break - 5/24/2020\n",
        "\n",
        "https://leetcode.com/problems/word-break/\n",
        "\n",
        "Tag: String"
      ]
    },
    {
      "cell_type": "code",
      "metadata": {
        "id": "F09F7LptuQfB"
      },
      "source": [
        "# 最初的想法是，把s切片，然后去看左边的string是否在wordDict里面。如果在的话，那就从\n",
        "# s中把这个sub string删除掉。但问题在于，如果有剩余的话，如何更有效的停止。我现在的\n",
        "# 停止条件是如果这个剩余的sub string比较短，那么就停止。但问题在于，如果剩余的sub \n",
        "# string 和wordDict里面的item一样长，那就有问题了。 \n",
        "\n",
        "class Solution:\n",
        "    def wordBreak(self, s: str, wordDict: List[str]) -> bool:\n",
        "        min_word_len = float('inf')\n",
        "        for _ in wordDict:\n",
        "            if len(_) <= min_word_len:\n",
        "                min_word_len = len(_)\n",
        "        print(min_word_len)     \n",
        "        while s:\n",
        "            # print('s: ', s)\n",
        "            for t in range(1,len(s)+1):\n",
        "                left_s = s[:t]\n",
        "                # print(left_s)\n",
        "                right_s = s[t:]\n",
        "                if left_s in wordDict:\n",
        "                    s = right_s\n",
        "                    break\n",
        "                    # print('sub s: ',s)\n",
        "            if len(s) < min_word_len:\n",
        "                break\n",
        "        \n",
        "        if s:\n",
        "            return False\n",
        "        else:\n",
        "            return True\n"
      ],
      "execution_count": null,
      "outputs": []
    },
    {
      "cell_type": "code",
      "metadata": {
        "id": "xJf4TuP0uQfB"
      },
      "source": [
        "class Solution:\n",
        "    def wordBreak(self, s: str, wordDict: List[str]) -> bool:\n",
        "        dp = [False] * (len(s)+1)\n",
        "        dp[0] = True\n",
        "        for i in range(len(s)):\n",
        "            print('i-',i, dp)\n",
        "            for j in range(i, len(s)+1):\n",
        "                if dp[i] == True and s[i:j] in wordDict:\n",
        "                    # print(s[i:j])\n",
        "                    dp[j] = True\n",
        "        # print(dp)\n",
        "        return dp[-1]    "
      ],
      "execution_count": null,
      "outputs": []
    },
    {
      "cell_type": "markdown",
      "metadata": {
        "id": "HdPUN_YLuQfC"
      },
      "source": [
        "## Summary\n",
        "\n",
        "对于第二个答案，我无法理解的是对于如下的test case：\n",
        "\n",
        "Input: s = \"catsandog\", wordDict = [\"cats\", \"dog\", \"sand\", \"and\", \"cat\"]\n",
        "\n",
        "i- 0 [True, False, False, False, False, False, False, False, False, False]\n",
        "\n",
        "i- 1 [True, False, False, True, True, False, False, False, False, False]\n",
        "\n",
        "i- 2 [True, False, False, True, True, False, False, False, False, False]\n",
        "\n",
        "i- 3 [True, False, False, True, True, False, False, False, False, False]\n",
        "\n",
        "i- 4 [True, False, False, True, True, False, False, True, False, False]\n",
        "\n",
        "i- 5 [True, False, False, True, True, False, False, True, False, False]\n",
        "\n",
        "i- 6 [True, False, False, True, True, False, False, True, False, False]\n",
        "\n",
        "i- 7 [True, False, False, True, True, False, False, True, False, False]\n",
        "\n",
        "i- 8 [True, False, False, True, True, False, False, True, False, False]\n",
        "\n",
        "**<font color=red> 从i=6开始的dog，dp[6]=True而且dp[6:8]也在wordDict里面，为啥dp[8]还是False呢？</font>**"
      ]
    },
    {
      "cell_type": "markdown",
      "metadata": {
        "id": "Kbkdn1oCuQfC"
      },
      "source": [
        "# LC215. Kth Largest Element in an Array - 5/24/2020\n",
        "\n",
        "https://leetcode.com/problems/kth-largest-element-in-an-array/\n",
        "\n",
        "Tag: sorted list"
      ]
    },
    {
      "cell_type": "code",
      "metadata": {
        "id": "J8eeebRBuQfC"
      },
      "source": [
        "class Solution:\n",
        "    def findKthLargest(self, nums: List[int], k: int) -> int:\n",
        "        # print(sorted(nums))\n",
        "        return sorted(nums)[len(nums)-k]"
      ],
      "execution_count": null,
      "outputs": []
    },
    {
      "cell_type": "markdown",
      "metadata": {
        "id": "xNRH58TjuQfC"
      },
      "source": [
        "# LC415. Add Strings - 5/24/2020\n",
        "\n",
        "https://leetcode.com/problems/add-strings/\n",
        "\n",
        "Tag: string, ord() function"
      ]
    },
    {
      "cell_type": "code",
      "metadata": {
        "id": "tgg0VE8VuQfC"
      },
      "source": [
        "class Solution:\n",
        "    def addStrings(self, num1: str, num2: str) -> str:\n",
        "#       convert the strings to stacks\n",
        "        num1 = list(num1)\n",
        "        num2 = list(num2)\n",
        "#       set a counter to memorize which digit\n",
        "        c = 0 \n",
        "#       set a variable to store the output\n",
        "        out = 0\n",
        "        while num1:\n",
        "            out += (ord(num1.pop()) - ord('0')) *10**c\n",
        "            c += 1\n",
        "        c = 0 \n",
        "        while num2:\n",
        "            out += (ord(num2.pop()) - ord('0')) *10**c\n",
        "            c += 1\n",
        "        return str(out)"
      ],
      "execution_count": null,
      "outputs": []
    },
    {
      "cell_type": "markdown",
      "metadata": {
        "id": "WLZgT3UguQfC"
      },
      "source": [
        "## Summary\n",
        "\n",
        "个人觉得没有什么太多意思的一个题目。就考查了一个ord() function的使用。\n",
        "\n",
        "ord(): Given a string of length one, return an integer representing the Unicode code point of the character when the argument is a unicode object"
      ]
    },
    {
      "cell_type": "markdown",
      "metadata": {
        "id": "GSPGaTUDuQfD"
      },
      "source": [
        "# LC88. Merge Sorted Array - 5/24/2020\n",
        "\n",
        "https://leetcode.com/problems/merge-sorted-array/\n",
        "\n",
        "Tag: list, insert(), extend()"
      ]
    },
    {
      "cell_type": "code",
      "metadata": {
        "id": "0VFgobTOuQfD"
      },
      "source": [
        "# 这个算上是比较笨的办法了，就是一个一个元素的比较。然后nums2如果有多余的元素的话，再把它们添加到nums1里面。但问题是下面的这段code\n",
        "# 无法解决 nums1 [0] 0; nums2[1] 1的test case.关键是我不知道m=0代表什么意思？\n",
        "\n",
        "class Solution:\n",
        "    def merge(self, nums1: List[int], m: int, nums2: List[int], n: int) -> None:\n",
        "        \"\"\"\n",
        "        Do not return anything, modify nums1 in-place instead.\n",
        "        \"\"\"\n",
        "        i = 0 \n",
        "        j = 0 \n",
        "        while i < m and j < n:\n",
        "            if nums1[i] > nums2[j]:\n",
        "                nums1.insert(i, nums2[j])\n",
        "                nums1.pop(-1)\n",
        "                nums2.pop(j)\n",
        "                j += 1\n",
        "            i += 1\n",
        "        j = 0\n",
        "        while j < len(nums2):\n",
        "            nums1.insert(i+1, nums2[j])\n",
        "            nums1.pop(-1)\n",
        "            j += 1\n",
        "            i += 1\n",
        "        return nums1"
      ],
      "execution_count": null,
      "outputs": []
    },
    {
      "cell_type": "code",
      "metadata": {
        "id": "6r96lh7uuQfD"
      },
      "source": [
        "# 这个就是大神的做法了。利用了几个我会在后面总结的list的build-in functions\n",
        "\n",
        "class Solution:\n",
        "    def merge(self, nums1: List[int], m: int, nums2: List[int], n: int) -> None:\n",
        "        \"\"\"\n",
        "        Do not return anything, modify nums1 in-place instead.\n",
        "        \"\"\"\n",
        "        sub_nums1 = nums1[:m]\n",
        "        nums1.clear()\n",
        "        nums1.extend(sub_nums1)\n",
        "        nums1.extend(nums2)\n",
        "        nums1.sort()"
      ],
      "execution_count": null,
      "outputs": []
    },
    {
      "cell_type": "markdown",
      "metadata": {
        "id": "qBVAvVkPuQfD"
      },
      "source": [
        "## Summary\n",
        "\n",
        "下面是关于list的几个函数的总结:\n",
        "\n",
        "1. list.append()：将任意格式的元素（可以是一个元素，或者是一个list）加到list后面（作为一个元素）\n",
        "\n",
        "2. list.extend()：将一个list，合并到list上，input格式只能是list，而且是把两个list合并起来。\n",
        "\n",
        "3. list.clear()\n",
        "\n",
        "4. list.sort(): 类似于sorted(list)。都能实现list的排序。不同的是list.sort()是直接在list上进行排序了，没有返回值。\n",
        "\n",
        "5. list.pop(): list也可以使用pop.其中的pop()的input只能是元素的index\n",
        "\n",
        "6. list.remove(): 类似于pop(),都能实现把某些个元素移除。但remove()里面的input必须是元素本身。 "
      ]
    },
    {
      "cell_type": "markdown",
      "metadata": {
        "id": "at7W_GlmuQfD"
      },
      "source": [
        "# LC380. Insert Delete GetRandom O(1) - 5/24/2020\n",
        "\n",
        "https://leetcode.com/problems/insert-delete-getrandom-o1/\n",
        "\n",
        "Tag: data strucure class, list, dictionary"
      ]
    },
    {
      "cell_type": "code",
      "metadata": {
        "id": "B1m02-GCuQfD"
      },
      "source": [
        "# 这是我自己写的code，虽然能pass 所有的test cases，但是不够快。主要问题在于list在delete/pop intermediate item的时候，running time\n",
        "# 是o(n).所以为了实现更快的做法，首先需要pop()，即pop最后一个元素。其次，需要利用hashtable。 \n",
        "\n",
        "class RandomizedSet:\n",
        "\n",
        "    def __init__(self):\n",
        "        \"\"\"\n",
        "        Initialize your data structure here.\n",
        "        \"\"\"\n",
        "        self.a = []\n",
        "\n",
        "    def insert(self, val: int) -> bool:\n",
        "        \"\"\"\n",
        "        Inserts a value to the set. Returns true if the set did not already contain the specified element.\n",
        "        \"\"\"\n",
        "        if val in self.a:\n",
        "            return False\n",
        "        else:\n",
        "            self.a.append(val)\n",
        "            return True\n",
        "\n",
        "    def remove(self, val: int) -> bool:\n",
        "        \"\"\"\n",
        "        Removes a value from the set. Returns true if the set contained the specified element.\n",
        "        \"\"\"\n",
        "        if val in self.a:\n",
        "            self.a.remove(val)\n",
        "            return True\n",
        "        else:\n",
        "            return False\n",
        "\n",
        "    def getRandom(self) -> int:\n",
        "        \"\"\"\n",
        "        Get a random element from the set.\n",
        "        \"\"\"\n",
        "        return choice(self.a)\n",
        "        \n",
        "\n",
        "\n",
        "# Your RandomizedSet object will be instantiated and called as such:\n",
        "# obj = RandomizedSet()\n",
        "# param_1 = obj.insert(val)\n",
        "# param_2 = obj.remove(val)\n",
        "# param_3 = obj.getRandom()"
      ],
      "execution_count": null,
      "outputs": []
    },
    {
      "cell_type": "code",
      "metadata": {
        "id": "53rVdVCruQfD"
      },
      "source": [
        "class RandomizedSet:\n",
        "\n",
        "    def __init__(self):\n",
        "        \"\"\"\n",
        "        Initialize your data structure here.\n",
        "        \"\"\"\n",
        "        self.data_list = []\n",
        "        self.data_dict = {}\n",
        "        \n",
        "    def insert(self, val: int) -> bool:\n",
        "        \"\"\"\n",
        "        Inserts a value to the set. Returns true if the set did not already contain the specified element.\n",
        "        \"\"\"\n",
        "        if val in self.data_dict:\n",
        "            return False\n",
        "        else:\n",
        "            self.data_list.append(val)\n",
        "            self.data_dict[val]=len(self.data_list)-1\n",
        "            return True\n",
        "\n",
        "    def remove(self, val: int) -> bool:\n",
        "        \"\"\"\n",
        "        Removes a value from the set. Returns true if the set contained the specified element.\n",
        "        \"\"\"\n",
        "        if val in self.data_dict:\n",
        "            remove_val_idx = self.data_dict[val]\n",
        "            last_item_val = self.data_list[-1]\n",
        "            self.data_dict[last_item_val] = remove_val_idx\n",
        "            self.data_list[remove_val_idx], self.data_list[-1] = last_item_val, val\n",
        "            self.data_list.pop()\n",
        "            self.data_dict.pop(val)\n",
        "            return True\n",
        "        else:\n",
        "            return False\n",
        "\n",
        "    def getRandom(self) -> int:\n",
        "        \"\"\"\n",
        "        Get a random element from the set.\n",
        "        \"\"\"\n",
        "        return choice(self.data_list)\n",
        "        \n",
        "\n",
        "\n",
        "# Your RandomizedSet object will be instantiated and called as such:\n",
        "# obj = RandomizedSet()\n",
        "# param_1 = obj.insert(val)\n",
        "# param_2 = obj.remove(val)\n",
        "# param_3 = obj.getRandom()"
      ],
      "execution_count": null,
      "outputs": []
    },
    {
      "cell_type": "markdown",
      "metadata": {
        "id": "AjwzPU2IuQfE"
      },
      "source": [
        "## Summary\n",
        "\n",
        "python里面的class需要注意的几点：\n",
        "\n",
        "\n",
        "第一个solution太慢了，需要用第二个solution（利用dictionary）。下面是几个list和dictionary的running time summary：\n",
        "\n",
        "### list\n",
        "1. append: o(1)\n",
        "2. pop (last item): o(1)\n",
        "3. pop (intermeidate item): o(k)\n",
        "4. insert: o(n)\n",
        "5. get/set item: o(1)\n",
        "6. extend: o(k)\n",
        "7. min()/max(): o(n)\n",
        "8. len(): o(1)\n",
        "\n",
        "\n",
        "### dictionary\n",
        "1. get/set item: o(1)\n",
        "2. delete item: o(1)\n",
        "3. iteration: o(n)\n"
      ]
    },
    {
      "cell_type": "markdown",
      "metadata": {
        "id": "weLJYg3duQfE"
      },
      "source": [
        "# LC 543. Diameter of Binary Tree - 5/25/2020\n",
        "\n",
        "https://leetcode.com/problems/diameter-of-binary-tree/\n",
        "\n",
        "Tag: Tree, Recursion"
      ]
    },
    {
      "cell_type": "code",
      "metadata": {
        "id": "MS1v3A3IuQfE"
      },
      "source": [
        "# Definition for a binary tree node.\n",
        "# class TreeNode:\n",
        "#     def __init__(self, val=0, left=None, right=None):\n",
        "#         self.val = val\n",
        "#         self.left = left\n",
        "#         self.right = right\n",
        "class Solution:\n",
        "    def diameterOfBinaryTree(self, root: TreeNode) -> int:\n",
        "        def helper(root):\n",
        "            if not root:\n",
        "                return 0, 0 # return two values; one is the height and another is the diameter\n",
        "            l_depth, l_diameter = helper(root.left)\n",
        "            r_depth, r_diameter = helper(root.right)\n",
        "            \n",
        "            depth = 1 + max(l_depth, r_depth)\n",
        "            diamter = max(l_depth+r_depth, l_diameter, r_diameter)\n",
        "            return depth, diamter\n",
        "        return helper(root)[1]\n",
        "                "
      ],
      "execution_count": null,
      "outputs": []
    },
    {
      "cell_type": "markdown",
      "metadata": {
        "id": "l1xnuz9_uQfE"
      },
      "source": [
        "## Summary\n",
        "\n",
        "同样用了tree中的recursion，有几个我个人总结的点。 \n",
        "\n",
        "1. recursion function中尽量不要用除了root以外的input，这样我个人认为会比较简单。 \n",
        "\n",
        "2. recursion的structure中，可以先写递归关系。这样，比较好写具体的recursion逻辑。 "
      ]
    },
    {
      "cell_type": "markdown",
      "metadata": {
        "id": "9HSZrWBpuQfE"
      },
      "source": [
        "# LC680. Valid Palindrome II - 5/25/2020\n",
        "\n",
        "https://leetcode.com/problems/valid-palindrome-ii/\n",
        "\n",
        "Tag: List"
      ]
    },
    {
      "cell_type": "code",
      "metadata": {
        "id": "g-dlroR5uQfE"
      },
      "source": [
        "# TLE: 我个人的理解是，我这个code 的running time是o(n).但按照LC的要求，这个还是不够快？\n",
        "\n",
        "class Solution:\n",
        "    def validPalindrome(self, s: str) -> bool:\n",
        "        delete_count = 0\n",
        "        left_idx = 0\n",
        "        right_idx = len(s)-1\n",
        "        while left_idx < right_idx:\n",
        "            if delete_count == 0:\n",
        "                if s[left_idx] == s[right_idx]:\n",
        "                    left_idx += 1\n",
        "                    right_idx -= 1\n",
        "                elif s[left_idx+1] == s[right_idx]:\n",
        "                    left_idx += 1\n",
        "                    delete_count += 1\n",
        "                elif s[left_idx] == s[right_idx-1]:\n",
        "                    right_idx -= 1\n",
        "                    delete_count += 1\n",
        "            else:\n",
        "                if s[left_idx] != s[right_idx]:\n",
        "                    return False\n",
        "                else:\n",
        "                    left_idx += 1\n",
        "                    right_idx += 1\n",
        "        return True\n",
        "            "
      ],
      "execution_count": null,
      "outputs": []
    },
    {
      "cell_type": "code",
      "metadata": {
        "id": "kZjkSYBpuQfF"
      },
      "source": [
        "# 通过recursion来解决问题。思路和我iteration的思路完全一样。 \n",
        "\n",
        "class Solution:\n",
        "    def validPalindrome(self, s: str) -> bool:\n",
        "        def helper(s, left_idx, right_idx, delete_count):\n",
        "            while left_idx < right_idx: \n",
        "                if s[left_idx] != s[right_idx]:\n",
        "                    if delete_count >= 1:\n",
        "                        return False\n",
        "                    else:\n",
        "                        return helper(s,left_idx+1, right_idx, delete_count+1) or helper(s,left_idx, right_idx-1, delete_count+1)\n",
        "                else:\n",
        "                    left_idx += 1  \n",
        "                    right_idx -= 1\n",
        "            return True\n",
        "        return helper(s, 0, len(s)-1, 0)"
      ],
      "execution_count": null,
      "outputs": []
    },
    {
      "cell_type": "markdown",
      "metadata": {
        "id": "KoE8Cz4-uQfF"
      },
      "source": [
        "## Summary\n",
        "\n",
        "1. list.reverse()和reversed(list)，虽然效果一样，都能把一个list翻转过来。但list.reverse()是直接把原list翻转。而reversed(list)是返回一个iteration，每个元素是翻转之后的元素（**<font color=red> 我的理解是iteration只能通过循环访问？</font>**）\n",
        "\n",
        "2. 需要重新回归我自己写的iteration solution，我个人认为这个running time和recursion应该是一样的。 所以应该是我哪里有问题，导致TLE。 "
      ]
    },
    {
      "cell_type": "markdown",
      "metadata": {
        "id": "GqkE5yopuQfF"
      },
      "source": [
        "# LC67. Add Binary - 5/25/2020\n",
        "\n",
        "https://leetcode.com/problems/add-binary/\n",
        "\n",
        "Tag: DP"
      ]
    },
    {
      "cell_type": "code",
      "metadata": {
        "id": "OygwgE9fuQfF"
      },
      "source": [
        "# 这是我写的code，有点复杂。但是核心思想是DP.至于我为什么想到DP，我的思路是这样的。最右边的两个数字相加，得到我们需要的1，0. \n",
        "# 但这里有可能会进位。所以我们得在找个数组记录是否有进位的情况。所以我设计了两个DP matrix来解决这个问题。 \n",
        "\n",
        "class Solution:\n",
        "    def addBinary(self, a: str, b: str) -> str:\n",
        "        x = len(a)\n",
        "        y = len(b)\n",
        "        \n",
        "        n = max(x, y)\n",
        "        \n",
        "        if x<y:\n",
        "            # print('--')\n",
        "            new_a = ('0'*(y-x) + a)[::-1]\n",
        "            new_b = b[::-1]\n",
        "        else:\n",
        "            # print('**')\n",
        "            new_b = ('0'*(x-y) + b)[::-1]\n",
        "            new_a = a[::-1]\n",
        "        \n",
        "        # print(new_a)\n",
        "        # print(new_b)\n",
        "        \n",
        "        dp1 = [[0] * (n+1) for i in range(n+1)]\n",
        "        dp2 = [[False] * (n+1) for i in range(n+1)]\n",
        "        # print(dp1)\n",
        "        # print(dp2)\n",
        "        \n",
        "        output = []\n",
        "        # print(n)\n",
        "        for i in range(n):\n",
        "            # print('---')\n",
        "            # print(i)\n",
        "            # print(dp2[i][i])\n",
        "            if dp2[i][i] == False:\n",
        "                if int(new_a[i]) + int(new_b[i]) == 0:\n",
        "                    dp1[i][i] = 0\n",
        "                    dp2[i+1][i+1] = False\n",
        "                if int(new_a[i]) + int(new_b[i]) == 1:\n",
        "                    dp1[i][i] = 1\n",
        "                    dp2[i+1][i+1] = False\n",
        "                if int(new_a[i]) + int(new_b[i]) == 2:\n",
        "                    dp1[i][i] = 0\n",
        "                    dp2[i+1][i+1] = True\n",
        "            else:\n",
        "                if int(new_a[i]) + int(new_b[i]) == 0:\n",
        "                    dp1[i][i] = 1\n",
        "                    dp2[i+1][i+1] = False\n",
        "                if int(new_a[i]) + int(new_b[i]) == 1:\n",
        "                    dp1[i][i] = 0\n",
        "                    dp2[i+1][i+1] = True\n",
        "                if int(new_a[i]) + int(new_b[i]) == 2:\n",
        "                    dp1[i][i] = 1\n",
        "                    dp2[i+1][i+1] = True\n",
        "            output.append(dp1[i][i])\n",
        "        \n",
        "        if dp2[-1][-1]:\n",
        "            output.append(1)\n",
        "        \n",
        "        output_list = output[::-1]\n",
        "        return ''.join(str(_) for _ in output_list)"
      ],
      "execution_count": null,
      "outputs": []
    },
    {
      "cell_type": "markdown",
      "metadata": {
        "id": "dtpzaatOuQfF"
      },
      "source": [
        "## Summary\n",
        "\n",
        "这里我是想考虑一下DP和recursion的问题。我一开始认为DP和recursion是可以相互转换的。比如一个问题如果能用DP解决，那么他就应该能用recursion解决。因为两个solution的思路都是上一步的output是下一步的input.\n",
        "\n",
        "**<font color=red>DP是一种更优的recursion吗？或者说不是每个recursion都能利用DP优化的？</font>**\n",
        "\n",
        "DP的关键在于问题中是否有以下两个点：\n",
        "\n",
        "1. overlapping subproblems: same pattern must be repeated. merge-sort is a recursion but cannot be solved in DP. th\n",
        "\n",
        "2. optimal solution: the solution to solve a subproblem is the same for solving the overall problem. \n"
      ]
    },
    {
      "cell_type": "markdown",
      "metadata": {
        "id": "nErZfOAfuQfF"
      },
      "source": [
        "# LC236. Lowest Common Ancestor of a Binary Tree - 5/26/2020\n",
        "\n",
        "https://leetcode.com/problems/lowest-common-ancestor-of-a-binary-tree/\n",
        "\n",
        "Tag: Tree"
      ]
    },
    {
      "cell_type": "code",
      "metadata": {
        "id": "LEqy_Z2puQfG"
      },
      "source": [
        "# Definition for a binary tree node.\n",
        "# class TreeNode:\n",
        "#     def __init__(self, x):\n",
        "#         self.val = x\n",
        "#         self.left = None\n",
        "#         self.right = None\n",
        "\n",
        "class Solution:\n",
        "    def lowestCommonAncestor(self, root: 'TreeNode', p: 'TreeNode', q: 'TreeNode') -> 'TreeNode':\n",
        "        if not root:\n",
        "            return None\n",
        "        if root == p or root == q:\n",
        "            return root\n",
        "        \n",
        "        left_node = self.lowestCommonAncestor(root.left, p, q)\n",
        "        right_node = self.lowestCommonAncestor(root.right, p, q)\n",
        "        \n",
        "        # 最完美的情况，就是这个root下面的left和right正好是我们要找的p和q。如果是这种情况的话，那就返回root\n",
        "        if left_node and right_node:\n",
        "            return root\n",
        "        # 如果只有left满足了条件，那么我们往左走一步。因为同时包含p和q的ancstor肯定是在left这边\n",
        "        if left_node and not right_node:\n",
        "            return left_node\n",
        "        # 类似于left的情况\n",
        "        if right_node and not left_node:\n",
        "            return right_node\n",
        "        # 如果left和right都不满足的话，那就没有返回的值了。\n",
        "        if not left_node and not right_node:\n",
        "            return None"
      ],
      "execution_count": null,
      "outputs": []
    },
    {
      "cell_type": "markdown",
      "metadata": {
        "id": "LqHXdD2WuQfG"
      },
      "source": [
        "# LC125. Valid Palindrome - 5/26/2020\n",
        "\n",
        "https://leetcode.com/problems/valid-palindrome/\n",
        "\n",
        "Tag:Two pointers"
      ]
    },
    {
      "cell_type": "code",
      "metadata": {
        "id": "MoZp01nTuQfG"
      },
      "source": [
        "class Solution:\n",
        "    def isPalindrome(self, s):\n",
        "        new_s = []\n",
        "        for _ in s:\n",
        "            if _.isalnum():\n",
        "                new_s.append(_.lower())\n",
        "        left_idx = 0\n",
        "        right_idx = len(new_s)-1\n",
        "        while left_idx < right_idx:\n",
        "            if new_s[left_idx] != new_s[right_idx]:\n",
        "                return False\n",
        "            left_idx += 1\n",
        "            right_idx -= 1\n",
        "        return True"
      ],
      "execution_count": null,
      "outputs": []
    },
    {
      "cell_type": "markdown",
      "metadata": {
        "id": "CakmwgcsuQfG"
      },
      "source": [
        "## Comments\n",
        "\n",
        "isalnum(): 检测字符串是否由字母和数字组成。\n",
        "\n",
        "isalpha(): 检测字符串是否只由字母组成"
      ]
    },
    {
      "cell_type": "markdown",
      "metadata": {
        "id": "4vACgsH5uQfG"
      },
      "source": [
        "# LC 314. Binary Tree Vertical Order Traversal - 6/1/2020\n",
        "\n",
        "https://leetcode.com/problems/binary-tree-vertical-order-traversal/\n",
        "\n",
        "Tag: Tree, Deque"
      ]
    },
    {
      "cell_type": "code",
      "metadata": {
        "id": "R7Eur0ZouQfG"
      },
      "source": [
        ""
      ],
      "execution_count": null,
      "outputs": []
    },
    {
      "cell_type": "markdown",
      "metadata": {
        "id": "nKTccsCXuQfH"
      },
      "source": [
        "## Binary Search - 7/19/2020\n",
        "\n",
        "https://www.jiuzhang.com/solutions/binary-search/\n"
      ]
    },
    {
      "cell_type": "markdown",
      "metadata": {
        "id": "o4z21lrWuQfH"
      },
      "source": [
        "二分法 50%和排序数组有关。剩下的要根据时间复杂度来看。 \n",
        "\n",
        "如果我们要找比o(n)更优的解法，那就只能是o(logn),就是二分法。 \n",
        "\n",
        "1. \n",
        "\n",
        "\n",
        "o(logn） 二分法\n",
        "\n",
        "o(n^1/2) 分解质因数\n",
        "\n",
        "o(n) 双指针，单调栈，枚举法\n",
        "\n",
        "o(n^2) o(n^3) 动态规划\n",
        "\n",
        "2. \n",
        "\n",
        "\n",
        "什么时候用recursion?\n",
        "\n",
        "2.1 面试要求\n",
        "\n",
        "2.2 递归深度不太深\n",
        "\n",
        "2.3 非递归无法解决\n",
        "\n",
        "2.4 DFS\n",
        "\n",
        "3. \n",
        "\n",
        "\n",
        "什么时候不能用recursion？\n",
        "\n",
        "3.1 linked list绝对不用recursion。\n",
        "\n",
        "3.2 o(n)的话，一般10^8基本没有问题（1s完成）- ? 为什么o(n^2)不会 StackOverFlow - 这个时候n最多是10^4，所以在对应深度之内？\n",
        "\n",
        "3.3 StackOverFlow的话，对应的深度大概是10^5。递归的话，系统独立分配了8M空间（单独的进程）给你做计算的。\n",
        "\n",
        "3.4 所以二分法是不太用recursion的！！！\n",
        "\n"
      ]
    },
    {
      "cell_type": "code",
      "metadata": {
        "id": "W--XELoLuQfH"
      },
      "source": [
        "# my code: 想用递归去写，但不知道该如何写\n",
        "# using o(logn) time to find the target number in a sorted array\n",
        "# test case - 1 \n",
        "a = [1,2,3,4,5]\n",
        "target = 4\n",
        "\n",
        "def dtBinarySearch(a, target):\n",
        "    l_idx = 0 \n",
        "    r_idx = len(a)-1 # 最右边的元素总是len(array)-1\n",
        "    return helper(a, target, l_idx, r_idx)\n",
        "    \n",
        "    \n",
        "def helper(a, target, l_idx, r_idx):\n",
        "    # exist condition\n",
        "    mid_idx = (r_idx - l_idx) // 2\n",
        "    if target == a[mid_idx]:\n",
        "        return mid_idx\n",
        "    \n",
        "    if target < a[mid_idx]:\n",
        "        r_idx = mid_idx\n",
        "    else:\n",
        "        l_idx = mid_idx\n",
        "    a = a[l_idx, r_idx]\n",
        "    "
      ],
      "execution_count": null,
      "outputs": []
    },
    {
      "cell_type": "code",
      "metadata": {
        "id": "leKun6JvuQfH",
        "outputId": "48a86ad1-cf0b-4f53-e0ed-d9153ed976a8"
      },
      "source": [
        "# my code-2: 不用递归，用while循环或者说双指针？\n",
        "a = [1,2,3,4,5]\n",
        "target = 4\n",
        "\n",
        "# 非常“巧妙”地进入死循环了。。。\n",
        "def dtBinarySearch(a, target):\n",
        "    l_idx = 0\n",
        "    r_idx = len(a)-1\n",
        "#     print('go to loop')\n",
        "    while l_idx < r_idx:\n",
        "#         print('---')\n",
        "        mid_idx = (l_idx+r_idx)//2\n",
        "        if a[mid_idx]==target:\n",
        "            return mid_idx\n",
        "        elif a[mid_idx] > target:\n",
        "            r_idx == mid_idx\n",
        "        elif a[mid_idx] < target:\n",
        "            l_idx == mid_idx\n",
        "            \n",
        "print(dtBinarySearch(a, target))"
      ],
      "execution_count": null,
      "outputs": [
        {
          "output_type": "error",
          "ename": "KeyboardInterrupt",
          "evalue": "",
          "traceback": [
            "\u001b[0;31m---------------------------------------------------------------------------\u001b[0m",
            "\u001b[0;31mKeyboardInterrupt\u001b[0m                         Traceback (most recent call last)",
            "\u001b[0;32m<ipython-input-20-492925e6d65f>\u001b[0m in \u001b[0;36m<module>\u001b[0;34m\u001b[0m\n\u001b[1;32m     18\u001b[0m             \u001b[0ml_idx\u001b[0m \u001b[0;34m==\u001b[0m \u001b[0mmid_idx\u001b[0m\u001b[0;34m\u001b[0m\u001b[0;34m\u001b[0m\u001b[0m\n\u001b[1;32m     19\u001b[0m \u001b[0;34m\u001b[0m\u001b[0m\n\u001b[0;32m---> 20\u001b[0;31m \u001b[0mprint\u001b[0m\u001b[0;34m(\u001b[0m\u001b[0mdtBinarySearch\u001b[0m\u001b[0;34m(\u001b[0m\u001b[0ma\u001b[0m\u001b[0;34m,\u001b[0m \u001b[0mtarget\u001b[0m\u001b[0;34m)\u001b[0m\u001b[0;34m)\u001b[0m\u001b[0;34m\u001b[0m\u001b[0;34m\u001b[0m\u001b[0m\n\u001b[0m",
            "\u001b[0;32m<ipython-input-20-492925e6d65f>\u001b[0m in \u001b[0;36mdtBinarySearch\u001b[0;34m(a, target)\u001b[0m\n\u001b[1;32m     15\u001b[0m         \u001b[0;32melif\u001b[0m \u001b[0ma\u001b[0m\u001b[0;34m[\u001b[0m\u001b[0mmid_idx\u001b[0m\u001b[0;34m]\u001b[0m \u001b[0;34m>\u001b[0m \u001b[0mtarget\u001b[0m\u001b[0;34m:\u001b[0m\u001b[0;34m\u001b[0m\u001b[0;34m\u001b[0m\u001b[0m\n\u001b[1;32m     16\u001b[0m             \u001b[0mr_idx\u001b[0m \u001b[0;34m==\u001b[0m \u001b[0mmid_idx\u001b[0m\u001b[0;34m\u001b[0m\u001b[0;34m\u001b[0m\u001b[0m\n\u001b[0;32m---> 17\u001b[0;31m         \u001b[0;32melif\u001b[0m \u001b[0ma\u001b[0m\u001b[0;34m[\u001b[0m\u001b[0mmid_idx\u001b[0m\u001b[0;34m]\u001b[0m \u001b[0;34m<\u001b[0m \u001b[0mtarget\u001b[0m\u001b[0;34m:\u001b[0m\u001b[0;34m\u001b[0m\u001b[0;34m\u001b[0m\u001b[0m\n\u001b[0m\u001b[1;32m     18\u001b[0m             \u001b[0ml_idx\u001b[0m \u001b[0;34m==\u001b[0m \u001b[0mmid_idx\u001b[0m\u001b[0;34m\u001b[0m\u001b[0;34m\u001b[0m\u001b[0m\n\u001b[1;32m     19\u001b[0m \u001b[0;34m\u001b[0m\u001b[0m\n",
            "\u001b[0;31mKeyboardInterrupt\u001b[0m: "
          ]
        }
      ]
    },
    {
      "cell_type": "markdown",
      "metadata": {
        "id": "F-UugkQeuQfH"
      },
      "source": [
        "## 457: 经典二分查找问题 - 7/19/2020 \n",
        "\n",
        "https://www.lintcode.com/problem/classical-binary-search/description"
      ]
    },
    {
      "cell_type": "code",
      "metadata": {
        "id": "bHV7ifJduQfJ"
      },
      "source": [
        "# Input: nums = [1,2,2,4,5,5], target = 2\n",
        "# Output: 1 or 2 (shall we do \"1 or 2\" or \"1 and 2\")\n",
        "\n",
        "# my code: 应该和上面的一样，都是在一个sorted array \n"
      ],
      "execution_count": null,
      "outputs": []
    },
    {
      "cell_type": "markdown",
      "metadata": {
        "id": "m_OWaNj8uQfJ"
      },
      "source": [
        "## 14. 二分查找 - 7/19/2020\n",
        "\n",
        "https://www.lintcode.com/problem/first-position-of-target/description"
      ]
    },
    {
      "cell_type": "code",
      "metadata": {
        "id": "qqQIYWWNuQfJ"
      },
      "source": [
        "# 输入:[1,4,4,5,7,7,8,9,9,10]，1\n",
        "# 输出: 0"
      ],
      "execution_count": null,
      "outputs": []
    },
    {
      "cell_type": "markdown",
      "metadata": {
        "id": "QWQwz2ksuQfK"
      },
      "source": [
        "## 458. 目标最后位置 - 7/19/2020\n",
        "\n",
        "https://www.lintcode.com/problem/last-position-of-target/description"
      ]
    },
    {
      "cell_type": "markdown",
      "metadata": {
        "id": "FYCQJ7tguQfK"
      },
      "source": [
        "输入：nums = [1,2,2,4,5,5], target = 2\n",
        "输出：2"
      ]
    },
    {
      "cell_type": "code",
      "metadata": {
        "id": "SXaMM0CBuQfK"
      },
      "source": [
        ""
      ],
      "execution_count": null,
      "outputs": []
    },
    {
      "cell_type": "markdown",
      "metadata": {
        "id": "MWPm3SqjuQfK"
      },
      "source": [
        "## 447. 在大数组中查找 - 7/19/2020\n",
        "\n",
        "https://www.lintcode.com/problem/search-in-a-big-sorted-array/description\n",
        "\n",
        "Case-1: \n",
        "\n",
        "输入: [1, 3, 6, 9, 21, ...], target = 3\n",
        "输出: 1\n",
        "\n",
        "Case-2:\n",
        "\n",
        "输入: [1, 3, 6, 9, 21, ...], target = 4\n",
        "输出: -1"
      ]
    },
    {
      "cell_type": "code",
      "metadata": {
        "id": "0lZFI03ZuQfK"
      },
      "source": [
        ""
      ],
      "execution_count": null,
      "outputs": []
    },
    {
      "cell_type": "markdown",
      "metadata": {
        "id": "HCFdt5qzuQfK"
      },
      "source": [
        "## 460. 在排序数组中找最接近的K个数 - 7/19/2020\n",
        "\n",
        "https://www.lintcode.com/problem/find-k-closest-elements/description\n"
      ]
    },
    {
      "cell_type": "code",
      "metadata": {
        "id": "kOePMKJnuQfL"
      },
      "source": [
        ""
      ],
      "execution_count": null,
      "outputs": []
    },
    {
      "cell_type": "markdown",
      "metadata": {
        "id": "OAZ86S6SuQfL"
      },
      "source": [
        "## 585. 山脉序列中的最大值 - 7/19/2020\n",
        "\n",
        "https://www.lintcode.com/problem/maximum-number-in-mountain-sequence/description"
      ]
    },
    {
      "cell_type": "code",
      "metadata": {
        "id": "0Kw2sTtvuQfL"
      },
      "source": [
        "# 输入: nums = [1, 2, 4, 8, 6, 3] \n",
        "# 输出: 8\n"
      ],
      "execution_count": null,
      "outputs": []
    },
    {
      "cell_type": "code",
      "metadata": {
        "id": "_wYRbCF8uQfL"
      },
      "source": [
        ""
      ],
      "execution_count": null,
      "outputs": []
    },
    {
      "cell_type": "markdown",
      "metadata": {
        "id": "_jGc6LbhuQfL"
      },
      "source": [
        "## 159. 寻找旋转排序数组中的最小值 - 7/19/2020\n",
        "\n",
        "https://www.lintcode.com/problem/find-minimum-in-rotated-sorted-array/\n"
      ]
    },
    {
      "cell_type": "code",
      "metadata": {
        "id": "bXZqAEyKuQfL"
      },
      "source": [
        "# 输入：[4, 5, 6, 7, 0, 1, 2]\n",
        "# 输出：0\n",
        "# 解释：\n",
        "# 数组中的最小值为0"
      ],
      "execution_count": null,
      "outputs": []
    },
    {
      "cell_type": "markdown",
      "metadata": {
        "id": "QoH0050iuQfM"
      },
      "source": [
        "## 75. 寻找峰值 - 7/19/2020\n",
        "\n",
        "https://www.lintcode.com/problem/find-peak-element/description\n",
        "\n",
        "1. 最大的峰是不能用二分法\n",
        "\n",
        "2. 找所有的峰也是不能用二分法\n",
        "\n",
        "3. 这个题是找任意的一个峰"
      ]
    },
    {
      "cell_type": "code",
      "metadata": {
        "id": "cHVHqAsHuQfM"
      },
      "source": [
        "# 输入:  [1, 2, 1, 3, 4, 5, 7, 6]\n",
        "# 输出:  1 or 6\n",
        "\n",
        "# 解释:\n",
        "# 返回峰顶元素的下标\n",
        "# 暴力解法的running time就是o(n)。所以可以考虑更好的解法， 分成ooxx方法。"
      ],
      "execution_count": null,
      "outputs": []
    },
    {
      "cell_type": "code",
      "metadata": {
        "id": "W_xNG4_yuQfM"
      },
      "source": [
        ""
      ],
      "execution_count": null,
      "outputs": []
    },
    {
      "cell_type": "markdown",
      "metadata": {
        "id": "P-936gTAuQfM"
      },
      "source": [
        "## 183. 木材加工\n",
        "\n",
        "https://www.lintcode.com/problem/wood-cut/description"
      ]
    },
    {
      "cell_type": "markdown",
      "metadata": {
        "id": "0tkXPY9XuQfM"
      },
      "source": [
        "木头的长度就是[1,max(L0)]\n",
        "\n",
        "我们二分的不是原来给的array，而是可能的答案在被二分\n",
        "\n",
        "running time: o(nlog(max(L)) 这里面的n是因为我们的判断函数要遍历所有给定的array，但log里面不是n，因为我们二分的不是原来的array，而是答案集的长度（max of L）"
      ]
    },
    {
      "cell_type": "code",
      "metadata": {
        "id": "TaHFzaSsuQfM"
      },
      "source": [
        ""
      ],
      "execution_count": null,
      "outputs": []
    },
    {
      "cell_type": "markdown",
      "metadata": {
        "id": "_Ejj0ib9uQfN"
      },
      "source": [
        "# LintCode627. Longest Palindrome - 7/20/2020\n",
        "\n",
        "https://www.lintcode.com/problem/longest-palindrome/description?_from=ladder&&fromId=161"
      ]
    },
    {
      "cell_type": "code",
      "metadata": {
        "id": "Rnq-ElUpuQfN",
        "outputId": "387ed823-8ea1-472d-affd-30aaac3c2004"
      },
      "source": [
        "class Solution:\n",
        "    \"\"\"\n",
        "    @param s: a string which consists of lowercase or uppercase letters\n",
        "    @return: the length of the longest palindromes that can be built\n",
        "    \"\"\"\n",
        "    # very bad running time. must have a better way to do it\n",
        "    def longestPalindrome(self, s):\n",
        "        # write your code here\n",
        "        # check empty string\n",
        "        if len(s) == 0:\n",
        "            return 0\n",
        "            \n",
        "        s_dict = {}\n",
        "        for i in range(len(s)):\n",
        "            if s[i] in s_dict.keys():\n",
        "                s_dict[s[i]]+=1\n",
        "            else:\n",
        "                s_dict[s[i]]=1\n",
        "#         print(s_dict)\n",
        "        \n",
        "        single_char_flag = 0\n",
        "        output = 0\n",
        "        for k in s_dict.keys():\n",
        "            # 奇数个，但整个string就只有这么多个字符，比如‘aaa’\n",
        "            if s_dict[k] % 2 !=0 and s_dict[k] == len(s):\n",
        "                return s_dict[k]\n",
        "            # 奇数个，所以我们可以拿出一个当做最中间的那项\n",
        "            if s_dict[k] % 2 !=0:\n",
        "                single_char_flag = 1\n",
        "                output += int(s_dict[k]/2)*2\n",
        "            else:\n",
        "                # 偶数个，全部用来构建回文串 \n",
        "                output += s_dict[k]\n",
        "        \n",
        "        if single_char_flag == 1:\n",
        "            output += 1\n",
        "        \n",
        "        return output\n",
        "\n",
        "test_case = 'aaa'\n",
        "my_solution = Solution()\n",
        "print(my_solution.longestPalindrome(test_case))"
      ],
      "execution_count": null,
      "outputs": [
        {
          "output_type": "stream",
          "text": [
            "3\n"
          ],
          "name": "stdout"
        }
      ]
    },
    {
      "cell_type": "markdown",
      "metadata": {
        "id": "yOd87rJyuQfN"
      },
      "source": [
        "## Comments: \n",
        "\n",
        "1. string不能直接用sort/reverse，但可以用sorted(s)/s[::-1]\n",
        "\n"
      ]
    },
    {
      "cell_type": "code",
      "metadata": {
        "id": "HgaXJaiVuQfN",
        "outputId": "afbb4108-e285-4ff1-de26-22b3becf1c56"
      },
      "source": [
        "s = 'cba'\n",
        "print(sorted(s))\n",
        "print(s[::-1])"
      ],
      "execution_count": null,
      "outputs": [
        {
          "output_type": "stream",
          "text": [
            "['a', 'b', 'c']\n",
            "abc\n"
          ],
          "name": "stdout"
        }
      ]
    },
    {
      "cell_type": "markdown",
      "metadata": {
        "id": "vL0cviryuQfO"
      },
      "source": [
        "# LintCode 13. Implement strStr() - 7/20/2020\n",
        "\n",
        "https://www.lintcode.com/problem/implement-strstr/description"
      ]
    },
    {
      "cell_type": "code",
      "metadata": {
        "id": "5Jm3EubluQfO",
        "outputId": "a697483e-f8d8-40c4-93fa-0df6b166ad71"
      },
      "source": [
        "class Solution:\n",
        "    \"\"\"\n",
        "    @param source: \n",
        "    @param target: \n",
        "    @return: return the index\n",
        "    \"\"\"\n",
        "    def strStr(self, source, target):\n",
        "        # Write your code here\n",
        "        # check empty string\n",
        "        if len(source) == 0 and len(target) != 0:\n",
        "            return -1\n",
        "        if len(target) == 0 and len(source) != 0:\n",
        "            return 0\n",
        "        if len(source) == 0 and len(target) == 0:\n",
        "            return 0\n",
        "        \n",
        "        output = 0\n",
        "        for i in range(len(source)):\n",
        "            for j in range(len(target)):\n",
        "                if source[i:i+len(target)] == target:\n",
        "                    output = i\n",
        "                    return output\n",
        "        \n",
        "        return -1\n",
        "source = ''\n",
        "target = ''\n",
        "my_solution = Solution()\n",
        "print(my_solution.strStr(source, target))"
      ],
      "execution_count": null,
      "outputs": [
        {
          "output_type": "stream",
          "text": [
            "0\n"
          ],
          "name": "stdout"
        }
      ]
    },
    {
      "cell_type": "markdown",
      "metadata": {
        "id": "yD1dBAcYuQfO"
      },
      "source": [
        "# LintCode 415. Valid Palindrome - 7/20/2020\n",
        "\n",
        "https://www.lintcode.com/problem/valid-palindrome/description?_from=ladder&&fromId=161\n"
      ]
    },
    {
      "cell_type": "code",
      "metadata": {
        "id": "_-yM1hXxuQfO",
        "outputId": "6de5c7f5-3910-42e0-82d6-2a27bc6ec750"
      },
      "source": [
        "class Solution:\n",
        "    \"\"\"\n",
        "    @param s: A string\n",
        "    @return: Whether the string is a valid palindrome\n",
        "    \"\"\"\n",
        "    def isPalindrome(self, s):\n",
        "        # write your code here\n",
        "        # check if empty string\n",
        "        if len(s) == 0:\n",
        "            return True\n",
        "        \n",
        "        left = 0\n",
        "        right = len(s)-1\n",
        "        \n",
        "        while left < right:\n",
        "            if not s[left].isalnum():\n",
        "                left += 1\n",
        "            elif not s[right].isalnum():\n",
        "                right -= 1\n",
        "                # print('left: ', s[left], '  ', 'right: ', s[right])\n",
        "            elif s[left].upper() == s[right].upper():\n",
        "                left += 1\n",
        "                right -= 1\n",
        "            else:\n",
        "                return False\n",
        "        return True\n",
        "\n",
        "s = ''\n",
        "my_solution = Solution()\n",
        "print(my_solution.isPalindrome(s))"
      ],
      "execution_count": null,
      "outputs": [
        {
          "output_type": "stream",
          "text": [
            "True\n"
          ],
          "name": "stdout"
        }
      ]
    },
    {
      "cell_type": "markdown",
      "metadata": {
        "id": "Xfwesc1YuQfP"
      },
      "source": [
        "# LintCode 200. 最长回文子串 - 7/21/2020\n",
        "\n",
        "https://www.lintcode.com/problem/longest-palindromic-substring/description?_from=ladder&&fromId=161"
      ]
    },
    {
      "cell_type": "code",
      "metadata": {
        "id": "-7iY3N9TuQfP",
        "outputId": "be89cd62-e09e-4824-d0d5-33c6f7ca1c02"
      },
      "source": [
        "# my 1st draft but cannot pass test case 'abb'\n",
        "\n",
        "class Solution:\n",
        "    \"\"\"\n",
        "    @param s: input string\n",
        "    @return: a string as the longest palindromic substring\n",
        "    \"\"\"\n",
        "    def longestPalindrome(self, s):\n",
        "        # write your code here\n",
        "        if len(s) == 0:\n",
        "            return -1\n",
        "            \n",
        "        if len(s) == 1:\n",
        "            return s\n",
        "        \n",
        "        left = 0\n",
        "        right = len(s) - 1\n",
        "        \n",
        "        left_output = ''\n",
        "        right_output = ''\n",
        "        \n",
        "        while left <= right:\n",
        "            # 两个字母不相同，那么各挪一位\n",
        "            if s[left] != s[right]:\n",
        "                left_output = ''\n",
        "                right_output = ''\n",
        "            elif s[left] == s[right] and left != right:\n",
        "                left_output = left_output + s[left]\n",
        "                right_output = s[right] + right_output\n",
        "            elif s[left] == s[right] and left == right:\n",
        "                left_output = left_output + s[left]\n",
        "            left += 1\n",
        "            right -= 1\n",
        "        \n",
        "        output = left_output + right_output\n",
        "        \n",
        "        if len(output) == 0:\n",
        "            return -1\n",
        "        else:\n",
        "            return output\n",
        "\n",
        "                \n",
        "s = 'abb'\n",
        "my_solution = Solution()\n",
        "print(my_solution.longestPalindrome(s))"
      ],
      "execution_count": null,
      "outputs": [
        {
          "output_type": "stream",
          "text": [
            "b\n"
          ],
          "name": "stdout"
        }
      ]
    },
    {
      "cell_type": "code",
      "metadata": {
        "id": "8vB9MspLuQfP",
        "outputId": "05e96c64-85cf-4e51-9cf9-9194987f2a78"
      },
      "source": [
        "class Solution:\n",
        "    \"\"\"\n",
        "    @param s: input string\n",
        "    @return: a string as the longest palindromic substring\n",
        "    \"\"\"\n",
        "    def longestPalindrome(self, s):\n",
        "        # write your code here\n",
        "        if len(s) == 0:\n",
        "            return -1\n",
        "        \n",
        "        max_len = -1\n",
        "        start = 0\n",
        "        for i in range(len(s)):\n",
        "            curr_len = max(self.subPalindromeStrLen(s,i,i), self.subPalindromeStrLen(s,i,i+1))\n",
        "            if curr_len < max_len:\n",
        "                continue\n",
        "            max_len = curr_len\n",
        "            start = i - (curr_len - 1)//2\n",
        "        \n",
        "        return s[start:start+max_len]\n",
        "        \n",
        "    def subPalindromeStrLen(self, s, left_idx, right_idx):\n",
        "        while left_idx >= 0 and right_idx <= len(s) - 1:\n",
        "            if s[left_idx] == s[right_idx]:\n",
        "                left_idx -= 1\n",
        "                right_idx += 1\n",
        "            else:\n",
        "                break\n",
        "        return right_idx - left_idx - 1\n",
        "\n",
        "s = 'abb'\n",
        "my_solution = Solution()\n",
        "print(my_solution.longestPalindrome(s))\n",
        "# print(my_solution.subPalindromeStrLen(s,1,1))"
      ],
      "execution_count": null,
      "outputs": [
        {
          "output_type": "stream",
          "text": [
            "bb\n"
          ],
          "name": "stdout"
        }
      ]
    },
    {
      "cell_type": "markdown",
      "metadata": {
        "id": "BvPxXMFguQfP"
      },
      "source": [
        "# Special Topic: QuickSort - 7/22/2020"
      ]
    },
    {
      "cell_type": "code",
      "metadata": {
        "id": "nkjGL0FruQfP",
        "outputId": "345c9a1b-4939-4726-def0-a4b57209e7e6"
      },
      "source": [
        "# version 1\n",
        "\n",
        "def QuickSort(s, start, end):\n",
        "    # check empty array\n",
        "    if len(s) == 0:\n",
        "        return\n",
        "    \n",
        "    pivot = s[(end-start)//2]\n",
        "    \n",
        "    left = start \n",
        "    right = end\n",
        "    \n",
        "    while left <= right:\n",
        "        # 右边的数比pivot小，那就不用动了\n",
        "        while left <= right and s[left] < pivot:\n",
        "            start += 1\n",
        "        # 左边的数比pivot大，那也就不用动了\n",
        "        while left <= right and s[right] > pivot:\n",
        "            end -= 1\n",
        "        # 出现右边的数比pivot大，左边的数比pivot小\n",
        "        if left <= right:\n",
        "            s[left], s[right] = s[right], s[left]\n",
        "            left += 1\n",
        "            right -= 1\n",
        "    \n",
        "    QuickSort(s, start, pivot)\n",
        "    QuickSort(s, pivot+1, end)\n",
        "\n",
        "s = [3,2,1,4,5]\n",
        "start = 0\n",
        "end = len(s)-1\n",
        "QuickSort(s,start,end)\n",
        "pritn(s)\n"
      ],
      "execution_count": null,
      "outputs": [
        {
          "output_type": "error",
          "ename": "KeyboardInterrupt",
          "evalue": "",
          "traceback": [
            "\u001b[0;31m---------------------------------------------------------------------------\u001b[0m",
            "\u001b[0;31mKeyboardInterrupt\u001b[0m                         Traceback (most recent call last)",
            "\u001b[0;32m<ipython-input-50-1a8b41ec764d>\u001b[0m in \u001b[0;36m<module>\u001b[0;34m\u001b[0m\n\u001b[1;32m     30\u001b[0m \u001b[0mstart\u001b[0m \u001b[0;34m=\u001b[0m \u001b[0;36m0\u001b[0m\u001b[0;34m\u001b[0m\u001b[0;34m\u001b[0m\u001b[0m\n\u001b[1;32m     31\u001b[0m \u001b[0mend\u001b[0m \u001b[0;34m=\u001b[0m \u001b[0mlen\u001b[0m\u001b[0;34m(\u001b[0m\u001b[0ms\u001b[0m\u001b[0;34m)\u001b[0m\u001b[0;34m-\u001b[0m\u001b[0;36m1\u001b[0m\u001b[0;34m\u001b[0m\u001b[0;34m\u001b[0m\u001b[0m\n\u001b[0;32m---> 32\u001b[0;31m \u001b[0mQuickSort\u001b[0m\u001b[0;34m(\u001b[0m\u001b[0ms\u001b[0m\u001b[0;34m,\u001b[0m\u001b[0mstart\u001b[0m\u001b[0;34m,\u001b[0m\u001b[0mend\u001b[0m\u001b[0;34m)\u001b[0m\u001b[0;34m\u001b[0m\u001b[0;34m\u001b[0m\u001b[0m\n\u001b[0m\u001b[1;32m     33\u001b[0m \u001b[0mpritn\u001b[0m\u001b[0;34m(\u001b[0m\u001b[0ms\u001b[0m\u001b[0;34m)\u001b[0m\u001b[0;34m\u001b[0m\u001b[0;34m\u001b[0m\u001b[0m\n\u001b[1;32m     34\u001b[0m \u001b[0;34m\u001b[0m\u001b[0m\n",
            "\u001b[0;32m<ipython-input-50-1a8b41ec764d>\u001b[0m in \u001b[0;36mQuickSort\u001b[0;34m(s, start, end)\u001b[0m\n\u001b[1;32m     17\u001b[0m         \u001b[0;31m# 左边的数比pivot大，那也就不用动了\u001b[0m\u001b[0;34m\u001b[0m\u001b[0;34m\u001b[0m\u001b[0;34m\u001b[0m\u001b[0m\n\u001b[1;32m     18\u001b[0m         \u001b[0;32mwhile\u001b[0m \u001b[0mleft\u001b[0m \u001b[0;34m<=\u001b[0m \u001b[0mright\u001b[0m \u001b[0;32mand\u001b[0m \u001b[0ms\u001b[0m\u001b[0;34m[\u001b[0m\u001b[0mright\u001b[0m\u001b[0;34m]\u001b[0m \u001b[0;34m>\u001b[0m \u001b[0mpivot\u001b[0m\u001b[0;34m:\u001b[0m\u001b[0;34m\u001b[0m\u001b[0;34m\u001b[0m\u001b[0m\n\u001b[0;32m---> 19\u001b[0;31m             \u001b[0mend\u001b[0m \u001b[0;34m-=\u001b[0m \u001b[0;36m1\u001b[0m\u001b[0;34m\u001b[0m\u001b[0;34m\u001b[0m\u001b[0m\n\u001b[0m\u001b[1;32m     20\u001b[0m         \u001b[0;31m# 出现右边的数比pivot大，左边的数比pivot小\u001b[0m\u001b[0;34m\u001b[0m\u001b[0;34m\u001b[0m\u001b[0;34m\u001b[0m\u001b[0m\n\u001b[1;32m     21\u001b[0m         \u001b[0;32mif\u001b[0m \u001b[0mleft\u001b[0m \u001b[0;34m<=\u001b[0m \u001b[0mright\u001b[0m\u001b[0;34m:\u001b[0m\u001b[0;34m\u001b[0m\u001b[0;34m\u001b[0m\u001b[0m\n",
            "\u001b[0;31mKeyboardInterrupt\u001b[0m: "
          ]
        }
      ]
    },
    {
      "cell_type": "code",
      "metadata": {
        "id": "iJNNQmdWuQfQ",
        "outputId": "0f6969ca-84d0-4ea1-d78b-71b41f408d0e"
      },
      "source": [
        "# version 2\n",
        "\n",
        "def QuickSort(s, start, end):\n",
        "    # check empty array\n",
        "    if len(s) == 0:\n",
        "        return\n",
        "    \n",
        "    if start < end:\n",
        "        p = Partition(s, start, end)\n",
        "        QuickSort(s, start, p-1)\n",
        "        QuickSort(s, p+1, end)\n",
        "\n",
        "def Partition(s, start, end):\n",
        "    pivot = s[end]\n",
        "    i = start\n",
        "    for j in range(start, end+1):\n",
        "        if s[j] < pivot:\n",
        "            s[i], s[j] = s[j], s[i]\n",
        "            i += 1\n",
        "    s[i], s[end] = s[end], s[i]\n",
        "    return i\n",
        "\n",
        "s = [3,2,1]\n",
        "start = 0\n",
        "end = len(s)-1\n",
        "QuickSort(s,start,end)\n",
        "print(s)"
      ],
      "execution_count": null,
      "outputs": [
        {
          "output_type": "stream",
          "text": [
            "[1, 2, 3]\n"
          ],
          "name": "stdout"
        }
      ]
    },
    {
      "cell_type": "markdown",
      "metadata": {
        "id": "_2TaWAEQuQfQ"
      },
      "source": [
        "# Special Topic: Queue - 7/22/2020"
      ]
    },
    {
      "cell_type": "code",
      "metadata": {
        "id": "y-Ld_QzauQfQ",
        "outputId": "d16c8311-aebd-4897-f741-59c32681d636"
      },
      "source": [
        "class MyQueue(object):\n",
        "\n",
        "    def __init__(self):\n",
        "        # do some intialize if necessary\n",
        "        self.SIZE = 3\n",
        "        self.queue = [0] * self.SIZE\n",
        "        self.head, self.tail = 0, 0\n",
        "\n",
        "    # @param {int} item an integer\n",
        "    # @return nothing\n",
        "    # 压入队列\n",
        "    def enqueue(self, item):\n",
        "        queue = self.queue \n",
        "\n",
        "        # 队列满 \n",
        "        if (self.tail + 1) % self.SIZE == self.head:\n",
        "            return \n",
        "\n",
        "        queue[self.tail] = item \n",
        "        self.tail = (self.tail + 1) % self.SIZE\n",
        "\n",
        "\n",
        "    # @return an integer\n",
        "    # 弹出元素\n",
        "    def dequeue(self):\n",
        "        queue = self.queue \n",
        "\n",
        "        ## 队列为空\n",
        "        if self.head == self.tail:\n",
        "            return -1 \n",
        "\n",
        "        item = queue[self.head]\n",
        "        self.head = (self.head + 1) % self.SIZE\n",
        "        return item \n",
        "\n",
        "t = MyQueue()\n",
        "t.enqueue(1)\n",
        "t.enqueue(2)\n",
        "t.enqueue(3)\n",
        "t.enqueue(4)\n",
        "\n",
        "print('---')\n",
        "for i in range(4):\n",
        "    print(t.dequeue())"
      ],
      "execution_count": null,
      "outputs": [
        {
          "output_type": "stream",
          "text": [
            "---\n",
            "1\n",
            "2\n",
            "-1\n",
            "-1\n"
          ],
          "name": "stdout"
        }
      ]
    },
    {
      "cell_type": "markdown",
      "metadata": {
        "id": "E_0I9rRPuQfQ"
      },
      "source": [
        "# LintCode 69. 二叉树的层次遍历 - 7/25/2020\n",
        "\n",
        "https://www.lintcode.com/problem/binary-tree-level-order-traversal/description"
      ]
    },
    {
      "cell_type": "code",
      "metadata": {
        "id": "cI1NT18JuQfR"
      },
      "source": [
        "\"\"\"\n",
        "Definition of TreeNode:\n",
        "class TreeNode:\n",
        "    def __init__(self, val):\n",
        "        self.val = val\n",
        "        self.left, self.right = None, None\n",
        "\"\"\"\n",
        "\n",
        "class Solution:\n",
        "    \"\"\"\n",
        "    @param root: A Tree\n",
        "    @return: Level order a list of lists of integer\n",
        "    \"\"\"\n",
        "    # 单列队的做法\n",
        "    def levelOrder(self, root):\n",
        "        # write your code here\n",
        "        if not root:\n",
        "            return []\n",
        "            \n",
        "        queue = collections.deque([root]) # 双向的queue\n",
        "        output = []\n",
        "        \n",
        "        while queue:\n",
        "            output.append([node.val for node in queue])\n",
        "            for _ in range(len(queue)):\n",
        "                node = queue.popleft()\n",
        "                if node.left:\n",
        "                    queue.append(node.left)\n",
        "                if node.right:\n",
        "                    queue.append(node.right)\n",
        "        \n",
        "        return output\n"
      ],
      "execution_count": null,
      "outputs": []
    },
    {
      "cell_type": "markdown",
      "metadata": {
        "id": "nwGGSSauuQfR"
      },
      "source": [
        "## Comment: \n",
        "\n",
        "1. deque是双向queue\n",
        "\n",
        "2. 每次循环里面，queue执行的操作是\n",
        "\n",
        "    1).先把queue里面已有的元素传给output里面\n",
        "    \n",
        "    2). 遍历整个queue，先从左pop出这个元素，然后把这个元素的左儿子和右儿子传进queue中"
      ]
    },
    {
      "cell_type": "markdown",
      "metadata": {
        "id": "PFILV7OXuQfR"
      },
      "source": [
        "# Special Topic : 二分法 - 7/25/2020"
      ]
    },
    {
      "cell_type": "code",
      "metadata": {
        "id": "RxrL7U9HuQfR"
      },
      "source": [
        "# 二分法的一个不会死循环的模板\n",
        "\n",
        "class Solution:\n",
        "    # @param nums: The integer array\n",
        "    # @param target: Target number to find\n",
        "    # @return the first position of target in nums, position start from 0 \n",
        "    def binarySearch(self, nums, target):\n",
        "        if not nums:\n",
        "            return -1\n",
        "\n",
        "        start, end = 0, len(nums) - 1\n",
        "        # 用 start + 1 < end 而不是 start < end 的目的是为了避免死循环\n",
        "        # 在 first position of target 的情况下不会出现死循环\n",
        "        # 但是在 last position of target 的情况下会出现死循环\n",
        "        # 样例：nums=[1，1] target = 1\n",
        "        # 为了统一模板，我们就都采用 start + 1 < end，就保证不会出现死循环\n",
        "        while start + 1 < end:\n",
        "            # python 没有 overflow 的问题，直接 // 2 就可以了\n",
        "            # java和C++ 最好写成 mid = start + (end - start) / 2\n",
        "            # 防止在 start = 2^31 - 1, end = 2^31 - 1 的情况下出现加法 overflow\n",
        "            mid = (start + end) // 2\n",
        "\n",
        "            # > , =, < 的逻辑先分开写，然后在看看 = 的情况是否能合并到其他分支里\n",
        "            if nums[mid] < target:\n",
        "                start = mid\n",
        "            elif nums[mid] == target:\n",
        "                end = mid\n",
        "            else: \n",
        "                end = mid\n",
        "\n",
        "        # 因为上面的循环退出条件是 start + 1 < end\n",
        "        # 因此这里循环结束的时候，start 和 end 的关系是相邻关系（1和2，3和4这种）\n",
        "        # 因此需要再单独判断 start 和 end 这两个数谁是我们要的答案\n",
        "        # 如果是找 first position of target 就先看 start，否则就先看 end\n",
        "        if nums[start] == target:\n",
        "            return start\n",
        "        if nums[end] == target:\n",
        "            return end\n",
        "\n",
        "        return -1"
      ],
      "execution_count": null,
      "outputs": []
    },
    {
      "cell_type": "markdown",
      "metadata": {
        "id": "CWpH-513uQfR"
      },
      "source": [
        "## Comments:\n",
        "\n",
        "1. 如果你之前写过二分的题目，你会发现在二分问题中，最常见的错误就是死循环。而这个模版一定不会出现死循环。为什么呢？\n",
        "因为我们这边使用了start + 1 < end, 而不是start < end 或者 start <= end\n",
        "二分法的模板中，整个程序架构分为两个部分：\n",
        "通过 while 循环，将区间范围从 n 缩小到 2 （只有 start 和 end 两个点）。\n",
        "在 start 和 end 中判断是否有解。\n",
        "而普通的start < end 或者 start <= end 在寻找目标最后一次出现的位置的时候，可能出现死循环。\n",
        "\n",
        "2. 有同学可能会问为什么明明可以 start = mid + 1 偏偏要写成 start = mid?\n",
        "大部分时候，mid 是可以 +1 和 -1 的。在一些特殊情况下，比如寻找目标的最后一次出现的位置时，当 target 与 nums[mid] 相等的时候，是不能够使用 mid + 1 或者 mid - 1 的。因为会导致漏掉解。那么为了节省脑力，统一写成 start = mid / end = mid 并不会造成任何解的丢失，并且也不会损失效率——log(n) 和 log(n+1) 没有区别。"
      ]
    },
    {
      "cell_type": "markdown",
      "metadata": {
        "id": "N84P_G43uQfS"
      },
      "source": [
        "# LintCode 607. 两数之和 III-数据结构设计 - 7/26/2020\n",
        "\n",
        "https://www.lintcode.com/problem/two-sum-iii-data-structure-design/description?_from=ladder&&fromId=161"
      ]
    },
    {
      "cell_type": "code",
      "metadata": {
        "id": "I7goJQ_EuQfS",
        "outputId": "5801819f-f6e2-4937-d6bd-cdb4baf33a31"
      },
      "source": [
        "# version1：这个版本的一个最大的问题，就是一个数字可能会用两次，因为我们在循环的时候，没有考虑left和right会越界的事。\n",
        "# 但又有一个问题，就是running time很差，只beat 11%的人。所以还需要再改。 \n",
        "\n",
        "class TwoSum:\n",
        "    \"\"\"\n",
        "    @param number: An integer\n",
        "    @return: nothing\n",
        "    \"\"\"\n",
        "    def __init__(self):\n",
        "        self.storage_list = []\n",
        "        \n",
        "    def output_list(self):\n",
        "        print(self.storage_list)\n",
        "        \n",
        "    def add(self, number):\n",
        "        # write your code here\n",
        "        self.storage_list.append(number)\n",
        "\n",
        "    \"\"\"\n",
        "    @param value: An integer\n",
        "    @return: Find if there exists any pair of numbers which sum is equal to the value.\n",
        "    \"\"\"\n",
        "    def find(self, value):\n",
        "        # write your code here\n",
        "        # empty list check\n",
        "        if len(self.storage_list) == 0:\n",
        "            return -1\n",
        "        self.storage_list.sort()\n",
        "        \n",
        "        left = 0 \n",
        "        right = len(self.storage_list) - 1\n",
        "        \n",
        "        while left < right:\n",
        "            if self.storage_list[left] + self.storage_list[right] > value:\n",
        "                right -= 1\n",
        "            if self.storage_list[left] + self.storage_list[right] < value:\n",
        "                left += 1\n",
        "            if self.storage_list[left] + self.storage_list[right] == value:\n",
        "                return True\n",
        "        return False\n",
        "\n",
        "test_case = TwoSum()\n",
        "test_case.add(2)\n",
        "test_case.add(3)\n",
        "test_case.output_list()\n",
        "# 这里面 4 不应该返回True，因为2只有一个，所以我们不能把这个2用两次。 \n",
        "print(test_case.find(4))\n",
        "\n",
        "test_case.add(4)\n",
        "print(test_case.find(7))"
      ],
      "execution_count": null,
      "outputs": [
        {
          "output_type": "stream",
          "text": [
            "[2, 3]\n",
            "True\n",
            "True\n"
          ],
          "name": "stdout"
        }
      ]
    },
    {
      "cell_type": "code",
      "metadata": {
        "id": "h0uPP953uQfS",
        "outputId": "abdc1c28-716b-46fa-8c47-a8265c3c0d5f"
      },
      "source": [
        "# version2: 这个版本和之前的版本在于我们每次都要去判断下标是否会越界。如果越界的话，那么我们就不会++ or --，这样就会返回False.\n",
        "\n",
        "class TwoSum:\n",
        "    \"\"\"\n",
        "    @param number: An integer\n",
        "    @return: nothing\n",
        "    \"\"\"\n",
        "    def __init__(self):\n",
        "        self.storage_list = []\n",
        "        \n",
        "    def add(self, number):\n",
        "        # write your code here\n",
        "        self.storage_list.append(number)\n",
        "\n",
        "    \"\"\"\n",
        "    @param value: An integer\n",
        "    @return: Find if there exists any pair of numbers which sum is equal to the value.\n",
        "    \"\"\"\n",
        "    def find(self, value):\n",
        "        # write your code here\n",
        "        # empty list check\n",
        "        if len(self.storage_list) == 0:\n",
        "            return -1\n",
        "        self.storage_list.sort()\n",
        "        \n",
        "        left = 0 \n",
        "        right = len(self.storage_list) - 1\n",
        "        \n",
        "        while left < right:\n",
        "            while left < right and self.storage_list[left] + self.storage_list[right] > value:\n",
        "                right -= 1\n",
        "            while left < right and self.storage_list[left] + self.storage_list[right] < value:\n",
        "                left += 1\n",
        "            while left < right and self.storage_list[left] + self.storage_list[right] == value:\n",
        "                return True\n",
        "        return False\n",
        "\n",
        "test_case = TwoSum()\n",
        "test_case.add(2)\n",
        "test_case.add(3)\n",
        "# test_case.output_list()\n",
        "# 这里面 4 不应该返回True，因为2只有一个，所以我们不能把这个2用两次。 \n",
        "print(test_case.find(4))\n",
        "\n",
        "test_case.add(4)\n",
        "print(test_case.find(7))"
      ],
      "execution_count": null,
      "outputs": [
        {
          "output_type": "stream",
          "text": [
            "False\n",
            "True\n"
          ],
          "name": "stdout"
        }
      ]
    },
    {
      "cell_type": "markdown",
      "metadata": {
        "id": "-hsyppwguQfT"
      },
      "source": [
        "# LintCode 587. 两数之和 - 不同组成 - 7/26/2020\n",
        "\n",
        "https://www.lintcode.com/problem/two-sum-unique-pairs/description?_from=ladder&&fromId=161\n"
      ]
    },
    {
      "cell_type": "code",
      "metadata": {
        "id": "DVJG1bA7uQfT",
        "outputId": "ecc4e872-ffb2-4f3f-c0fa-9081a26d7a64"
      },
      "source": [
        "a = set()\n",
        "a.add((1,1))\n",
        "print(a)\n",
        "a.add((1,1))\n",
        "print(a)"
      ],
      "execution_count": null,
      "outputs": [
        {
          "output_type": "stream",
          "text": [
            "{(1, 1)}\n",
            "{(1, 1)}\n"
          ],
          "name": "stdout"
        }
      ]
    },
    {
      "cell_type": "code",
      "metadata": {
        "id": "MtyOpAEPuQfT"
      },
      "source": [
        "class Solution:\n",
        "    \"\"\"\n",
        "    @param nums: an array of integer\n",
        "    @param target: An integer\n",
        "    @return: An integer\n",
        "    \"\"\"\n",
        "    def twoSum6(self, nums, target):\n",
        "        # write your code here\n",
        "        if len(nums) == 0:\n",
        "            return 0\n",
        "        \n",
        "        left = 0\n",
        "        right = len(nums) - 1 \n",
        "        \n",
        "        nums.sort()\n",
        "        \n",
        "        output = set()\n",
        "        \n",
        "        while left < right:\n",
        "            if left < right and nums[left] + nums[right] < target:\n",
        "                left += 1\n",
        "            if left < right and nums[left] + nums[right] > target:\n",
        "                right -= 1\n",
        "            if nums[left] + nums[right] == target:\n",
        "                output.add((nums[left], nums[right]))\n",
        "                left += 1 \n",
        "                right -= 1\n",
        "        \n",
        "        return len(output)\n",
        "\n",
        "test = Solution()"
      ],
      "execution_count": null,
      "outputs": []
    },
    {
      "cell_type": "markdown",
      "metadata": {
        "id": "QQL09D-DuQfT"
      },
      "source": [
        "## Comments:\n",
        "\n",
        "1. 这个题的思路还是一样的。其中用了一个hashtable，set(). 这里面有个问题，我现在才搞清楚。python里面有两个hashtable，一个是dictionary{}，一个是set()。 dictionary是key-value，set是key only。但他们都是hash。hash在这个题中的用处就是为了排除重复。\n",
        "\n",
        "2. twoSum这类或者说双指针的问题，都需要做sort。"
      ]
    },
    {
      "cell_type": "markdown",
      "metadata": {
        "id": "7430_vGJuQfT"
      },
      "source": [
        "# LintCode 148. 颜色分类 - 7/26/2020\n",
        "\n",
        "https://www.lintcode.com/problem/sort-colors/description?_from=ladder&&fromId=161\n"
      ]
    },
    {
      "cell_type": "code",
      "metadata": {
        "id": "TA1JeG71uQfT",
        "outputId": "4707c094-fb0e-4247-f221-0069d5fc0a3e"
      },
      "source": [
        "class Solution:\n",
        "    \"\"\"\n",
        "    @param nums: A list of integer which is 0, 1 or 2 \n",
        "    @return: nothing\n",
        "    \"\"\"\n",
        "    def sortColors(self, nums):\n",
        "        # write your code here\n",
        "        \n",
        "        # check empty\n",
        "        if len(nums) == 0:\n",
        "            return -1\n",
        "        \n",
        "        left = 0 \n",
        "        right = len(nums) - 1\n",
        "        i = left\n",
        "        \n",
        "        while i <= right:\n",
        "            if nums[i] == 0:\n",
        "                nums[left], nums[i] = nums[i], nums[left]\n",
        "                i += 1\n",
        "                left += 1\n",
        "            elif nums[i] == 2:\n",
        "                nums[right], nums[i] = nums[i], nums[right]\n",
        "                right -= 1\n",
        "            else:\n",
        "                i += 1\n",
        "                \n",
        "        return nums\n",
        "\n",
        "test = Solution()\n",
        "a = [2,0,2,2,1,2,2,1,2,0,0,0,1]\n",
        "test.sortColors(a)\n",
        "print(a)"
      ],
      "execution_count": null,
      "outputs": [
        {
          "output_type": "stream",
          "text": [
            "[0, 0, 0, 0, 1, 1, 1, 2, 2, 2, 2, 2, 2]\n"
          ],
          "name": "stdout"
        }
      ]
    },
    {
      "cell_type": "markdown",
      "metadata": {
        "id": "DysLvq3ruQfU"
      },
      "source": [
        "## Comments:\n",
        "\n",
        "1. 这个题涉及到三个分类，我们需要找出这三个分类的边界。类似于two point的问题，我们使用了两个pointer.而这个题里面，我们有三个分类，那有可能在“暗示”我们呢需要三个指针。"
      ]
    },
    {
      "cell_type": "markdown",
      "metadata": {
        "id": "e1eEyfJPuQfU"
      },
      "source": [
        "# LintCode 31. 数组划分 - 7/26/2020\n",
        "\n",
        "https://www.lintcode.com/problem/partition-array/description?_from=ladder&&fromId=161\n"
      ]
    },
    {
      "cell_type": "code",
      "metadata": {
        "id": "0blImQrTuQfU"
      },
      "source": [
        "class Solution:\n",
        "    \"\"\"\n",
        "    @param nums: The integer array you should partition\n",
        "    @param k: An integer\n",
        "    @return: The index after partition\n",
        "    \"\"\"\n",
        "    def partitionArray(self, nums, k):\n",
        "        # write your code here\n",
        "        if len(nums) == 0:\n",
        "            return 0\n",
        "            \n",
        "        left = 0\n",
        "        right = len(nums) - 1\n",
        "        \n",
        "        while left <= right:\n",
        "            while left <= right and nums[left] < k:\n",
        "                left += 1\n",
        "            while left <= right and nums[right] >= k:\n",
        "                right -= 1\n",
        "            \n",
        "            if left <= right:\n",
        "                nums[left], nums[right] = nums[right], nums[left]\n",
        "                left += 1\n",
        "                right -= 1\n",
        "        return left\n",
        "        # print('---')\n",
        "        # print(nums)\n",
        "        # print('left: ', left)\n",
        "        # print('right: ', right)\n",
        "        \n",
        "        # if nums[left] >= k:\n",
        "        #     return left\n",
        "        # if nums[right] >= k:\n",
        "        #     return right\n",
        "        \n",
        "        # return 0\n"
      ],
      "execution_count": null,
      "outputs": []
    },
    {
      "cell_type": "markdown",
      "metadata": {
        "id": "dB_qN_mIuQfU"
      },
      "source": [
        "# LintCode 57. 三数之和 - 7/26/2020\n",
        "\n",
        "https://www.lintcode.com/problem/3sum/description?_from=ladder&&fromId=161"
      ]
    },
    {
      "cell_type": "code",
      "metadata": {
        "id": "mvBQ0nlwuQfU",
        "outputId": "47fa23cd-6e7c-436f-d780-f55b41282e5c"
      },
      "source": [
        "a = set()\n",
        "a.add(1)\n",
        "b = list(a)\n",
        "print(type(b))"
      ],
      "execution_count": null,
      "outputs": [
        {
          "output_type": "stream",
          "text": [
            "<class 'list'>\n"
          ],
          "name": "stdout"
        }
      ]
    },
    {
      "cell_type": "code",
      "metadata": {
        "id": "24-wisnbuQfV"
      },
      "source": [
        "class Solution:\n",
        "    \"\"\"\n",
        "    @param numbers: Give an array numbers of n integer\n",
        "    @return: Find all unique triplets in the array which gives the sum of zero.\n",
        "    \"\"\"\n",
        "    def threeSum(self, numbers):\n",
        "        # write your code here\n",
        "        if len(numbers) == 0:\n",
        "            return []\n",
        "        \n",
        "        numbers.sort()\n",
        "        pairs = []\n",
        "        \n",
        "        for i in range(len(numbers)):\n",
        "            target = -numbers[i]\n",
        "            right = len(numbers) - 1\n",
        "            if numbers[i] == numbers[i-1] and i > 0:\n",
        "                continue\n",
        "            self.twoSum(numbers, i+1, right, target, pairs)\n",
        "            \n",
        "        return pairs\n",
        "        \n",
        "    def twoSum(self, numbers, left, right, target, pairs):\n",
        "        last_pair = None\n",
        "        while left < right:\n",
        "            if numbers[left] + numbers[right] == target:\n",
        "                if [-target, numbers[left], numbers[right]] != last_pair:\n",
        "                    pairs.append([-target, numbers[left], numbers[right]])\n",
        "                last_pair = [-target, numbers[left], numbers[right]]\n",
        "                left += 1\n",
        "                right -= 1\n",
        "            if numbers[left] + numbers[right] > target:\n",
        "                right -= 1\n",
        "            if numbers[left] + numbers[right] < target:\n",
        "                left += 1\n",
        "            "
      ],
      "execution_count": null,
      "outputs": []
    },
    {
      "cell_type": "markdown",
      "metadata": {
        "id": "jdNPez83uQfV"
      },
      "source": [
        "## Comments：\n",
        "\n",
        "1. threeSum是建立在twoSum之上的。不同的地方有两个，第一是要判断pair是否有重复。本来我们可以通过set来直接剔除重复项。但我的理解是，因为我们要求的return是list，所以为了输出方便。我们通过判断pair list中的最后一项是否重复来检查重复。 第二是numbers中的重复元素。如果有重复元素的话，那我们就跳到下一个元素，不用去做twoSum的函数了。 \n"
      ]
    },
    {
      "cell_type": "markdown",
      "metadata": {
        "id": "-6rb6YefuQfW"
      },
      "source": [
        "# LintCode 457. 经典二分查找问题 - 7/26/2020\n",
        "\n",
        "https://www.lintcode.com/problem/classical-binary-search/description?_from=ladder&&fromId=161"
      ]
    },
    {
      "cell_type": "code",
      "metadata": {
        "id": "tCpU4aE3uQfW",
        "outputId": "63028cfe-9cfc-48ec-d162-cfdd4a8460e4"
      },
      "source": [
        "class Solution:\n",
        "    \"\"\"\n",
        "    @param nums: An integer array sorted in ascending order\n",
        "    @param target: An integer\n",
        "    @return: An integer\n",
        "    \"\"\"\n",
        "    def findPosition(self, nums, target):\n",
        "        # write your code here\n",
        "        if len(nums) == 0:\n",
        "            return -1\n",
        "        \n",
        "        left, right = 0, len(nums) -1\n",
        "        \n",
        "        while left + 1 < right:\n",
        "            mid = (left + right) // 2\n",
        "            if nums[mid] < target:\n",
        "                left = mid\n",
        "            elif nums[mid] == target:\n",
        "                 right = mid\n",
        "            else:\n",
        "                right = mid\n",
        "            \n",
        "        # print('---')\n",
        "        # print(nums[left])\n",
        "        # print(nums[right])\n",
        "        if nums[left] == target:\n",
        "            return left\n",
        "        if nums[right] == target:\n",
        "            return right\n",
        "        \n",
        "        return -1\n",
        "test= Solution()\n",
        "nums = [1,2]\n",
        "pos = test.findPosition(nums, 2)\n",
        "print(pos寻找右边最小的元素 - 双指针 （我的版本）)"
      ],
      "execution_count": null,
      "outputs": [
        {
          "output_type": "stream",
          "text": [
            "1\n"
          ],
          "name": "stdout"
        }
      ]
    },
    {
      "cell_type": "markdown",
      "metadata": {
        "id": "zk5PxjwfuQfW"
      },
      "source": [
        "# LintCode 460. 在排序数组中找最接近的K个数 - 7/27/2020\n",
        "\n",
        "https://www.lintcode.com/problem/find-k-closest-elements/description?_from=ladder&&fromId=161"
      ]
    },
    {
      "cell_type": "code",
      "metadata": {
        "id": "wfx8loFvuQfW",
        "outputId": "d1f12953-a73d-4ff0-cae0-ccf7b0c2522d"
      },
      "source": [
        "class Solution:\n",
        "    \"\"\"\n",
        "    @param A: an integer array\n",
        "    @param target: An integer\n",
        "    @param k: An integer\n",
        "    @return: an integer array\n",
        "    \"\"\"\n",
        "    def kClosestNumbers(self, A, target, k):\n",
        "        # write your code here\n",
        "        if len(A) == 0:\n",
        "            return \n",
        "        \n",
        "        right = self.findSmallestUpperIdx(A, target) # 这里的return有可能是0吧？\n",
        "#         right = self.findUpperClosest(A, target)\n",
        "        left = right - 1\n",
        "        \n",
        "        output = []\n",
        "        \n",
        "        for _ in range(k):\n",
        "            if self.compareDiff(A, target, k, left, right):\n",
        "                output.append(A[left])\n",
        "                left -= 1\n",
        "            else:\n",
        "                output.append(A[right])\n",
        "                right += 1\n",
        "        return output\n",
        "    \n",
        "    def compareDiff(self, A, target, k,left, right):\n",
        "        if left < 0:\n",
        "            return False\n",
        "        if right > len(A)-1:\n",
        "            return True\n",
        "        \n",
        "        print('---')\n",
        "        print('left: ', left)\n",
        "        print('right: ', right)\n",
        "        \n",
        "        if target - A[left] <= A[right] - target:\n",
        "            return True\n",
        "        else:\n",
        "            return False\n",
        "    \n",
        "        \n",
        "    # 寻找右边最小的元素 - 双指针 （我的版本）\n",
        "    def findSmallestUpperIdx(self, A, target):\n",
        "        left = 0 \n",
        "        right = len(A) - 1\n",
        "        while left < right:\n",
        "            if target > A[right]:\n",
        "                return right + 1\n",
        "            if target < A[left]:\n",
        "                return left\n",
        "            while left < right and A[left] < target:\n",
        "                left += 1\n",
        "            while left < right and  A[right] > target:\n",
        "                right -= 1 \n",
        "        return right  \n",
        "    \n",
        "    # 寻找右边最小的元素 - 双指针 （答案的版本）\n",
        "    def findUpperClosest(self, A, target):\n",
        "        # find the first number >= target in A\n",
        "        start, end = 0, len(A) - 1\n",
        "        while start + 1 < end:\n",
        "            mid = (start + end) // 2\n",
        "            if A[mid] >= target:\n",
        "                end = mid\n",
        "            else:\n",
        "                start = mid\n",
        "        \n",
        "        if A[start] >= target:\n",
        "            return start\n",
        "        \n",
        "        if A[end] >= target:            \n",
        "            return end\n",
        "        return len(A)\n",
        "\n",
        "test = Solution()\n",
        "A = [1,4,6,10,20]\n",
        "target = 21\n",
        "k = 4\n",
        "# print(test.findSmallestUpperIdx(A, target))\n",
        "# print('---')\n",
        "# print(test.findUpperClosest(A, target))\n",
        "\n",
        "print(test.kClosestNumbers(A, target, k))"
      ],
      "execution_count": null,
      "outputs": [
        {
          "output_type": "stream",
          "text": [
            "[20, 10, 6, 4]\n"
          ],
          "name": "stdout"
        }
      ]
    },
    {
      "cell_type": "markdown",
      "metadata": {
        "id": "RK-XjkFauQfX"
      },
      "source": [
        "## Comments:\n",
        "1. 根据答案的分析，我觉得有两个注意点。我们做这个题，有两步。第一步是找到target或者target左右，这时候可以用二分法或者双指针。第二部是这个k的处理，以我目前浅薄的理解。关于k个的问题，基本都是需要使用双指针。而这个题不一样的地方是用了背向双指针。而非我们常用的同向双指针。"
      ]
    },
    {
      "cell_type": "markdown",
      "metadata": {
        "id": "VovmlOfFuQfX"
      },
      "source": [
        "# LintCode 159. 寻找旋转排序数组中的最小值 - 7/27/2020\n",
        "\n",
        "https://www.lintcode.com/problem/find-minimum-in-rotated-sorted-array/description?_from=ladder&&fromId=161\n"
      ]
    },
    {
      "cell_type": "code",
      "metadata": {
        "id": "6Mguc55euQfX"
      },
      "source": [
        "class Solution:\n",
        "    \"\"\"\n",
        "    @param nums: a rotated sorted array\n",
        "    @return: the minimum number in the array\n",
        "    \"\"\"\n",
        "    def findMin(self, nums):\n",
        "        # write your code here\n",
        "        if len(nums) == 0:\n",
        "            return \n",
        "        \n",
        "        left = 0\n",
        "        right = len(nums) - 1\n",
        "        \n",
        "        while left + 1 < right:\n",
        "            # 这个题里面是没有 = 的情况，因为题目说了没有重复元素，而且是排序的，所以中间的元素是不会和两边的元素相同\n",
        "            #（除非这个数组就一个或者两个元素）\n",
        "            mid = (left + right) // 2\n",
        "            # \n",
        "            if nums[mid] < nums[right]:\n",
        "                right = mid\n",
        "            if nums[mid] > nums[right]:\n",
        "                left = mid\n",
        "        \n",
        "        # print('left: ', left)\n",
        "        # print('right: ', right)\n",
        "        if nums[left] >= nums[right]:\n",
        "            return nums[right]\n",
        "        else:\n",
        "            return nums[left]\n"
      ],
      "execution_count": null,
      "outputs": []
    },
    {
      "cell_type": "markdown",
      "metadata": {
        "id": "y_C8WvLXuQfX"
      },
      "source": [
        "# LintCode 75. 寻找峰值 - 7/27/2020\n",
        "\n",
        "\n",
        "https://www.lintcode.com/problem/find-peak-element/description?_from=ladder&&fromId=161"
      ]
    },
    {
      "cell_type": "code",
      "metadata": {
        "id": "JsX9mJcDuQfX",
        "outputId": "928af22b-04ca-4d82-adc3-67e0b8b75e97"
      },
      "source": [
        "class Solution:\n",
        "    \"\"\"\n",
        "    @param A: An integers array.\n",
        "    @return: return any of peek positions.\n",
        "    \"\"\"\n",
        "    def findPeak(self, A):\n",
        "        # write your code here\n",
        "        if len(A) < 3 or A[0] >= A[1] or A[len(A)-2] <= A[len(A)-1]:\n",
        "            return\n",
        "        \n",
        "        left = 1\n",
        "        right = len(A) - 2\n",
        "        \n",
        "        while left + 1 < right:\n",
        "            mid = (left + right) // 2\n",
        "            if A[mid] > A[mid-1] and A[mid] > A[mid+1]:\n",
        "                return mid\n",
        "            elif A[mid] > A[mid-1] and A[mid] < A[mid+1]:\n",
        "                right = mid\n",
        "            elif A[mid] < A[mid-1] and A[mid] > A[mid+1]:\n",
        "                left = mid\n",
        "            else:\n",
        "                right = mid\n",
        "            \n",
        "#         print('---')\n",
        "#         print('left: ', left)\n",
        "#         print('right: ', right)\n",
        "        if A[left] > A[right]:\n",
        "            return left\n",
        "        else:\n",
        "            return right\n",
        "\n",
        "test = Solution()\n",
        "A = [1,2,1,3,4,5,7,6]\n",
        "\n",
        "print(test.findPeak(A))"
      ],
      "execution_count": null,
      "outputs": [
        {
          "output_type": "stream",
          "text": [
            "1\n"
          ],
          "name": "stdout"
        }
      ]
    },
    {
      "cell_type": "markdown",
      "metadata": {
        "id": "IqYzDvw-uQfY"
      },
      "source": [
        "# LintCode 183. 木材加工 - 7/27/2020\n",
        "\n",
        "https://www.lintcode.com/problem/wood-cut/description?_from=ladder&&fromId=161"
      ]
    },
    {
      "cell_type": "code",
      "metadata": {
        "id": "sp4nrcpguQfY"
      },
      "source": [
        "class Solution:\n",
        "    \"\"\"\n",
        "    @param L: Given n pieces of wood with length L[i]\n",
        "    @param k: An integer\n",
        "    @return: The maximum length of the small pieces\n",
        "    \"\"\"\n",
        "    def woodCut(self, L, k):\n",
        "        # write your code here\n",
        "        if len(L) == 0:\n",
        "            return 0\n",
        "            \n",
        "        left = 1 \n",
        "        right = max(L)\n",
        "        \n",
        "        while left + 1 < right:\n",
        "            mid = (left + right) // 2\n",
        "            if self.calPiece(L, mid) >= k:\n",
        "                left = mid\n",
        "            else:\n",
        "                right = mid\n",
        "        \n",
        "        if self.calPiece(L, left) >= k:\n",
        "            return left\n",
        "        if self.calPiece(L, right) >= k:\n",
        "            return right\n",
        "        \n",
        "        return 0\n",
        "        \n",
        "        \n",
        "    def calPiece(self, L, each_log_lenth):\n",
        "        count = 0\n",
        "        for l in L:\n",
        "            count += l // each_log_lenth\n",
        "        return count"
      ],
      "execution_count": null,
      "outputs": []
    },
    {
      "cell_type": "markdown",
      "metadata": {
        "id": "yAxFDrYbuQfY"
      },
      "source": [
        "# LintCode 433: 433. 岛屿的个数 - 7/31/2020\n",
        "\n",
        "https://www.lintcode.com/problem/number-of-islands/description"
      ]
    },
    {
      "cell_type": "code",
      "metadata": {
        "id": "2VBiianmuQfY"
      },
      "source": [
        "from collections import deque\n",
        "\n",
        "DIRECTIONS = [(1, 0), (0, -1), (-1, 0), (0, 1)]\n",
        "\n",
        "class Solution:\n",
        "    \"\"\"\n",
        "    @param grid: a boolean 2D matrix\n",
        "    @return: an integer\n",
        "    \"\"\"\n",
        "    def numIslands(self, grid):\n",
        "        # write your code here\n",
        "        if len(grid) == 0 or len(grid[0]) == 0:\n",
        "            return 0\n",
        "        \n",
        "        visited_node = set()\n",
        "        output = 0\n",
        "        \n",
        "        for i in range(len(grid)):\n",
        "            for j in range(len(grid[0])):\n",
        "                if grid[i][j] == 1 and (i,j) not in visited_node:\n",
        "                    self.visit_neighbors(grid, i, j, visited_node)\n",
        "                    output += 1\n",
        "        \n",
        "        return output\n",
        "        \n",
        "    def visit_neighbors(self, grid, x, y, visited_node):\n",
        "        # 这个是我们现有的queue，我们要在这个queue上分析它周围的情况\n",
        "        queue = deque([(x,y)])\n",
        "        # 第一步就是先把这个node加到我们visited的hashset里面\n",
        "        visited_node.add((x,y))\n",
        "        # 然后就是“经典”的BFS过程\n",
        "        while queue:\n",
        "            curr_x, curr_y = queue.popleft()\n",
        "            for d_x, d_y in DIRECTIONS:\n",
        "                next_x = curr_x + d_x\n",
        "                next_y = curr_y + d_y\n",
        "                # 如果下一个node不是我们需要的，那么就跳过这个node\n",
        "                if not self.valid_un_visited_node(grid, next_x, next_y, visited_node):\n",
        "                    continue\n",
        "                queue.append((next_x, next_y))\n",
        "                visited_node.add((next_x, next_y))\n",
        "                \n",
        "                \n",
        "    def valid_un_visited_node(self, grid, x, y, visited_node):\n",
        "        # 如果x和y都越界的话，肯定是False\n",
        "        if not 0<=x<len(grid) or not 0<=y<len(grid[0]):\n",
        "            return False\n",
        "        # 如果这个node我们已经visit过了，那就也是False\n",
        "        if (x,y) in visited_node:\n",
        "            return False\n",
        "        # 返回这个valid and not visited node的value\n",
        "        return grid[x][y]\n",
        "            "
      ],
      "execution_count": null,
      "outputs": []
    },
    {
      "cell_type": "markdown",
      "metadata": {
        "id": "YZS3rEDGuQfY"
      },
      "source": [
        "# LintCode 611. 骑士的最短路线 - 7/31/2020\n",
        "\n",
        "https://www.lintcode.com/problem/knight-shortest-path/description?_from=ladder&&fromId=161"
      ]
    },
    {
      "cell_type": "code",
      "metadata": {
        "id": "FQZTGC5wuQfZ"
      },
      "source": [
        "\"\"\"\n",
        "Definition for a point.\n",
        "class Point:\n",
        "    def __init__(self, a=0, b=0):\n",
        "        self.x = a\n",
        "        self.y = b\n",
        "\"\"\"\n",
        "\n",
        "from collections import deque\n",
        "\n",
        "DIRECTIONS = [\n",
        "    (-2, -1), (-2, 1), (-1, 2), (1, 2),\n",
        "    (2, 1), (2, -1), (1, -2), (-1, -2),\n",
        "]\n",
        "\n",
        "class Solution:\n",
        "    \"\"\"\n",
        "    @param grid: a chessboard included 0 (false) and 1 (true)\n",
        "    @param source: a point\n",
        "    @param destination: a point\n",
        "    @return: the shortest path \n",
        "    \"\"\"\n",
        "    def shortestPath(self, grid, source, destination):\n",
        "        # write your code here\n",
        "        if len(grid) == 0 or len(grid[0]) == 0:\n",
        "            return -1\n",
        "        \n",
        "        queue = deque([(source.x, source.y)])\n",
        "        distance = {(source.x, source.y):0}\n",
        "        \n",
        "        while queue:\n",
        "            curr_a, curr_b = queue.popleft()\n",
        "            if (curr_a, curr_b) == (destination.x, destination.y):\n",
        "                return distance[(curr_a, curr_b)]\n",
        "            for d_a, d_b in DIRECTIONS:\n",
        "                new_a = curr_a + d_a\n",
        "                new_b = curr_b + d_b\n",
        "                if self.valid_un_visited_node(new_a, new_b, grid, distance) == 1:\n",
        "                    continue\n",
        "                queue.append((new_a, new_b))\n",
        "                distance[(new_a, new_b)] = distance[(curr_a, curr_b)]+1\n",
        "        return -1\n",
        "                \n",
        "                \n",
        "                \n",
        "    def valid_un_visited_node(self, x, y, grid, distance):\n",
        "        if not 0<=x<len(grid) or not 0<=y<len(grid[0]):\n",
        "            return 1\n",
        "        if (x, y) in distance.keys():\n",
        "            return 1\n",
        "        return grid[x][y]\n"
      ],
      "execution_count": null,
      "outputs": []
    },
    {
      "cell_type": "markdown",
      "metadata": {
        "id": "kL9b8PEfuQfZ"
      },
      "source": [
        "# LintCode 137. 克隆图 - 7/31/2020\n",
        "\n",
        "https://www.lintcode.com/problem/clone-graph/description\n"
      ]
    },
    {
      "cell_type": "code",
      "metadata": {
        "id": "TQCUeQ0AuQfZ"
      },
      "source": [
        "\"\"\"\n",
        "class UndirectedGraphNode:\n",
        "     def __init__(self, x):\n",
        "         self.label = x\n",
        "         self.neighbors = []\n",
        "\"\"\"\n",
        "\n",
        "from collections import deque\n",
        "\n",
        "class Solution:\n",
        "    \"\"\"\n",
        "    @param node: A undirected graph node\n",
        "    @return: A undirected graph node\n",
        "    \"\"\"\n",
        "    def cloneGraph(self, node):\n",
        "        # write your code here\n",
        "        if not node:\n",
        "            return None\n",
        "            \n",
        "        # 遍历整个tree，用visited 这个hashset记录下所有的nodes.但首先我们要把第一个node记录下来，因为它将是我们整个tree的入口。\n",
        "        root = node\n",
        "        queue = deque([node])\n",
        "        visited = set()\n",
        "        \n",
        "        while queue:\n",
        "            curr_node = queue.popleft()\n",
        "            visited.add(curr_node)\n",
        "            for n in curr_node.neighbors:\n",
        "                if n in visited:\n",
        "                    continue\n",
        "                visited.add(n)\n",
        "                queue.append(n)\n",
        "        \n",
        "        # 下面我们需要用一个hashmap建立老tree和新tree的mapping。这样两个tree就是相互独立的。 \n",
        "        d = {}\n",
        "        for v in visited:\n",
        "            d[v] = UndirectedGraphNode(v.label)\n",
        "        \n",
        "        # 下面我们需要把心得neighbor传递给新tree\n",
        "        for v in visited:\n",
        "            new_node = d[v]\n",
        "            for n in v.neighbors:\n",
        "                # print('n: ', n.label)\n",
        "                # print('d[n]: ', d[n].label)\n",
        "                new_neighbor = d[n]\n",
        "                new_node.neighbors.append(new_neighbor)\n",
        "        \n",
        "        return d[root]\n",
        "        \n",
        "# test_case = {-3,-1,3,5#-1,2,3,3#2,3#3,5#5}  这个test case 没有过，还不知道为什么。 "
      ],
      "execution_count": null,
      "outputs": []
    },
    {
      "cell_type": "markdown",
      "metadata": {
        "id": "ThUa0Ml8uQfZ"
      },
      "source": [
        "# LintCode 127. 拓扑排序 - 8/1/2020\n",
        "\n",
        "https://www.lintcode.com/problem/topological-sorting/description?_from=ladder&&fromId=161\n"
      ]
    },
    {
      "cell_type": "code",
      "metadata": {
        "id": "im8CFez5uQfZ"
      },
      "source": [
        "\"\"\"\n",
        "Definition for a Directed graph node\n",
        "class DirectedGraphNode:\n",
        "    def __init__(self, x):\n",
        "        self.label = x\n",
        "        self.neighbors = []\n",
        "\"\"\"\n",
        "from collections import deque\n",
        "\n",
        "class Solution:\n",
        "    \"\"\"\n",
        "    @param: graph: A list of Directed graph node\n",
        "    @return: Any topological order for the given graph.\n",
        "    \"\"\"\n",
        "    def topSort(self, graph):\n",
        "        # write your code here\n",
        "        if not graph:\n",
        "            return None\n",
        "        \n",
        "        # 起始点就是node_indegree_dict中indegree为0的那些node\n",
        "        start_nodes = []\n",
        "        d = self.node_indegree(graph)\n",
        "        for n in d:\n",
        "            if d[n] == 0:\n",
        "                start_nodes.append(n)\n",
        "        output = []\n",
        "        # output.extend(start_nodes)\n",
        "        \n",
        "        queue = deque(start_nodes)\n",
        "        \n",
        "        while queue:\n",
        "            curr_node = queue.popleft()\n",
        "            output.append(curr_node)\n",
        "            for n in curr_node.neighbors:\n",
        "                d[n] -= 1\n",
        "                if d[n] == 0:\n",
        "                    queue.append(n)\n",
        "        \n",
        "        return output\n",
        "    \n",
        "    def node_indegree(self, graph):\n",
        "        node_indegree_dict = {node:0 for node in graph}\n",
        "        \n",
        "        for node in graph:\n",
        "            for n in node.neighbors:\n",
        "                node_indegree_dict[n] += 1\n",
        "        \n",
        "        return node_indegree_dict"
      ],
      "execution_count": null,
      "outputs": []
    },
    {
      "cell_type": "markdown",
      "metadata": {
        "id": "fqe0HiCFuQfb"
      },
      "source": [
        "# LintCode 120. 单词接龙 - 8/1/2020\n",
        "\n",
        "https://www.lintcode.com/problem/word-ladder/description?_from=ladder&&fromId=161"
      ]
    },
    {
      "cell_type": "code",
      "metadata": {
        "id": "QRIrmmXZuQfb"
      },
      "source": [
        "class Solution:\n",
        "    \"\"\"\n",
        "    @param: start: a string\n",
        "    @param: end: a string\n",
        "    @param: dict: a set of string\n",
        "    @return: An integer\n",
        "    \"\"\"\n",
        "    def ladderLength(self, start, end, dict):\n",
        "        dict.add(end)\n",
        "        queue = collections.deque([start])\n",
        "        visited = set([start])\n",
        "        \n",
        "        distance = 0\n",
        "        while queue:\n",
        "            distance += 1\n",
        "            for i in range(len(queue)):\n",
        "                word = queue.popleft()\n",
        "                if word == end:\n",
        "                    return distance\n",
        "                \n",
        "                print('---')\n",
        "                print(self.get_next_words(word))\n",
        "                for next_word in self.get_next_words(word):\n",
        "                    if next_word not in dict or next_word in visited:\n",
        "                        continue\n",
        "                    queue.append(next_word)\n",
        "                    visited.add(next_word) \n",
        "\n",
        "        return 0\n",
        "        \n",
        "    # O(26 * L^2)\n",
        "    # L is the length of word\n",
        "    def get_next_words(self, word):\n",
        "        words = []\n",
        "        for i in range(len(word)):\n",
        "            left, right = word[:i], word[i + 1:]\n",
        "            for char in 'abcdefghijklmnopqrstuvwxyz':\n",
        "                if word[i] == char:\n",
        "                    continue\n",
        "                words.append(left + char + right)\n",
        "        return words"
      ],
      "execution_count": null,
      "outputs": []
    },
    {
      "cell_type": "markdown",
      "metadata": {
        "id": "lf_Nsyv-uQfc"
      },
      "source": [
        "# Special Topic: 堆的基本原理 - 8/2/2020\n",
        "\n",
        "这一章我们来学习“堆”的相关知识。堆(Heap)是一种重要的数据结构，是实现优先队列(Priority Queues)首选的数据结构。堆有很多种变体，包括二项式堆、斐波那契堆等，但是这里只考虑最常见的二叉堆。\n",
        "\n",
        "本章关键字：Heap（堆），Priority Queues（优先队列）。\n",
        "\n",
        "堆是一棵满足如下性质的二叉树：\n",
        "\n",
        "1、父节点的键值总是不大于它的孩子节点的键值（小顶堆）。\n",
        "\n",
        "2、父节点的键值总是不小于它的孩子节点的键值（大顶堆）。\n",
        "\n",
        "由于堆是一棵形态规则的二叉树，因此堆的父节点和孩子节点存在如下关系（根节点编号为0）：\n",
        "\n",
        "设父节点的编号为 i, 则其左孩子节点的编号为2i+1, 右孩子节点的编号为2i+2\n",
        "\n",
        "设孩子节点的编号为i, 则其父节点的编号为(i-1)/2\n",
        "\n",
        "由于上面的性质，父节点一定比他的儿节点小（大），所以整个树的树根的值一定是最小（最大）的，那么我们就能在O(1)的时间内，获得整个堆的极值。\n",
        "\n",
        "现在有没有发现堆和我们曾经遇到过的优先队列具有很相似的特点，那么二者究竟有何联系呢？\n",
        "\n",
        "优先队列是一种抽象的数据类型，它和堆的关系类似于，List和数组、链表的关系一样；我们常常使用堆来实现优先队列，因此很多时候堆和优先队列都很相似，它们只是概念上的区分。\n",
        "\n",
        "优先队列的应用场景十分的广泛，常见的应用有：\n",
        "\n",
        "\n",
        "Dijkstra’s algorithm（单源最短路问题中需要在邻接表中找到某一点的最短邻接边，这可以将复杂度降低。）\n",
        "\n",
        "Huffman coding（贪心算法的一个典型例子，采用优先队列构建最优的前缀编码树(prefixEncodeTree)）\n",
        "\n",
        "Prim’s algorithm for minimum spanning tree\n",
        "\n",
        "在java，python中都已经有封装了的Priority Queue(Heaps)\n",
        "\n",
        "优先队列是一个至少能够提供插入（Insert）和删除最小（DeleteMin）这两种操作的数据结构。对应于队列的操作，Insert相当于Enqueue，\n",
        "DeleteMin相当于Dequeue。\n",
        "\n",
        "用堆实现优先的过程中，需要注意最大堆只能对应最大优先队列，最小堆则是对应最小优先队列。"
      ]
    },
    {
      "cell_type": "markdown",
      "metadata": {
        "id": "mbL7i6squQfc"
      },
      "source": [
        "# LintCode 900. 二叉搜索树中最接近的值 - 8/3/2020\n",
        "\n",
        "https://www.lintcode.com/problem/closest-binary-search-tree-value/description?_from=ladder&&fromId=161"
      ]
    },
    {
      "cell_type": "code",
      "metadata": {
        "id": "IpEk8qWiuQfc"
      },
      "source": [
        "\"\"\"\n",
        "Definition of TreeNode:\n",
        "class TreeNode:\n",
        "    def __init__(self, val):\n",
        "        self.val = val\n",
        "        self.left, self.right = None, None\n",
        "\"\"\"\n",
        "\n",
        "import sys\n",
        "\n",
        "class Solution:\n",
        "    \"\"\"\n",
        "    @param root: the given BST\n",
        "    @param target: the given target\n",
        "    @return: the value in the BST that is closest to the target\n",
        "    \"\"\"\n",
        "    def closestValue(self, root, target):\n",
        "        # write your code here\n",
        "        # 使用非递归的方法来解决这个问题\n",
        "        if not root:\n",
        "            return None\n",
        "        \n",
        "        upper = root\n",
        "        lower = root\n",
        "        \n",
        "        while root:\n",
        "            # 节点比target大，那么我们把它称为target的上界\n",
        "            if root.val > target:\n",
        "                upper = root\n",
        "                root = root.left\n",
        "            # 节点比target小，那么我们把它称为target的下界\n",
        "            elif root.val < target:\n",
        "                lower = root\n",
        "                root = root.right\n",
        "            # 很巧的是taget正好就是一个节点，那么我们就返回这个节点\n",
        "            else:\n",
        "                return root.val\n",
        "            \n",
        "        # 我们开始比较是上界和下界离target近\n",
        "        if abs(upper.val-target) > abs(lower.val-target):\n",
        "            return lower.val\n",
        "        else:\n",
        "            return upper.val\n"
      ],
      "execution_count": null,
      "outputs": []
    },
    {
      "cell_type": "markdown",
      "metadata": {
        "id": "Gyo8_d_huQfc"
      },
      "source": [
        "## Comments:\n",
        "\n",
        "1. 首先要注意题目是二叉树还是BST。\n",
        "\n",
        "2. 其次这个题我暂时用的是非递归的方法，但我非常想用递归的方法做一下。 "
      ]
    },
    {
      "cell_type": "markdown",
      "metadata": {
        "id": "7rVhdY1ZuQfc"
      },
      "source": [
        "# LintCode 596. 最小子树 - 8/3/2020\n",
        "\n",
        "https://www.lintcode.com/problem/minimum-subtree/description?_from=ladder&&fromId=161"
      ]
    },
    {
      "cell_type": "code",
      "metadata": {
        "id": "G2gsGwI7uQfc"
      },
      "source": [
        "# 这是我写的不使用全局变量的recursion，但有些test case无法通过。。。\n",
        "# {1,2,3,4,5,6,7,8,9,10,11,12,13,14,15,16}\n",
        "\n",
        "\"\"\"\n",
        "Definition of TreeNode:\n",
        "class TreeNode:\n",
        "    def __init__(self, val):\n",
        "        self.val = val\n",
        "        self.left, self.right = None, None\n",
        "\"\"\"\n",
        "\n",
        "import sys\n",
        "\n",
        "class Solution:\n",
        "    \"\"\"\n",
        "    @param root: the root of binary tree\n",
        "    @return: the root of the minimum subtree\n",
        "    \"\"\"\n",
        "    def findSubtree(self, root):\n",
        "        # write your code here\n",
        "        if not root:\n",
        "            return None\n",
        "            \n",
        "        min_node, tree_sum, min_tree_sum = self.helper(root)\n",
        "        return min_node\n",
        "    \n",
        "    \"\"\"\n",
        "     通常我们做recursion的话，大概率会需要一个he() 函数。这里面我们的helper函数只有一个变量就是root本身。但返回值有三个，分别是 1.最小和子树的根节点 2. 当前子树的和； 3. 目前找的和最小的树的和是多少\n",
        "    \"\"\"\n",
        "    \n",
        "    def helper(self, root):\n",
        "        if not root:\n",
        "            return None, 0, sys.maxsize\n",
        "        \n",
        "        left_node, sub_left_tree_sum, min_left_tree_sum = self.helper(root.left)\n",
        "        right_node, sub_right_tree_sum, min_right_tree_sum = self.helper(root.right)\n",
        "        \n",
        "        min_sum = min(sub_left_tree_sum, \n",
        "                    sub_right_tree_sum, \n",
        "                    sub_left_tree_sum + sub_right_tree_sum + root.val)\n",
        "        \n",
        "        if min_left_tree_sum == min_sum:\n",
        "            return left_node, sub_left_tree_sum, min_left_tree_sum\n",
        "        if min_right_tree_sum == min_sum:\n",
        "            return right_node, sub_left_tree_sum, min_right_tree_sum\n",
        "        else:\n",
        "            return root, min_sum, min_sum\n",
        "        \n",
        "                    \n",
        "        "
      ],
      "execution_count": null,
      "outputs": []
    },
    {
      "cell_type": "code",
      "metadata": {
        "id": "LGoo3Uk_uQfc"
      },
      "source": [
        "# 这是利用全局变量写的code，相比之下，肯定是简单很多。而且更好理解一下。但使用全局变量会有一些从程序设计上不好的地方。但对目前的我而言，能写出来就可以了\n",
        "\n",
        "\n",
        "\"\"\"\n",
        "Definition of TreeNode:\n",
        "class TreeNode:\n",
        "    def __init__(self, val):\n",
        "        self.val = val\n",
        "        self.left, self.right = None, None\n",
        "\"\"\"\n",
        "\n",
        "import sys\n",
        "\n",
        "class Solution:\n",
        "    \"\"\"\n",
        "    @param root: the root of binary tree\n",
        "    @return: the root of the minimum subtree\n",
        "    \"\"\"\n",
        "    def findSubtree(self, root):\n",
        "        # write your code here\n",
        "        if not root:\n",
        "            return None\n",
        "        self.min_sum = sys.maxsize\n",
        "        self.min_sum_node = None\n",
        "        self.helper(root)\n",
        "        return self.min_sum_node\n",
        "        \n",
        "        \n",
        "    def helper(self, root):\n",
        "        \"\"\"\n",
        "        首先， 我们要搞清楚我们helper函数需要返回的是什么。在这个环境下，我希望它返回的是在当前root下的sum。所以我们这个helper函数返回如果是叶节点下面的那些“节点”，那么他们的sum肯定就只有0了\n",
        "        \"\"\"\n",
        "        if not root:\n",
        "            return 0\n",
        "        \n",
        "        # 以root.left为根节点的sub tree的min_sum\n",
        "        left_sum = self.helper(root.left)\n",
        "        \n",
        "        # 以root.right为根节点的sub tree的min_sum\n",
        "        right_sum = self.helper(root.right)\n",
        "        \n",
        "        root_sum = left_sum + right_sum + root.val\n",
        "        \n",
        "        if root_sum < self.min_sum:\n",
        "            self.min_sum = root_sum\n",
        "            self.min_sum_node = root\n",
        "        \n",
        "        return root_sum\n",
        "            "
      ],
      "execution_count": null,
      "outputs": []
    },
    {
      "cell_type": "markdown",
      "metadata": {
        "id": "0EBIA061uQfd"
      },
      "source": [
        "# 453. 将二叉树拆成链表 - 8/3/2020\n",
        "\n",
        "https://www.lintcode.com/problem/flatten-binary-tree-to-linked-list/description?_from=ladder&&fromId=161"
      ]
    },
    {
      "cell_type": "code",
      "metadata": {
        "id": "Ox7AWZRVuQfd"
      },
      "source": [
        "\"\"\"\n",
        "Definition of TreeNode:\n",
        "class TreeNode:\n",
        "    def __init__(self, val):\n",
        "        self.val = val\n",
        "        self.left, self.right = None, None\n",
        "\"\"\"\n",
        "\n",
        "class Solution:\n",
        "    \"\"\"\n",
        "    @param root: a TreeNode, the root of the binary tree\n",
        "    @return: nothing\n",
        "    \"\"\"\n",
        "    def flatten(self, root):\n",
        "        # write your code here\n",
        "        if not root:\n",
        "            return None\n",
        "        self.helper(root)\n",
        "        \n",
        "        \n",
        "    \"\"\"\n",
        "    首先我在考虑这个递归函数需要返回的值是什么。对于root.left,我们需要把它连接到root.right。对于root.left,我们要把它的最后一个node连接到root.right\n",
        "    \"\"\"\n",
        "    def helper(self, root):\n",
        "        if not root:\n",
        "            return None\n",
        "        \n",
        "        last_left_node = self.helper(root.left)\n",
        "        last_rigth_node = self.helper(root.right)\n",
        "        \n",
        "        if last_left_node:\n",
        "            last_left_node.right = root.right\n",
        "            root.right = root.left\n",
        "            root.left = None\n",
        "        \n",
        "        return last_right_node or last_left_node or root"
      ],
      "execution_count": null,
      "outputs": []
    },
    {
      "cell_type": "markdown",
      "metadata": {
        "id": "9dclEDmHuQfd"
      },
      "source": [
        "# LintCode88. 最近公共祖先 - 8/4/2020\n",
        "\n",
        "https://www.lintcode.com/problem/lowest-common-ancestor-of-a-binary-tree/description?_from=ladder&&fromId=161"
      ]
    },
    {
      "cell_type": "code",
      "metadata": {
        "id": "5jsFSyKyuQfd"
      },
      "source": [
        "\"\"\"\n",
        "Definition of TreeNode:\n",
        "class TreeNode:\n",
        "    def __init__(self, val):\n",
        "        self.val = val\n",
        "        self.left, self.right = None, None\n",
        "\"\"\"\n",
        "\n",
        "\n",
        "class Solution:\n",
        "    \"\"\"\n",
        "    @param: root: The root of the binary search tree.\n",
        "    @param: A: A TreeNode in a Binary.\n",
        "    @param: B: A TreeNode in a Binary.\n",
        "    @return: Return the least common ancestor(LCA) of the two nodes.\n",
        "    \"\"\"\n",
        "    def lowestCommonAncestor(self, root, A, B):\n",
        "        # write your code here\n",
        "        \n",
        "        # 空树\n",
        "        if not root:\n",
        "            return None\n",
        "        \n",
        "        # 如果A or B是root本身，那么就return root了\n",
        "        if root == A or root == B:\n",
        "            return root\n",
        "        \n",
        "        left_result = self.lowestCommonAncestor(root.left, A, B)\n",
        "        right_result = self.lowestCommonAncestor(root.right, A, B)\n",
        "        \n",
        "        # 如果在左子树里面找到了，那么就返回左边的结果\n",
        "        if left_result and right_result:\n",
        "            return root\n",
        "        \n",
        "        # 如果在右子树里面找到了，那么久返回右边的结果\n",
        "        if left_result:\n",
        "            return left_result\n",
        "        \n",
        "        if right_result:\n",
        "            return right_result\n",
        "        \n",
        "        # 没找到\n",
        "        return None"
      ],
      "execution_count": null,
      "outputs": []
    },
    {
      "cell_type": "markdown",
      "metadata": {
        "id": "ZMePdgZUuQfd"
      },
      "source": [
        "# LintCode 425. 电话号码的字母组合 - 8/10/2020\n",
        "\n",
        "https://www.lintcode.com/problem/letter-combinations-of-a-phone-number/description?_from=ladder&&fromId=161\n",
        "\n",
        "https://leetcode.com/problems/letter-combinations-of-a-phone-number/submissions/\n",
        "\n",
        "Tag: DFS, Medium"
      ]
    },
    {
      "cell_type": "code",
      "metadata": {
        "id": "c-Yk2UQEuQfe",
        "outputId": "7846989c-fb75-4ba8-b1e5-e832d48c59ca"
      },
      "source": [
        "PHONE = {2:'abc', \n",
        "         3:'def', \n",
        "         4:'ghi', \n",
        "         5:'jkl', \n",
        "         6:'mno', \n",
        "         7:'pqrs', \n",
        "         8:'tuv', \n",
        "         9:'wxyz'}\n",
        "\n",
        "class Solution:\n",
        "    \"\"\"\n",
        "    @param digits: A digital string\n",
        "    @return: all posible letter combinations\n",
        "    \"\"\"\n",
        "    def letterCombinations(self, digits):\n",
        "        # write your code here\n",
        "        if len(digits) == 0:\n",
        "            return []\n",
        "        # 需要构建新的数组来存储中间结果（这个是记录我们visited过的node）和最终结果（这个是必须有的）\n",
        "        char_list = []\n",
        "        output  = []\n",
        "        self.dfs(digits, 0, char_list, output)\n",
        "        return output\n",
        "        \n",
        "    # 我们用layer来记录digits到哪里了\n",
        "    def dfs(self, digits, layer, char_list, output):\n",
        "        if layer == len(digits):\n",
        "            output.append(''.join(char_list))\n",
        "            return\n",
        "        \n",
        "        # print(PHONE[digits[layer]])\n",
        "        for d in PHONE[int(digits[layer])]:\n",
        "            char_list.append(d)\n",
        "            self.dfs(digits, layer+1, char_list, output)\n",
        "            # 如果我们需要求路径的话，那我们就可能不需要pop出上一次的结果了。但如果我们只是为了求叶子点的话，我们就需要pop出\n",
        "            # 上一次递归的结果。否则我们的结果就会叠加起来。 \n",
        "            char_list.pop()\n",
        "            \n",
        "test = Solution()\n",
        "d = '23'\n",
        "print(test.letterCombinations(d))"
      ],
      "execution_count": null,
      "outputs": [
        {
          "output_type": "stream",
          "text": [
            "['ad', 'ae', 'af', 'bd', 'be', 'bf', 'cd', 'ce', 'cf']\n"
          ],
          "name": "stdout"
        }
      ]
    },
    {
      "cell_type": "markdown",
      "metadata": {
        "id": "Vzzx5cKEuQfe"
      },
      "source": [
        "# LintCode 10. 字符串的不同排列 - 8/10/2020\n",
        "\n",
        "https://www.lintcode.com/problem/string-permutation-ii/description?_from=ladder&&fromId=161"
      ]
    },
    {
      "cell_type": "code",
      "metadata": {
        "id": "MdR-l5_kuQfe",
        "colab": {
          "base_uri": "https://localhost:8080/"
        },
        "outputId": "427e629e-58c0-44b2-8fee-72d363995994"
      },
      "source": [
        "class Solution:\n",
        "    \"\"\"\n",
        "    @param str: A string\n",
        "    @return: all permutations\n",
        "    \"\"\"\n",
        "    def stringPermutation2(self, str):\n",
        "        # write your code here\n",
        "        str_length = len(str)\n",
        "        if str_length == 0:\n",
        "            return [\"\"]\n",
        "        char_list = []\n",
        "        output = []\n",
        "        self.dfs(str, 0, str_length, char_list, output)\n",
        "        return output\n",
        "        \n",
        "        \n",
        "    def dfs(self, str, level, str_length, char_list, output):\n",
        "        if level == str_length:\n",
        "            output.append(''.join(char_list))\n",
        "            return\n",
        "\n",
        "        # print('level: ', level)\n",
        "        # 这样的原始代码会有一个问题，就是会有重复的情况，而且最可怕的是，我现在的排除重复的做法，\n",
        "        # 只能让整个tree遍历到最后的叶节点的时候才能找到判断是否重复。这样也会导致TLE的确情况。\n",
        "        for idx in range(len(str)): # \n",
        "            char_list.append(str[idx])\n",
        "            if ''.join(char_list) in output:\n",
        "                continue\n",
        "            # print('char list: ', char_list)\n",
        "            new_str = str[:idx]+str[idx+1:]\n",
        "            # print('new_str: ', new_str)\n",
        "            self.dfs(new_str, level+1, str_length, char_list, output)\n",
        "            char_list.pop()\n",
        "        \n",
        "test = Solution()\n",
        "str = 'abcdefga'\n",
        "print(test.stringPermutation2(str))"
      ],
      "execution_count": null,
      "outputs": [
        {
          "output_type": "stream",
          "text": [
            "IOPub data rate exceeded.\n",
            "The notebook server will temporarily stop sending output\n",
            "to the client in order to avoid crashing it.\n",
            "To change this limit, set the config variable\n",
            "`--NotebookApp.iopub_data_rate_limit`.\n",
            "\n",
            "Current values:\n",
            "NotebookApp.iopub_data_rate_limit=1000000.0 (bytes/sec)\n",
            "NotebookApp.rate_limit_window=3.0 (secs)\n",
            "\n"
          ],
          "name": "stderr"
        }
      ]
    },
    {
      "cell_type": "markdown",
      "metadata": {
        "id": "jN2hFsZ-ukf9"
      },
      "source": [
        "# LeetCode 162. Find Peak Element\r\n",
        "\r\n",
        "https://leetcode.com/problems/find-peak-element/\r\n",
        "\r\n",
        "Tag: Binary search, recursion"
      ]
    },
    {
      "cell_type": "code",
      "metadata": {
        "id": "ENg1ffDOu0b5",
        "colab": {
          "base_uri": "https://localhost:8080/"
        },
        "outputId": "70df4cda-ddf2-49dc-990b-1dd3b8ae5e19"
      },
      "source": [
        "class Solution:\r\n",
        "    def findPeakElement(self, nums):\r\n",
        "        nums.append(float('-inf'))\r\n",
        "        nums.insert(0, float('-inf'))\r\n",
        "        \r\n",
        "        return self.helper(nums, 1, len(nums))\r\n",
        "    \r\n",
        "    def helper(self, nums, left, right):\r\n",
        "        if left > right: \r\n",
        "            return \r\n",
        "        \r\n",
        "        middle = (left+right)//2\r\n",
        "        \r\n",
        "        if nums[middle] > nums[middle-1] and nums[middle] > nums[middle+1]:\r\n",
        "            return middle-1\r\n",
        "        \r\n",
        "        idx = self.helper(nums, left, middle-1)\r\n",
        "        \r\n",
        "        if idx is None:\r\n",
        "            idx = self.helper(nums, middle+1, right)\r\n",
        "        \r\n",
        "        return idx\r\n",
        "\r\n",
        "test = Solution()\r\n",
        "nums = [1,2,3,4]\r\n",
        "test.findPeakElement(nums)"
      ],
      "execution_count": null,
      "outputs": [
        {
          "output_type": "execute_result",
          "data": {
            "text/plain": [
              "3"
            ]
          },
          "metadata": {
            "tags": []
          },
          "execution_count": 4
        }
      ]
    },
    {
      "cell_type": "markdown",
      "metadata": {
        "id": "_LV3EyKDvHzd"
      },
      "source": [
        "## Comments: \r\n",
        "\r\n",
        "1. binary search 的框架还是比较明显的。困难的是里面一些细节，比如什么地方+1，判断条件是<, 还是<=。\r\n",
        "\r\n",
        "2. 在选择左边还是右边的sub-arrary时，我有一个问题。什么时候有left = mid, 什么时候用left = mid + 1."
      ]
    },
    {
      "cell_type": "markdown",
      "metadata": {
        "id": "OQW68GZDv3qB"
      },
      "source": [
        "# LeetCode 230:Kth Smallest Element in a BST\r\n",
        "\r\n",
        "https://leetcode.com/problems/kth-smallest-element-in-a-bst/\r\n",
        "\r\n",
        "Tag: Binary Search Tree, Recursion"
      ]
    },
    {
      "cell_type": "code",
      "metadata": {
        "id": "3O_Rxzabv_Vw"
      },
      "source": [
        "# Definition for a binary tree node.\r\n",
        "# class TreeNode:\r\n",
        "#     def __init__(self, x):\r\n",
        "#         self.val = x\r\n",
        "#         self.left = None\r\n",
        "#         self.right = None\r\n",
        "\r\n",
        "class Solution:\r\n",
        "    def kthSmallest(self, root: TreeNode, k: int) -> int:\r\n",
        "        res = []\r\n",
        "        self.helper(root, res)\r\n",
        "        return res[k-1]\r\n",
        "        \r\n",
        "    def helper(self, root, res):\r\n",
        "        if root == None: return\r\n",
        "        self.helper(root.left, res)\r\n",
        "        res.append(root.val)\r\n",
        "        self.helper(root.right, res)"
      ],
      "execution_count": null,
      "outputs": []
    },
    {
      "cell_type": "markdown",
      "metadata": {
        "id": "G-iD-zVv0zm7"
      },
      "source": [
        "## Comments:\r\n",
        "\r\n",
        "1. 这是一个binary search tree，所以最左边的元素最小， 最右边的元素最大。所以通过一个list按照一直到左然后慢慢到右的顺序，把这些元素都装进去。然后取第k-1个就好了。"
      ]
    },
    {
      "cell_type": "markdown",
      "metadata": {
        "id": "BodtTcsD1T9X"
      },
      "source": [
        "# LeetCode 287. Find the Duplicate Number\r\n",
        "\r\n",
        "https://leetcode.com/problems/find-the-duplicate-number/\r\n",
        "\r\n",
        "Tag: binary search"
      ]
    },
    {
      "cell_type": "code",
      "metadata": {
        "id": "DdZ76oMo1S9h",
        "colab": {
          "base_uri": "https://localhost:8080/"
        },
        "outputId": "de293a76-1683-4c14-fcfa-aa39aea6d375"
      },
      "source": [
        "class Solution:\r\n",
        "    def findDuplicate(self, nums) -> int:\r\n",
        "        dic = {}\r\n",
        "        if len(nums) == 1:\r\n",
        "            return nums[0]\r\n",
        "        for i in nums:\r\n",
        "            if i in dic:\r\n",
        "                dic[i] += 1\r\n",
        "            else:\r\n",
        "                dic[i] = 1\r\n",
        "        return max(dic, key=dic.get)\r\n",
        "test = Solution()\r\n",
        "nums = [1,1,2,4]\r\n",
        "test.findDuplicate(nums)"
      ],
      "execution_count": null,
      "outputs": [
        {
          "output_type": "execute_result",
          "data": {
            "text/plain": [
              "1"
            ]
          },
          "metadata": {
            "tags": []
          },
          "execution_count": 3
        }
      ]
    },
    {
      "cell_type": "code",
      "metadata": {
        "id": "JIpecxujavRm"
      },
      "source": [
        "dic = {'a':5,'b':4,'c':3}\r\n",
        "# max(dic) # return max key\r\n",
        "max(dic, key=dic.get) # return the key of max value"
      ],
      "execution_count": null,
      "outputs": []
    },
    {
      "cell_type": "markdown",
      "metadata": {
        "id": "L2UW_dIa-N-n"
      },
      "source": [
        "# LeetCode 349/350: Intersection of Two Array \r\n",
        "\r\n",
        "https://leetcode.com/problems/intersection-of-two-arrays/\r\n",
        "\r\n",
        "Tag: Two pointers, Easy"
      ]
    },
    {
      "cell_type": "code",
      "metadata": {
        "id": "W_DIgAff-bC3",
        "colab": {
          "base_uri": "https://localhost:8080/"
        },
        "outputId": "f4706bb5-0d0e-4edc-b4f3-f45c004af313"
      },
      "source": [
        "class Solution:\r\n",
        "    def intersection(self, nums1, nums2):\r\n",
        "      if not nums1 or not nums2:\r\n",
        "        return []\r\n",
        "        \r\n",
        "      nums1.sort() # O(nlogn+mlogm) = 2(nlogn) assuming the arrays are of comparable sizes\r\n",
        "      nums2.sort()\r\n",
        "      # print(nums1)\r\n",
        "      i, j = 0, 0\r\n",
        "      res = []\r\n",
        "      while i < len(nums1) and j < len(nums2):\r\n",
        "        # 不用担心有一个list先结束，因为我们求交集，如果一个结束了，那也是正常的。\r\n",
        "          if nums1[i] == nums2[j]:\r\n",
        "              res.append(nums1[i])\r\n",
        "              i += 1\r\n",
        "              j += 1\r\n",
        "          elif nums1[i] < nums2[j]:\r\n",
        "              i += 1\r\n",
        "          else: # i > j\r\n",
        "              j += 1\r\n",
        "          # print('i: ', i)\r\n",
        "          # print('j: ',j)\r\n",
        "      return list(set(res))\r\n",
        "\r\n",
        "test = Solution()\r\n",
        "nums1 = [1,2,2,1]\r\n",
        "nums2 = [2,2]\r\n",
        "print(test.intersection(nums1, nums2))"
      ],
      "execution_count": null,
      "outputs": [
        {
          "output_type": "stream",
          "text": [
            "[2]\n"
          ],
          "name": "stdout"
        }
      ]
    },
    {
      "cell_type": "markdown",
      "metadata": {
        "id": "tqOrMO0Vebhh"
      },
      "source": [
        "## Comments: \r\n",
        "\r\n",
        "1. 如果是求两个intersection的Union？ "
      ]
    },
    {
      "cell_type": "markdown",
      "metadata": {
        "id": "FczgkgqxB_ID"
      },
      "source": [
        "# LeetCode 378. Kth Smallest Element in a Sorted Matrix\r\n",
        "\r\n",
        "https://leetcode.com/problems/kth-smallest-element-in-a-sorted-matrix/\r\n",
        "\r\n",
        "Tag: Binary Search"
      ]
    },
    {
      "cell_type": "code",
      "metadata": {
        "id": "3zm5rlt7AFgB",
        "colab": {
          "base_uri": "https://localhost:8080/"
        },
        "outputId": "b6b09ce2-93ca-46a6-8072-1f73200203be"
      },
      "source": [
        "import bisect\r\n",
        "\r\n",
        "class Solution:\r\n",
        "    def kthSmallest(self, matrix, k):\r\n",
        "        '''\r\n",
        "        Runtime: 152 ms, faster than 100.00% of Python3 online submissions for Kth Smallest Element in a Sorted Matrix.\r\n",
        "        Memory Usage: 19.9 MB, less than 20.98% of Python3 online submissions for Kth Smallest Element in a Sorted Matrix.\r\n",
        "        '''\r\n",
        "        n = len(matrix)\r\n",
        "        l, r = matrix[0][0], matrix[-1][-1] # l must the smallest item and r must be the largest item\r\n",
        "        ans = matrix[0][0]\r\n",
        "        while l <= r:\r\n",
        "            mid = (l+r) // 2\r\n",
        "            count, num = self.helper(mid, matrix)\r\n",
        "            if count >= k:\r\n",
        "                ans = num\r\n",
        "                r = mid - 1\r\n",
        "            else:\r\n",
        "                l = mid + 1\r\n",
        "        return ans \r\n",
        "    \r\n",
        "    def helper(self, mid, matrix):\r\n",
        "        count = 0\r\n",
        "        num = -float('inf')\r\n",
        "        for row in matrix:\r\n",
        "            idx = bisect.bisect(row, mid)\r\n",
        "            count += idx\r\n",
        "            if idx > 0:\r\n",
        "                num = max(num, row[idx-1]) \r\n",
        "                # idx>0 indicating there are numbers larger than mid in this row. also since we are not sure about the next row. we use the max value from previous row, \r\n",
        "                # compared withe the idx-1 (smaller or equal to mid) and find the larger one. therefore, we could always get the largest value in matric close to mid. \r\n",
        "        return count, num # count is the # of item smaller than (including) mid\r\n",
        "\r\n",
        "test = Solution()\r\n",
        "matrix = [[1,5,9],[10,11,13],[12,13,15]]\r\n",
        "k = 8\r\n",
        "test.kthSmallest(matrix, k)"
      ],
      "execution_count": null,
      "outputs": [
        {
          "output_type": "execute_result",
          "data": {
            "text/plain": [
              "13"
            ]
          },
          "metadata": {
            "tags": []
          },
          "execution_count": 5
        }
      ]
    },
    {
      "cell_type": "code",
      "metadata": {
        "id": "5-ynzEKqCVLe",
        "colab": {
          "base_uri": "https://localhost:8080/"
        },
        "outputId": "aca4c1e4-f53a-4231-a89e-b1c78a88357e"
      },
      "source": [
        "def helper(mid, matrix):\r\n",
        "    count = 0\r\n",
        "    num = -float('inf')\r\n",
        "    for row in matrix:\r\n",
        "        idx = bisect.bisect(row, mid)\r\n",
        "        count += idx\r\n",
        "        if idx > 0:\r\n",
        "            num = max(num, row[idx-1])\r\n",
        "    return count, num\r\n",
        "matrix = [[1,5,9],[10,11,13],[12,13,15]]\r\n",
        "print(helper(12,matrix))"
      ],
      "execution_count": null,
      "outputs": [
        {
          "output_type": "stream",
          "text": [
            "(6, 12)\n"
          ],
          "name": "stdout"
        }
      ]
    },
    {
      "cell_type": "code",
      "metadata": {
        "id": "_ax-l2mOqSgY",
        "colab": {
          "base_uri": "https://localhost:8080/"
        },
        "outputId": "10224a13-a741-429d-b0d0-d9d9898d5518"
      },
      "source": [
        "row = [3,5,7,9,11]\r\n",
        "matrix = [[1,5,9],[10,11,13],[12,13,15]]\r\n",
        "k = 1\r\n",
        "# bisect.bisect(row,k)\r\n",
        "helper(k, matrix)"
      ],
      "execution_count": null,
      "outputs": [
        {
          "output_type": "execute_result",
          "data": {
            "text/plain": [
              "(1, 1)"
            ]
          },
          "metadata": {
            "tags": []
          },
          "execution_count": 15
        }
      ]
    },
    {
      "cell_type": "markdown",
      "metadata": {
        "id": "_a8WZeQxy4_-"
      },
      "source": [
        "## Comments: \r\n",
        "\r\n",
        "1. 利用binary search在matrix中是第一次看到。利用了一个bisect的module，可以快速定位mid在row中位置，而且返回位置-1的idx"
      ]
    },
    {
      "cell_type": "markdown",
      "metadata": {
        "id": "7IQwv-X9zOoJ"
      },
      "source": [
        "# LeetCode 532. K-diff Pairs in an Array\r\n",
        "\r\n",
        "https://leetcode.com/problems/k-diff-pairs-in-an-array/\r\n",
        "\r\n",
        "Tag: Dictionary"
      ]
    },
    {
      "cell_type": "code",
      "metadata": {
        "id": "RugsKI5s7P2z",
        "colab": {
          "base_uri": "https://localhost:8080/"
        },
        "outputId": "7f721956-8784-49f8-aa44-cee908542854"
      },
      "source": [
        "class Solution:\r\n",
        "    def findPairs(self, nums, k):\r\n",
        "        # return the number of unique pairs\r\n",
        "        answ=0\r\n",
        "        # create a dictionary: d[x]==nums.count(x)\r\n",
        "        d={}\r\n",
        "        for x in nums:\r\n",
        "            if x in d: d[x]+=1\r\n",
        "            else:      d[x]=1\r\n",
        "        \r\n",
        "        if k: # k>0\r\n",
        "            answ=sum(x+k in d for x in d.keys())\r\n",
        "        else: # k==0\r\n",
        "            answ=sum(k>1 for k in d.values())\r\n",
        "                \r\n",
        "        return answ\r\n",
        "test = Solution()\r\n",
        "nums = [1,3,1,5,4]\r\n",
        "k = 2\r\n",
        "test.findPairs(nums, k)"
      ],
      "execution_count": null,
      "outputs": [
        {
          "output_type": "execute_result",
          "data": {
            "text/plain": [
              "2"
            ]
          },
          "metadata": {
            "tags": []
          },
          "execution_count": 19
        }
      ]
    },
    {
      "cell_type": "markdown",
      "metadata": {
        "id": "X_lqxSZi-hBa"
      },
      "source": [
        "## Comments:\r\n",
        "\r\n",
        "1. Follow-up: what if we want to get the detail list of k-pairs? "
      ]
    },
    {
      "cell_type": "markdown",
      "metadata": {
        "id": "rokkpFFo9AMQ"
      },
      "source": [
        "# LeetCode 3. Longest Substring Without Repeating Characters\r\n",
        "\r\n",
        "https://leetcode.com/problems/longest-substring-without-repeating-characters/\r\n",
        "\r\n",
        "Tag: Two pointers"
      ]
    },
    {
      "cell_type": "code",
      "metadata": {
        "id": "nfkEwvag9HCq",
        "colab": {
          "base_uri": "https://localhost:8080/",
          "height": 128
        },
        "outputId": "9dd80f1f-e172-41c2-b4a1-09cfe7b8d8a1"
      },
      "source": [
        "class Solution:\r\n",
        "\tdef lengthOfLongestSubstring(self, s):\r\n",
        "\t\tcharacters = set()\r\n",
        "\t\tleft = right = ans = 0\r\n",
        "\t\tlength = len(s)\r\n",
        "\t\t\r\n",
        "    # 同向双指针的two pointers\r\n",
        "\t\twhile right < length:\r\n",
        "      if s[right] in characters:\r\n",
        "\t\t\t\tcharacters.remove(s[left]) # if this already in dic, then we could remove what we we\r\n",
        "\t\t\t\tleft += 1\r\n",
        "\t\t\telse:\r\n",
        "\t\t\t\tcharacters.add(s[right])\r\n",
        "\t\t\t\tright += 1\r\n",
        "\t\t\t\tans = max(ans, right - left) # use max to store the largest len of substring we see before.\r\n",
        "      print(characters)\r\n",
        "\t\t\r\n",
        "\t\treturn ans\r\n",
        "test = Solution()\r\n",
        "s = 'pwwkew'\r\n",
        "test.lengthOfLongestSubstring(s)"
      ],
      "execution_count": null,
      "outputs": [
        {
          "output_type": "error",
          "ename": "IndentationError",
          "evalue": "ignored",
          "traceback": [
            "\u001b[0;36m  File \u001b[0;32m\"<ipython-input-12-6dbf2512a052>\"\u001b[0;36m, line \u001b[0;32m9\u001b[0m\n\u001b[0;31m    print(characters)\u001b[0m\n\u001b[0m                     ^\u001b[0m\n\u001b[0;31mIndentationError\u001b[0m\u001b[0;31m:\u001b[0m unindent does not match any outer indentation level\n"
          ]
        }
      ]
    },
    {
      "cell_type": "markdown",
      "metadata": {
        "id": "tryvVH0tAIli"
      },
      "source": [
        "## Comments: \r\n",
        "\r\n",
        "1. Follow-up: can you get the longest substring for this question? - character 里面就是所有unique的substring\r\n",
        "\r\n",
        "2. 有一个tricky地方是第10行。remove的不是s[right],而是s[left].因为题目要求的是substring,不是subsequence。如果我们remove s[right]的话，结果就是subsequence了。会改变原来string的顺序。 "
      ]
    },
    {
      "cell_type": "markdown",
      "metadata": {
        "id": "Ok5JByVJh7HP"
      },
      "source": [
        "# LeetCode26. Remove Duplicates from Sorted Array\r\n",
        "\r\n",
        "https://leetcode.com/problems/remove-duplicates-from-sorted-array/\r\n",
        "\r\n",
        "Tag： Two Pointers"
      ]
    },
    {
      "cell_type": "code",
      "metadata": {
        "id": "KYeHbHegiCNR",
        "colab": {
          "base_uri": "https://localhost:8080/"
        },
        "outputId": "82a6216f-727c-4335-c135-d0dcef933b21"
      },
      "source": [
        "# 这个题目不好，大概看看就好了。 \r\n",
        "\r\n",
        "class Solution:\r\n",
        "    def removeDuplicates(self, nums):\r\n",
        "        # corner case\r\n",
        "        if len(nums) == 0:\r\n",
        "            return \r\n",
        "        \r\n",
        "        slow = 0\r\n",
        "        for fast in range(len(nums)):\r\n",
        "            if nums[fast] != nums[slow]:\r\n",
        "                slow += 1\r\n",
        "                nums[slow] = nums[fast] # \r\n",
        "        return slow+1\r\n",
        "\r\n",
        "test = Solution()\r\n",
        "nums = [0,0,1,1,2,2,2,3,4,4,5]\r\n",
        "test.removeDuplicates(nums)"
      ],
      "execution_count": null,
      "outputs": [
        {
          "output_type": "execute_result",
          "data": {
            "text/plain": [
              "6"
            ]
          },
          "metadata": {
            "tags": []
          },
          "execution_count": 2
        }
      ]
    },
    {
      "cell_type": "markdown",
      "metadata": {
        "id": "z_Vn6O1soc1_"
      },
      "source": [
        "## Comments: \r\n",
        "\r\n",
        "1. 这其实是两个pointers, fast和slow。slow用来记录unique的元素， 而fast用来go through整个list\r\n"
      ]
    },
    {
      "cell_type": "markdown",
      "metadata": {
        "id": "x725WcJmp--f"
      },
      "source": [
        "# LeetCode 88. Merge Sorted Array\r\n",
        "\r\n",
        "https://leetcode.com/problems/merge-sorted-array/\r\n",
        "\r\n",
        "Tag: Two Pointers"
      ]
    },
    {
      "cell_type": "code",
      "metadata": {
        "id": "a6uLFJnMqH1D",
        "colab": {
          "base_uri": "https://localhost:8080/"
        },
        "outputId": "3508f4e7-24a0-4905-fcab-15da2ac831c0"
      },
      "source": [
        "class Solution:\r\n",
        "    #36ms ~ O(n) runtime, O(1) extra space\r\n",
        "    def merge(self, nums1, m, nums2, n):\r\n",
        "        \"\"\"\r\n",
        "        Do not return anything, modify nums1 in-place instead.\r\n",
        "        \"\"\"\r\n",
        "        #move nums1 values to the end of nums1\r\n",
        "        for index in range(m-1,-1,-1):\r\n",
        "            nums1[index+n] = nums1[index]\r\n",
        "            if n != 0:\r\n",
        "                nums1[index] = 0\r\n",
        "        print('---')\r\n",
        "        print(nums1)\r\n",
        "        \r\n",
        "        #iterate nums1 & nums2, and put the min in front of nums1\r\n",
        "        idx1 = n\r\n",
        "        idx2 = 0\r\n",
        "        idx1Left = 0\r\n",
        "        while idx1 < len(nums1) and idx2 < len(nums2):\r\n",
        "            if nums1[idx1] <= nums2[idx2]:\r\n",
        "                min = nums1[idx1]\r\n",
        "                nums1[idx1] = 0\r\n",
        "                idx1 += 1\r\n",
        "            else:\r\n",
        "                min = nums2[idx2]\r\n",
        "                nums2[idx2] = 0\r\n",
        "                idx2 += 1\r\n",
        "\r\n",
        "            nums1[idx1Left] = min\r\n",
        "            idx1Left += 1\r\n",
        "        \r\n",
        "        #one of the arrays are done iterating, fill with the other orray\r\n",
        "        if idx1 == len(nums1):\r\n",
        "            #fill array with rest of nums2\r\n",
        "            while idx2 < len(nums2):\r\n",
        "                nums1[idx1Left] = nums2[idx2]\r\n",
        "                idx2 += 1\r\n",
        "                idx1Left += 1\r\n",
        "        elif idx2 == len(nums2):\r\n",
        "            #fill array with rest of nums1\r\n",
        "            while idx1 < len(nums1):\r\n",
        "                nums1[idx1Left] = nums1[idx1]\r\n",
        "                idx1 += 1\r\n",
        "                idx1Left += 1\r\n",
        "        #print(\"nums1: {}\".format(nums1))\r\n",
        "        return\r\n",
        "\r\n",
        "test = Solution()\r\n",
        "\r\n",
        "nums1 = [1,2,3,0,0,0]\r\n",
        "m = 3\r\n",
        "nums2 = [2,5,6]\r\n",
        "n = 3\r\n",
        "\r\n",
        "test.merge(nums1, m, nums2, n)\r\n",
        "print(nums1)"
      ],
      "execution_count": null,
      "outputs": [
        {
          "output_type": "stream",
          "text": [
            "---\n",
            "[0, 0, 0, 1, 2, 3]\n",
            "[1, 2, 2, 3, 5, 6]\n"
          ],
          "name": "stdout"
        }
      ]
    },
    {
      "cell_type": "markdown",
      "metadata": {
        "id": "yAb8lQwG7xFz"
      },
      "source": [
        "## Comments: \r\n",
        "\r\n",
        "1. 这个题里面要求直接在nums1里面修改，所以会有第一部分的code。 "
      ]
    },
    {
      "cell_type": "markdown",
      "metadata": {
        "id": "juEstzOYL4N_"
      },
      "source": [
        "# LeetCode 141. Linked List Cycle\r\n",
        "\r\n",
        "https://leetcode.com/problems/linked-list-cycle/\r\n",
        "\r\n",
        "Tag: Two pointers, Easy"
      ]
    },
    {
      "cell_type": "code",
      "metadata": {
        "id": "oshJ6qT5NhK2"
      },
      "source": [
        "# Definition for singly-linked list.\r\n",
        "# class ListNode:\r\n",
        "#     def __init__(self, x):\r\n",
        "#         self.val = x\r\n",
        "#         self.next = None\r\n",
        "\r\n",
        "class Solution:\r\n",
        "    def hasCycle(self, head: ListNode) -> bool:\r\n",
        "      # Corner case: linked list is none or just one node\r\n",
        "        if head == None or head.next == None:\r\n",
        "            return False\r\n",
        "        # both pointers start from head\r\n",
        "        slow = fast = head\r\n",
        "        while fast != None and fast.next != None:\r\n",
        "            slow = slow.next\r\n",
        "            fast = fast.next.next\r\n",
        "            # we find a node where fast = slow\r\n",
        "            if fast == slow:\r\n",
        "                break\r\n",
        "        # there are two cases for fast = slow\r\n",
        "        # case one: we reached to end of linked list\r\n",
        "        if fast == None or fast.next == None:\r\n",
        "            return False\r\n",
        "        # case two: it is a cycle\r\n",
        "        elif fast == slow:\r\n",
        "            return True\r\n",
        "\r\n",
        "        return False"
      ],
      "execution_count": null,
      "outputs": []
    },
    {
      "cell_type": "markdown",
      "metadata": {
        "id": "7fVId_KZTVmH"
      },
      "source": [
        "## Comments:\r\n",
        "\r\n",
        "1. 这是一个fast，slow pointer的题目。感觉对于linked list来说，应该只能采用这种类型的two pointers. "
      ]
    },
    {
      "cell_type": "markdown",
      "metadata": {
        "id": "cTP5V19OXef9"
      },
      "source": [
        "# LeetCode 283. Move Zeroes\r\n",
        "\r\n",
        "https://leetcode.com/problems/move-zeroes/\r\n",
        "\r\n",
        "Tag: Two pointers, Easy"
      ]
    },
    {
      "cell_type": "code",
      "metadata": {
        "id": "eVqpmZXnXmza",
        "colab": {
          "base_uri": "https://localhost:8080/"
        },
        "outputId": "2401ee86-ab1e-49a4-a516-1fccb1abb592"
      },
      "source": [
        "# one pointer solution\r\n",
        "class Solution:\r\n",
        "  def moveZeroes(self, nums):\r\n",
        "        \"\"\"\r\n",
        "        Do not return anything, modify nums in-place instead.\r\n",
        "        \"\"\"\r\n",
        "        count = 0\r\n",
        "        length = len(nums)\r\n",
        "        for i in range(length):\r\n",
        "            if nums[i] != 0:\r\n",
        "                nums[count] = nums[i]\r\n",
        "                count += 1\r\n",
        "        if count:\r\n",
        "            for i in range(count, length):\r\n",
        "                nums[i] = 0\r\n",
        "                \r\n",
        "test = Solution()\r\n",
        "# nums = [1,0,2,0,3,0]\r\n",
        "nums = [0,1,0,3,12]\r\n",
        "test.moveZeroes(nums)\r\n",
        "nums"
      ],
      "execution_count": 6,
      "outputs": [
        {
          "output_type": "execute_result",
          "data": {
            "text/plain": [
              "[1, 3, 12, 3, 12]"
            ]
          },
          "metadata": {
            "tags": []
          },
          "execution_count": 6
        }
      ]
    },
    {
      "cell_type": "markdown",
      "metadata": {
        "id": "I9u7v1p0dGH0"
      },
      "source": [
        "# LeetCode 344: Reverse String\r\n",
        "\r\n",
        "https://leetcode.com/problems/reverse-string/\r\n",
        "\r\n",
        "Tag: Two pointers, Easy"
      ]
    },
    {
      "cell_type": "code",
      "metadata": {
        "id": "1z--37EjdNVD",
        "colab": {
          "base_uri": "https://localhost:8080/"
        },
        "outputId": "f89a4a76-77c5-4ce7-a951-7815c2091793"
      },
      "source": [
        "class Solution:\r\n",
        "    def reverseString(self, s):\r\n",
        "        \"\"\"\r\n",
        "        Do not return anything, modify s in-place instead.\r\n",
        "        \"\"\"\r\n",
        "        if not s or len(s) <= 1:\r\n",
        "            return s\r\n",
        "        \r\n",
        "        lo = 0\r\n",
        "        hi = len(s)-1\r\n",
        "        \r\n",
        "        while lo < hi:\r\n",
        "            s[lo], s[hi] = s[hi], s[lo]\r\n",
        "            lo += 1\r\n",
        "            hi -= 1\r\n",
        "        return s\r\n",
        "\r\n",
        "test = Solution()\r\n",
        "s =  [\"h\",\"e\",\"l\",\"l\",\"o\"]\r\n",
        "test.reverseString(s)"
      ],
      "execution_count": null,
      "outputs": [
        {
          "output_type": "execute_result",
          "data": {
            "text/plain": [
              "['o', 'l', 'l', 'e', 'h']"
            ]
          },
          "metadata": {
            "tags": []
          },
          "execution_count": 4
        }
      ]
    },
    {
      "cell_type": "markdown",
      "metadata": {
        "id": "KO6bbhMdhoH7"
      },
      "source": [
        "# LeetCode 986. Interval List Intersections\r\n",
        "\r\n",
        "https://leetcode.com/problems/interval-list-intersections/\r\n",
        "\r\n",
        "Tag: Two pointers, medium"
      ]
    },
    {
      "cell_type": "code",
      "metadata": {
        "id": "2B31dFLEhuEz"
      },
      "source": [
        "class Solution:\r\n",
        "    def intervalIntersection(self, a, b):\r\n",
        "        \r\n",
        "        m = len(a)\r\n",
        "        n = len(b)\r\n",
        "        i = 0\r\n",
        "        j = 0\r\n",
        "        result = []\r\n",
        "        while i < m and j < n:\r\n",
        "            if b[j][0]<= a[i][1] <= b[j][1]:\r\n",
        "                result.append([max(a[i][0], b[j][0]), a[i][1]])\r\n",
        "                i += 1\r\n",
        "            elif a[i][0] <= b[j][1] <= a[i][1]:\r\n",
        "                result.append([max(a[i][0], b[j][0]), b[j][1]])\r\n",
        "                j += 1\r\n",
        "            elif a[i][1] < b[j][0]:\r\n",
        "                i += 1\r\n",
        "            else:\r\n",
        "                j += 1\r\n",
        "        return result\r\n"
      ],
      "execution_count": null,
      "outputs": []
    },
    {
      "cell_type": "markdown",
      "metadata": {
        "id": "-JN09FExkB98"
      },
      "source": [
        "## Comments: \r\n",
        "\r\n",
        "1. in general, there are four cases: \r\n",
        "\r\n",
        "a: [<code>&nbsp;</code>]\r\n",
        "\r\n",
        "b: <code>&nbsp;</code><code>&nbsp;</code><code>&nbsp;</code>[<code>&nbsp;</code>]\r\n",
        "\r\n",
        "**check next a**\r\n",
        "\r\n",
        "---\r\n",
        "a: <code>&nbsp;</code><code>&nbsp;</code><code>&nbsp;</code>[<code>&nbsp;</code>]\r\n",
        "\r\n",
        "b: [<code>&nbsp;</code>]\r\n",
        "\r\n",
        "**check next b**\r\n",
        "\r\n",
        "---\r\n",
        "a: <code>&nbsp;</code><code>&nbsp;</code>[<code>&nbsp;</code><code>&nbsp;</code><code>&nbsp;</code>]\r\n",
        "\r\n",
        "b: [<code>&nbsp;</code><code>&nbsp;</code><code>&nbsp;</code>]\r\n",
        "\r\n",
        "**return max(a[0],b[0]), b[1]**\r\n",
        "\r\n",
        "---\r\n",
        "\r\n",
        "a: [<code>&nbsp;</code><code>&nbsp;</code><code>&nbsp;</code>]\r\n",
        "\r\n",
        "b: <code>&nbsp;</code><code>&nbsp;</code>[<code>&nbsp;</code><code>&nbsp;</code><code>&nbsp;</code>]\r\n",
        "\r\n",
        "**return max(a[0], b[0]),  a[1]**\r\n"
      ]
    },
    {
      "cell_type": "code",
      "metadata": {
        "id": "b2rKkTntkoiE"
      },
      "source": [
        ""
      ],
      "execution_count": null,
      "outputs": []
    },
    {
      "cell_type": "markdown",
      "metadata": {
        "id": "Idy_HMRZLgiw"
      },
      "source": [
        "# LeetCode 101. Symmetric Tree\r\n",
        "\r\n",
        "https://leetcode.com/problems/symmetric-tree/\r\n",
        "\r\n",
        "Tag: DFS, Easy, Recursion"
      ]
    },
    {
      "cell_type": "code",
      "metadata": {
        "id": "fk4nu3iqLpFq"
      },
      "source": [
        "class Solution:\r\n",
        "    def isSymmetric(self, root: TreeNode) -> bool:\r\n",
        "        if root is None:\r\n",
        "            return True\r\n",
        "        \r\n",
        "        def helper(n1, n2):\r\n",
        "            \r\n",
        "            # Recursion exits 1: \r\n",
        "            # n1 == n2 == None\r\n",
        "            if n1 is None and n2 is None:\r\n",
        "                return True\r\n",
        "            \r\n",
        "            # Recursion exits 2: not balance --> return False\r\n",
        "            if (not n1 and n2) or (n1 and not n2):\r\n",
        "                return False\r\n",
        "            \r\n",
        "            # Recursion exits 3: two child nodes have leafs, but values are not equal --> return Flase\r\n",
        "            if n1.val != n2.val:\r\n",
        "                return False\r\n",
        "            \r\n",
        "            return helper(n1.right, n2.left) and helper(n1.left, n2.right)\r\n",
        "\r\n",
        "        return helper(root.left, root.right)"
      ],
      "execution_count": null,
      "outputs": []
    },
    {
      "cell_type": "markdown",
      "metadata": {
        "id": "vswyEmBoN8qu"
      },
      "source": [
        "## Comments:\r\n",
        "\r\n",
        "1. 递归三要素： \r\n",
        "\r\n",
        "    (1) 递归出口\r\n",
        "\r\n",
        "    (2) 递归公式\r\n",
        "\r\n",
        "    (3) 递归\r\n",
        "\r\n",
        "2. 这个题目里面有三个递归出口或者说base case\r\n",
        "\r\n",
        "    (1) n1 is None and n2 is None: 都到最末端了 -> True \r\n",
        "\r\n",
        "    (2) (not n1 and n2) or (n1 and not n2): 一个到最末端，一个没到 -> False\r\n",
        "\r\n",
        "    (3) n1.val != n2.val: 两个node的value不同 -> False"
      ]
    },
    {
      "cell_type": "markdown",
      "metadata": {
        "id": "Psr7MZzrQPFT"
      },
      "source": [
        "# LeetCode 17. Letter Combinations of a Phone Number\r\n",
        "\r\n",
        "https://leetcode.com/problems/letter-combinations-of-a-phone-number/\r\n",
        "\r\n",
        "Tag: DFS, Medium"
      ]
    },
    {
      "cell_type": "code",
      "metadata": {
        "id": "I6XyPX0oRAkG",
        "colab": {
          "base_uri": "https://localhost:8080/"
        },
        "outputId": "ec527bb1-2471-41d0-e325-8a0c6c3d5be9"
      },
      "source": [
        "class Solution(object):\r\n",
        "    def letterCombinations(self, digits):\r\n",
        "        \"\"\"\r\n",
        "        :type digits: str\r\n",
        "        :rtype: List[str]\r\n",
        "        \"\"\"\r\n",
        "        \r\n",
        "        if digits == \"\":\r\n",
        "            return []\r\n",
        "        \r\n",
        "        def getChars(d):\r\n",
        "            if d == '2':\r\n",
        "                return ['a', 'b', 'c']\r\n",
        "            elif d == '3':\r\n",
        "                return ['d', 'e', 'f']\r\n",
        "            elif d == '4':\r\n",
        "                return ['g', 'h', 'i']\r\n",
        "            elif d == '5':\r\n",
        "                return ['j', 'k', 'l']\r\n",
        "            elif d == '6':\r\n",
        "                return ['m', 'n', 'o']\r\n",
        "            elif d == '7':\r\n",
        "                return ['p', 'q', 'r', 's']\r\n",
        "            elif d == '8':\r\n",
        "                return ['t', 'u', 'v']\r\n",
        "            elif d == '9':\r\n",
        "                return ['w', 'x', 'y', 'z']\r\n",
        "                \r\n",
        "        # array is parent level char list\r\n",
        "        array = getChars(digits[0])\r\n",
        "        \r\n",
        "        if len(digits) == 1:\r\n",
        "            return array\r\n",
        "        \r\n",
        "        for d in digits[1:]:\r\n",
        "            chars = getChars(d)\r\n",
        "            # newArray is the child level char list\r\n",
        "            newArray = []\r\n",
        "            for a in array:\r\n",
        "                for c in chars:\r\n",
        "                    newArray.append(a+c)\r\n",
        "            array = newArray\r\n",
        "        return array\r\n",
        "\r\n",
        "test = Solution()\r\n",
        "digits = \"23\"\r\n",
        "test.letterCombinations(digits)"
      ],
      "execution_count": null,
      "outputs": [
        {
          "output_type": "execute_result",
          "data": {
            "text/plain": [
              "['ad', 'ae', 'af', 'bd', 'be', 'bf', 'cd', 'ce', 'cf']"
            ]
          },
          "metadata": {
            "tags": []
          },
          "execution_count": 1
        }
      ]
    },
    {
      "cell_type": "markdown",
      "metadata": {
        "id": "GKMhtWDOWde7"
      },
      "source": [
        "# LeetCode 104. Maximum Depth of Binary Tree\r\n",
        "\r\n",
        "https://leetcode.com/problems/maximum-depth-of-binary-tree/\r\n",
        "\r\n",
        "Tag: DFS, Tree, Easy"
      ]
    },
    {
      "cell_type": "code",
      "metadata": {
        "id": "FeO0ddUGWfox"
      },
      "source": [
        "# Definition for a binary tree node.\r\n",
        "# class TreeNode(object):\r\n",
        "#     def __init__(self, val=0, left=None, right=None):\r\n",
        "#         self.val = val\r\n",
        "#         self.left = left\r\n",
        "#         self.right = right\r\n",
        "class Solution(object):\r\n",
        "    def maxDepth(self, root):\r\n",
        "        \"\"\"\r\n",
        "        :type root: TreeNode\r\n",
        "        :rtype: int\r\n",
        "        \"\"\"\r\n",
        "        self._max_depth = 0\r\n",
        "        \r\n",
        "        def dfs(node, depth):\r\n",
        "            # base case\r\n",
        "            if not node.right and  not node.left:\r\n",
        "                self._max_depth = max(depth, self._max_depth)\r\n",
        "                return \r\n",
        "            else:\r\n",
        "                depth += 1\r\n",
        "                if node.right:\r\n",
        "                    dfs(node.right, depth)\r\n",
        "                if node.left:\r\n",
        "                    dfs(node.left, depth)\r\n",
        "        if root:\r\n",
        "            dfs(root, 1)\r\n",
        "        \r\n",
        "        return self._max_depth"
      ],
      "execution_count": null,
      "outputs": []
    },
    {
      "cell_type": "markdown",
      "metadata": {
        "id": "rD7EiPHYY4xc"
      },
      "source": [
        "# LeetCode 105. Construct Binary Tree from Preorder and Inorder Traversal\r\n",
        "\r\n",
        "https://leetcode.com/problems/construct-binary-tree-from-preorder-and-inorder-traversal/\r\n",
        "\r\n",
        "Tag: DFS, Tree, Medium"
      ]
    },
    {
      "cell_type": "code",
      "metadata": {
        "id": "xUgPjRCWZVYb"
      },
      "source": [
        "class Solution:\r\n",
        "    def buildTree(self, preorder: List[int], inorder: List[int]) -> TreeNode:\r\n",
        "        \r\n",
        "        if len(inorder) == 0:\r\n",
        "            return \r\n",
        "          \r\n",
        "        root_val = preorder.pop(0)\r\n",
        "        root =  TreeNode(root_val)\r\n",
        "        index_root = inorder.index(root_val)\r\n",
        "        \r\n",
        "        l_lst = inorder[:index_root:]\r\n",
        "        r_lst = inorder[index_root+1::]\r\n",
        "        \r\n",
        "        root.left = self.buildTree(preorder, l_lst)\r\n",
        "        root.right = self.buildTree(preorder, r_lst)\r\n",
        "        \r\n",
        "        \r\n",
        "        return root"
      ],
      "execution_count": null,
      "outputs": []
    },
    {
      "cell_type": "markdown",
      "metadata": {
        "id": "h2SFpxa5oVA9"
      },
      "source": [
        "# LeetCode 977. Squares of a Sorted Array\r\n",
        "\r\n",
        "https://leetcode.com/problems/squares-of-a-sorted-array/\r\n",
        "\r\n",
        "Tag: Two pointer\r\n"
      ]
    },
    {
      "cell_type": "code",
      "metadata": {
        "id": "18hvB3oZopNz",
        "outputId": "b5481a54-5c33-44b2-9ebe-6e7a7cce0095",
        "colab": {
          "base_uri": "https://localhost:8080/"
        }
      },
      "source": [
        "# class Solution:\r\n",
        "#     def sortedSquares(self, nums: List[int]) -> List[int]:\r\n",
        "#         if len(nums) == 0:\r\n",
        "#             return \r\n",
        "        \r\n",
        "#         start, end = 0, len(nums)-1\r\n",
        "#         output = [0 for _ in range(len(nums))]\r\n",
        "        \r\n",
        "#         for i in reversed(range(len(nums))):\r\n",
        "#             # only one item\r\n",
        "#             if start == end:\r\n",
        "#                 output[i] = nums[start]**2\r\n",
        "#             if nums[start] **2 < nums[end] **2:\r\n",
        "#                 output[i] = nums[end]**2\r\n",
        "#                 end -= 1\r\n",
        "#             else:\r\n",
        "#                 output[i] = nums[start]**2\r\n",
        "#                 start += 1\r\n",
        "        \r\n",
        "#         return output\r\n",
        "\r\n",
        "\r\n",
        "class Solution:\r\n",
        "    def sortedSquares(self, nums):\r\n",
        "        def squared(n):\r\n",
        "            return n*n\r\n",
        "        for i in range(0, len(nums)):\r\n",
        "\t\t\t# strores the sqared number in the same array\r\n",
        "            nums[i] = squared(nums[i])\r\n",
        "        return sorted(nums)\r\n",
        "\r\n",
        "test = Solution()\r\n",
        "a = [-4,-1,0,3,10]\r\n",
        "test.sortedSquares(a)"
      ],
      "execution_count": 2,
      "outputs": [
        {
          "output_type": "execute_result",
          "data": {
            "text/plain": [
              "[0, 1, 9, 16, 100]"
            ]
          },
          "metadata": {
            "tags": []
          },
          "execution_count": 2
        }
      ]
    },
    {
      "cell_type": "markdown",
      "metadata": {
        "id": "Vk6CUgOEp6gI"
      },
      "source": [
        "# LeetCode 1213. Intersection of Three Sorted Arrays\r\n",
        "\r\n",
        "https://leetcode.com/problems/intersection-of-three-sorted-arrays/\r\n",
        "\r\n",
        "Tag: Two pointers"
      ]
    },
    {
      "cell_type": "code",
      "metadata": {
        "id": "mSCb__oXp8-d",
        "outputId": "bde6a751-54ae-4d8c-fdbf-ddc8882b8c59",
        "colab": {
          "base_uri": "https://localhost:8080/"
        }
      },
      "source": [
        "class Solution:\r\n",
        "    def arraysIntersection(self, arr1, arr2, arr3):\r\n",
        "        i, j, k = 0, 0, 0\r\n",
        "        output = []\r\n",
        "        while i < len(arr1) and j < len(arr2) and k < len(arr3):\r\n",
        "            if arr1[i] == arr2[j] == arr3[k]:\r\n",
        "                output.append(arr1[i])\r\n",
        "                i += 1\r\n",
        "                j += 1\r\n",
        "                k += 1\r\n",
        "            elif arr1[i] < arr2[j] or arr1[i] < arr3[k]:\r\n",
        "                i += 1\r\n",
        "            elif arr2[j] < arr1[i] or arr2[j] < arr3[k]:\r\n",
        "                j += 1\r\n",
        "            elif arr3[k] < arr1[i] or arr3[k] < arr2[j]:\r\n",
        "                k += 1\r\n",
        "        return output\r\n",
        "\r\n",
        "test = Solution()\r\n",
        "a = [1,2,3,4,5]\r\n",
        "b = [1,2,5,7,9]\r\n",
        "c = [1,3,4,5,8]\r\n",
        "test.arraysIntersection(a, b, c)"
      ],
      "execution_count": 3,
      "outputs": [
        {
          "output_type": "execute_result",
          "data": {
            "text/plain": [
              "[1, 5]"
            ]
          },
          "metadata": {
            "tags": []
          },
          "execution_count": 3
        }
      ]
    },
    {
      "cell_type": "markdown",
      "metadata": {
        "id": "f7Wx1WJVqWHv"
      },
      "source": [
        "# LeetCode 1099. Two Sum Less Than K\r\n",
        "\r\n",
        "https://leetcode.com/problems/two-sum-less-than-k/\r\n",
        "\r\n",
        "Tag: Two pointers"
      ]
    },
    {
      "cell_type": "code",
      "metadata": {
        "id": "PXAUSnwcqUbD"
      },
      "source": [
        "# easy to understand but will cost extra space\r\n",
        "\r\n",
        "class Solution:\r\n",
        "    def twoSumLessThanK(self, nums: List[int], k: int) -> int:\r\n",
        "        if not nums:\r\n",
        "            return -1\r\n",
        "        \r\n",
        "        nums.sort()\r\n",
        "        \r\n",
        "        left, right = 0, len(nums) - 1\r\n",
        "        \r\n",
        "        sum_list = []\r\n",
        "        \r\n",
        "        while left < right: \r\n",
        "            if nums[left] + nums[right] < k:\r\n",
        "                sum_list.append(nums[left] + nums[right])\r\n",
        "                left += 1\r\n",
        "            elif nums[left] + nums[right] >= k:\r\n",
        "                right -= 1\r\n",
        "        \r\n",
        "        print(sum_list)\r\n",
        "        if len(sum_list) == 0:\r\n",
        "            return -1\r\n",
        "        else:\r\n",
        "            return max(sum_list)"
      ],
      "execution_count": null,
      "outputs": []
    },
    {
      "cell_type": "code",
      "metadata": {
        "id": "_znfy1Og1BdW"
      },
      "source": [
        "# same idea but save space for max\r\n",
        "\r\n",
        "class Solution:\r\n",
        "    def twoSumLessThanK(self, nums: List[int], k: int) -> int:\r\n",
        "        response, left, right = float('-inf'), 0, len(nums)-1\r\n",
        "        nums.sort()\r\n",
        "        while left < right:\r\n",
        "            total = nums[left] + nums[right]\r\n",
        "            if total < k:\r\n",
        "                response = max(response, total)\r\n",
        "                left += 1\r\n",
        "            else:\r\n",
        "                right -= 1\r\n",
        "        return -1 if response == float('-inf') else response"
      ],
      "execution_count": null,
      "outputs": []
    }
  ]
}