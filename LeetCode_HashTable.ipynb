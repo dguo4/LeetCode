{
  "nbformat": 4,
  "nbformat_minor": 0,
  "metadata": {
    "colab": {
      "name": "LeetCode_HashTable.ipynb",
      "provenance": [],
      "authorship_tag": "ABX9TyNpBTHvd63koMCr5A1EoOa7",
      "include_colab_link": true
    },
    "kernelspec": {
      "name": "python3",
      "display_name": "Python 3"
    }
  },
  "cells": [
    {
      "cell_type": "markdown",
      "metadata": {
        "id": "view-in-github",
        "colab_type": "text"
      },
      "source": [
        "<a href=\"https://colab.research.google.com/github/dguo4/LeetCode/blob/master/LeetCode_HashTable.ipynb\" target=\"_parent\"><img src=\"https://colab.research.google.com/assets/colab-badge.svg\" alt=\"Open In Colab\"/></a>"
      ]
    },
    {
      "cell_type": "markdown",
      "metadata": {
        "id": "gS_XIvai3fpZ"
      },
      "source": [
        "LeetCode771. Jewels and Stones\n",
        "\n",
        "https://leetcode.com/problems/jewels-and-stones/\n",
        "\n",
        "Tag: "
      ]
    },
    {
      "cell_type": "code",
      "metadata": {
        "id": "ld6STr5424XG"
      },
      "source": [
        "class Solution:\n",
        "    def numJewelsInStones(self, jewels: str, stones: str) -> int:\n",
        "        if len(jewels) == 0 or len(stones) == 0:\n",
        "            return 0 \n",
        "        \n",
        "        stones_dict = collections.Counter(stones)\n",
        "        result = 0\n",
        "        \n",
        "        \n",
        "        for k in stones_dict.keys():\n",
        "            if k in jewels:\n",
        "                result += stones_dict[k]\n",
        "                \n",
        "        return result"
      ],
      "execution_count": null,
      "outputs": []
    },
    {
      "cell_type": "markdown",
      "metadata": {
        "id": "V8SJnBZy3rn8"
      },
      "source": [
        "LeetCode1512. Number of Good Pairs\n",
        "\n",
        "https://leetcode.com/problems/number-of-good-pairs/\n",
        "\n",
        "Tag: "
      ]
    },
    {
      "cell_type": "code",
      "metadata": {
        "id": "gm0E2xto3zff"
      },
      "source": [
        "class Solution:\n",
        "    def numIdenticalPairs(self, nums: List[int]) -> int:\n",
        "        if len(nums) < 2:\n",
        "            return 0\n",
        "        \n",
        "        result = 0\n",
        "        \n",
        "        for i in range(len(nums)-1):\n",
        "            for j in range(i+1, len(nums)):\n",
        "                if nums[i] == nums[j]:\n",
        "                    result += 1\n",
        "                    # print(i, ' ', j)\n",
        "        \n",
        "        return result"
      ],
      "execution_count": null,
      "outputs": []
    },
    {
      "cell_type": "markdown",
      "metadata": {
        "id": "sGJsJ0Ca31_D"
      },
      "source": [
        "LeetCode1365. How Many Numbers Are Smaller Than the Current Number\n",
        "\n",
        "https://leetcode.com/problems/how-many-numbers-are-smaller-than-the-current-number/\n",
        "\n",
        "Tag:"
      ]
    },
    {
      "cell_type": "code",
      "metadata": {
        "id": "sE-0o6vj37-D"
      },
      "source": [
        "class Solution:\n",
        "    def smallerNumbersThanCurrent(self, nums: List[int]) -> List[int]:\n",
        "        if len(nums) == 0:\n",
        "            return \n",
        "        \n",
        "        nums_dict = dict(sorted(collections.Counter(nums).items())) \n",
        "        # dict(sorted(d.items(), key=lambda item: item[0])) # sort a dictionary by key\n",
        "        # dict(sorted(d.items(), key=lambda item: item[1])) # sort a dictionary by value\n",
        "        # print(nums_dict)\n",
        "        nums_dict_key = list(nums_dict.keys())\n",
        "        \n",
        "        for i in range(len(nums_dict)):\n",
        "            k = nums_dict_key[i]\n",
        "            if i == 0:\n",
        "                nums_dict[k] = [nums_dict[k], 0]\n",
        "            else:\n",
        "                prev_k = nums_dict_key[i-1]\n",
        "                nums_dict[k] = [nums_dict[k], nums_dict[prev_k][0]+nums_dict[prev_k][1]]\n",
        "        # print(nums_dict)\n",
        "        result = [nums_dict[nums[i]][1] for i in range(len(nums))]\n",
        "\n",
        "        return result \n"
      ],
      "execution_count": null,
      "outputs": []
    },
    {
      "cell_type": "markdown",
      "metadata": {
        "id": "jCocLGLr3_cJ"
      },
      "source": [
        "LeetCode 760. Find Anagram Mappings\n",
        "\n",
        "https://leetcode.com/problems/find-anagram-mappings/\n",
        "\n",
        "Tag: "
      ]
    },
    {
      "cell_type": "code",
      "metadata": {
        "id": "oEUO0jy94FEk"
      },
      "source": [
        "class Solution:\n",
        "    def anagramMappings(self, A: List[int], B: List[int]) -> List[int]:\n",
        "        if len(A) == 0 or len(B) == 0:\n",
        "            return 0\n",
        "        \n",
        "        result = []\n",
        "        B_dict = {}\n",
        "        \n",
        "        # build the index dictionary\n",
        "        for idx, b in enumerate(B):\n",
        "            if b not in B_dict:\n",
        "                B_dict[b] = []\n",
        "                B_dict[b].append(idx)\n",
        "            else:\n",
        "                B_dict[b].append(idx)\n",
        "        \n",
        "        # print(B_dict)\n",
        "        \n",
        "        # walk through A\n",
        "        for a in A:\n",
        "            result.append(B_dict[a].pop())\n",
        "                \n",
        "        return result"
      ],
      "execution_count": null,
      "outputs": []
    },
    {
      "cell_type": "markdown",
      "metadata": {
        "id": "GJpSt9NX4Kru"
      },
      "source": [
        "LeetCode 1213. Intersection of Three Sorted Arrays\n",
        "\n",
        "https://leetcode.com/problems/intersection-of-three-sorted-arrays/\n",
        "\n",
        "Tag: HashTable, Two Pointers, Facebook"
      ]
    },
    {
      "cell_type": "code",
      "metadata": {
        "id": "5pK6FrOx4HO-"
      },
      "source": [
        "class Solution:\n",
        "    def arraysIntersection(self, arr1: List[int], arr2: List[int], arr3: List[int]) -> List[int]:\n",
        "        mix_array = arr1 + arr2 + arr3\n",
        "        mix_dict = collections.Counter(mix_array)\n",
        "        \n",
        "        result = []\n",
        "        \n",
        "        for k in mix_dict.keys():\n",
        "            if mix_dict[k] == 3:\n",
        "                result.append(k)\n",
        "        \n",
        "        return result "
      ],
      "execution_count": null,
      "outputs": []
    },
    {
      "cell_type": "markdown",
      "metadata": {
        "id": "M4jceE_KE_wD"
      },
      "source": [
        "LeetCode 1086. High Five\n",
        "\n",
        "https://leetcode.com/problems/high-five/\n",
        "\n",
        "Tag: HashTable, Sort, Amazon"
      ]
    },
    {
      "cell_type": "code",
      "metadata": {
        "id": "hcjDiNa9FACx"
      },
      "source": [
        "class Solution:\n",
        "    def highFive(self, items: List[List[int]]) -> List[List[int]]:\n",
        "        items_dict = {}\n",
        "        \n",
        "        for i in items:\n",
        "            if i[0] not in items_dict:\n",
        "                items_dict[i[0]] = []\n",
        "            items_dict[i[0]].append(i[1])\n",
        "        \n",
        "        # print(items_dict)\n",
        "        \n",
        "        result  = []\n",
        "        for k in items_dict.keys():\n",
        "            result.append([k, int(sum(sorted(items_dict[k],reverse=True)[:5])/5)])\n",
        "\n",
        "        return sorted(result)\n",
        "            "
      ],
      "execution_count": null,
      "outputs": []
    },
    {
      "cell_type": "markdown",
      "metadata": {
        "id": "txnvp7J0FLJV"
      },
      "source": [
        "LeetCode 1748. Sum of Unique Elements\n",
        "\n",
        "https://leetcode.com/problems/sum-of-unique-elements/\n",
        "\n",
        "Tag: HashTable, Facebook"
      ]
    },
    {
      "cell_type": "code",
      "metadata": {
        "id": "TPiqk2yHFLcW"
      },
      "source": [
        "class Solution:\n",
        "    def sumOfUnique(self, nums: List[int]) -> int:\n",
        "        nums_dict = collections.Counter(nums)\n",
        "        \n",
        "        result = 0\n",
        "        \n",
        "        for k in nums_dict.keys():\n",
        "            if nums_dict[k] == 1:\n",
        "                result += k\n",
        "        \n",
        "        return result "
      ],
      "execution_count": null,
      "outputs": []
    },
    {
      "cell_type": "markdown",
      "metadata": {
        "id": "2fJM2M5PFXdE"
      },
      "source": [
        "LeetCode 961. N-Repeated Element in Size 2N Array\n",
        "\n",
        "https://leetcode.com/problems/n-repeated-element-in-size-2n-array/\n",
        "\n",
        "Tag:HashTable"
      ]
    },
    {
      "cell_type": "code",
      "metadata": {
        "id": "dQjOVFPoFXyX"
      },
      "source": [
        "class Solution:\n",
        "    def repeatedNTimes(self, A: List[int]) -> int:\n",
        "        A_list = collections.Counter(A)\n",
        "        N = len(A)/2\n",
        "        \n",
        "        for k in A_list.keys():\n",
        "            if A_list[k] == N:\n",
        "                return k"
      ],
      "execution_count": null,
      "outputs": []
    },
    {
      "cell_type": "markdown",
      "metadata": {
        "id": "mPnJg3msXBgb"
      },
      "source": [
        "LeetCode 1160. Find Words That Can Be Formed by Characters\n",
        "\n",
        "https://leetcode.com/problems/find-words-that-can-be-formed-by-characters/\n",
        "\n",
        "Tag: HashTable, "
      ]
    },
    {
      "cell_type": "code",
      "metadata": {
        "id": "Wet7J0aLXHre"
      },
      "source": [
        "class Solution:\n",
        "    def countCharacters(self, words: List[str], chars: str) -> int:\n",
        "        result = 0\n",
        "        \n",
        "        for word in words:\n",
        "            chars_list = list(chars)\n",
        "            flag = True\n",
        "            for w in word:\n",
        "                if w in chars_list:\n",
        "                    chars_list.remove(w)\n",
        "                else:\n",
        "                    flag = False\n",
        "            if flag:\n",
        "                result += len(word)\n",
        "        \n",
        "        return result"
      ],
      "execution_count": null,
      "outputs": []
    },
    {
      "cell_type": "markdown",
      "metadata": {
        "id": "aZh_aZ1WXTZW"
      },
      "source": [
        "LeetCode 1133. Largest Unique Number\n",
        "\n",
        "https://leetcode.com/problems/largest-unique-number/\n",
        "\n",
        "Tag: HashTable"
      ]
    },
    {
      "cell_type": "code",
      "metadata": {
        "id": "XZMm_pQyXXdQ"
      },
      "source": [
        "class Solution:\n",
        "    def largestUniqueNumber(self, A: List[int]) -> int:\n",
        "        A_dict = collections.Counter(A)\n",
        "        max_a = float('-inf')\n",
        "        for k in A_dict.keys():\n",
        "            if A_dict[k] == 1:\n",
        "                max_a = max(max_a, k)\n",
        "        if max_a == float('-inf'):\n",
        "            return -1\n",
        "        else:\n",
        "            return max_a"
      ],
      "execution_count": null,
      "outputs": []
    },
    {
      "cell_type": "markdown",
      "metadata": {
        "id": "aSQZ2eELXa16"
      },
      "source": [
        "LeetCode 463. Island Perimeter\n",
        "\n",
        "https://leetcode.com/problems/island-perimeter/\n",
        "\n",
        "Tag: HashTable"
      ]
    },
    {
      "cell_type": "code",
      "metadata": {
        "id": "3Ed7nCtSXlZT"
      },
      "source": [
        "class Solution:\n",
        "    def islandPerimeter(self, grid: List[List[int]]) -> int:\n",
        "        result = 0\n",
        "        m = len(grid)\n",
        "        n = len(grid[0])\n",
        "        movement = [[-1,0],[1,0],[0,1],[0,-1]]\n",
        "        \n",
        "        for i in range(m):\n",
        "            for j in range(n):\n",
        "                if grid[i][j] == 1:\n",
        "                    for move in movement:\n",
        "                        new_i = i + move[0]\n",
        "                        new_j = j + move[1]\n",
        "                        # print(new_i, new_j)\n",
        "                        # two cases：1. out of boundary; 2. next to sea\n",
        "                        if new_i < 0 or new_j < 0 or new_i >= m or new_j >= n or grid[new_i][new_j] == 0:\n",
        "                            result += 1\n",
        "        \n",
        "        return result"
      ],
      "execution_count": null,
      "outputs": []
    },
    {
      "cell_type": "markdown",
      "metadata": {
        "id": "Off11uAvXo62"
      },
      "source": [
        "LeetCode 136. Single Number\n",
        "\n",
        "https://leetcode.com/problems/single-number/\n",
        "\n",
        "Tag: HashTable"
      ]
    },
    {
      "cell_type": "code",
      "metadata": {
        "id": "jZ3t62VEXy3E"
      },
      "source": [
        "class Solution:\n",
        "    def singleNumber(self, nums: List[int]) -> int:\n",
        "        nums_dict = collections.Counter(nums)\n",
        "        \n",
        "        for k in nums_dict.keys():\n",
        "            if nums_dict[k] == 1:\n",
        "                return k"
      ],
      "execution_count": null,
      "outputs": []
    },
    {
      "cell_type": "markdown",
      "metadata": {
        "id": "ddDCRq6uX1fK"
      },
      "source": [
        "LeetCode 500. Keyboard Row\n",
        "\n",
        "https://leetcode.com/problems/keyboard-row/\n",
        "\n",
        "Tag: HashTable"
      ]
    },
    {
      "cell_type": "code",
      "metadata": {
        "id": "YuQ3jZ2KX-aI"
      },
      "source": [
        "class Solution:\n",
        "    def findWords(self, words: List[str]) -> List[str]:\n",
        "        first_row = 'qwertyuiopQWERTYUIOP'\n",
        "        second_row = 'asdfghjklASDFGHJKL'\n",
        "        third_row = 'zxcvbnmZXCVBNM'\n",
        "        \n",
        "        result = []\n",
        "        row = 0\n",
        "        \n",
        "        for word in words:\n",
        "            word_list = list(word)\n",
        "            if word_list[0] in first_row:\n",
        "                row = 1\n",
        "            elif word_list[0] in second_row:\n",
        "                row = 2\n",
        "            elif word_list[0] in third_row:\n",
        "                row = 3\n",
        "            flag = True\n",
        "            for w in word_list: \n",
        "                if w in first_row and row != 1:\n",
        "                    flag = False\n",
        "                    break\n",
        "                elif w in second_row and row != 2:\n",
        "                    flag = False\n",
        "                    break\n",
        "                elif w in third_row and row != 3:\n",
        "                    flag = False\n",
        "                    break\n",
        "                    \n",
        "            if flag:\n",
        "                result.append(word)\n",
        "        return result                    "
      ],
      "execution_count": null,
      "outputs": []
    },
    {
      "cell_type": "markdown",
      "metadata": {
        "id": "irgK0k_WYE1Y"
      },
      "source": [
        "LeetCode 349. Intersection of Two Arrays\n",
        "\n",
        "https://leetcode.com/problems/intersection-of-two-arrays/\n",
        "\n",
        "Tag: HashTable"
      ]
    },
    {
      "cell_type": "code",
      "metadata": {
        "id": "wl9OmLtWYKMX"
      },
      "source": [
        "class Solution:\n",
        "    def intersection(self, nums1: List[int], nums2: List[int]) -> List[int]:\n",
        "        if len(nums1) == 0 or len(nums2) == 0:\n",
        "            return []\n",
        "        \n",
        "        nums1.sort()\n",
        "        print(nums1)\n",
        "        nums2.sort()\n",
        "        \n",
        "        i = j = 0\n",
        "        result = []\n",
        "        \n",
        "        while i < len(nums1) and j < len(nums2):\n",
        "            if nums1[i] == nums2[j]:\n",
        "                result.append(nums1[i])\n",
        "                i += 1\n",
        "                j += 1\n",
        "            elif nums1[i] < nums2[j]:\n",
        "                i += 1\n",
        "            elif nums1[i] > nums2[j]:\n",
        "                j += 1\n",
        "        \n",
        "        return list(set(result))"
      ],
      "execution_count": null,
      "outputs": []
    },
    {
      "cell_type": "markdown",
      "metadata": {
        "id": "AAaYUN3FapaR"
      },
      "source": [
        "LeetCode 1078. Occurrences After Bigram\n",
        "\n",
        "https://leetcode.com/problems/occurrences-after-bigram/\n",
        "\n",
        "Tag: HashTable, Google"
      ]
    },
    {
      "cell_type": "code",
      "metadata": {
        "id": "SHjk8IzWaqOt"
      },
      "source": [
        "class Solution:\n",
        "    def findOcurrences(self, text: str, first: str, second: str) -> List[str]:\n",
        "        text_list = text.split(' ')\n",
        "        # print(text_list)\n",
        "        \n",
        "        \n",
        "        result = []\n",
        "        \n",
        "        for i in range(len(text_list)-2):\n",
        "            if text_list[i] == first and text_list[i+1] == second:\n",
        "                result.append(text_list[i+2])\n",
        "        return result"
      ],
      "execution_count": null,
      "outputs": []
    },
    {
      "cell_type": "markdown",
      "metadata": {
        "id": "1vNV_gOSa2_Q"
      },
      "source": [
        "LeetCode 575. Distribute Candies\n",
        "\n",
        "https://leetcode.com/problems/distribute-candies/\n",
        "\n",
        "Tag: HashTable"
      ]
    },
    {
      "cell_type": "code",
      "metadata": {
        "id": "DFoVT0vpeh6p"
      },
      "source": [
        "# my own solution but not that fast\n",
        "\n",
        "class Solution:\n",
        "    def distributeCandies(self, candyType: List[int]) -> int:\n",
        "        candyType_dict = collections.Counter(candyType)\n",
        "        candyType_sorted_dict =dict(sorted(candyType_dict.items(), key=lambda item: item[1]))\n",
        "        # print(candyType_sorted_dict)\n",
        "        \n",
        "        candy = len(candyType)/2\n",
        "        candy_type = []\n",
        "        for k in candyType_sorted_dict.keys():\n",
        "            if candy > 0:\n",
        "                candy -= 1\n",
        "                candy_type.append(k)\n",
        "            else:\n",
        "                break\n",
        "        # print(candy_type)\n",
        "        return len(set(candy_type))"
      ],
      "execution_count": null,
      "outputs": []
    },
    {
      "cell_type": "code",
      "metadata": {
        "id": "M9OWb1Drelfd"
      },
      "source": [
        "# online answer, much faster\n",
        "\n",
        "class Solution:\n",
        "    def distributeCandies(self, candyType: List[int]) -> int:\n",
        "        if len(candyType) / 2 >= len(set(candyType)):\n",
        "            return len(set(candyType))\n",
        "        else:\n",
        "            return int(len(candyType) / 2)\n",
        "\n"
      ],
      "execution_count": null,
      "outputs": []
    },
    {
      "cell_type": "markdown",
      "metadata": {
        "id": "NcGQ33iBe-qQ"
      },
      "source": [
        "LeetCode 884. Uncommon Words from Two Sentences\n",
        "\n",
        "https://leetcode.com/problems/uncommon-words-from-two-sentences/\n",
        "\n",
        "Tag: HashTable"
      ]
    },
    {
      "cell_type": "code",
      "metadata": {
        "id": "wC4ej5qKfEed"
      },
      "source": [
        "class Solution:\n",
        "    def uncommonFromSentences(self, A: str, B: str) -> List[str]:\n",
        "        A_dict = collections.Counter(A.split(' '))\n",
        "        B_dict = collections.Counter(B.split(' '))\n",
        "        \n",
        "        # print(new_A_dict)\n",
        "        \n",
        "        result = set()\n",
        "        \n",
        "        for k in A_dict.keys():\n",
        "            if k not in B_dict.keys() and A_dict[k] == 1:\n",
        "                    result.add(k)\n",
        "                    \n",
        "        for k in B_dict.keys():\n",
        "            if k not in A_dict.keys() and B_dict[k] == 1:\n",
        "                    result.add(k)\n",
        "        \n",
        "        return result"
      ],
      "execution_count": null,
      "outputs": []
    },
    {
      "cell_type": "markdown",
      "metadata": {
        "id": "q0t5L3zzxLYF"
      },
      "source": [
        "LeetCode 266. Palindrome Permutation\n",
        "\n",
        "https://leetcode.com/problems/palindrome-permutation/\n",
        "\n",
        "Tag: HashTable, Google, Bloomberg, Uber"
      ]
    },
    {
      "cell_type": "code",
      "metadata": {
        "id": "uABWNYAhxQsQ"
      },
      "source": [
        "class Solution:\n",
        "    def canPermutePalindrome(self, s: str) -> bool:\n",
        "        s_dict = collections.Counter(s)\n",
        "        \n",
        "        count = 0\n",
        "        \n",
        "        for k in s_dict.keys():\n",
        "            if s_dict[k] % 2 == 0:\n",
        "                continue\n",
        "            else:\n",
        "                count+= 1\n",
        "            if count > 1:\n",
        "                return False\n",
        "        \n",
        "        return True"
      ],
      "execution_count": null,
      "outputs": []
    },
    {
      "cell_type": "markdown",
      "metadata": {
        "id": "dYXgxPmI3A9a"
      },
      "source": [
        "LeetCode 1189. Maximum Number of Balloons\n",
        "\n",
        "https://leetcode.com/problems/maximum-number-of-balloons/\n",
        "\n",
        "Tag: HashTable, Wayfair"
      ]
    },
    {
      "cell_type": "code",
      "metadata": {
        "id": "eDTyEKyr3HSE"
      },
      "source": [
        "class Solution:\n",
        "    def maxNumberOfBalloons(self, text: str) -> int:\n",
        "        text_dict = collections.Counter(text)\n",
        "        \n",
        "        result = float('inf')\n",
        "        target = {'b':1, 'a':1, 'l':2, 'o':2, 'n':1}\n",
        "        # print(text_dict)\n",
        "        for t in target.keys():\n",
        "            # 根本就没有这个字符，那么肯定是0\n",
        "            if t not in text_dict.keys():\n",
        "                result = 0\n",
        "            # 有这个字符，但是没有那么多个，所以也是零\n",
        "            elif t in text_dict.keys() and text_dict[t] - target[t] < 0:\n",
        "                result = 0\n",
        "            # 有这个字符，而且有足够的位数去形成一个单词\n",
        "            elif t in text_dict.keys() and text_dict[t] - target[t] >= 0:\n",
        "                result = min(result, int(text_dict[t]/target[t]))\n",
        "        \n",
        "        return result"
      ],
      "execution_count": null,
      "outputs": []
    },
    {
      "cell_type": "markdown",
      "metadata": {
        "id": "MkPnJNjbmUNl"
      },
      "source": [
        "LeetCode 1640. Check Array Formation Through Concatenation\n",
        "\n",
        "https://leetcode.com/problems/check-array-formation-through-concatenation/\n",
        "\n",
        "Tag: HashTable"
      ]
    },
    {
      "cell_type": "code",
      "metadata": {
        "id": "V-T1dtuGmaPI"
      },
      "source": [
        "class Solution:\n",
        "    def canFormArray(self, arr: List[int], pieces: List[List[int]]) -> bool:\n",
        "        p_dict = {}\n",
        "        for p in pieces:\n",
        "            p_dict[p[0]] = p\n",
        "            \n",
        "        result = []\n",
        "        \n",
        "        for a in arr:\n",
        "            if a in p_dict.keys():\n",
        "                result += p_dict[a]\n",
        "        \n",
        "        return result == arr"
      ],
      "execution_count": null,
      "outputs": []
    },
    {
      "cell_type": "markdown",
      "metadata": {
        "id": "_4wte_ADZlio"
      },
      "source": [
        "LeetCode 690. Employee Importance\n",
        "\n",
        "https://leetcode.com/problems/employee-importance/\n",
        "\n",
        "Tag: DFS"
      ]
    },
    {
      "cell_type": "code",
      "metadata": {
        "id": "srlKW-mvRpUq"
      },
      "source": [
        "\"\"\"\n",
        "# Definition for Employee.\n",
        "class Employee:\n",
        "    def __init__(self, id: int, importance: int, subordinates: List[int]):\n",
        "        self.id = id\n",
        "        self.importance = importance\n",
        "        self.subordinates = subordinates\n",
        "\"\"\"\n",
        "\n",
        "class Solution:\n",
        "    def getImportance(self, employees: List['Employee'], id: int) -> int:\n",
        "        emp_dict = {e.id: e for e in employees}\n",
        "        def dfs(e_id):\n",
        "            imp = emp_dict[e_id].importance\n",
        "            for s in emp_dict[e_id].subordinates:\n",
        "                imp += dfs(s)\n",
        "            return imp\n",
        "    \n",
        "        return dfs(id)"
      ],
      "execution_count": null,
      "outputs": []
    },
    {
      "cell_type": "markdown",
      "metadata": {
        "id": "kz9WpDM1R4gC"
      },
      "source": [
        "LeetCode 242. Valid Anagram\n",
        "\n",
        "https://leetcode.com/problems/valid-anagram/\n",
        "\n",
        "Tag: HashTable, Sort, Amazon, Uber, Yelp"
      ]
    },
    {
      "cell_type": "code",
      "metadata": {
        "id": "ixxyAFLeR4PG"
      },
      "source": [
        "class Solution:\n",
        "    def isAnagram(self, s: str, t: str) -> bool:\n",
        "        s_dict = collections.Counter(s)\n",
        "        t_dict = collections.Counter(t)\n",
        "        \n",
        "        if len(s_dict) != len(t_dict):\n",
        "            return False\n",
        "        else:\n",
        "            for k in s_dict.keys():\n",
        "                if s_dict[k] != t_dict[k]:\n",
        "                    return False\n",
        "        \n",
        "        return True"
      ],
      "execution_count": null,
      "outputs": []
    },
    {
      "cell_type": "markdown",
      "metadata": {
        "id": "OWIFVl15SE-f"
      },
      "source": [
        "LeetCode 389. Find the Difference\n",
        "\n",
        "https://leetcode.com/problems/find-the-difference/\n",
        "\n",
        "Tag: HashTable, Google"
      ]
    },
    {
      "cell_type": "code",
      "metadata": {
        "id": "NV_W5afcSMDG"
      },
      "source": [
        "class Solution:\n",
        "    def findTheDifference(self, s: str, t: str) -> str:\n",
        "        if len(s) == 0:\n",
        "            return t\n",
        "        \n",
        "        s_dict = collections.Counter(s)\n",
        "        t_dict = collections.Counter(t)\n",
        "        \n",
        "        for k in t_dict.keys():\n",
        "            if k not in s_dict.keys():\n",
        "                return k\n",
        "            elif t_dict[k] != s_dict[k]:\n",
        "                return k"
      ],
      "execution_count": null,
      "outputs": []
    },
    {
      "cell_type": "markdown",
      "metadata": {
        "id": "8Zs2UVOjUHID"
      },
      "source": [
        "LeetCode 748. Shortest Completing Word\n",
        "\n",
        "https://leetcode.com/problems/shortest-completing-word/\n",
        "\n",
        "Tag: Arry, Google"
      ]
    },
    {
      "cell_type": "code",
      "metadata": {
        "id": "eo9wGak7UHcM"
      },
      "source": [
        "class Solution:\n",
        "    def shortestCompletingWord(self, licensePlate: str, words: List[str]) -> str:\n",
        "        plate = temp = \"\"\n",
        "        valid = []\n",
        "        validword = True\n",
        "\t\t#this loop is extracting only the letters from the license plate\n",
        "\t\t#it's also converting the uppercase letters to lowercase ones at the same time\n",
        "        for letter in licensePlate:\n",
        "            if letter.isalpha():\n",
        "                plate += letter.lower()  \n",
        "        # print(plate)\n",
        "\t\t#this loop iterates through the words list and only adds the words that contain all letters of the plate to an array called 'valid'\n",
        "\t\t#if a word is invalid, the loop skips it with a 'continue' statement\n",
        "        \n",
        "        for word in words:\n",
        "            temp = word\n",
        "            for l in plate:\n",
        "                if l in temp:\n",
        "                    temp = temp.replace(l,\"\",1)\n",
        "                else:\n",
        "                    validword = False\n",
        "                    break\n",
        "            if validword:\n",
        "                valid.append(word)\n",
        "            else:\n",
        "                validword = True\n",
        "\t\t#our valid words are then sorted by length, and we return the first once (the shortest)\n",
        "        valid = sorted(valid, key=len)\n",
        "        # print(valid)\n",
        "        return valid[0]"
      ],
      "execution_count": null,
      "outputs": []
    },
    {
      "cell_type": "markdown",
      "metadata": {
        "id": "t2_D404dUIdh"
      },
      "source": [
        "Comments:\n",
        "\n",
        "1. sort a list by its values' length: \n",
        "\n",
        "    a = sorted(a, key=len)"
      ]
    },
    {
      "cell_type": "markdown",
      "metadata": {
        "id": "p3_TvsOjX1pk"
      },
      "source": [
        "LeetCode 217. Contains Duplicate\n",
        "\n",
        "https://leetcode.com/problems/contains-duplicate/\n",
        "\n",
        "Tag: HashTable, Airbnb, Yahoo"
      ]
    },
    {
      "cell_type": "code",
      "metadata": {
        "id": "HTufDPWkX2Hn"
      },
      "source": [
        "class Solution:\n",
        "    def containsDuplicate(self, nums: List[int]) -> bool:\n",
        "        nums_dict = collections.Counter(nums)\n",
        "        \n",
        "        for k in nums_dict.keys():\n",
        "            if nums_dict[k] >= 2:\n",
        "                return True\n",
        "        \n",
        "        return False"
      ],
      "execution_count": null,
      "outputs": []
    },
    {
      "cell_type": "markdown",
      "metadata": {
        "id": "R7ENXWyBX_jS"
      },
      "source": [
        "LeetCode 1539. Kth Missing Positive Number\n",
        "\n",
        "https://leetcode.com/problems/kth-missing-positive-number/submissions/\n",
        "\n",
        "Tag: Binary search, Microsoft\n"
      ]
    },
    {
      "cell_type": "code",
      "metadata": {
        "id": "ayYRApERcHaX"
      },
      "source": [
        "# my initial answer, o(n)\n",
        "\n",
        "class Solution:\n",
        "    def findKthPositive(self, arr: List[int], k: int) -> int:\n",
        "        i = 1\n",
        "        miss_count = 0\n",
        "        while miss_count < k:\n",
        "            if i in arr:\n",
        "                i += 1\n",
        "            else:\n",
        "                miss_count += 1\n",
        "                i += 1\n",
        "        return i-1\n",
        "            "
      ],
      "execution_count": null,
      "outputs": []
    },
    {
      "cell_type": "code",
      "metadata": {
        "id": "FhTGwfAmcLAY"
      },
      "source": [
        "# better solution using binary search, o(logn)\n",
        "# binary search里面不一定完全按照九章的模板走。有的时候，模板可能会把自己搞晕。 \n",
        "# 其次，binary search的时候，不一定是用数组本身去满足大于，小于，等于的条件，也有可能要构建自己的变量\n",
        "class Solution:\n",
        "    def findKthPositive(self, arr: List[int], k: int) -> int:\n",
        "        left, right = 0, len(arr)\n",
        "        while left < right:\n",
        "            mid = (left + right)//2\n",
        "            missing_on_left = arr[mid] - mid - 1\n",
        "            if missing_on_left < k:\n",
        "                left = mid + 1\n",
        "            else:\n",
        "                right = mid \n",
        "        \n",
        "        return k + left\n",
        "            \n",
        "            "
      ],
      "execution_count": null,
      "outputs": []
    },
    {
      "cell_type": "markdown",
      "metadata": {
        "id": "AgtIiTBeiJIj"
      },
      "source": [
        "LeetCode 387. First Unique Character in a String\n",
        "\n",
        "https://leetcode.com/problems/first-unique-character-in-a-string/\n",
        "\n",
        "Tag: HashTable, Microsoft, Amazon, Bloomberg"
      ]
    },
    {
      "cell_type": "code",
      "metadata": {
        "id": "Tm8JQZitiIwt"
      },
      "source": [
        "class Solution:\n",
        "    def firstUniqChar(self, s: str) -> int:\n",
        "        s_dict = collections.Counter(s)\n",
        "        for i in range(len(s)):\n",
        "            if s_dict[s[i]] == 1:\n",
        "                return i\n",
        "        return -1"
      ],
      "execution_count": null,
      "outputs": []
    },
    {
      "cell_type": "markdown",
      "metadata": {
        "id": "ljZK4wvTsl61"
      },
      "source": [
        "LeetCode 409. Longest Palindrome\n",
        "\n",
        "https://leetcode.com/problems/longest-palindrome/\n",
        "\n",
        "Tag: HashTable, Google"
      ]
    },
    {
      "cell_type": "code",
      "metadata": {
        "id": "xspB7DSvsmUE"
      },
      "source": [
        "class Solution:\n",
        "    def longestPalindrome(self, s: str) -> int:\n",
        "        s_dict = collections.Counter(s)\n",
        "        \n",
        "        max_len = 0\n",
        "        str_w_odd = False\n",
        "        \n",
        "        for k in s_dict.keys():\n",
        "            if s_dict[k] % 2 == 0:\n",
        "                max_len += s_dict[k]\n",
        "            else:\n",
        "                str_w_odd = True\n",
        "                max_len += s_dict[k]-1\n",
        "        \n",
        "        return max_len + 1 if str_w_odd else max_len"
      ],
      "execution_count": null,
      "outputs": []
    },
    {
      "cell_type": "markdown",
      "metadata": {
        "id": "KptljOhrKeqj"
      },
      "source": [
        "LeetCode 350. Intersection of Two Arrays II\n",
        "\n",
        "https://leetcode.com/problems/intersection-of-two-arrays-ii/\n",
        "\n",
        "Tag: HashTable, Two Pointers"
      ]
    },
    {
      "cell_type": "code",
      "metadata": {
        "id": "Gp48XSIKKol_"
      },
      "source": [
        "# Two pointers\n",
        "\n",
        "class Solution:\n",
        "    def intersect(self, nums1: List[int], nums2: List[int]) -> List[int]:\n",
        "        if len(nums1) < 1 or len(nums2) < 1:\n",
        "            return \n",
        "        \n",
        "        i, j = 0, 0\n",
        "        \n",
        "        nums1.sort()\n",
        "        nums2.sort()\n",
        "        \n",
        "        output = []\n",
        "        \n",
        "        while i < len(nums1) and j < len(nums2):\n",
        "            if nums1[i] == nums2[j]:\n",
        "                output.append(nums1[i])\n",
        "                i += 1\n",
        "                j += 1\n",
        "            elif nums1[i] < nums2[j]:\n",
        "                i += 1\n",
        "            elif nums1[i] > nums2[j]:\n",
        "                j += 1\n",
        "        \n",
        "        return output"
      ],
      "execution_count": null,
      "outputs": []
    },
    {
      "cell_type": "code",
      "metadata": {
        "id": "DVk6rEfaKuJN"
      },
      "source": [
        "# HashTable\n",
        "\n",
        "class Solution:\n",
        "    def intersect(self, nums1: List[int], nums2: List[int]) -> List[int]:\n",
        "        return list((Counter(nums1) & Counter(nums2)).elements())"
      ],
      "execution_count": null,
      "outputs": []
    },
    {
      "cell_type": "markdown",
      "metadata": {
        "id": "dmGVAx7UVDC1"
      },
      "source": [
        "LeetCode 953. Verifying an Alien Dictionary\n",
        "\n",
        "https://leetcode.com/problems/verifying-an-alien-dictionary/\n",
        "\n",
        "Tag: HashTable, Facebook"
      ]
    },
    {
      "cell_type": "code",
      "metadata": {
        "id": "ztzTDX1_VDhs"
      },
      "source": [
        "class Solution:\n",
        "    def isAlienSorted(self, words: List[str], order: str) -> bool:\n",
        "        flag = True\n",
        "        for i in range(len(words)-1):\n",
        "            flag = self.compareTwoWord(words[i], words[i+1], order)\n",
        "            if not flag:\n",
        "                return False\n",
        "        return True\n",
        "        \n",
        "        \n",
        "    def compareTwoWord(self, word1, word2, order):\n",
        "        m = n = 0\n",
        "        while m < len(word1) and n < len(word2):\n",
        "            if order.index(word1[m]) == order.index(word2[n]):\n",
        "                m += 1\n",
        "                n += 1\n",
        "            elif order.index(word1[m]) > order.index(word2[n]):\n",
        "                return False\n",
        "            else:\n",
        "                return True\n",
        "        # corner cases\n",
        "        if len(word1) > len(word2):\n",
        "            return False\n",
        "        elif len(word1) <= len(word2):\n",
        "            return True\n"
      ],
      "execution_count": null,
      "outputs": []
    },
    {
      "cell_type": "markdown",
      "metadata": {
        "id": "w1c1vUEiVPPp"
      },
      "source": [
        "LeetCode 599. Minimum Index Sum of Two Lists\n",
        "\n",
        "https://leetcode.com/problems/minimum-index-sum-of-two-lists/\n",
        "\n",
        "Tag: HashTable, Yelp"
      ]
    },
    {
      "cell_type": "code",
      "metadata": {
        "id": "v62pLjClZ-0F"
      },
      "source": [
        "# my own answer. however, I think it is a little over-complex. \n",
        "\n",
        "class Solution:\n",
        "    def findRestaurant(self, list1: List[str], list2: List[str]) -> List[str]:\n",
        "        list1_dict = collections.defaultdict(int)\n",
        "        list2_dict = collections.defaultdict(int)\n",
        "        \n",
        "        for idx, val in enumerate(list1):\n",
        "            list1_dict[val] = idx\n",
        "        for idx, val in enumerate(list2):\n",
        "            list2_dict[val] = idx\n",
        "        \n",
        "        common_res = set(list1_dict.keys() ) & set(list2_dict.keys() )  \n",
        "        common_res_dict = collections.defaultdict(int)\n",
        "        for res in common_res:\n",
        "            common_res_dict[res] = list1_dict[res] + list2_dict[res]\n",
        "        \n",
        "        orded_common_res_dict = dict(sorted(common_res_dict.items(), key=lambda item: item[1]))\n",
        "        print(orded_common_res_dict)\n",
        "        min_sum_res = list(orded_common_res_dict.keys())[0]\n",
        "        min_sum_idx = orded_common_res_dict[min_sum_res]\n",
        "        result = []\n",
        "        \n",
        "        for k in orded_common_res_dict.keys():\n",
        "            if orded_common_res_dict[k] == min_sum_idx:\n",
        "                result.append(k)\n",
        "        return result\n",
        "            \n",
        "        "
      ],
      "execution_count": null,
      "outputs": []
    },
    {
      "cell_type": "markdown",
      "metadata": {
        "id": "TQ6_BGZAscmD"
      },
      "source": [
        "LeetCode 202. Happy Number\n",
        "\n",
        "https://leetcode.com/problems/happy-number/submissions/\n",
        "\n",
        "Tag: HashTable, Uber, Airbnb, Twitter"
      ]
    },
    {
      "cell_type": "code",
      "metadata": {
        "id": "GltgmLI4sq3j"
      },
      "source": [
        "class Solution:\n",
        "    def isHappy(self, n: int) -> bool:\n",
        "        if n == 1:\n",
        "            return True\n",
        "        \n",
        "        historical_nums = set()\n",
        "        historical_nums.add(n)\n",
        "        digit_sum = 0\n",
        "        while digit_sum != 1:\n",
        "            digit_sum = 0\n",
        "            # print(historical_nums)\n",
        "            for i in str(n):\n",
        "                digit_sum += int(i)**2\n",
        "            if digit_sum in historical_nums:\n",
        "                return False\n",
        "            else:\n",
        "                historical_nums.add(digit_sum)\n",
        "                n = digit_sum\n",
        "            \n",
        "        return True\n",
        "        \n",
        "        "
      ],
      "execution_count": null,
      "outputs": []
    },
    {
      "cell_type": "markdown",
      "metadata": {
        "id": "fxT02FGvs4Eg"
      },
      "source": [
        "LeetCode 594. Longest Harmonious Subsequence\n",
        "\n",
        "https://leetcode.com/problems/longest-harmonious-subsequence/\n",
        "\n",
        "Tag: HashTable"
      ]
    },
    {
      "cell_type": "code",
      "metadata": {
        "id": "v0g2tRX3s4ZV"
      },
      "source": [
        "class Solution:\n",
        "    def findLHS(self, nums: List[int]) -> int:\n",
        "        nums_dict = collections.Counter(nums)\n",
        "        # nums_dict = dict(sorted(d.items(), key=lambda item: item[0]))\n",
        "        \n",
        "        max_len = 0\n",
        "        \n",
        "        for k in nums_dict.keys():\n",
        "            if k+1 in nums_dict.keys():\n",
        "                max_len = max(max_len, nums_dict[k]+nums_dict[k+1])\n",
        "        \n",
        "        return max_len"
      ],
      "execution_count": null,
      "outputs": []
    },
    {
      "cell_type": "markdown",
      "metadata": {
        "id": "FruVlgrhtG_a"
      },
      "source": [
        "LeetCode 720. Longest Word in Dictionary\n",
        "\n",
        "https://leetcode.com/problems/longest-word-in-dictionary/\n",
        "\n",
        "Tag: "
      ]
    },
    {
      "cell_type": "code",
      "metadata": {
        "id": "mjdtRZzmtMey"
      },
      "source": [
        "# my 1st try. but is too slow\n",
        "\n",
        "class Solution:\n",
        "    def longestWord(self, words: List[str]) -> str:\n",
        "        sorted_words = sorted(words, key=len, reverse=True)\n",
        "        # print(sorted_words)\n",
        "        result = []\n",
        "        for word in sorted_words:\n",
        "            flag = True\n",
        "            for i in range(-len(word)+1,0):\n",
        "                # print(i)\n",
        "                if word[:i] in sorted_words:\n",
        "                    continue\n",
        "                else:\n",
        "                    flag = False\n",
        "                    break\n",
        "            if flag and (len(result) == 0 or len(word) >= len(result[-1])):\n",
        "                result.append(word)\n",
        "        \n",
        "        result.sort()\n",
        "        print(result)\n",
        "        return result[0]"
      ],
      "execution_count": null,
      "outputs": []
    },
    {
      "cell_type": "code",
      "metadata": {
        "id": "MBKMig7dtaax"
      },
      "source": [
        "# opposite thingk method: from shortest to longest\n",
        "class Solution:\n",
        "    def longestWord(self, words: List[str]) -> str:\n",
        "        if words is None or len(words)<1:\n",
        "            return \"\"\n",
        "        ans=''\n",
        "        # Creating set to maintain the prefixes encountered\n",
        "        prefixes=set()\n",
        "        prefixes.add(\"\")\n",
        "        size=0\n",
        "        # This sorts the words lexicographically\n",
        "        words.sort()\n",
        "        # Traversing all the words in the input\n",
        "        for word in words:\n",
        "            # Checking if their prefixes are previously encountered\n",
        "            if word[:-1] in prefixes:\n",
        "                # Since the prefix exists, I am updating the ans if current word's length is greater than the ans length\n",
        "                if len(word)>size:\n",
        "                    size=len(word)\n",
        "                    ans=word\n",
        "                # Adding the current word to the prefix set\n",
        "                prefixes.add(word)\n",
        "        \n",
        "        return ans"
      ],
      "execution_count": null,
      "outputs": []
    },
    {
      "cell_type": "markdown",
      "metadata": {
        "id": "rz-O7RE-5WUh"
      },
      "source": [
        "LeetCode 1. Two Sum\n",
        "\n",
        "https://leetcode.com/problems/two-sum/\n",
        "\n",
        "Tag: Two Pointers, HashTable, "
      ]
    },
    {
      "cell_type": "code",
      "metadata": {
        "id": "hvdCuaqz5m11"
      },
      "source": [
        "class Solution:\n",
        "    def twoSum(self, nums: List[int], target: int) -> List[int]:\n",
        "        for idx, val in enumerate(nums):\n",
        "            if target - val in nums and idx != nums.index(target-val):\n",
        "                return [idx, nums.index(target-val)]"
      ],
      "execution_count": null,
      "outputs": []
    },
    {
      "cell_type": "markdown",
      "metadata": {
        "id": "HtRuMOZRFBse"
      },
      "source": [
        "LeetCode 246. Strobogrammatic Number\n",
        "\n",
        "https://leetcode.com/problems/strobogrammatic-number/\n",
        "\n",
        "Tag: HashTable, Google"
      ]
    },
    {
      "cell_type": "code",
      "metadata": {
        "id": "Pl075gUpFIgu"
      },
      "source": [
        "class Solution:\n",
        "    def isStrobogrammatic(self, num: str) -> bool:\n",
        "        lookup = {\n",
        "            '1':'1',\n",
        "            '6':'9',\n",
        "            '8':'8',\n",
        "            '0':'0',\n",
        "            '9':'6'\n",
        "        }\n",
        "        \n",
        "        # if num in ['1', '8', '0']:\n",
        "        #     return True\n",
        "        # elif len(num) == 1:\n",
        "        #     return False\n",
        "        \n",
        "        left, right = 0, len(num) - 1\n",
        "        while left <= right:\n",
        "            if num[left] in lookup.keys() and lookup[num[left]] == num[right]:\n",
        "                left += 1\n",
        "                right -= 1\n",
        "            else:\n",
        "                return False\n",
        "        return True"
      ],
      "execution_count": null,
      "outputs": []
    },
    {
      "cell_type": "markdown",
      "metadata": {
        "id": "GoX49koaFLEe"
      },
      "source": [
        "Comment:\n",
        "\n",
        "做双指针的时候，一个关键的点在于选择left < right or left <= right。\n",
        "\n",
        "*   left < right: 无法解决只有一个元素的情况，而且无法解决left = right的情况，所以如果使用这个，需要再循环之后考虑left = right的情况。 \n",
        "*   left <= right: 会包含只有一个元素的情况，而且会考虑left = right的情况。 \n",
        "\n"
      ]
    },
    {
      "cell_type": "markdown",
      "metadata": {
        "id": "B_r4b4rgA1yZ"
      },
      "source": [
        "LeetCode 734. Sentence Similarity\n",
        "\n",
        "https://leetcode.com/problems/sentence-similarity/\n",
        "\n",
        "Tag: HashTable, Google"
      ]
    },
    {
      "cell_type": "code",
      "metadata": {
        "id": "XZAxoS87A2UK"
      },
      "source": [
        "class Solution:\n",
        "    def areSentencesSimilar(self, sentence1: List[str], sentence2: List[str], similarPairs: List[List[str]]) -> bool:\n",
        "        if len(sentence1) != len(sentence2):\n",
        "            return False\n",
        "        pair_dict = {}\n",
        "        \n",
        "        for p in similarPairs:\n",
        "            if p[0] not in pair_dict.keys():\n",
        "                pair_dict[p[0]] = [p[0]]\n",
        "                pair_dict[p[0]].append(p[1])\n",
        "            else:\n",
        "                pair_dict[p[0]].append(p[1])\n",
        "        \n",
        "        print(pair_dict)\n",
        "        \n",
        "        for s1, s2 in zip(sentence1, sentence2):\n",
        "            if (s1 in pair_dict.keys() and s2 in pair_dict[s1]) or (s2 in pair_dict.keys() and s1 in pair_dict[s2]) and s1 == s2:\n",
        "                continue\n",
        "            else:\n",
        "                # print(s1, ' , ', s2)\n",
        "                return False\n",
        "        \n",
        "        return True"
      ],
      "execution_count": null,
      "outputs": []
    },
    {
      "cell_type": "markdown",
      "metadata": {
        "id": "1PjELQnCKJcJ"
      },
      "source": [
        "LeetCode 645. Set Mismatch\n",
        "\n",
        "https://leetcode.com/problems/set-mismatch/\n",
        "\n",
        "Tag: HashTable, Amazon"
      ]
    },
    {
      "cell_type": "code",
      "metadata": {
        "id": "TeY4BhclKIPz"
      },
      "source": [
        "class Solution:\n",
        "    def findErrorNums(self, nums: List[int]) -> List[int]:\n",
        "        nums_dict = collections.Counter(nums)\n",
        "        \n",
        "        result = []\n",
        "        for k in nums_dict.keys():\n",
        "            if nums_dict[k] == 2:\n",
        "                result.append(k)\n",
        "                for i in range(1, max(nums)+2):\n",
        "                    if i not in nums_dict.keys():\n",
        "                        result.append(i)\n",
        "                        return result"
      ],
      "execution_count": null,
      "outputs": []
    },
    {
      "cell_type": "markdown",
      "metadata": {
        "id": "xfS8oZUdOp5m"
      },
      "source": [
        "LeetCode 205. Isomorphic Strings\n",
        "\n",
        "https://leetcode.com/problems/isomorphic-strings/\n",
        "\n",
        "Tag: HashTable, LinkedIn"
      ]
    },
    {
      "cell_type": "code",
      "metadata": {
        "id": "yTtSRNkcOqO-"
      },
      "source": [
        "class Solution:\n",
        "    def isIsomorphic(self, s: str, t: str) -> bool:\n",
        "        s_t_map  = {}\n",
        "        t_s_map = {}\n",
        "        flag = True\n",
        "        for ss, tt in zip(s, t):\n",
        "            if ss in s_t_map:\n",
        "                if s_t_map[ss] != tt:\n",
        "                    flag = False\n",
        "            else:\n",
        "                s_t_map[ss] = tt\n",
        "        \n",
        "        for ss, tt in zip(s, t):\n",
        "            if tt in t_s_map:\n",
        "                if t_s_map[tt] != ss:\n",
        "                    flag = False\n",
        "            else:\n",
        "                t_s_map[tt] = ss\n",
        "                \n",
        "        return flag"
      ],
      "execution_count": null,
      "outputs": []
    },
    {
      "cell_type": "markdown",
      "metadata": {
        "id": "miFyhMbSUekU"
      },
      "source": [
        "LeetCode 219. Contains Duplicate II\n",
        "\n",
        "https://leetcode.com/problems/contains-duplicate-ii/\n",
        "\n",
        "Tag: HashTable, Airbnb"
      ]
    },
    {
      "cell_type": "code",
      "metadata": {
        "id": "pmoOD90jUe5W"
      },
      "source": [
        "# my initial solution but running slow\n",
        "\n",
        "class Solution:\n",
        "    def containsNearbyDuplicate(self, nums: List[int], k: int) -> bool:\n",
        "        # find duplicate num first\n",
        "        nums_dict = collections.Counter(nums)\n",
        "        dup_nums = []\n",
        "        for key in nums_dict.keys():\n",
        "            if nums_dict[key] != 1:\n",
        "                dup_nums.append(key)\n",
        "        \n",
        "        # loop dup_nums\n",
        "        for num in dup_nums:\n",
        "            dup_nums_idx = []\n",
        "            for idx, val in enumerate(nums):\n",
        "                if val == num:\n",
        "                    dup_nums_idx.append(idx)\n",
        "            # print(dup_nums_idx)\n",
        "            for i in range(len(dup_nums_idx)-1):\n",
        "                if (dup_nums_idx[i+1] - dup_nums_idx[i]) <= k:\n",
        "                    return True\n",
        "        \n",
        "        return False"
      ],
      "execution_count": null,
      "outputs": []
    },
    {
      "cell_type": "code",
      "metadata": {
        "id": "Y3fa7mH5VcR9"
      },
      "source": [
        "# good solution that treat interval as a whole. not like my solution, doing the calculation\n",
        "# one by one, which is very slow. \n",
        "\n",
        "class Solution:\n",
        "    def containsNearbyDuplicate(self, nums: List[int], k: int) -> bool:\n",
        "        if len(nums) == len(set(nums)):\n",
        "            return False\n",
        "\n",
        "        if len(nums) <= k + 1:  # k is big enough to cover the whole list\n",
        "            return True\n",
        "\n",
        "        for i in range(len(nums) - k):\n",
        "            if len(nums[i:(i + k + 1)]) != len(set(nums[i:(i + k + 1)])):\n",
        "                return True\n",
        "\n",
        "        return False"
      ],
      "execution_count": null,
      "outputs": []
    },
    {
      "cell_type": "markdown",
      "metadata": {
        "id": "igTBgNWoV2rm"
      },
      "source": [
        "Comments:\n",
        "\n",
        "如何整体地去思考一个问题，而不是被问题“误导”到具体的一个个计算是需要提高的地方。 比如这个题，我就是一个个去找，从duplicate开始，然后不停地做循环。\n",
        "\n",
        "而更好的做法则是以k为区间长度去遍历整个数组，这样更快。 "
      ]
    },
    {
      "cell_type": "markdown",
      "metadata": {
        "id": "Fd885dkgPSN5"
      },
      "source": [
        "LeetCode 290. Word Pattern\n",
        "\n",
        "https://leetcode.com/problems/word-pattern/\n",
        "\n",
        "Tag: HashTable, Uber, Yelp"
      ]
    },
    {
      "cell_type": "code",
      "metadata": {
        "id": "-piB1VSyPe1s"
      },
      "source": [
        "class Solution:\n",
        "    def wordPattern(self, pattern: str, s: str) -> bool:\n",
        "        s_list = s.split(' ')\n",
        "        if len(pattern) != len(s_list):\n",
        "            return False\n",
        "        \n",
        "        # print(s_list)\n",
        "        p_s_dict = {}\n",
        "        s_p_dict = {}\n",
        "        \n",
        "        for p, ss in zip(pattern, s_list):\n",
        "            if p not in p_s_dict.keys():\n",
        "                p_s_dict[p] = ss\n",
        "            else:\n",
        "                if p_s_dict[p] != ss:\n",
        "                    return False\n",
        "                \n",
        "            if ss not in s_p_dict.keys():\n",
        "                s_p_dict[ss] = p\n",
        "            else:\n",
        "                if s_p_dict[ss] != p:\n",
        "                    return False\n",
        "        return True"
      ],
      "execution_count": null,
      "outputs": []
    },
    {
      "cell_type": "markdown",
      "metadata": {
        "id": "nhNbG7JdTjqH"
      },
      "source": [
        "LeetCode 204. Count Primes\n",
        "\n",
        "https://leetcode.com/problems/count-primes/\n",
        "\n",
        "Tag: Math, Microsoft, Amazon"
      ]
    },
    {
      "cell_type": "code",
      "metadata": {
        "id": "-LTKb6TzTj8l"
      },
      "source": [
        "# o(n^2) solution will definately TNE\n",
        "\n",
        "class Solution:\n",
        "#     def countPrimes(self, n: int) -> int:\n",
        "#         result = []\n",
        "#         if n < 2:\n",
        "#             return 0\n",
        "#         for i in range(2,n):\n",
        "#             flag = True\n",
        "#             for j in range(1,int(i**0.5)+1):\n",
        "#                 if i % j == 0 and j != 1:\n",
        "#                     flag = False\n",
        "#                     break\n",
        "#             if flag:\n",
        "#                 result.append(i)\n",
        "        \n",
        "#         # print(result)\n",
        "        \n",
        "#         return len(result)\n"
      ],
      "execution_count": null,
      "outputs": []
    },
    {
      "cell_type": "code",
      "metadata": {
        "id": "PI_EkFEoU1CP"
      },
      "source": [
        "class Solution:\n",
        "    def countPrimes(self, n: int) -> int:\n",
        "        \n",
        "        if n<2:\n",
        "            return 0\n",
        "        \n",
        "        s = [1]*n\n",
        "        \n",
        "        s[0]=s[1]=0\n",
        "        \n",
        "        for i in range(2,int(n**0.5)+1):\n",
        "            if s[i]:\n",
        "                for j in range(i*i,n,i):\n",
        "                    s[j] = 0\n",
        "        \n",
        "        return sum(s)"
      ],
      "execution_count": null,
      "outputs": []
    }
  ]
}