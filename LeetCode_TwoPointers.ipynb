{
  "nbformat": 4,
  "nbformat_minor": 0,
  "metadata": {
    "colab": {
      "name": "LeetCode_TwoPointers.ipynb",
      "provenance": [],
      "authorship_tag": "ABX9TyNZfe7muH4BhRh6wRl3MWdM",
      "include_colab_link": true
    },
    "kernelspec": {
      "name": "python3",
      "display_name": "Python 3"
    }
  },
  "cells": [
    {
      "cell_type": "markdown",
      "metadata": {
        "id": "view-in-github",
        "colab_type": "text"
      },
      "source": [
        "<a href=\"https://colab.research.google.com/github/dguo4/LeetCode/blob/master/LeetCode_TwoPointers.ipynb\" target=\"_parent\"><img src=\"https://colab.research.google.com/assets/colab-badge.svg\" alt=\"Open In Colab\"/></a>"
      ]
    },
    {
      "cell_type": "markdown",
      "metadata": {
        "id": "M1U2A3chGYzv"
      },
      "source": [
        "LeetCode 1570. Dot Product of Two Sparse Vectors\r\n",
        "\r\n",
        "https://leetcode.com/problems/dot-product-of-two-sparse-vectors/\r\n",
        "\r\n",
        "Tag: Two pointers, sparce matrix"
      ]
    },
    {
      "cell_type": "code",
      "metadata": {
        "id": "pyaE0sqzGvm8"
      },
      "source": [
        "class SparseVector:\r\n",
        "    def __init__(self, nums: List[int]):\r\n",
        "        nums_dict ={}\r\n",
        "        if nums: \r\n",
        "            for key, val in enumerate(nums):\r\n",
        "                nums_dict[key] = val\r\n",
        "        self.nums = nums_dict\r\n",
        "    # Return the dotProduct of two sparse vectors\r\n",
        "    def dotProduct(self, vec: 'SparseVector') -> int:\r\n",
        "        result = 0\r\n",
        "        if len(self.nums) < len(vec.nums):\r\n",
        "            for k in self.nums.keys():\r\n",
        "                if k in vec.nums.keys():\r\n",
        "                    result += self.nums[k]*vec.nums[k]\r\n",
        "        else:\r\n",
        "            for k in vec.nums.keys():\r\n",
        "                if k in self.nums.keys():\r\n",
        "                    result += self.nums[k]*vec.nums[k]      \r\n",
        "        return result\r\n",
        "# Your SparseVector object will be instantiated and called as such:\r\n",
        "# v1 = SparseVector(nums1)\r\n",
        "# v2 = SparseVector(nums2)\r\n",
        "# ans = v1.dotProduct(v2)"
      ],
      "execution_count": null,
      "outputs": []
    }
  ]
}