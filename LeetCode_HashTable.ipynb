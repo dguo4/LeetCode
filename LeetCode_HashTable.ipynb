{
  "nbformat": 4,
  "nbformat_minor": 0,
  "metadata": {
    "colab": {
      "name": "LeetCode_HashTable.ipynb",
      "provenance": [],
      "authorship_tag": "ABX9TyOwF7Tq8fTeOLyDY5F8TnjV",
      "include_colab_link": true
    },
    "kernelspec": {
      "name": "python3",
      "display_name": "Python 3"
    }
  },
  "cells": [
    {
      "cell_type": "markdown",
      "metadata": {
        "id": "view-in-github",
        "colab_type": "text"
      },
      "source": [
        "<a href=\"https://colab.research.google.com/github/dguo4/LeetCode/blob/master/LeetCode_HashTable.ipynb\" target=\"_parent\"><img src=\"https://colab.research.google.com/assets/colab-badge.svg\" alt=\"Open In Colab\"/></a>"
      ]
    },
    {
      "cell_type": "markdown",
      "metadata": {
        "id": "gS_XIvai3fpZ"
      },
      "source": [
        "LeetCode771. Jewels and Stones\n",
        "\n",
        "https://leetcode.com/problems/jewels-and-stones/\n",
        "\n",
        "Tag: "
      ]
    },
    {
      "cell_type": "code",
      "metadata": {
        "id": "ld6STr5424XG"
      },
      "source": [
        "class Solution:\n",
        "    def numJewelsInStones(self, jewels: str, stones: str) -> int:\n",
        "        if len(jewels) == 0 or len(stones) == 0:\n",
        "            return 0 \n",
        "        \n",
        "        stones_dict = collections.Counter(stones)\n",
        "        result = 0\n",
        "        \n",
        "        \n",
        "        for k in stones_dict.keys():\n",
        "            if k in jewels:\n",
        "                result += stones_dict[k]\n",
        "                \n",
        "        return result"
      ],
      "execution_count": null,
      "outputs": []
    },
    {
      "cell_type": "markdown",
      "metadata": {
        "id": "V8SJnBZy3rn8"
      },
      "source": [
        "LeetCode1512. Number of Good Pairs\n",
        "\n",
        "https://leetcode.com/problems/number-of-good-pairs/\n",
        "\n",
        "Tag: "
      ]
    },
    {
      "cell_type": "code",
      "metadata": {
        "id": "gm0E2xto3zff"
      },
      "source": [
        "class Solution:\n",
        "    def numIdenticalPairs(self, nums: List[int]) -> int:\n",
        "        if len(nums) < 2:\n",
        "            return 0\n",
        "        \n",
        "        result = 0\n",
        "        \n",
        "        for i in range(len(nums)-1):\n",
        "            for j in range(i+1, len(nums)):\n",
        "                if nums[i] == nums[j]:\n",
        "                    result += 1\n",
        "                    # print(i, ' ', j)\n",
        "        \n",
        "        return result"
      ],
      "execution_count": null,
      "outputs": []
    },
    {
      "cell_type": "markdown",
      "metadata": {
        "id": "sGJsJ0Ca31_D"
      },
      "source": [
        "LeetCode1365. How Many Numbers Are Smaller Than the Current Number\n",
        "\n",
        "https://leetcode.com/problems/how-many-numbers-are-smaller-than-the-current-number/\n",
        "\n",
        "Tag:"
      ]
    },
    {
      "cell_type": "code",
      "metadata": {
        "id": "sE-0o6vj37-D"
      },
      "source": [
        "class Solution:\n",
        "    def smallerNumbersThanCurrent(self, nums: List[int]) -> List[int]:\n",
        "        if len(nums) == 0:\n",
        "            return \n",
        "        \n",
        "        nums_dict = dict(sorted(collections.Counter(nums).items())) \n",
        "        # dict(sorted(d.items(), key=lambda item: item[0])) # sort a dictionary by key\n",
        "        # dict(sorted(d.items(), key=lambda item: item[1])) # sort a dictionary by value\n",
        "        # print(nums_dict)\n",
        "        nums_dict_key = list(nums_dict.keys())\n",
        "        \n",
        "        for i in range(len(nums_dict)):\n",
        "            k = nums_dict_key[i]\n",
        "            if i == 0:\n",
        "                nums_dict[k] = [nums_dict[k], 0]\n",
        "            else:\n",
        "                prev_k = nums_dict_key[i-1]\n",
        "                nums_dict[k] = [nums_dict[k], nums_dict[prev_k][0]+nums_dict[prev_k][1]]\n",
        "        # print(nums_dict)\n",
        "        result = [nums_dict[nums[i]][1] for i in range(len(nums))]\n",
        "\n",
        "        return result \n"
      ],
      "execution_count": null,
      "outputs": []
    },
    {
      "cell_type": "markdown",
      "metadata": {
        "id": "jCocLGLr3_cJ"
      },
      "source": [
        "LeetCode 760. Find Anagram Mappings\n",
        "\n",
        "https://leetcode.com/problems/find-anagram-mappings/\n",
        "\n",
        "Tag: "
      ]
    },
    {
      "cell_type": "code",
      "metadata": {
        "id": "oEUO0jy94FEk"
      },
      "source": [
        "class Solution:\n",
        "    def anagramMappings(self, A: List[int], B: List[int]) -> List[int]:\n",
        "        if len(A) == 0 or len(B) == 0:\n",
        "            return 0\n",
        "        \n",
        "        result = []\n",
        "        B_dict = {}\n",
        "        \n",
        "        # build the index dictionary\n",
        "        for idx, b in enumerate(B):\n",
        "            if b not in B_dict:\n",
        "                B_dict[b] = []\n",
        "                B_dict[b].append(idx)\n",
        "            else:\n",
        "                B_dict[b].append(idx)\n",
        "        \n",
        "        # print(B_dict)\n",
        "        \n",
        "        # walk through A\n",
        "        for a in A:\n",
        "            result.append(B_dict[a].pop())\n",
        "                \n",
        "        return result"
      ],
      "execution_count": null,
      "outputs": []
    },
    {
      "cell_type": "markdown",
      "metadata": {
        "id": "GJpSt9NX4Kru"
      },
      "source": [
        "LeetCode 1213. Intersection of Three Sorted Arrays\n",
        "\n",
        "https://leetcode.com/problems/intersection-of-three-sorted-arrays/\n",
        "\n",
        "Tag: HashTable, Two Pointers, Facebook"
      ]
    },
    {
      "cell_type": "code",
      "metadata": {
        "id": "5pK6FrOx4HO-"
      },
      "source": [
        "class Solution:\n",
        "    def arraysIntersection(self, arr1: List[int], arr2: List[int], arr3: List[int]) -> List[int]:\n",
        "        mix_array = arr1 + arr2 + arr3\n",
        "        mix_dict = collections.Counter(mix_array)\n",
        "        \n",
        "        result = []\n",
        "        \n",
        "        for k in mix_dict.keys():\n",
        "            if mix_dict[k] == 3:\n",
        "                result.append(k)\n",
        "        \n",
        "        return result "
      ],
      "execution_count": null,
      "outputs": []
    },
    {
      "cell_type": "markdown",
      "metadata": {
        "id": "M4jceE_KE_wD"
      },
      "source": [
        "LeetCode 1086. High Five\n",
        "\n",
        "https://leetcode.com/problems/high-five/\n",
        "\n",
        "Tag: HashTable, Sort, Amazon"
      ]
    },
    {
      "cell_type": "code",
      "metadata": {
        "id": "hcjDiNa9FACx"
      },
      "source": [
        "class Solution:\n",
        "    def highFive(self, items: List[List[int]]) -> List[List[int]]:\n",
        "        items_dict = {}\n",
        "        \n",
        "        for i in items:\n",
        "            if i[0] not in items_dict:\n",
        "                items_dict[i[0]] = []\n",
        "            items_dict[i[0]].append(i[1])\n",
        "        \n",
        "        # print(items_dict)\n",
        "        \n",
        "        result  = []\n",
        "        for k in items_dict.keys():\n",
        "            result.append([k, int(sum(sorted(items_dict[k],reverse=True)[:5])/5)])\n",
        "\n",
        "        return sorted(result)\n",
        "            "
      ],
      "execution_count": null,
      "outputs": []
    },
    {
      "cell_type": "markdown",
      "metadata": {
        "id": "txnvp7J0FLJV"
      },
      "source": [
        "LeetCode 1748. Sum of Unique Elements\n",
        "\n",
        "https://leetcode.com/problems/sum-of-unique-elements/\n",
        "\n",
        "Tag: HashTable, Facebook"
      ]
    },
    {
      "cell_type": "code",
      "metadata": {
        "id": "TPiqk2yHFLcW"
      },
      "source": [
        "class Solution:\n",
        "    def sumOfUnique(self, nums: List[int]) -> int:\n",
        "        nums_dict = collections.Counter(nums)\n",
        "        \n",
        "        result = 0\n",
        "        \n",
        "        for k in nums_dict.keys():\n",
        "            if nums_dict[k] == 1:\n",
        "                result += k\n",
        "        \n",
        "        return result "
      ],
      "execution_count": null,
      "outputs": []
    },
    {
      "cell_type": "markdown",
      "metadata": {
        "id": "2fJM2M5PFXdE"
      },
      "source": [
        "LeetCode 961. N-Repeated Element in Size 2N Array\n",
        "\n",
        "https://leetcode.com/problems/n-repeated-element-in-size-2n-array/\n",
        "\n",
        "Tag:HashTable"
      ]
    },
    {
      "cell_type": "code",
      "metadata": {
        "id": "dQjOVFPoFXyX"
      },
      "source": [
        "class Solution:\n",
        "    def repeatedNTimes(self, A: List[int]) -> int:\n",
        "        A_list = collections.Counter(A)\n",
        "        N = len(A)/2\n",
        "        \n",
        "        for k in A_list.keys():\n",
        "            if A_list[k] == N:\n",
        "                return k"
      ],
      "execution_count": null,
      "outputs": []
    },
    {
      "cell_type": "markdown",
      "metadata": {
        "id": "mPnJg3msXBgb"
      },
      "source": [
        "LeetCode 1160. Find Words That Can Be Formed by Characters\n",
        "\n",
        "https://leetcode.com/problems/find-words-that-can-be-formed-by-characters/\n",
        "\n",
        "Tag: HashTable, "
      ]
    },
    {
      "cell_type": "code",
      "metadata": {
        "id": "Wet7J0aLXHre"
      },
      "source": [
        "class Solution:\n",
        "    def countCharacters(self, words: List[str], chars: str) -> int:\n",
        "        result = 0\n",
        "        \n",
        "        for word in words:\n",
        "            chars_list = list(chars)\n",
        "            flag = True\n",
        "            for w in word:\n",
        "                if w in chars_list:\n",
        "                    chars_list.remove(w)\n",
        "                else:\n",
        "                    flag = False\n",
        "            if flag:\n",
        "                result += len(word)\n",
        "        \n",
        "        return result"
      ],
      "execution_count": null,
      "outputs": []
    },
    {
      "cell_type": "markdown",
      "metadata": {
        "id": "aZh_aZ1WXTZW"
      },
      "source": [
        "LeetCode 1133. Largest Unique Number\n",
        "\n",
        "https://leetcode.com/problems/largest-unique-number/\n",
        "\n",
        "Tag: HashTable"
      ]
    },
    {
      "cell_type": "code",
      "metadata": {
        "id": "XZMm_pQyXXdQ"
      },
      "source": [
        "class Solution:\n",
        "    def largestUniqueNumber(self, A: List[int]) -> int:\n",
        "        A_dict = collections.Counter(A)\n",
        "        max_a = float('-inf')\n",
        "        for k in A_dict.keys():\n",
        "            if A_dict[k] == 1:\n",
        "                max_a = max(max_a, k)\n",
        "        if max_a == float('-inf'):\n",
        "            return -1\n",
        "        else:\n",
        "            return max_a"
      ],
      "execution_count": null,
      "outputs": []
    },
    {
      "cell_type": "markdown",
      "metadata": {
        "id": "aSQZ2eELXa16"
      },
      "source": [
        "LeetCode 463. Island Perimeter\n",
        "\n",
        "https://leetcode.com/problems/island-perimeter/\n",
        "\n",
        "Tag: HashTable"
      ]
    },
    {
      "cell_type": "code",
      "metadata": {
        "id": "3Ed7nCtSXlZT"
      },
      "source": [
        "class Solution:\n",
        "    def islandPerimeter(self, grid: List[List[int]]) -> int:\n",
        "        result = 0\n",
        "        m = len(grid)\n",
        "        n = len(grid[0])\n",
        "        movement = [[-1,0],[1,0],[0,1],[0,-1]]\n",
        "        \n",
        "        for i in range(m):\n",
        "            for j in range(n):\n",
        "                if grid[i][j] == 1:\n",
        "                    for move in movement:\n",
        "                        new_i = i + move[0]\n",
        "                        new_j = j + move[1]\n",
        "                        # print(new_i, new_j)\n",
        "                        # two cases：1. out of boundary; 2. next to sea\n",
        "                        if new_i < 0 or new_j < 0 or new_i >= m or new_j >= n or grid[new_i][new_j] == 0:\n",
        "                            result += 1\n",
        "        \n",
        "        return result"
      ],
      "execution_count": null,
      "outputs": []
    },
    {
      "cell_type": "markdown",
      "metadata": {
        "id": "Off11uAvXo62"
      },
      "source": [
        "LeetCode 136. Single Number\n",
        "\n",
        "https://leetcode.com/problems/single-number/\n",
        "\n",
        "Tag: HashTable"
      ]
    },
    {
      "cell_type": "code",
      "metadata": {
        "id": "jZ3t62VEXy3E"
      },
      "source": [
        "class Solution:\n",
        "    def singleNumber(self, nums: List[int]) -> int:\n",
        "        nums_dict = collections.Counter(nums)\n",
        "        \n",
        "        for k in nums_dict.keys():\n",
        "            if nums_dict[k] == 1:\n",
        "                return k"
      ],
      "execution_count": null,
      "outputs": []
    },
    {
      "cell_type": "markdown",
      "metadata": {
        "id": "ddDCRq6uX1fK"
      },
      "source": [
        "LeetCode 500. Keyboard Row\n",
        "\n",
        "https://leetcode.com/problems/keyboard-row/\n",
        "\n",
        "Tag: HashTable"
      ]
    },
    {
      "cell_type": "code",
      "metadata": {
        "id": "YuQ3jZ2KX-aI"
      },
      "source": [
        "class Solution:\n",
        "    def findWords(self, words: List[str]) -> List[str]:\n",
        "        first_row = 'qwertyuiopQWERTYUIOP'\n",
        "        second_row = 'asdfghjklASDFGHJKL'\n",
        "        third_row = 'zxcvbnmZXCVBNM'\n",
        "        \n",
        "        result = []\n",
        "        row = 0\n",
        "        \n",
        "        for word in words:\n",
        "            word_list = list(word)\n",
        "            if word_list[0] in first_row:\n",
        "                row = 1\n",
        "            elif word_list[0] in second_row:\n",
        "                row = 2\n",
        "            elif word_list[0] in third_row:\n",
        "                row = 3\n",
        "            flag = True\n",
        "            for w in word_list: \n",
        "                if w in first_row and row != 1:\n",
        "                    flag = False\n",
        "                    break\n",
        "                elif w in second_row and row != 2:\n",
        "                    flag = False\n",
        "                    break\n",
        "                elif w in third_row and row != 3:\n",
        "                    flag = False\n",
        "                    break\n",
        "                    \n",
        "            if flag:\n",
        "                result.append(word)\n",
        "        return result                    "
      ],
      "execution_count": null,
      "outputs": []
    },
    {
      "cell_type": "markdown",
      "metadata": {
        "id": "irgK0k_WYE1Y"
      },
      "source": [
        "LeetCode 349. Intersection of Two Arrays\n",
        "\n",
        "https://leetcode.com/problems/intersection-of-two-arrays/\n",
        "\n",
        "Tag: HashTable"
      ]
    },
    {
      "cell_type": "code",
      "metadata": {
        "id": "wl9OmLtWYKMX"
      },
      "source": [
        "class Solution:\n",
        "    def intersection(self, nums1: List[int], nums2: List[int]) -> List[int]:\n",
        "        if len(nums1) == 0 or len(nums2) == 0:\n",
        "            return []\n",
        "        \n",
        "        nums1.sort()\n",
        "        print(nums1)\n",
        "        nums2.sort()\n",
        "        \n",
        "        i = j = 0\n",
        "        result = []\n",
        "        \n",
        "        while i < len(nums1) and j < len(nums2):\n",
        "            if nums1[i] == nums2[j]:\n",
        "                result.append(nums1[i])\n",
        "                i += 1\n",
        "                j += 1\n",
        "            elif nums1[i] < nums2[j]:\n",
        "                i += 1\n",
        "            elif nums1[i] > nums2[j]:\n",
        "                j += 1\n",
        "        \n",
        "        return list(set(result))"
      ],
      "execution_count": null,
      "outputs": []
    },
    {
      "cell_type": "markdown",
      "metadata": {
        "id": "AAaYUN3FapaR"
      },
      "source": [
        "LeetCode 1078. Occurrences After Bigram\n",
        "\n",
        "https://leetcode.com/problems/occurrences-after-bigram/\n",
        "\n",
        "Tag: HashTable, Google"
      ]
    },
    {
      "cell_type": "code",
      "metadata": {
        "id": "SHjk8IzWaqOt"
      },
      "source": [
        "class Solution:\n",
        "    def findOcurrences(self, text: str, first: str, second: str) -> List[str]:\n",
        "        text_list = text.split(' ')\n",
        "        # print(text_list)\n",
        "        \n",
        "        \n",
        "        result = []\n",
        "        \n",
        "        for i in range(len(text_list)-2):\n",
        "            if text_list[i] == first and text_list[i+1] == second:\n",
        "                result.append(text_list[i+2])\n",
        "        return result"
      ],
      "execution_count": null,
      "outputs": []
    },
    {
      "cell_type": "markdown",
      "metadata": {
        "id": "1vNV_gOSa2_Q"
      },
      "source": [
        "LeetCode 575. Distribute Candies\n",
        "\n",
        "https://leetcode.com/problems/distribute-candies/\n",
        "\n",
        "Tag: HashTable"
      ]
    },
    {
      "cell_type": "code",
      "metadata": {
        "id": "DFoVT0vpeh6p"
      },
      "source": [
        "# my own solution but not that fast\n",
        "\n",
        "class Solution:\n",
        "    def distributeCandies(self, candyType: List[int]) -> int:\n",
        "        candyType_dict = collections.Counter(candyType)\n",
        "        candyType_sorted_dict =dict(sorted(candyType_dict.items(), key=lambda item: item[1]))\n",
        "        # print(candyType_sorted_dict)\n",
        "        \n",
        "        candy = len(candyType)/2\n",
        "        candy_type = []\n",
        "        for k in candyType_sorted_dict.keys():\n",
        "            if candy > 0:\n",
        "                candy -= 1\n",
        "                candy_type.append(k)\n",
        "            else:\n",
        "                break\n",
        "        # print(candy_type)\n",
        "        return len(set(candy_type))"
      ],
      "execution_count": null,
      "outputs": []
    },
    {
      "cell_type": "code",
      "metadata": {
        "id": "M9OWb1Drelfd"
      },
      "source": [
        "# online answer, much faster\n",
        "\n",
        "class Solution:\n",
        "    def distributeCandies(self, candyType: List[int]) -> int:\n",
        "        if len(candyType) / 2 >= len(set(candyType)):\n",
        "            return len(set(candyType))\n",
        "        else:\n",
        "            return int(len(candyType) / 2)\n",
        "\n"
      ],
      "execution_count": null,
      "outputs": []
    },
    {
      "cell_type": "markdown",
      "metadata": {
        "id": "NcGQ33iBe-qQ"
      },
      "source": [
        "LeetCode 884. Uncommon Words from Two Sentences\n",
        "\n",
        "https://leetcode.com/problems/uncommon-words-from-two-sentences/\n",
        "\n",
        "Tag: HashTable"
      ]
    },
    {
      "cell_type": "code",
      "metadata": {
        "id": "wC4ej5qKfEed"
      },
      "source": [
        "class Solution:\n",
        "    def uncommonFromSentences(self, A: str, B: str) -> List[str]:\n",
        "        A_dict = collections.Counter(A.split(' '))\n",
        "        B_dict = collections.Counter(B.split(' '))\n",
        "        \n",
        "        # print(new_A_dict)\n",
        "        \n",
        "        result = set()\n",
        "        \n",
        "        for k in A_dict.keys():\n",
        "            if k not in B_dict.keys() and A_dict[k] == 1:\n",
        "                    result.add(k)\n",
        "                    \n",
        "        for k in B_dict.keys():\n",
        "            if k not in A_dict.keys() and B_dict[k] == 1:\n",
        "                    result.add(k)\n",
        "        \n",
        "        return result"
      ],
      "execution_count": null,
      "outputs": []
    },
    {
      "cell_type": "markdown",
      "metadata": {
        "id": "q0t5L3zzxLYF"
      },
      "source": [
        "LeetCode 266. Palindrome Permutation\n",
        "\n",
        "https://leetcode.com/problems/palindrome-permutation/\n",
        "\n",
        "Tag: HashTable, Google, Bloomberg, Uber"
      ]
    },
    {
      "cell_type": "code",
      "metadata": {
        "id": "uABWNYAhxQsQ"
      },
      "source": [
        "class Solution:\n",
        "    def canPermutePalindrome(self, s: str) -> bool:\n",
        "        s_dict = collections.Counter(s)\n",
        "        \n",
        "        count = 0\n",
        "        \n",
        "        for k in s_dict.keys():\n",
        "            if s_dict[k] % 2 == 0:\n",
        "                continue\n",
        "            else:\n",
        "                count+= 1\n",
        "            if count > 1:\n",
        "                return False\n",
        "        \n",
        "        return True"
      ],
      "execution_count": null,
      "outputs": []
    },
    {
      "cell_type": "markdown",
      "metadata": {
        "id": "dYXgxPmI3A9a"
      },
      "source": [
        "LeetCode 1189. Maximum Number of Balloons\n",
        "\n",
        "https://leetcode.com/problems/maximum-number-of-balloons/\n",
        "\n",
        "Tag: HashTable, Wayfair"
      ]
    },
    {
      "cell_type": "code",
      "metadata": {
        "id": "eDTyEKyr3HSE"
      },
      "source": [
        "class Solution:\n",
        "    def maxNumberOfBalloons(self, text: str) -> int:\n",
        "        text_dict = collections.Counter(text)\n",
        "        \n",
        "        result = float('inf')\n",
        "        target = {'b':1, 'a':1, 'l':2, 'o':2, 'n':1}\n",
        "        # print(text_dict)\n",
        "        for t in target.keys():\n",
        "            # 根本就没有这个字符，那么肯定是0\n",
        "            if t not in text_dict.keys():\n",
        "                result = 0\n",
        "            # 有这个字符，但是没有那么多个，所以也是零\n",
        "            elif t in text_dict.keys() and text_dict[t] - target[t] < 0:\n",
        "                result = 0\n",
        "            # 有这个字符，而且有足够的位数去形成一个单词\n",
        "            elif t in text_dict.keys() and text_dict[t] - target[t] >= 0:\n",
        "                result = min(result, int(text_dict[t]/target[t]))\n",
        "        \n",
        "        return result"
      ],
      "execution_count": null,
      "outputs": []
    }
  ]
}