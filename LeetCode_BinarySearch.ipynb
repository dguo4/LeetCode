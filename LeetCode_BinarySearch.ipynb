{
  "nbformat": 4,
  "nbformat_minor": 0,
  "metadata": {
    "colab": {
      "name": "LeetCode_BinarySearch.ipynb",
      "provenance": [],
      "authorship_tag": "ABX9TyPBJHueb94tlglh24j+nIEF",
      "include_colab_link": true
    },
    "kernelspec": {
      "name": "python3",
      "display_name": "Python 3"
    },
    "language_info": {
      "name": "python"
    }
  },
  "cells": [
    {
      "cell_type": "markdown",
      "metadata": {
        "id": "view-in-github",
        "colab_type": "text"
      },
      "source": [
        "<a href=\"https://colab.research.google.com/github/dguo4/LeetCode/blob/master/LeetCode_BinarySearch.ipynb\" target=\"_parent\"><img src=\"https://colab.research.google.com/assets/colab-badge.svg\" alt=\"Open In Colab\"/></a>"
      ]
    },
    {
      "cell_type": "markdown",
      "metadata": {
        "id": "SNx2E9Y7HtHZ"
      },
      "source": [
        "LeetCode_BinarySearch\n",
        "\n",
        "1. 排序数组有30%-40%的概率是用二分\n",
        "\n",
        "2. 当需要一个比o(N)更快的算法时候，因为二分是o(logN)\n",
        "\n",
        "3. 找到数组的一个某一个分割，使得左半部分满足一定条件，右半部分不满足的时候 - 99%是二分\n",
        "\n",
        "4. 找到一个最大/最小的值使得某个条件被满足 - 90%概率是二分"
      ]
    },
    {
      "cell_type": "markdown",
      "metadata": {
        "id": "DyH6MzDRHy9z"
      },
      "source": [
        "LeetCode 1351. Count Negative Numbers in a Sorted Matrix\n",
        "\n",
        "https://leetcode.com/problems/count-negative-numbers-in-a-sorted-matrix/\n",
        "\n",
        "Tag: Binary Search, Amazon, Matrix"
      ]
    },
    {
      "cell_type": "code",
      "metadata": {
        "id": "_wCXtF2XHyPw"
      },
      "source": [
        "# Option 1\n",
        "\n",
        "class Solution(object):\n",
        "    def countNegatives(self, grid: List[List[int]]) -> int:\n",
        "        def find_negative(row):\n",
        "            left, right = 0, len(row) - 1\n",
        "            while left + 1 <= right:\n",
        "                mid = (left + right) // 2\n",
        "                if row[mid]<0:\n",
        "                    right = mid\n",
        "                else:\n",
        "                    left = mid+1\n",
        "            # print('left: ', left)\n",
        "            # print('right: ', right)\n",
        "            # print(row[left])\n",
        "            \n",
        "            if row[left] < 0:\n",
        "                return len(row) - left\n",
        "            else:\n",
        "                return len(row) - left - 1\n",
        "        \n",
        "        count = 0\n",
        "        for r in grid:\n",
        "            count += find_negative(r)\n",
        "        return count"
      ],
      "execution_count": null,
      "outputs": []
    },
    {
      "cell_type": "code",
      "metadata": {
        "id": "Avh1IRCdk8kQ"
      },
      "source": [
        "# Option 2\n",
        "\n",
        "class Solution(object):\n",
        "    def countNegatives(self, grid: List[List[int]]) -> int:\n",
        "        def find_negative(row):\n",
        "            left, right = 0, len(row) - 1\n",
        "            while left + 1 < right:\n",
        "                mid = (left + right) // 2\n",
        "                if row[mid]<0:\n",
        "                    right = mid\n",
        "                else:\n",
        "                    left = mid\n",
        "            # print('left: ', left)\n",
        "            # print('right: ', right)\n",
        "            # print(row[left])\n",
        "            \n",
        "            if row[left] < 0:\n",
        "                return len(row) - left\n",
        "            elif row[right] < 0:\n",
        "                return len(row) - left - 1\n",
        "            else:\n",
        "                return 0 \n",
        "            \n",
        "        count = 0\n",
        "        for r in grid:\n",
        "            count += find_negative(r)\n",
        "        return count"
      ],
      "execution_count": null,
      "outputs": []
    },
    {
      "cell_type": "markdown",
      "metadata": {
        "id": "HF7Fny2KlLMq"
      },
      "source": [
        "LeetCode 1337. The K Weakest Rows in a Matrix\n",
        "\n",
        "https://leetcode.com/problems/the-k-weakest-rows-in-a-matrix/\n",
        "\n",
        "Tag: Binary Search, Amazon, Matrix"
      ]
    },
    {
      "cell_type": "code",
      "metadata": {
        "id": "2ei8EuI_lOQC"
      },
      "source": [
        "class Solution:\n",
        "    def kWeakestRows(self, mat: List[List[int]], k: int) -> List[int]:\n",
        "        def binarySearch(row):\n",
        "            left, right = 0, len(row) - 1\n",
        "            while left + 1 < right:\n",
        "                mid = (left+right)//2\n",
        "                if row[mid] == 1:\n",
        "                    left = mid\n",
        "                else:\n",
        "                    right = mid\n",
        "            \n",
        "            if row[right] == 1:\n",
        "                return right + 1\n",
        "            elif row[left] == 1:\n",
        "                return left + 1\n",
        "            else:\n",
        "                return 0 \n",
        "        \n",
        "        # weakest = float('inf')\n",
        "        num_of_soldier = []\n",
        "        \n",
        "        for row_idx, row in enumerate(mat):\n",
        "            num_of_soldier.append([row_idx, binarySearch(row)])\n",
        "        \n",
        "        # print(num_of_soldier)\n",
        "        \n",
        "        num_of_soldier.sort(key = lambda x: [x[1],x[0]])\n",
        "        \n",
        "        # print(num_of_soldier)\n",
        "        \n",
        "        result = []\n",
        "        for i in range(k):\n",
        "            result.append(num_of_soldier[i][0])\n",
        "        \n",
        "        return result"
      ],
      "execution_count": null,
      "outputs": []
    },
    {
      "cell_type": "markdown",
      "metadata": {
        "id": "LZ_V8bSCeMQA"
      },
      "source": [
        "LeetCode 704. Binary Search \n",
        "\n",
        "https://leetcode.com/problems/binary-search/\n",
        "\n",
        "Tag: "
      ]
    },
    {
      "cell_type": "code",
      "metadata": {
        "id": "o47r16bVeYTr"
      },
      "source": [
        "class Solution:\n",
        "    def search(self, nums: List[int], target: int) -> int:\n",
        "        left, right = 0, len(nums) - 1\n",
        "        while left + 1 < right:\n",
        "            mid = (left + right) // 2\n",
        "            if nums[mid] == target:\n",
        "                return mid\n",
        "            elif nums[mid] > target:\n",
        "                right = mid\n",
        "            elif nums[mid] < target:\n",
        "                left = mid\n",
        "        \n",
        "        if nums[left] == target:\n",
        "            return left\n",
        "        elif nums[right] == target:\n",
        "            return right\n",
        "        \n",
        "        return -1 "
      ],
      "execution_count": null,
      "outputs": []
    },
    {
      "cell_type": "markdown",
      "metadata": {
        "id": "NC5oOd_segJj"
      },
      "source": [
        "LeetCode 167. Two Sum II - Input array is sorted\n",
        "\n",
        "https://leetcode.com/problems/two-sum-ii-input-array-is-sorted/\n",
        "\n",
        "Tag: Binary Search, Two Pointers, HashTable, Amazon"
      ]
    },
    {
      "cell_type": "code",
      "metadata": {
        "id": "PtAO9nVreujn"
      },
      "source": [
        "class Solution:\n",
        "    def twoSum(self, numbers: List[int], target: int) -> List[int]:\n",
        "        if not numbers or len(numbers) < 1:\n",
        "            return -1\n",
        "        \n",
        "        left, right = 0, len(numbers)-1\n",
        "        \n",
        "        while left < right:\n",
        "            if numbers[left] + numbers[right] == target:\n",
        "                return [left+1, right+1]\n",
        "            elif numbers[left] + numbers[right] < target:\n",
        "                left += 1\n",
        "            else:\n",
        "                right -= 1\n",
        "        \n",
        "        return -1\n",
        "    \n",
        "    \n",
        "    # def twoSum(self, numbers: List[int], target: int) -> List[int]:\n",
        "    #     dic = {}\n",
        "    #     for index, value in enumerate(numbers):\n",
        "    #         s = target - value\n",
        "    #         if s in dic:\n",
        "    #             return [dic[s], index+1]\n",
        "    #         dic[value] = index + 1\n",
        "    #     return -1\n",
        "    \n",
        "\n"
      ],
      "execution_count": null,
      "outputs": []
    },
    {
      "cell_type": "markdown",
      "metadata": {
        "id": "qUslUUT0mPD_"
      },
      "source": [
        "LeetCode 349. Intersection of Two Arrays\n",
        "\n",
        "https://leetcode.com/problems/intersection-of-two-arrays/\n",
        "\n",
        "Tag: "
      ]
    },
    {
      "cell_type": "code",
      "metadata": {
        "id": "GLEPfGI-sSPW"
      },
      "source": [
        "class Solution:\n",
        "    def intersection(self, nums1: List[int], nums2: List[int]) -> List[int]:\n",
        "        if len(nums1) == 0 or len(nums2) == 0:\n",
        "            return []\n",
        "        \n",
        "        nums1.sort()\n",
        "        print(nums1)\n",
        "        nums2.sort()\n",
        "        \n",
        "        i = j = 0\n",
        "        result = []\n",
        "        \n",
        "        while i < len(nums1) and j < len(nums2):\n",
        "            if nums1[i] == nums2[j]:\n",
        "                result.append(nums1[i])\n",
        "                i += 1\n",
        "                j += 1\n",
        "            elif nums1[i] < nums2[j]:\n",
        "                i += 1\n",
        "            elif nums1[i] > nums2[j]:\n",
        "                j += 1\n",
        "        \n",
        "        return list(set(result))"
      ],
      "execution_count": null,
      "outputs": []
    },
    {
      "cell_type": "markdown",
      "metadata": {
        "id": "hxxq_doNe1J8"
      },
      "source": [
        "LeetCode 350. Intersection of Two Arrays II\n",
        "\n",
        "https://leetcode.com/problems/intersection-of-two-arrays-ii/\n",
        "\n",
        "Tag: "
      ]
    },
    {
      "cell_type": "code",
      "metadata": {
        "id": "rXyJo2PYmMCt"
      },
      "source": [
        ""
      ],
      "execution_count": null,
      "outputs": []
    },
    {
      "cell_type": "markdown",
      "metadata": {
        "id": "MbiwJiVlc6Vk"
      },
      "source": [
        "Comments:\n",
        "\n",
        "1. 一般来说，我们都是利用Binary Search去找第一个满足条件的元素的。但例如这个题，如何实现我们通过BS去找第二个满足条件的元素呢？ "
      ]
    },
    {
      "cell_type": "markdown",
      "metadata": {
        "id": "3IloHO1KDJqg"
      },
      "source": [
        "LeetCode 270. Closest Binary Search Tree Value\n",
        "\n",
        "https://leetcode.com/problems/closest-binary-search-tree-value/\n",
        "\n",
        "Tag: BST, Binary Search, Tree"
      ]
    },
    {
      "cell_type": "code",
      "metadata": {
        "id": "0seM9kJGDKI9"
      },
      "source": [
        "# Definition for a binary tree node.\n",
        "# class TreeNode:\n",
        "#     def __init__(self, val=0, left=None, right=None):\n",
        "#         self.val = val\n",
        "#         self.left = left\n",
        "#         self.right = right\n",
        "class Solution:\n",
        "    def closestValue(self, root: TreeNode, target: float) -> int:\n",
        "        closestNode = root\n",
        "        while root:\n",
        "            if abs(root.val-target) < abs(closestNode.val-target):\n",
        "                closestNode = root\n",
        "            root = root.left if target < root.val else root.right\n",
        "        \n",
        "        return closestNode.val"
      ],
      "execution_count": null,
      "outputs": []
    },
    {
      "cell_type": "markdown",
      "metadata": {
        "id": "_RJNYYPOXyeq"
      },
      "source": [
        "LeetCode 392. Is Subsequence\n",
        "\n",
        "https://leetcode.com/problems/is-subsequence/\n",
        "\n",
        "Tag: Recursion, Substring"
      ]
    },
    {
      "cell_type": "code",
      "metadata": {
        "id": "j1jXhW4qXyvB"
      },
      "source": [
        "class Solution:\n",
        "    def isSubsequence(self, s: str, t: str) -> bool:\n",
        "        # recursion to solve this problem\n",
        "        if len(s) == 0:\n",
        "            return True # empty string is substring of any string\n",
        "        if s[0] in t:\n",
        "            return self.isSubsequence(s[1:], t[t.index(s[0])+1:]) \n",
        "        elif s[0] not in t:\n",
        "            return False\n",
        "\n",
        "                                    "
      ],
      "execution_count": null,
      "outputs": []
    },
    {
      "cell_type": "markdown",
      "metadata": {
        "id": "tZX064qNMEVb"
      },
      "source": [
        "LeetCode 744. Find Smallest Letter Greater Than Target\n",
        "\n",
        "https://leetcode.com/problems/find-smallest-letter-greater-than-target/\n",
        "\n",
        "Tag: Binary Search, LinkedIn"
      ]
    },
    {
      "cell_type": "code",
      "metadata": {
        "id": "FfeiHi2QMHRa"
      },
      "source": [
        "class Solution:\n",
        "    def nextGreatestLetter(self, letters: List[str], target: str) -> str:\n",
        "        if len(letters) == 0:\n",
        "            return \"\"\n",
        "        \n",
        "        left, right = 0, len(letters)-1\n",
        "        while left + 1 < right:\n",
        "            mid = (left+right)//2\n",
        "            if letters[mid] == target:\n",
        "                left = mid\n",
        "            elif letters[mid] > target:\n",
        "                right = mid\n",
        "            elif letters[mid] < target:\n",
        "                left = mid\n",
        "        \n",
        "        # print(left)\n",
        "        # pritn(right)\n",
        "        if letters[left] > target:\n",
        "            return letters[left]\n",
        "        elif letters[right] > target:\n",
        "            return letters[right]\n",
        "        \n",
        "        return letters[0]"
      ],
      "execution_count": null,
      "outputs": []
    },
    {
      "cell_type": "markdown",
      "metadata": {
        "id": "99LnH649WDGh"
      },
      "source": [
        "LeetCode 374. Guess Number Higher or Lower\n",
        "\n",
        "https://leetcode.com/problems/guess-number-higher-or-lower/\n",
        "\n",
        "Tag: Binary Search, Google"
      ]
    },
    {
      "cell_type": "code",
      "metadata": {
        "id": "Wjz5Rv_MWDlU"
      },
      "source": [
        "# The guess API is already defined for you.\n",
        "# @param num, your guess\n",
        "# @return -1 if my number is lower, 1 if my number is higher, otherwise return 0\n",
        "# def guess(num: int) -> int:\n",
        "\n",
        "class Solution:\n",
        "    def guessNumber(self, n: int) -> int:\n",
        "        left, right = 0, n\n",
        "        while left + 1 < right:\n",
        "            mid = (left+right)//2\n",
        "            if guess(mid) == 0:\n",
        "                return mid\n",
        "            elif guess(mid) > 0:\n",
        "                left = mid\n",
        "            elif guess(mid) < 0:\n",
        "                right = mid\n",
        "                \n",
        "        if guess(left) == 0:\n",
        "            return left\n",
        "        elif guess(right) == 0:\n",
        "            return right\n",
        "    \n",
        "        return None"
      ],
      "execution_count": null,
      "outputs": []
    },
    {
      "cell_type": "markdown",
      "metadata": {
        "id": "wZV9nfNDWIS-"
      },
      "source": [
        "Comments:\n",
        "\n",
        "1. mid = (left+right)//2 可以改成 mid = (left+right) >> 1 (Binary division faster)"
      ]
    },
    {
      "cell_type": "markdown",
      "metadata": {
        "id": "Qrnp8ouUn6VA"
      },
      "source": [
        "LeetCode 35. Search Insert Position\n",
        "\n",
        "https://leetcode.com/problems/search-insert-position/\n",
        "\n",
        "Tag:  Binary Search, Google"
      ]
    },
    {
      "cell_type": "code",
      "metadata": {
        "id": "OzXPKEryn6oU"
      },
      "source": [
        "class Solution:\n",
        "    def searchInsert(self, nums: List[int], target: int) -> int:\n",
        "        left, right = 0, len(nums)-1\n",
        "        while left + 1 < right:\n",
        "            mid = (left+right)>>1\n",
        "            if nums[mid] == target:\n",
        "                return mid\n",
        "            elif nums[mid] > target:\n",
        "                right = mid\n",
        "            elif nums[mid] < target:\n",
        "                left = mid\n",
        "        # print(left)\n",
        "        # print(right)\n",
        "        if nums[left] == target:\n",
        "            return left\n",
        "        elif nums[right] == target:\n",
        "            return right\n",
        "        # 没有找到的情况，而且不是两端的情况\n",
        "        elif nums[left] < target and nums[right] > target:\n",
        "            return left + 1\n",
        "        elif nums[left] > target:\n",
        "            return 0\n",
        "        elif nums[right] < target:\n",
        "            return len(nums)"
      ],
      "execution_count": null,
      "outputs": []
    },
    {
      "cell_type": "markdown",
      "metadata": {
        "id": "0I1oP7GyN28B"
      },
      "source": [
        "LeetCode 441. Arranging Coins\n",
        "\n",
        "https://leetcode.com/problems/arranging-coins/\n",
        "\n",
        "Tag: Math, Bineary Search, GoDaddy"
      ]
    },
    {
      "cell_type": "code",
      "metadata": {
        "id": "1WKyarGgN3Uu"
      },
      "source": [
        "# option 1:先构建一个array，然后再找target。但这样速度太慢了，而且占用的空间太大\n",
        "\n",
        "class Solution:\n",
        "    def arrangeCoins(self, n: int) -> int:\n",
        "        if n == 1:\n",
        "            return 1\n",
        "        temp_list = [0]\n",
        "        for i in range(1,int((2*n)**0.5)+2):\n",
        "            temp_list.append(temp_list[i-1]+i)\n",
        "        # print(temp_list)\n",
        "        for i in range(len(temp_list)-1):\n",
        "            # print(i)\n",
        "            if temp_list[i] == n:\n",
        "                return i\n",
        "            if temp_list[i] < n and temp_list[i+1] > n:\n",
        "                return i "
      ],
      "execution_count": null,
      "outputs": []
    },
    {
      "cell_type": "code",
      "metadata": {
        "id": "8IQ01lJgN9Fk"
      },
      "source": [
        "# option 2: 速度大幅度提升\n",
        "\n",
        "class Solution:\n",
        "    def arrangeCoins(self, n: int) -> int:\n",
        "        total = lambda x: (x+1)*x/2\n",
        "        \n",
        "        left, right = 0, n\n",
        "        \n",
        "        while left + 1 < right:\n",
        "            mid = (left + right) >> 1\n",
        "            mid_total = total(mid)\n",
        "            if mid_total == n:\n",
        "                return mid\n",
        "            elif mid_total < n:\n",
        "                temp_result = mid\n",
        "                left = mid\n",
        "            elif mid_total > n:\n",
        "                right = mid\n",
        "        # print(left)\n",
        "        # print(right)\n",
        "        if total(right) <= n:\n",
        "            temp_result = right\n",
        "        elif total(left) <= n and total(right) > n:\n",
        "            temp_result = left\n",
        "        return temp_result"
      ],
      "execution_count": null,
      "outputs": []
    },
    {
      "cell_type": "markdown",
      "metadata": {
        "id": "rxBmm3jcY26A"
      },
      "source": [
        "LeetCode 367. Valid Perfect Square\n",
        "\n",
        "https://leetcode.com/problems/valid-perfect-square/\n",
        "\n",
        "Tag: Binary Search, LinkedIn"
      ]
    },
    {
      "cell_type": "code",
      "metadata": {
        "id": "LqQD5j7LY3Q5"
      },
      "source": [
        "class Solution:\n",
        "    def isPerfectSquare(self, num: int) -> bool:\n",
        "        total = lambda x: x*x\n",
        "        \n",
        "        left, right = 1, int(num**0.5)+1\n",
        "        \n",
        "        while left + 1 < right:\n",
        "            mid = (left+right) >> 1\n",
        "            mid_total = total(mid)\n",
        "            if mid_total == num:\n",
        "                return True\n",
        "            elif mid_total > num:\n",
        "                right = mid\n",
        "            elif mid_total < num:\n",
        "                left = mid\n",
        "        \n",
        "        if total(left) == num or total(right) == num:\n",
        "            return True\n",
        "        return False\n",
        "        "
      ],
      "execution_count": null,
      "outputs": []
    },
    {
      "cell_type": "markdown",
      "metadata": {
        "id": "nCTuVPuptalk"
      },
      "source": [
        "LeetCode 278. First Bad Version\n",
        "\n",
        "https://leetcode.com/problems/first-bad-version/\n",
        "\n",
        "Tag: Bineary Search, Facebook"
      ]
    },
    {
      "cell_type": "code",
      "metadata": {
        "id": "SzmbBCOqtbTE"
      },
      "source": [
        "# The isBadVersion API is already defined for you.\n",
        "# @param version, an integer\n",
        "# @return an integer\n",
        "# def isBadVersion(version):\n",
        "\n",
        "class Solution:\n",
        "    def firstBadVersion(self, n):\n",
        "        \"\"\"\n",
        "        :type n: int\n",
        "        :rtype: int\n",
        "        \"\"\"\n",
        "        left, right = 1, n\n",
        "        while left + 1 < right:\n",
        "            mid = (left+right)>>1\n",
        "            if isBadVersion(mid):\n",
        "                right = mid\n",
        "            else:\n",
        "                left = mid\n",
        "        \n",
        "        if isBadVersion(left):\n",
        "            return left\n",
        "        elif isBadVersion(right):\n",
        "            return right\n",
        "\n",
        "        "
      ],
      "execution_count": null,
      "outputs": []
    },
    {
      "cell_type": "markdown",
      "metadata": {
        "id": "oZ7jsRz8tmn_"
      },
      "source": [
        "LeetCode 69. Sqrt(x)\n",
        "\n",
        "https://leetcode.com/problems/sqrtx/\n",
        "\n",
        "Tag: Bineary Search, Facebook Bloomberg, Apple"
      ]
    },
    {
      "cell_type": "code",
      "metadata": {
        "id": "uvBU6SnGv66b"
      },
      "source": [
        "# option 1: my answer with performance = 20%\n",
        "\n",
        "class Solution:\n",
        "    def mySqrt(self, x: int) -> int:\n",
        "        if x == 0:\n",
        "            return 0\n",
        "        \n",
        "        left, right = 0, int(x**0.5)+1\n",
        "        while left + 1 < right:\n",
        "            mid = (left+right) >> 1\n",
        "            if mid**2 == x:\n",
        "                return mid\n",
        "            elif mid**2 > x:\n",
        "                right = mid\n",
        "            elif mid**2 < x:\n",
        "                left = mid\n",
        "        \n",
        "        if left**2 < x and right**2 > x:\n",
        "            return left\n",
        "        elif left**2 < x and right**2 < x:\n",
        "            return right"
      ],
      "execution_count": null,
      "outputs": []
    },
    {
      "cell_type": "markdown",
      "metadata": {
        "id": "5wWnR-dUwbiZ"
      },
      "source": [
        "Comments:\n",
        "\n",
        "1. Corner Cases：一般来说，只有left和right两个index只要有一个元素，就可以不用考虑corner case，因为只有一个元素的case是可以被3考虑到的。只有当left和right中间一个元素都木有的时候，我们需要在最前面加corner case的判断。 \n",
        "\n",
        "2. left + 1 < right or left <= right: why left<right会有死循环的情况？我们一般找的都是first position of target的时候，是不会出现问题的。但当我们去寻找last position of target的时候，就会出现死循环。 \n",
        "\n",
        "3. 如果利用left+1<right, 需要特殊处理left和right的情况， 这个时候left和right都有神马特点？"
      ]
    }
  ]
}