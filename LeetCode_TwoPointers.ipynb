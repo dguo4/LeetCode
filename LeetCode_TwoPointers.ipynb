{
  "nbformat": 4,
  "nbformat_minor": 0,
  "metadata": {
    "colab": {
      "name": "LeetCode_TwoPointers.ipynb",
      "provenance": [],
      "authorship_tag": "ABX9TyPE4H3neO+z7cWdzdEesnDg",
      "include_colab_link": true
    },
    "kernelspec": {
      "name": "python3",
      "display_name": "Python 3"
    }
  },
  "cells": [
    {
      "cell_type": "markdown",
      "metadata": {
        "id": "view-in-github",
        "colab_type": "text"
      },
      "source": [
        "<a href=\"https://colab.research.google.com/github/dguo4/LeetCode/blob/master/LeetCode_TwoPointers.ipynb\" target=\"_parent\"><img src=\"https://colab.research.google.com/assets/colab-badge.svg\" alt=\"Open In Colab\"/></a>"
      ]
    },
    {
      "cell_type": "markdown",
      "metadata": {
        "id": "M1U2A3chGYzv"
      },
      "source": [
        "**LeetCode 1570.** Dot Product of Two Sparse Vectors\r\n",
        "\r\n",
        "https://leetcode.com/problems/dot-product-of-two-sparse-vectors/\r\n",
        "\r\n",
        "Tag: Two pointers, sparce matrix"
      ]
    },
    {
      "cell_type": "code",
      "metadata": {
        "id": "pyaE0sqzGvm8"
      },
      "source": [
        "class SparseVector:\r\n",
        "    def __init__(self, nums: List[int]):\r\n",
        "        nums_dict ={}\r\n",
        "        if nums: \r\n",
        "            for key, val in enumerate(nums):\r\n",
        "                nums_dict[key] = val\r\n",
        "        self.nums = nums_dict\r\n",
        "    # Return the dotProduct of two sparse vectors\r\n",
        "    def dotProduct(self, vec: 'SparseVector') -> int:\r\n",
        "        result = 0\r\n",
        "        if len(self.nums) < len(vec.nums):\r\n",
        "            for k in self.nums.keys():\r\n",
        "                if k in vec.nums.keys():\r\n",
        "                    result += self.nums[k]*vec.nums[k]\r\n",
        "        else:\r\n",
        "            for k in vec.nums.keys():\r\n",
        "                if k in self.nums.keys():\r\n",
        "                    result += self.nums[k]*vec.nums[k]      \r\n",
        "        return result\r\n",
        "# Your SparseVector object will be instantiated and called as such:\r\n",
        "# v1 = SparseVector(nums1)\r\n",
        "# v2 = SparseVector(nums2)\r\n",
        "# ans = v1.dotProduct(v2)"
      ],
      "execution_count": null,
      "outputs": []
    },
    {
      "cell_type": "markdown",
      "metadata": {
        "id": "upqPteSCHVmX"
      },
      "source": [
        "**LeetCode 763.** Partition Labels\r\n",
        "\r\n",
        "https://leetcode.com/problems/partition-labels/\r\n",
        "\r\n",
        "Tag:Two pointers, Amazon"
      ]
    },
    {
      "cell_type": "code",
      "metadata": {
        "id": "jkCYSpi7Hj_Y"
      },
      "source": [
        "class Solution:\r\n",
        "    def partitionLabels(self, S: str) -> List[int]:\r\n",
        "        if len(S) == 0:\r\n",
        "            return \r\n",
        "        if len(S) == 1:\r\n",
        "            return [1]\r\n",
        "        \r\n",
        "        i = 0\r\n",
        "        output = []\r\n",
        "        temp = []\r\n",
        "        \r\n",
        "        S_dict = Counter(S)\r\n",
        "        \r\n",
        "        while i < len(S):\r\n",
        "            curr_char = S[i]\r\n",
        "            curr_char_count = S_dict[curr_char]\r\n",
        "            if curr_char_count > 0:\r\n",
        "                temp.append(curr_char)\r\n",
        "                S_dict[curr_char] -= 1\r\n",
        "            stop_flag = True\r\n",
        "            for _ in temp:\r\n",
        "                if S_dict[_] != 0:\r\n",
        "                    stop_flag = False\r\n",
        "            if stop_flag:\r\n",
        "                print(temp)\r\n",
        "                output.append(len(''.join(temp)))\r\n",
        "                temp = []\r\n",
        "            i += 1\r\n",
        "        return output"
      ],
      "execution_count": null,
      "outputs": []
    },
    {
      "cell_type": "markdown",
      "metadata": {
        "id": "iYzJb1lLIpXT"
      },
      "source": [
        "**LeetCode 986.** Interval List Intersections\r\n",
        "\r\n",
        "https://leetcode.com/problems/interval-list-intersections/\r\n",
        "\r\n",
        "Tag: Two Pointer, Doordash\r\n",
        "\r\n",
        "Comments: \r\n",
        "\r\n",
        "1. 不要没事找事，把变量名字弄的太复杂。写起来麻烦还容易错\r\n"
      ]
    },
    {
      "cell_type": "code",
      "metadata": {
        "id": "gn1qfahpuYGK",
        "colab": {
          "base_uri": "https://localhost:8080/"
        },
        "outputId": "a43a8f9c-34a3-4a08-9311-b28b53c61f69"
      },
      "source": [
        "class Solution:\r\n",
        "    def intervalIntersection(self, firstList, secondList):\r\n",
        "        if len(firstList) == 0 or len(secondList) == 0:\r\n",
        "            return []\r\n",
        "        \r\n",
        "        first_idx = 0\r\n",
        "        second_idx = 0\r\n",
        "        output = []\r\n",
        "        \r\n",
        "        while first_idx < len(firstList) and second_idx < len(secondList):\r\n",
        "            if firstList[first_idx][1] < secondList[second_idx][0]:\r\n",
        "                first_idx += 1\r\n",
        "            elif secondList[second_idx][1] < firstList[first_idx][0]:\r\n",
        "                second_idx += 1\r\n",
        "            else:\r\n",
        "                left = max(firstList[first_idx][0], secondList[second_idx][0])\r\n",
        "                right = min(firstList[first_idx][1], secondList[second_idx][1])\r\n",
        "                output.append([left, right])\r\n",
        "                if firstList[first_idx][1] < secondList[second_idx][1]:\r\n",
        "                    first_idx += 1\r\n",
        "                else: \r\n",
        "                    second_idx += 1\r\n",
        "        \r\n",
        "        return output\r\n",
        "A = [[0,2],[5,10],[13,23],[24,25]]\r\n",
        "B = [[1,5],[8,12],[15,24],[25,26]]\r\n",
        "test = Solution()\r\n",
        "test.intervalIntersection(A, B)"
      ],
      "execution_count": null,
      "outputs": [
        {
          "output_type": "execute_result",
          "data": {
            "text/plain": [
              "[[1, 2], [5, 5], [8, 10], [15, 23], [24, 24], [25, 25]]"
            ]
          },
          "metadata": {
            "tags": []
          },
          "execution_count": 4
        }
      ]
    },
    {
      "cell_type": "markdown",
      "metadata": {
        "id": "YaQuuZdKvAjw"
      },
      "source": [
        "**LeetCode 1004.** Max Consecutive Ones III\r\n",
        "\r\n",
        "https://leetcode.com/problems/max-consecutive-ones-iii/\r\n",
        "\r\n",
        "Tag: Two Pointers, Facebook, Sliding Windows"
      ]
    },
    {
      "cell_type": "code",
      "metadata": {
        "id": "YV6N4DozuktV"
      },
      "source": [
        "class Solution:\r\n",
        "    def longestOnes(self, A: List[int], K: int) -> int:\r\n",
        "        left = right = 0\r\n",
        "        for right in range(len(A)):\r\n",
        "        # if we encounter a 0 the we decrement K\r\n",
        "            if A[right] == 0:\r\n",
        "                K -= 1\r\n",
        "\r\n",
        "            # if K < 0 then we need to move the left part of the window forward\r\n",
        "            # to try and remove the extra 0's\r\n",
        "            if K < 0:\r\n",
        "              # if the left one was zero then we adjust K.就是说我们不要改之前的0，而是改之后的0.这样k就多了一个出来\r\n",
        "                if A[left] == 0: \r\n",
        "                    K += 1\r\n",
        "              # regardless of whether we had a 1 or a 0 we can move left side by 1\r\n",
        "              # if we keep seeing 1's the window still keeps moving as-is\r\n",
        "                left += 1\r\n",
        "        print(left, '  ', right)\r\n",
        "        return right - left + 1\r\n",
        "\r\n",
        "\r\n",
        "# my original answer cannot solve corner cases with k = 0\r\n",
        "# class Solution:\r\n",
        "#     def longestOnes(self, A: List[int], K: int) -> int:\r\n",
        "#         if len(A) == 0:\r\n",
        "#             return \r\n",
        "        \r\n",
        "#         i = 0 \r\n",
        "#         curr_one_list = []\r\n",
        "#         max_one_list_len = []\r\n",
        "#         temp_k = K\r\n",
        "#         start_change_idx = 0\r\n",
        "        \r\n",
        "#         while i < len(A):\r\n",
        "#             # A[i] == 1\r\n",
        "#             if A[i] == 1:\r\n",
        "#                 curr_one_list.append(A[i])\r\n",
        "#                 i += 1\r\n",
        "#             # A[i] == 0 but we still have chance to change 0 to 1\r\n",
        "#             elif A[i] == 0 and temp_k > 0:\r\n",
        "#                 curr_one_list.append(1)\r\n",
        "#                 # we will remember where to start to change\r\n",
        "#                 if temp_k == K:\r\n",
        "#                     start_change_idx = i\r\n",
        "#                 temp_k -= 1\r\n",
        "#                 i += 1\r\n",
        "#             # resart from initial status\r\n",
        "#             elif A[i] == 0 and temp_k ==0:\r\n",
        "#                 max_one_list_len.append(len(curr_one_list))\r\n",
        "#                 curr_one_list = []\r\n",
        "#                 temp_k = K\r\n",
        "#                 i = start_change_idx+1\r\n",
        "\r\n",
        "\r\n",
        "#         return max(max_one_list_len)"
      ],
      "execution_count": null,
      "outputs": []
    },
    {
      "cell_type": "markdown",
      "metadata": {
        "id": "L0UXnLuCF5WO"
      },
      "source": [
        "**LeetCode 287.** Find the Duplicate Number\r\n",
        "\r\n",
        "https://leetcode.com/problems/find-the-duplicate-number/\r\n",
        "\r\n",
        "Tag: Array, Two Pointers, Binary Search, Bloomberg"
      ]
    },
    {
      "cell_type": "code",
      "metadata": {
        "id": "_duNrJCEGIhY"
      },
      "source": [
        "class Solution:\r\n",
        "    def findDuplicate(self, nums: List[int]) -> int:\r\n",
        "        if len(nums) == 0:\r\n",
        "            return \r\n",
        "        \r\n",
        "        nums_counter = Counter(nums)\r\n",
        "        \r\n",
        "        for k in nums_counter.keys():\r\n",
        "            if nums_counter[k] > 1:\r\n",
        "                return k\r\n",
        "        \r\n",
        "        return "
      ],
      "execution_count": null,
      "outputs": []
    },
    {
      "cell_type": "markdown",
      "metadata": {
        "id": "TEVYQwdkQD9s"
      },
      "source": [
        "**LeetCode 1248.** Count Number of Nice Subarrays\r\n",
        "\r\n",
        "https://leetcode.com/problems/count-number-of-nice-subarrays/\r\n",
        "\r\n",
        "Tag: Two Pointers, Sliding Window, Roblox\r\n"
      ]
    },
    {
      "cell_type": "code",
      "metadata": {
        "id": "4Ut88lXaj4Ik"
      },
      "source": [
        "# class Solution:\r\n",
        "#     def numberOfSubarrays(self, nums: List[int], k: int) -> int:\r\n",
        "#         if len(nums) == 0 or k ==0:\r\n",
        "#             return 0\r\n",
        "        \r\n",
        "#         output = []\r\n",
        "        \r\n",
        "#         for i in range(len(nums)):\r\n",
        "#             temp_list = []\r\n",
        "#             temp_k = k\r\n",
        "#             j = i\r\n",
        "#             while temp_k > 0 and j < len(nums):\r\n",
        "#                 temp_list.append(nums[j])\r\n",
        "#                 if nums[j] % 2 == 1:\r\n",
        "#                     temp_k -= 1\r\n",
        "#                 j += 1\r\n",
        "#                 curr_k = temp_k\r\n",
        "#             if len(temp_list) != 0 and curr_k == 0:\r\n",
        "#                 output.append(temp_list)\r\n",
        "        \r\n",
        "#         print(output)\r\n",
        "        \r\n",
        "#         return len(output)\r\n",
        "\r\n",
        "class Solution:\r\n",
        "    def numberOfSubarrays(self, nums: List[int], k: int) -> int:\r\n",
        "        dic = { 0: 1 }\r\n",
        "        # cnt: accumulated odd numbers in list\r\n",
        "        # res: result\r\n",
        "        cnt = res = 0\r\n",
        "        for idx, num in enumerate(nums):\r\n",
        "            if num % 2 == 1:\r\n",
        "                cnt += 1\r\n",
        "\r\n",
        "            if cnt - k in dic:\r\n",
        "                res += dic[cnt-k]\r\n",
        "\r\n",
        "            dic[cnt] = dic.get(cnt, 0) + 1\r\n",
        "            print('---')\r\n",
        "            print(dic)\r\n",
        "            print(res)\r\n",
        "\r\n",
        "        return res\r\n"
      ],
      "execution_count": null,
      "outputs": []
    },
    {
      "cell_type": "markdown",
      "metadata": {
        "id": "WyezFwk7vLUz"
      },
      "source": [
        "**LeetCode 1229**. Meeting Scheduler\n",
        "\n",
        "https://leetcode.com/problems/meeting-scheduler/\n",
        "\n",
        "Tag: Two Pointer, Paypal"
      ]
    },
    {
      "cell_type": "code",
      "metadata": {
        "id": "-P7Wvk6uvR7s"
      },
      "source": [
        "class Solution:\n",
        "    def minAvailableDuration(self, slots1: List[List[int]], slots2: List[List[int]], duration: int) -> List[int]:\n",
        "        if len(slots1) == 0 or len(slots2) == 0:\n",
        "            return []\n",
        "        \n",
        "        slots1.sort()\n",
        "        slots2.sort()\n",
        "        \n",
        "        i = 0 # index for slots1\n",
        "        j = 0 # index for slots2\n",
        "        output = []\n",
        "        \n",
        "        \n",
        "        while i < len(slots1) and j < len(slots2):\n",
        "            left = max(slots1[i][0], slots2[j][0])\n",
        "            right = min(slots1[i][1], slots2[j][1])\n",
        "            if left <= right:\n",
        "                output.append([left, right])\n",
        "            if slots1[i][1] < slots2[j][1]:\n",
        "                i += 1\n",
        "            else:\n",
        "                j += 1\n",
        "        \n",
        "        print(output)\n",
        "        for s in output:\n",
        "            if s[1]-s[0] >= duration:\n",
        "                return [s[0], s[0]+duration]\n",
        "        \n",
        "        return []"
      ],
      "execution_count": null,
      "outputs": []
    },
    {
      "cell_type": "markdown",
      "metadata": {
        "id": "k_tfhiRgvgjb"
      },
      "source": [
        "**LeetCode 11**. Container With Most Water\n",
        "\n",
        "https://leetcode.com/problems/container-with-most-water/\n",
        "\n",
        "Tag: Two Pointers, Bloomberg"
      ]
    },
    {
      "cell_type": "code",
      "metadata": {
        "id": "48IPEmIEvxFN"
      },
      "source": [
        "class Solution:\n",
        "    def maxArea(self, height: List[int]) -> int:\n",
        "        # might needt an alog to reduce from o(n^2) to o(nlogn) - guess\n",
        "        # actually below algo reduce to o(n)\n",
        "        if len(height) == 0:\n",
        "            return 0\n",
        "        \n",
        "        # the orinal max water we could get using the most left and right heights\n",
        "        water = min(height[0], height[-1])*(len(height)-1)\n",
        "        \n",
        "        i = 0\n",
        "        j = -1\n",
        "        \n",
        "        while i < len(height) and abs(j) < len(height):\n",
        "            if height[i] < height[j]:\n",
        "                i += 1\n",
        "            else:\n",
        "                j -= 1\n",
        "            water = max(water, min(height[i], height[j])*(len(height)+j-i))\n",
        "            \n",
        "        return water\n",
        "        \n",
        "#         # o(n^2) will cause TLE\n",
        "#         if len(height) == 0:\n",
        "#             return 0\n",
        "        \n",
        "#         container = []\n",
        "        \n",
        "#         for i in range(len(height)):\n",
        "#             for j in range(i, len(height)):\n",
        "#                 size = (j-i)*min(height[i], height[j])\n",
        "#                 container.append(size)\n",
        "        \n",
        "#         return max(container)\n",
        "            "
      ],
      "execution_count": null,
      "outputs": []
    },
    {
      "cell_type": "markdown",
      "metadata": {
        "id": "BWk6OgKmwVcW"
      },
      "source": [
        "**LeetCode 159**. Longest Substring with At Most Two Distinct Characters\n",
        "\n",
        "https://leetcode.com/problems/longest-substring-with-at-most-two-distinct-characters/\n",
        "\n",
        "Tag: Two Pointers, Sliding Windows, Google"
      ]
    },
    {
      "cell_type": "code",
      "metadata": {
        "id": "oqGRyuNiwiUI"
      },
      "source": [
        "class Solution:\n",
        "    def lengthOfLongestSubstringTwoDistinct(self, s: str) -> int:\n",
        "        ## RC ##\n",
        "        ## APPROACH : SLIDING WINDOW ##\n",
        "        ## Similar to Leetcode : 424. Longest Repeating Character Replacement ##\n",
        "        ## Similar to Leetcode : 904. Fruit Into Basket ##\n",
        "        ## SAME CODE : 340. Longest Substring with At Most K Distinct Characters ##\n",
        "\t\t\n",
        "        ## TIME COMPLEXICITY : O(N) ## (?)\n",
        "\t\t    ## SPACE COMPLEXICITY : O(N) ##\n",
        "        if len(s) == 0 or len(s) == 1:\n",
        "            return len(s)\n",
        "        \n",
        "        subStr_dict = collections.defaultdict(int)\n",
        "        left = right = 0\n",
        "        max_len = float('-inf')\n",
        "        k = 2\n",
        "        \n",
        "        while right < len(s):\n",
        "            subStr_dict[s[right]] += 1\n",
        "            # move right pointer to left\n",
        "            right += 1\n",
        "            while len(subStr_dict) > k:\n",
        "                subStr_dict[s[left]] -= 1\n",
        "                if subStr_dict[s[left]] == 0:\n",
        "                    del subStr_dict[s[left]]\n",
        "                left += 1\n",
        "            max_len = max(max_len, right-left)\n",
        "            \n",
        "        return max_len\n",
        "            "
      ],
      "execution_count": null,
      "outputs": []
    },
    {
      "cell_type": "markdown",
      "metadata": {
        "id": "AcW-ykjA-VaY"
      },
      "source": [
        "**LeetCode 424**. Longest Repeating Character Replacement\n",
        "\n",
        "https://leetcode.com/problems/longest-repeating-character-replacement/\n",
        "\n",
        "Tag: Two Pointers, Sliding Window, "
      ]
    },
    {
      "cell_type": "code",
      "metadata": {
        "id": "9QZcqJPn-n3Y"
      },
      "source": [
        "class Solution:\n",
        "    def characterReplacement(self, s: str, k: int) -> int:\n",
        "        if len(s) == 0 or len(s) == 1:\n",
        "            return len(s)\n",
        "        \n",
        "        \n",
        "        subStr_dict = collections.defaultdict(int)\n",
        "        left = right = 0\n",
        "        max_len = 0\n",
        "        max_repeated = 0\n",
        "        \n",
        "        while right < len(s):\n",
        "            # move right pointer\n",
        "            subStr_dict[s[right]] += 1\n",
        "            max_repeated = max(max_repeated, subStr_dict[s[right]])\n",
        "            right += 1\n",
        "            \n",
        "            # move left pointer\n",
        "            if (right - left - max_repeated) > k:\n",
        "                subStr_dict[s[left]] -= 1\n",
        "                if subStr_dict[s[left]] == 0:\n",
        "                    del subStr_dict[s[left]]\n",
        "                left += 1\n",
        "            max_len = max(max_len, right - left)\n",
        "            \n",
        "        return max_len"
      ],
      "execution_count": null,
      "outputs": []
    },
    {
      "cell_type": "markdown",
      "metadata": {
        "id": "3G3ub6GO-yCQ"
      },
      "source": [
        "**LeetCode 904.** Fruit Into Baskets\n",
        "\n",
        "https://leetcode.com/problems/fruit-into-baskets/\n",
        "\n",
        "Tag: Two Pointers, Sliding Windows, Google"
      ]
    },
    {
      "cell_type": "code",
      "metadata": {
        "id": "kU6kWCWs-5H4"
      },
      "source": [
        "class Solution:\n",
        "    def totalFruit(self, tree: List[int]) -> int:\n",
        "\n",
        "        tracker = collections.defaultdict(int)\n",
        "        start = result = 0\n",
        "        \n",
        "        for end in range(len(tree)):\n",
        "            tracker[tree[end]] += 1\n",
        "            while len(tracker) > 2:\n",
        "                tracker[tree[start]] -= 1\n",
        "                if tracker[tree[start]] == 0: del tracker[tree[start]]\n",
        "                start += 1\n",
        "            result = max(result, end - start + 1)\n",
        "        \n",
        "        return result\n"
      ],
      "execution_count": null,
      "outputs": []
    },
    {
      "cell_type": "markdown",
      "metadata": {
        "id": "tRHVEekryEZz"
      },
      "source": [
        "**LeetCode 1695.** Maximum Erasure Value\r\n",
        "\r\n",
        "https://leetcode.com/problems/maximum-erasure-value/\r\n",
        "\r\n",
        "Tag: Two Pointers, Sliding Windows, Cashfree"
      ]
    },
    {
      "cell_type": "code",
      "metadata": {
        "id": "GyoF1iGwycV_"
      },
      "source": [
        "class Solution:\r\n",
        "    def maximumUniqueSubarray(self, nums: List[int]) -> int:\r\n",
        "        # if len(nums) == 0:\r\n",
        "        #     return 0\r\n",
        "        # if len(nums) == 1:\r\n",
        "        #     return nums[0]\r\n",
        "        \r\n",
        "        subStr_dict = collections.defaultdict(int)\r\n",
        "        subStr_total = 0\r\n",
        "        curr_total = 0\r\n",
        "        left = right = 0\r\n",
        "        \r\n",
        "        while right < len(nums):\r\n",
        "            # right pointer\r\n",
        "            subStr_dict[nums[right]] += 1\r\n",
        "            curr_total += nums[right]\r\n",
        "            \r\n",
        "            # left pointer\r\n",
        "            while subStr_dict[nums[right]] > 1: # there are some duplicate character \r\n",
        "                subStr_dict[nums[left]] -= 1 # remove nums[left] from sub string\r\n",
        "                curr_total -= nums[left]\r\n",
        "                if subStr_dict[nums[left]] == 0:\r\n",
        "                    del subStr_dict[nums[left]]\r\n",
        "                left += 1\r\n",
        "            right += 1\r\n",
        "            subStr_total = max(subStr_total, curr_total)\r\n",
        "        return subStr_total\r\n",
        "                "
      ],
      "execution_count": null,
      "outputs": []
    },
    {
      "cell_type": "markdown",
      "metadata": {
        "id": "ElynvUeRz9vo"
      },
      "source": [
        "**LeetCode 424**. Longest Repeating Character Replacement\n",
        "\n",
        "https://leetcode.com/problems/longest-repeating-character-replacement/\n",
        "\n",
        "Tag: Two Pointers, Sliding Window"
      ]
    },
    {
      "cell_type": "code",
      "metadata": {
        "id": "Yy2WdNHFIs-_"
      },
      "source": [
        "class Solution:\n",
        "    def characterReplacement(self, s: str, k: int) -> int:\n",
        "        if len(s) == 0:\n",
        "            return 0\n",
        "        \n",
        "        left = 0\n",
        "        right = len(s) - 1\n",
        "        temp_k = k\n",
        "        max_subStr_len = 0\n",
        "        \n",
        "        subStr_dict = collections.defaultdict(int) # store the frequency and char\n",
        "        left = right = 0\n",
        "        max_char_freq = 0\n",
        "        while right < len(s):\n",
        "            # right pointer: easy one\n",
        "            subStr_dict[s[right]] += 1\n",
        "            \n",
        "            # left pointer: hard one\n",
        "            max_char_freq = max(max_char_freq, subStr_dict[s[right]]) # always pick the most frequent char\n",
        "            if (right-left+1) - max_char_freq > k: # we have more char need to be replaced. we will need to move left pointer to next position\n",
        "                subStr_dict[s[left]] -= 1 \n",
        "                left += 1\n",
        "            else:\n",
        "                # we could replace all different char (#<k). the length of subString will be (right-left+1)\n",
        "                max_subStr_len = max(max_subStr_len, (right-left+1))\n",
        "\n",
        "            right += 1\n",
        "        return max_subStr_len"
      ],
      "execution_count": null,
      "outputs": []
    },
    {
      "cell_type": "markdown",
      "metadata": {
        "id": "yT5h-vUPMicC"
      },
      "source": [
        "487. Max Consecutive Ones II"
      ]
    },
    {
      "cell_type": "code",
      "metadata": {
        "id": "u33cTeRJMi2J"
      },
      "source": [
        "class Solution:\n",
        "    def findMaxConsecutiveOnes(self, nums: List[int]) -> int:\n",
        "        if len(nums) == 0:\n",
        "            return 0\n",
        "        \n",
        "        left = right = 0\n",
        "        max_subString_len = 0\n",
        "        subString_dict = collections.defaultdict(int)\n",
        "        max_1_freq = 0\n",
        "        \n",
        "        while right < len(nums):\n",
        "            # right pointer\n",
        "            subString_dict[nums[right]] += 1\n",
        "            max_1_freq = max(max_1_freq, subString_dict[1])\n",
        "            \n",
        "            # left pointer\n",
        "            if (right-left+1)-max_1_freq > 1:\n",
        "                # move left pointer to next position\n",
        "                subString_dict[nums[left]] -= 1\n",
        "                left += 1\n",
        "            else:\n",
        "                max_subString_len = max(max_subString_len, (right-left+1))\n",
        "            \n",
        "            right += 1\n",
        "        \n",
        "        return max_subString_len"
      ],
      "execution_count": null,
      "outputs": []
    },
    {
      "cell_type": "markdown",
      "metadata": {
        "id": "FpRFwXPQMDta"
      },
      "source": [
        "# Summary of Sliding Windows\n",
        "\n",
        "这类问题一般都是求一个string里面满足某些特定条件的substring. 但整体的结构如下：\n",
        "\n",
        "1. 利用collections.defaultdict构建一个不会出现因为没有key而导致报错的dictionary\n",
        "\n",
        "2. 遍历整个string\n",
        "\n",
        "3. 移动右边的pointer: 一般而言，移动右边的指针比较简单，没有什么特别要求。但最后在移动right pointer，因为如果之前就移动right pointer的话，后面再用right pointer的话，就不是指向我们原来的位置了。\n",
        "\n",
        "4. 移动左边的pointer： 问题的难度在于如何移动左边的pointer。同时可以通过del删除dictionary中的一些元素以节约space（不一定要做）。要考虑在什么情况需要移动left pointer。如果有k的话，不要改动k，而且通过substring作为一个整体去看怎么能和k联系起来。\n"
      ]
    },
    {
      "cell_type": "markdown",
      "metadata": {
        "id": "y7O5tbZqNfnj"
      },
      "source": [
        "**LeetCode 75**. Sort Colors\r\n",
        "\r\n",
        "https://leetcode.com/problems/sort-colors/\r\n",
        "\r\n",
        "Tag: Two Pointers, Facebook, Microsoft"
      ]
    },
    {
      "cell_type": "code",
      "metadata": {
        "id": "ThRjr8XJNe6W"
      },
      "source": [
        "class Solution:\r\n",
        "    def sortColors(self, nums: List[int]) -> None:\r\n",
        "        \"\"\"\r\n",
        "        Do not return anything, modify nums in-place instead.\r\n",
        "        \"\"\"\r\n",
        "        # nums.sort()\r\n",
        "        # return nums\r\n",
        "        \r\n",
        "        if len(nums) == 0:\r\n",
        "            return 0\r\n",
        "        \r\n",
        "        if len(nums) == 1:\r\n",
        "            return nums\r\n",
        "        \r\n",
        "        idx_0 = 0 # idx to put next 0\r\n",
        "        idx_2 = len(nums) - 1 # idx to put next 2\r\n",
        "        idx = 0\r\n",
        "        \r\n",
        "        while idx < idx_2: # 注意终止条件\r\n",
        "            if nums[idx] == 0: # 如果遇到0，那么就把nums[idx]和nums[idx_0]交换\r\n",
        "                nums[idx], nums[idx_0] = nums[idx_0], nums[idx]\r\n",
        "                idx_0 += 1 # move to next position for 0\r\n",
        "                \r\n",
        "            if nums[idx] == 2: # 如果遇到2，那么就把nums[idx]和nums[idx_2]交换\r\n",
        "                nums[idx], nums[idx_2] = nums[idx_2], nums[idx]\r\n",
        "                idx_2 -= 1 # move to next position for 2\r\n",
        "                idx -= 1 # 但有一个问题，如果之前的nums[idx_2]也是2，那么它就被换到前面去了。所以这个时候，我们就要往前退一个，这样我们就能再次check idx了（这个时候的nums[idx]可能是换过来的2）\r\n",
        "            idx += 1 \r\n",
        "        \r\n",
        "        return nums"
      ],
      "execution_count": null,
      "outputs": []
    },
    {
      "cell_type": "markdown",
      "metadata": {
        "id": "k0HklqYPOWmH"
      },
      "source": [
        "LeetCode 524. Longest Word in Dictionary through Deleting\r\n",
        "\r\n",
        "https://leetcode.com/problems/longest-word-in-dictionary-through-deleting/\r\n",
        "\r\n",
        "Tag: Two Pointers, Google"
      ]
    },
    {
      "cell_type": "code",
      "metadata": {
        "id": "wq3SUoe7Ocw5"
      },
      "source": [
        "class Solution:\r\n",
        "    # check if s is a substring of t\r\n",
        "    def isSubString(self, s: str, t:str) -> bool:\r\n",
        "        if len(s) == 0 or len(t) == 0 or len(s)> len(t):\r\n",
        "            return False\r\n",
        "\r\n",
        "        for i in range(len(s)):\r\n",
        "            try:\r\n",
        "                idx = t.index(s[i]) # always return the smaller index if duplicates\r\n",
        "            except ValueError:\r\n",
        "                return False # doesn't find that char, return False\r\n",
        "\r\n",
        "            t = t[idx+1:] # move to rest of t\r\n",
        "\r\n",
        "        return True # no error happens, s is subtring of t\r\n",
        "    \r\n",
        "    def findLongestWord(self, s: str, d: List[str]) -> str:\r\n",
        "        if len(s) == 0 or len(d) == 0:\r\n",
        "            return \"\"\r\n",
        "        \r\n",
        "        # create a ordered dictionary for d by its word + lengh of each word\r\n",
        "        d = sorted(d, key=len, reverse=True)\r\n",
        "        \r\n",
        "        output = []\r\n",
        "        max_subStr_len = 0\r\n",
        "        \r\n",
        "        for word in d:\r\n",
        "            if self.isSubString(word, s) and len(word) >= max_subStr_len:\r\n",
        "                output.append(word)\r\n",
        "                max_subStr_len = max(max_subStr_len, len(word))\r\n",
        "        if not output:\r\n",
        "            return \"\"\r\n",
        "        else:\r\n",
        "            output.sort()\r\n",
        "            return output[0]\r\n",
        "        "
      ],
      "execution_count": null,
      "outputs": []
    },
    {
      "cell_type": "markdown",
      "metadata": {
        "id": "56FFzggVrI2X"
      },
      "source": [
        "**LeetCode 259**. 3Sum Smaller\n",
        "\n",
        "https://leetcode.com/problems/3sum-smaller/\n",
        "\n",
        "Tag: Google, Two Pointers"
      ]
    },
    {
      "cell_type": "code",
      "metadata": {
        "id": "rV69PlcMrJK5"
      },
      "source": [
        "class Solution:\n",
        "    def threeSumSmaller(self, nums: List[int], target: int) -> int:\n",
        "        # nums is not sorted and cannot change order\n",
        "        # corner case\n",
        "        if len(nums) == 0:\n",
        "            return 0\n",
        "        \n",
        "        nums.sort() # that is the 1st key\n",
        "        output = 0\n",
        "        for x in range(len(nums)):\n",
        "            y = x+1\n",
        "            z = len(nums)-1\n",
        "            while y < z:\n",
        "                curr = nums[x]+nums[y]+nums[z]\n",
        "                if curr < target:\n",
        "                    output += (z-y) # that is the 2nd key. z-y的所有元素都是满足条件的\n",
        "                    y += 1 \n",
        "                else:\n",
        "                    z -= 1\n",
        "        return output\n",
        "                \n",
        "        \n",
        "        # o(n^3)\n",
        "#         output = 0\n",
        "        \n",
        "#         for x in range(len(nums)):\n",
        "#             for y in range(x+1, len(nums)):\n",
        "#                 for z in range(y+1, len(nums)):\n",
        "#                     if nums[x] + nums[y] + nums[z] < target:\n",
        "#                         output += 1\n",
        "#         return output"
      ],
      "execution_count": null,
      "outputs": []
    },
    {
      "cell_type": "markdown",
      "metadata": {
        "id": "5L3uyopI1D4H"
      },
      "source": [
        "**LeetCode 16**. 3Sum Closest\r\n",
        "\r\n",
        "https://leetcode.com/problems/3sum-closest/\r\n",
        "\r\n",
        "Tag: Two Pointers, Sliding Windows, Bloomberg"
      ]
    },
    {
      "cell_type": "code",
      "metadata": {
        "id": "FSDPtIoh1ELH"
      },
      "source": [
        "class Solution:\r\n",
        "    def threeSumClosest(self, nums: List[int], target: int) -> int:\r\n",
        "        if len(nums) == 0:\r\n",
        "            return 0 \r\n",
        "        # 3 sum一般都需要排序\r\n",
        "        nums.sort()\r\n",
        "        diff = float('inf')\r\n",
        "        \r\n",
        "        for idx, n in enumerate(nums): # 1st index \r\n",
        "          # other two index is one next to 1st index and the last index\r\n",
        "            low, high = idx+1, len(nums)-1\r\n",
        "            while low < high:\r\n",
        "                curr_total = nums[idx] + nums[low] + nums[high]\r\n",
        "                # we find a combine that has lower gap from target\r\n",
        "                if abs(target-curr_total) < abs(diff):\r\n",
        "                  # new difference\r\n",
        "                    diff = target - curr_total\r\n",
        "                \r\n",
        "                if curr_total < target:\r\n",
        "                    low += 1\r\n",
        "                else:\r\n",
        "                    high -= 1\r\n",
        "            # 这是最理想的状态，curr_total 和 target一样\r\n",
        "            if diff == 0:\r\n",
        "                break\r\n",
        "            \r\n",
        "        \r\n",
        "        return target - diff"
      ],
      "execution_count": null,
      "outputs": []
    },
    {
      "cell_type": "markdown",
      "metadata": {
        "id": "lc4d_2STrrCF"
      },
      "source": [
        "**LeetCode 881**. Boats to Save People\n",
        "\n",
        "https://leetcode.com/problems/boats-to-save-people/\n",
        "\n",
        "Tag: Two Pointers, Greedy"
      ]
    },
    {
      "cell_type": "code",
      "metadata": {
        "id": "BXBqwFcGr0lT"
      },
      "source": [
        "class Solution:\n",
        "    def numRescueBoats(self, people: List[int], limit: int) -> int:\n",
        "        if len(people) == 0 or limit == 0:\n",
        "            return 0\n",
        "        \n",
        "        people.sort()\n",
        "        \n",
        "        boat = 0\n",
        "        \n",
        "        left = 0 \n",
        "        right = len(people)-1\n",
        "        \n",
        "        while left < right:\n",
        "            if people[left] + people[right] <= limit:\n",
        "                # need a new boat\n",
        "                boat += 1\n",
        "                left += 1\n",
        "                right -= 1\n",
        "            else:\n",
        "                # two people are too heavy. then just put right people on boat\n",
        "                boat += 1\n",
        "                right -= 1\n",
        "        \n",
        "        if left == right:\n",
        "            boat += 1\n",
        "        return boat\n",
        "                "
      ],
      "execution_count": null,
      "outputs": []
    }
  ]
}