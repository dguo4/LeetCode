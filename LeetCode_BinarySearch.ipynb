{
  "nbformat": 4,
  "nbformat_minor": 0,
  "metadata": {
    "colab": {
      "name": "LeetCode_BinarySearch.ipynb",
      "provenance": [],
      "authorship_tag": "ABX9TyOoU4iLaCl9ZaTjaGEi4I4F",
      "include_colab_link": true
    },
    "kernelspec": {
      "name": "python3",
      "display_name": "Python 3"
    },
    "language_info": {
      "name": "python"
    }
  },
  "cells": [
    {
      "cell_type": "markdown",
      "metadata": {
        "id": "view-in-github",
        "colab_type": "text"
      },
      "source": [
        "<a href=\"https://colab.research.google.com/github/dguo4/LeetCode/blob/master/LeetCode_BinarySearch.ipynb\" target=\"_parent\"><img src=\"https://colab.research.google.com/assets/colab-badge.svg\" alt=\"Open In Colab\"/></a>"
      ]
    },
    {
      "cell_type": "markdown",
      "metadata": {
        "id": "SNx2E9Y7HtHZ"
      },
      "source": [
        "LeetCode_BinarySearch\n",
        "\n",
        "1. 排序数组有30%-40%的概率是用二分\n",
        "\n",
        "2. 当需要一个比o(N)更快的算法时候，因为二分是o(logN)\n",
        "\n",
        "3. 找到数组的一个某一个分割，使得左半部分满足一定条件，右半部分不满足的时候 - 99%是二分\n",
        "\n",
        "4. 找到一个最大/最小的值使得某个条件被满足 - 90%概率是二分"
      ]
    },
    {
      "cell_type": "markdown",
      "metadata": {
        "id": "DyH6MzDRHy9z"
      },
      "source": [
        "LeetCode 1351. Count Negative Numbers in a Sorted Matrix\n",
        "\n",
        "https://leetcode.com/problems/count-negative-numbers-in-a-sorted-matrix/\n",
        "\n",
        "Tag: Binary Search, Amazon, Matrix"
      ]
    },
    {
      "cell_type": "code",
      "metadata": {
        "id": "_wCXtF2XHyPw"
      },
      "source": [
        "# Option 1\n",
        "\n",
        "class Solution(object):\n",
        "    def countNegatives(self, grid: List[List[int]]) -> int:\n",
        "        def find_negative(row):\n",
        "            left, right = 0, len(row) - 1\n",
        "            while left + 1 <= right:\n",
        "                mid = (left + right) // 2\n",
        "                if row[mid]<0:\n",
        "                    right = mid\n",
        "                else:\n",
        "                    left = mid+1\n",
        "            # print('left: ', left)\n",
        "            # print('right: ', right)\n",
        "            # print(row[left])\n",
        "            \n",
        "            if row[left] < 0:\n",
        "                return len(row) - left\n",
        "            else:\n",
        "                return len(row) - left - 1\n",
        "        \n",
        "        count = 0\n",
        "        for r in grid:\n",
        "            count += find_negative(r)\n",
        "        return count"
      ],
      "execution_count": null,
      "outputs": []
    },
    {
      "cell_type": "code",
      "metadata": {
        "id": "Avh1IRCdk8kQ"
      },
      "source": [
        "# Option 2\n",
        "\n",
        "class Solution(object):\n",
        "    def countNegatives(self, grid: List[List[int]]) -> int:\n",
        "        def find_negative(row):\n",
        "            left, right = 0, len(row) - 1\n",
        "            while left + 1 < right:\n",
        "                mid = (left + right) // 2\n",
        "                if row[mid]<0:\n",
        "                    right = mid\n",
        "                else:\n",
        "                    left = mid\n",
        "            # print('left: ', left)\n",
        "            # print('right: ', right)\n",
        "            # print(row[left])\n",
        "            \n",
        "            if row[left] < 0:\n",
        "                return len(row) - left\n",
        "            elif row[right] < 0:\n",
        "                return len(row) - left - 1\n",
        "            else:\n",
        "                return 0 \n",
        "            \n",
        "        count = 0\n",
        "        for r in grid:\n",
        "            count += find_negative(r)\n",
        "        return count"
      ],
      "execution_count": null,
      "outputs": []
    },
    {
      "cell_type": "markdown",
      "metadata": {
        "id": "HF7Fny2KlLMq"
      },
      "source": [
        "LeetCode 1337. The K Weakest Rows in a Matrix\n",
        "\n",
        "https://leetcode.com/problems/the-k-weakest-rows-in-a-matrix/\n",
        "\n",
        "Tag: Binary Search, Amazon, Matrix"
      ]
    },
    {
      "cell_type": "code",
      "metadata": {
        "id": "2ei8EuI_lOQC"
      },
      "source": [
        "class Solution:\n",
        "    def kWeakestRows(self, mat: List[List[int]], k: int) -> List[int]:\n",
        "        def binarySearch(row):\n",
        "            left, right = 0, len(row) - 1\n",
        "            while left + 1 < right:\n",
        "                mid = (left+right)//2\n",
        "                if row[mid] == 1:\n",
        "                    left = mid\n",
        "                else:\n",
        "                    right = mid\n",
        "            \n",
        "            if row[right] == 1:\n",
        "                return right + 1\n",
        "            elif row[left] == 1:\n",
        "                return left + 1\n",
        "            else:\n",
        "                return 0 \n",
        "        \n",
        "        # weakest = float('inf')\n",
        "        num_of_soldier = []\n",
        "        \n",
        "        for row_idx, row in enumerate(mat):\n",
        "            num_of_soldier.append([row_idx, binarySearch(row)])\n",
        "        \n",
        "        # print(num_of_soldier)\n",
        "        \n",
        "        num_of_soldier.sort(key = lambda x: [x[1],x[0]])\n",
        "        \n",
        "        # print(num_of_soldier)\n",
        "        \n",
        "        result = []\n",
        "        for i in range(k):\n",
        "            result.append(num_of_soldier[i][0])\n",
        "        \n",
        "        return result"
      ],
      "execution_count": null,
      "outputs": []
    }
  ]
}