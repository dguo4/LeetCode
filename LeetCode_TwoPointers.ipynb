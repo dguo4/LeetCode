{
  "nbformat": 4,
  "nbformat_minor": 0,
  "metadata": {
    "colab": {
      "name": "LeetCode_TwoPointers.ipynb",
      "provenance": [],
      "authorship_tag": "ABX9TyPhQeAc60hiIOrx3B/voBOI",
      "include_colab_link": true
    },
    "kernelspec": {
      "name": "python3",
      "display_name": "Python 3"
    }
  },
  "cells": [
    {
      "cell_type": "markdown",
      "metadata": {
        "id": "view-in-github",
        "colab_type": "text"
      },
      "source": [
        "<a href=\"https://colab.research.google.com/github/dguo4/LeetCode/blob/master/LeetCode_TwoPointers.ipynb\" target=\"_parent\"><img src=\"https://colab.research.google.com/assets/colab-badge.svg\" alt=\"Open In Colab\"/></a>"
      ]
    },
    {
      "cell_type": "markdown",
      "metadata": {
        "id": "M1U2A3chGYzv"
      },
      "source": [
        "**LeetCode 1570.** Dot Product of Two Sparse Vectors\r\n",
        "\r\n",
        "https://leetcode.com/problems/dot-product-of-two-sparse-vectors/\r\n",
        "\r\n",
        "Tag: Two pointers, sparce matrix"
      ]
    },
    {
      "cell_type": "code",
      "metadata": {
        "id": "pyaE0sqzGvm8"
      },
      "source": [
        "class SparseVector:\r\n",
        "    def __init__(self, nums: List[int]):\r\n",
        "        nums_dict ={}\r\n",
        "        if nums: \r\n",
        "            for key, val in enumerate(nums):\r\n",
        "                nums_dict[key] = val\r\n",
        "        self.nums = nums_dict\r\n",
        "    # Return the dotProduct of two sparse vectors\r\n",
        "    def dotProduct(self, vec: 'SparseVector') -> int:\r\n",
        "        result = 0\r\n",
        "        if len(self.nums) < len(vec.nums):\r\n",
        "            for k in self.nums.keys():\r\n",
        "                if k in vec.nums.keys():\r\n",
        "                    result += self.nums[k]*vec.nums[k]\r\n",
        "        else:\r\n",
        "            for k in vec.nums.keys():\r\n",
        "                if k in self.nums.keys():\r\n",
        "                    result += self.nums[k]*vec.nums[k]      \r\n",
        "        return result\r\n",
        "# Your SparseVector object will be instantiated and called as such:\r\n",
        "# v1 = SparseVector(nums1)\r\n",
        "# v2 = SparseVector(nums2)\r\n",
        "# ans = v1.dotProduct(v2)"
      ],
      "execution_count": null,
      "outputs": []
    },
    {
      "cell_type": "markdown",
      "metadata": {
        "id": "upqPteSCHVmX"
      },
      "source": [
        "**LeetCode 763.** Partition Labels\r\n",
        "\r\n",
        "https://leetcode.com/problems/partition-labels/\r\n",
        "\r\n",
        "Tag:Two pointers, Amazon"
      ]
    },
    {
      "cell_type": "code",
      "metadata": {
        "id": "jkCYSpi7Hj_Y"
      },
      "source": [
        "class Solution:\r\n",
        "    def partitionLabels(self, S: str) -> List[int]:\r\n",
        "        if len(S) == 0:\r\n",
        "            return \r\n",
        "        if len(S) == 1:\r\n",
        "            return [1]\r\n",
        "        \r\n",
        "        i = 0\r\n",
        "        output = []\r\n",
        "        temp = []\r\n",
        "        \r\n",
        "        S_dict = Counter(S)\r\n",
        "        \r\n",
        "        while i < len(S):\r\n",
        "            curr_char = S[i]\r\n",
        "            curr_char_count = S_dict[curr_char]\r\n",
        "            if curr_char_count > 0:\r\n",
        "                temp.append(curr_char)\r\n",
        "                S_dict[curr_char] -= 1\r\n",
        "            stop_flag = True\r\n",
        "            for _ in temp:\r\n",
        "                if S_dict[_] != 0:\r\n",
        "                    stop_flag = False\r\n",
        "            if stop_flag:\r\n",
        "                print(temp)\r\n",
        "                output.append(len(''.join(temp)))\r\n",
        "                temp = []\r\n",
        "            i += 1\r\n",
        "        return output"
      ],
      "execution_count": null,
      "outputs": []
    },
    {
      "cell_type": "markdown",
      "metadata": {
        "id": "iYzJb1lLIpXT"
      },
      "source": [
        "**LeetCode 986.** Interval List Intersections\r\n",
        "\r\n",
        "https://leetcode.com/problems/interval-list-intersections/\r\n",
        "\r\n",
        "Tag: Two Pointer, Doordash\r\n",
        "\r\n",
        "Comments: \r\n",
        "\r\n",
        "1. 不要没事找事，把变量名字弄的太复杂。写起来麻烦还容易错\r\n"
      ]
    },
    {
      "cell_type": "code",
      "metadata": {
        "id": "gn1qfahpuYGK",
        "colab": {
          "base_uri": "https://localhost:8080/"
        },
        "outputId": "a43a8f9c-34a3-4a08-9311-b28b53c61f69"
      },
      "source": [
        "class Solution:\r\n",
        "    def intervalIntersection(self, firstList, secondList):\r\n",
        "        if len(firstList) == 0 or len(secondList) == 0:\r\n",
        "            return []\r\n",
        "        \r\n",
        "        first_idx = 0\r\n",
        "        second_idx = 0\r\n",
        "        output = []\r\n",
        "        \r\n",
        "        while first_idx < len(firstList) and second_idx < len(secondList):\r\n",
        "            if firstList[first_idx][1] < secondList[second_idx][0]:\r\n",
        "                first_idx += 1\r\n",
        "            elif secondList[second_idx][1] < firstList[first_idx][0]:\r\n",
        "                second_idx += 1\r\n",
        "            else:\r\n",
        "                left = max(firstList[first_idx][0], secondList[second_idx][0])\r\n",
        "                right = min(firstList[first_idx][1], secondList[second_idx][1])\r\n",
        "                output.append([left, right])\r\n",
        "                if firstList[first_idx][1] < secondList[second_idx][1]:\r\n",
        "                    first_idx += 1\r\n",
        "                else: \r\n",
        "                    second_idx += 1\r\n",
        "        \r\n",
        "        return output\r\n",
        "A = [[0,2],[5,10],[13,23],[24,25]]\r\n",
        "B = [[1,5],[8,12],[15,24],[25,26]]\r\n",
        "test = Solution()\r\n",
        "test.intervalIntersection(A, B)"
      ],
      "execution_count": null,
      "outputs": [
        {
          "output_type": "execute_result",
          "data": {
            "text/plain": [
              "[[1, 2], [5, 5], [8, 10], [15, 23], [24, 24], [25, 25]]"
            ]
          },
          "metadata": {
            "tags": []
          },
          "execution_count": 4
        }
      ]
    },
    {
      "cell_type": "markdown",
      "metadata": {
        "id": "YaQuuZdKvAjw"
      },
      "source": [
        "**LeetCode 1004.** Max Consecutive Ones III\r\n",
        "\r\n",
        "https://leetcode.com/problems/max-consecutive-ones-iii/\r\n",
        "\r\n",
        "Tag: Two Pointers, Facebook, Sliding Windows"
      ]
    },
    {
      "cell_type": "code",
      "metadata": {
        "id": "YV6N4DozuktV"
      },
      "source": [
        "class Solution:\r\n",
        "    def longestOnes(self, A: List[int], K: int) -> int:\r\n",
        "        left = right = 0\r\n",
        "        for right in range(len(A)):\r\n",
        "        # if we encounter a 0 the we decrement K\r\n",
        "            if A[right] == 0:\r\n",
        "                K -= 1\r\n",
        "\r\n",
        "            # if K < 0 then we need to move the left part of the window forward\r\n",
        "            # to try and remove the extra 0's\r\n",
        "            if K < 0:\r\n",
        "              # if the left one was zero then we adjust K.就是说我们不要改之前的0，而是改之后的0.这样k就多了一个出来\r\n",
        "                if A[left] == 0: \r\n",
        "                    K += 1\r\n",
        "              # regardless of whether we had a 1 or a 0 we can move left side by 1\r\n",
        "              # if we keep seeing 1's the window still keeps moving as-is\r\n",
        "                left += 1\r\n",
        "        print(left, '  ', right)\r\n",
        "        return right - left + 1\r\n",
        "\r\n",
        "\r\n",
        "# my original answer cannot solve corner cases with k = 0\r\n",
        "# class Solution:\r\n",
        "#     def longestOnes(self, A: List[int], K: int) -> int:\r\n",
        "#         if len(A) == 0:\r\n",
        "#             return \r\n",
        "        \r\n",
        "#         i = 0 \r\n",
        "#         curr_one_list = []\r\n",
        "#         max_one_list_len = []\r\n",
        "#         temp_k = K\r\n",
        "#         start_change_idx = 0\r\n",
        "        \r\n",
        "#         while i < len(A):\r\n",
        "#             # A[i] == 1\r\n",
        "#             if A[i] == 1:\r\n",
        "#                 curr_one_list.append(A[i])\r\n",
        "#                 i += 1\r\n",
        "#             # A[i] == 0 but we still have chance to change 0 to 1\r\n",
        "#             elif A[i] == 0 and temp_k > 0:\r\n",
        "#                 curr_one_list.append(1)\r\n",
        "#                 # we will remember where to start to change\r\n",
        "#                 if temp_k == K:\r\n",
        "#                     start_change_idx = i\r\n",
        "#                 temp_k -= 1\r\n",
        "#                 i += 1\r\n",
        "#             # resart from initial status\r\n",
        "#             elif A[i] == 0 and temp_k ==0:\r\n",
        "#                 max_one_list_len.append(len(curr_one_list))\r\n",
        "#                 curr_one_list = []\r\n",
        "#                 temp_k = K\r\n",
        "#                 i = start_change_idx+1\r\n",
        "\r\n",
        "\r\n",
        "#         return max(max_one_list_len)"
      ],
      "execution_count": null,
      "outputs": []
    },
    {
      "cell_type": "markdown",
      "metadata": {
        "id": "L0UXnLuCF5WO"
      },
      "source": [
        "**LeetCode 287.** Find the Duplicate Number\r\n",
        "\r\n",
        "https://leetcode.com/problems/find-the-duplicate-number/\r\n",
        "\r\n",
        "Tag: Array, Two Pointers, Binary Search, Bloomberg"
      ]
    },
    {
      "cell_type": "code",
      "metadata": {
        "id": "_duNrJCEGIhY"
      },
      "source": [
        "class Solution:\r\n",
        "    def findDuplicate(self, nums: List[int]) -> int:\r\n",
        "        if len(nums) == 0:\r\n",
        "            return \r\n",
        "        \r\n",
        "        nums_counter = Counter(nums)\r\n",
        "        \r\n",
        "        for k in nums_counter.keys():\r\n",
        "            if nums_counter[k] > 1:\r\n",
        "                return k\r\n",
        "        \r\n",
        "        return "
      ],
      "execution_count": null,
      "outputs": []
    },
    {
      "cell_type": "markdown",
      "metadata": {
        "id": "TEVYQwdkQD9s"
      },
      "source": [
        "**LeetCode 1248.** Count Number of Nice Subarrays\r\n",
        "\r\n",
        "https://leetcode.com/problems/count-number-of-nice-subarrays/\r\n",
        "\r\n",
        "Tag: Two Pointers, Sliding Window, Roblox\r\n"
      ]
    },
    {
      "cell_type": "code",
      "metadata": {
        "id": "4Ut88lXaj4Ik"
      },
      "source": [
        "# class Solution:\r\n",
        "#     def numberOfSubarrays(self, nums: List[int], k: int) -> int:\r\n",
        "#         if len(nums) == 0 or k ==0:\r\n",
        "#             return 0\r\n",
        "        \r\n",
        "#         output = []\r\n",
        "        \r\n",
        "#         for i in range(len(nums)):\r\n",
        "#             temp_list = []\r\n",
        "#             temp_k = k\r\n",
        "#             j = i\r\n",
        "#             while temp_k > 0 and j < len(nums):\r\n",
        "#                 temp_list.append(nums[j])\r\n",
        "#                 if nums[j] % 2 == 1:\r\n",
        "#                     temp_k -= 1\r\n",
        "#                 j += 1\r\n",
        "#                 curr_k = temp_k\r\n",
        "#             if len(temp_list) != 0 and curr_k == 0:\r\n",
        "#                 output.append(temp_list)\r\n",
        "        \r\n",
        "#         print(output)\r\n",
        "        \r\n",
        "#         return len(output)\r\n",
        "\r\n",
        "class Solution:\r\n",
        "    def numberOfSubarrays(self, nums: List[int], k: int) -> int:\r\n",
        "        dic = { 0: 1 }\r\n",
        "        # cnt: accumulated odd numbers in list\r\n",
        "        # res: result\r\n",
        "        cnt = res = 0\r\n",
        "        for idx, num in enumerate(nums):\r\n",
        "            if num % 2 == 1:\r\n",
        "                cnt += 1\r\n",
        "\r\n",
        "            if cnt - k in dic:\r\n",
        "                res += dic[cnt-k]\r\n",
        "\r\n",
        "            dic[cnt] = dic.get(cnt, 0) + 1\r\n",
        "            print('---')\r\n",
        "            print(dic)\r\n",
        "            print(res)\r\n",
        "\r\n",
        "        return res\r\n"
      ],
      "execution_count": null,
      "outputs": []
    },
    {
      "cell_type": "markdown",
      "metadata": {
        "id": "WyezFwk7vLUz"
      },
      "source": [
        "**LeetCode 1229**. Meeting Scheduler\n",
        "\n",
        "https://leetcode.com/problems/meeting-scheduler/\n",
        "\n",
        "Tag: Two Pointer, Paypal"
      ]
    },
    {
      "cell_type": "code",
      "metadata": {
        "id": "-P7Wvk6uvR7s"
      },
      "source": [
        "class Solution:\n",
        "    def minAvailableDuration(self, slots1: List[List[int]], slots2: List[List[int]], duration: int) -> List[int]:\n",
        "        if len(slots1) == 0 or len(slots2) == 0:\n",
        "            return []\n",
        "        \n",
        "        slots1.sort()\n",
        "        slots2.sort()\n",
        "        \n",
        "        i = 0 # index for slots1\n",
        "        j = 0 # index for slots2\n",
        "        output = []\n",
        "        \n",
        "        \n",
        "        while i < len(slots1) and j < len(slots2):\n",
        "            left = max(slots1[i][0], slots2[j][0])\n",
        "            right = min(slots1[i][1], slots2[j][1])\n",
        "            if left <= right:\n",
        "                output.append([left, right])\n",
        "            if slots1[i][1] < slots2[j][1]:\n",
        "                i += 1\n",
        "            else:\n",
        "                j += 1\n",
        "        \n",
        "        print(output)\n",
        "        for s in output:\n",
        "            if s[1]-s[0] >= duration:\n",
        "                return [s[0], s[0]+duration]\n",
        "        \n",
        "        return []"
      ],
      "execution_count": null,
      "outputs": []
    },
    {
      "cell_type": "markdown",
      "metadata": {
        "id": "k_tfhiRgvgjb"
      },
      "source": [
        "**LeetCode 11**. Container With Most Water\n",
        "\n",
        "https://leetcode.com/problems/container-with-most-water/\n",
        "\n",
        "Tag: Two Pointers, Bloomberg"
      ]
    },
    {
      "cell_type": "code",
      "metadata": {
        "id": "48IPEmIEvxFN"
      },
      "source": [
        "class Solution:\n",
        "    def maxArea(self, height: List[int]) -> int:\n",
        "        # might needt an alog to reduce from o(n^2) to o(nlogn) - guess\n",
        "        # actually below algo reduce to o(n)\n",
        "        if len(height) == 0:\n",
        "            return 0\n",
        "        \n",
        "        # the orinal max water we could get using the most left and right heights\n",
        "        water = min(height[0], height[-1])*(len(height)-1)\n",
        "        \n",
        "        i = 0\n",
        "        j = -1\n",
        "        \n",
        "        while i < len(height) and abs(j) < len(height):\n",
        "            if height[i] < height[j]:\n",
        "                i += 1\n",
        "            else:\n",
        "                j -= 1\n",
        "            water = max(water, min(height[i], height[j])*(len(height)+j-i))\n",
        "            \n",
        "        return water\n",
        "        \n",
        "#         # o(n^2) will cause TLE\n",
        "#         if len(height) == 0:\n",
        "#             return 0\n",
        "        \n",
        "#         container = []\n",
        "        \n",
        "#         for i in range(len(height)):\n",
        "#             for j in range(i, len(height)):\n",
        "#                 size = (j-i)*min(height[i], height[j])\n",
        "#                 container.append(size)\n",
        "        \n",
        "#         return max(container)\n",
        "            "
      ],
      "execution_count": null,
      "outputs": []
    },
    {
      "cell_type": "markdown",
      "metadata": {
        "id": "BWk6OgKmwVcW"
      },
      "source": [
        "**LeetCode 159**. Longest Substring with At Most Two Distinct Characters\n",
        "\n",
        "https://leetcode.com/problems/longest-substring-with-at-most-two-distinct-characters/\n",
        "\n",
        "Tag: Two Pointers, Sliding Windows, Google"
      ]
    },
    {
      "cell_type": "code",
      "metadata": {
        "id": "oqGRyuNiwiUI"
      },
      "source": [
        "class Solution:\n",
        "    def lengthOfLongestSubstringTwoDistinct(self, s: str) -> int:\n",
        "        ## RC ##\n",
        "        ## APPROACH : SLIDING WINDOW ##\n",
        "        ## Similar to Leetcode : 424. Longest Repeating Character Replacement ##\n",
        "        ## Similar to Leetcode : 904. Fruit Into Basket ##\n",
        "        ## SAME CODE : 340. Longest Substring with At Most K Distinct Characters ##\n",
        "\t\t\n",
        "        ## TIME COMPLEXICITY : O(N) ## (?)\n",
        "\t\t    ## SPACE COMPLEXICITY : O(N) ##\n",
        "        if len(s) == 0 or len(s) == 1:\n",
        "            return len(s)\n",
        "        \n",
        "        subStr_dict = collections.defaultdict(int)\n",
        "        left = right = 0\n",
        "        max_len = float('-inf')\n",
        "        k = 2\n",
        "        \n",
        "        while right < len(s):\n",
        "            subStr_dict[s[right]] += 1\n",
        "            # move right pointer to left\n",
        "            right += 1\n",
        "            while len(subStr_dict) > k:\n",
        "                subStr_dict[s[left]] -= 1\n",
        "                if subStr_dict[s[left]] == 0:\n",
        "                    del subStr_dict[s[left]]\n",
        "                left += 1\n",
        "            max_len = max(max_len, right-left)\n",
        "            \n",
        "        return max_len\n",
        "            "
      ],
      "execution_count": null,
      "outputs": []
    },
    {
      "cell_type": "markdown",
      "metadata": {
        "id": "k5HQaMJ6cPAz"
      },
      "source": [
        "**LeetCode838**. Push Dominoes\r\n",
        "\r\n",
        "https://leetcode.com/problems/push-dominoes/\r\n",
        "\r\n",
        "Tag: Two Pointers, DP, Google"
      ]
    },
    {
      "cell_type": "code",
      "metadata": {
        "id": "xAG8H0gjcPV5"
      },
      "source": [
        "class Solution:\r\n",
        "    def pushDominoes(self, dominoes: str) -> str:\r\n",
        "        dominoes = list(dominoes)\r\n",
        "        leftSet = set()\r\n",
        "        rightSet = set()\r\n",
        "        n = len(dominoes)\r\n",
        "        for i in range(n):\r\n",
        "            s = dominoes[i]\r\n",
        "            if s == 'R' and i + 1 < n:\r\n",
        "                rightSet.add(i+1) # right move will impact right dominoe\r\n",
        "            if s == 'L' and i != 0:\r\n",
        "                leftSet.add(i-1) # left move will impact left dominoe\r\n",
        "        \r\n",
        "        # left set stores the idx of dominoe impacted by left move of dominoe\r\n",
        "        print('left set is: ', leftSet)\r\n",
        "        # right set stores the idx of dominoe impacted by right move of dominoe\r\n",
        "        print('rigth set is: ', rightSet)\r\n",
        "        \r\n",
        "        while leftSet or rightSet:\r\n",
        "            newleftSet = set()\r\n",
        "            newrightSet = set()\r\n",
        "            for i in leftSet:\r\n",
        "                # 如果是一个竖直的dominoe\r\n",
        "                if dominoes[i] == '.':\r\n",
        "                    # 如果这个dominoe还受到R的move，那么他就不会动，而且rightSet中就可以remove这个idx了\r\n",
        "                    if i in rightSet:\r\n",
        "                        rightSet.remove(i)\r\n",
        "                    else:\r\n",
        "                        # 如果这个dominoe没有受到其他move的影响，那么他就会move L，所以把它加到新的leftSet中\r\n",
        "                        dominoes[i] = 'L'\r\n",
        "                        # 同理，如果这个dominoe move L,那么它左边的dominoe也会受影响\r\n",
        "                        if i != 0:\r\n",
        "                            newleftSet.add(i-1)\r\n",
        "            for j in rightSet:\r\n",
        "                    if dominoes[j] == '.':\r\n",
        "                        dominoes[j] = 'R'\r\n",
        "                        if j != n - 1:\r\n",
        "                            newrightSet.add(j+1)\r\n",
        "            \r\n",
        "            leftSet = newleftSet\r\n",
        "            rightSet = newrightSet\r\n",
        "        \r\n",
        "        return ''.join(dominoes)"
      ],
      "execution_count": null,
      "outputs": []
    }
  ]
}