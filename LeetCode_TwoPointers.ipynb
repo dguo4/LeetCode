{
  "nbformat": 4,
  "nbformat_minor": 0,
  "metadata": {
    "colab": {
      "name": "LeetCode_TwoPointers.ipynb",
      "provenance": [],
      "authorship_tag": "ABX9TyMYyHNxD9rpoy+/Et08jfRU",
      "include_colab_link": true
    },
    "kernelspec": {
      "name": "python3",
      "display_name": "Python 3"
    }
  },
  "cells": [
    {
      "cell_type": "markdown",
      "metadata": {
        "id": "view-in-github",
        "colab_type": "text"
      },
      "source": [
        "<a href=\"https://colab.research.google.com/github/dguo4/LeetCode/blob/master/LeetCode_TwoPointers.ipynb\" target=\"_parent\"><img src=\"https://colab.research.google.com/assets/colab-badge.svg\" alt=\"Open In Colab\"/></a>"
      ]
    },
    {
      "cell_type": "markdown",
      "metadata": {
        "id": "M1U2A3chGYzv"
      },
      "source": [
        "**LeetCode 1570.** Dot Product of Two Sparse Vectors\r\n",
        "\r\n",
        "https://leetcode.com/problems/dot-product-of-two-sparse-vectors/\r\n",
        "\r\n",
        "Tag: Two pointers, sparce matrix"
      ]
    },
    {
      "cell_type": "code",
      "metadata": {
        "id": "pyaE0sqzGvm8"
      },
      "source": [
        "class SparseVector:\r\n",
        "    def __init__(self, nums: List[int]):\r\n",
        "        nums_dict ={}\r\n",
        "        if nums: \r\n",
        "            for key, val in enumerate(nums):\r\n",
        "                nums_dict[key] = val\r\n",
        "        self.nums = nums_dict\r\n",
        "    # Return the dotProduct of two sparse vectors\r\n",
        "    def dotProduct(self, vec: 'SparseVector') -> int:\r\n",
        "        result = 0\r\n",
        "        if len(self.nums) < len(vec.nums):\r\n",
        "            for k in self.nums.keys():\r\n",
        "                if k in vec.nums.keys():\r\n",
        "                    result += self.nums[k]*vec.nums[k]\r\n",
        "        else:\r\n",
        "            for k in vec.nums.keys():\r\n",
        "                if k in self.nums.keys():\r\n",
        "                    result += self.nums[k]*vec.nums[k]      \r\n",
        "        return result\r\n",
        "# Your SparseVector object will be instantiated and called as such:\r\n",
        "# v1 = SparseVector(nums1)\r\n",
        "# v2 = SparseVector(nums2)\r\n",
        "# ans = v1.dotProduct(v2)"
      ],
      "execution_count": null,
      "outputs": []
    },
    {
      "cell_type": "markdown",
      "metadata": {
        "id": "upqPteSCHVmX"
      },
      "source": [
        "**LeetCode 763.** Partition Labels\r\n",
        "\r\n",
        "https://leetcode.com/problems/partition-labels/\r\n",
        "\r\n",
        "Tag:Two pointers, Amazon"
      ]
    },
    {
      "cell_type": "code",
      "metadata": {
        "id": "jkCYSpi7Hj_Y"
      },
      "source": [
        "class Solution:\r\n",
        "    def partitionLabels(self, S: str) -> List[int]:\r\n",
        "        if len(S) == 0:\r\n",
        "            return \r\n",
        "        if len(S) == 1:\r\n",
        "            return [1]\r\n",
        "        \r\n",
        "        i = 0\r\n",
        "        output = []\r\n",
        "        temp = []\r\n",
        "        \r\n",
        "        S_dict = Counter(S)\r\n",
        "        \r\n",
        "        while i < len(S):\r\n",
        "            curr_char = S[i]\r\n",
        "            curr_char_count = S_dict[curr_char]\r\n",
        "            if curr_char_count > 0:\r\n",
        "                temp.append(curr_char)\r\n",
        "                S_dict[curr_char] -= 1\r\n",
        "            stop_flag = True\r\n",
        "            for _ in temp:\r\n",
        "                if S_dict[_] != 0:\r\n",
        "                    stop_flag = False\r\n",
        "            if stop_flag:\r\n",
        "                print(temp)\r\n",
        "                output.append(len(''.join(temp)))\r\n",
        "                temp = []\r\n",
        "            i += 1\r\n",
        "        return output"
      ],
      "execution_count": null,
      "outputs": []
    },
    {
      "cell_type": "markdown",
      "metadata": {
        "id": "iYzJb1lLIpXT"
      },
      "source": [
        "**LeetCode 986.** Interval List Intersections\r\n",
        "\r\n",
        "https://leetcode.com/problems/interval-list-intersections/\r\n",
        "\r\n",
        "Tag: Two Pointer, Doordash\r\n",
        "\r\n",
        "Comments: \r\n",
        "\r\n",
        "1. 不要没事找事，把变量名字弄的太复杂。写起来麻烦还容易错\r\n"
      ]
    },
    {
      "cell_type": "code",
      "metadata": {
        "id": "gn1qfahpuYGK",
        "colab": {
          "base_uri": "https://localhost:8080/"
        },
        "outputId": "a43a8f9c-34a3-4a08-9311-b28b53c61f69"
      },
      "source": [
        "class Solution:\r\n",
        "    def intervalIntersection(self, firstList, secondList):\r\n",
        "        if len(firstList) == 0 or len(secondList) == 0:\r\n",
        "            return []\r\n",
        "        \r\n",
        "        first_idx = 0\r\n",
        "        second_idx = 0\r\n",
        "        output = []\r\n",
        "        \r\n",
        "        while first_idx < len(firstList) and second_idx < len(secondList):\r\n",
        "            if firstList[first_idx][1] < secondList[second_idx][0]:\r\n",
        "                first_idx += 1\r\n",
        "            elif secondList[second_idx][1] < firstList[first_idx][0]:\r\n",
        "                second_idx += 1\r\n",
        "            else:\r\n",
        "                left = max(firstList[first_idx][0], secondList[second_idx][0])\r\n",
        "                right = min(firstList[first_idx][1], secondList[second_idx][1])\r\n",
        "                output.append([left, right])\r\n",
        "                if firstList[first_idx][1] < secondList[second_idx][1]:\r\n",
        "                    first_idx += 1\r\n",
        "                else: \r\n",
        "                    second_idx += 1\r\n",
        "        \r\n",
        "        return output\r\n",
        "A = [[0,2],[5,10],[13,23],[24,25]]\r\n",
        "B = [[1,5],[8,12],[15,24],[25,26]]\r\n",
        "test = Solution()\r\n",
        "test.intervalIntersection(A, B)"
      ],
      "execution_count": null,
      "outputs": [
        {
          "output_type": "execute_result",
          "data": {
            "text/plain": [
              "[[1, 2], [5, 5], [8, 10], [15, 23], [24, 24], [25, 25]]"
            ]
          },
          "metadata": {
            "tags": []
          },
          "execution_count": 4
        }
      ]
    },
    {
      "cell_type": "markdown",
      "metadata": {
        "id": "YaQuuZdKvAjw"
      },
      "source": [
        "**LeetCode 1004.** Max Consecutive Ones III\r\n",
        "\r\n",
        "https://leetcode.com/problems/max-consecutive-ones-iii/\r\n",
        "\r\n",
        "Tag: Two Pointers, Facebook, Sliding Windows"
      ]
    },
    {
      "cell_type": "code",
      "metadata": {
        "id": "YV6N4DozuktV"
      },
      "source": [
        "class Solution:\r\n",
        "    def longestOnes(self, A: List[int], K: int) -> int:\r\n",
        "        left = right = 0\r\n",
        "        for right in range(len(A)):\r\n",
        "        # if we encounter a 0 the we decrement K\r\n",
        "            if A[right] == 0:\r\n",
        "                K -= 1\r\n",
        "\r\n",
        "            # if K < 0 then we need to move the left part of the window forward\r\n",
        "            # to try and remove the extra 0's\r\n",
        "            if K < 0:\r\n",
        "              # if the left one was zero then we adjust K.就是说我们不要改之前的0，而是改之后的0.这样k就多了一个出来\r\n",
        "                if A[left] == 0: \r\n",
        "                    K += 1\r\n",
        "              # regardless of whether we had a 1 or a 0 we can move left side by 1\r\n",
        "              # if we keep seeing 1's the window still keeps moving as-is\r\n",
        "                left += 1\r\n",
        "        print(left, '  ', right)\r\n",
        "        return right - left + 1\r\n",
        "\r\n",
        "\r\n",
        "# my original answer cannot solve corner cases with k = 0\r\n",
        "# class Solution:\r\n",
        "#     def longestOnes(self, A: List[int], K: int) -> int:\r\n",
        "#         if len(A) == 0:\r\n",
        "#             return \r\n",
        "        \r\n",
        "#         i = 0 \r\n",
        "#         curr_one_list = []\r\n",
        "#         max_one_list_len = []\r\n",
        "#         temp_k = K\r\n",
        "#         start_change_idx = 0\r\n",
        "        \r\n",
        "#         while i < len(A):\r\n",
        "#             # A[i] == 1\r\n",
        "#             if A[i] == 1:\r\n",
        "#                 curr_one_list.append(A[i])\r\n",
        "#                 i += 1\r\n",
        "#             # A[i] == 0 but we still have chance to change 0 to 1\r\n",
        "#             elif A[i] == 0 and temp_k > 0:\r\n",
        "#                 curr_one_list.append(1)\r\n",
        "#                 # we will remember where to start to change\r\n",
        "#                 if temp_k == K:\r\n",
        "#                     start_change_idx = i\r\n",
        "#                 temp_k -= 1\r\n",
        "#                 i += 1\r\n",
        "#             # resart from initial status\r\n",
        "#             elif A[i] == 0 and temp_k ==0:\r\n",
        "#                 max_one_list_len.append(len(curr_one_list))\r\n",
        "#                 curr_one_list = []\r\n",
        "#                 temp_k = K\r\n",
        "#                 i = start_change_idx+1\r\n",
        "\r\n",
        "\r\n",
        "#         return max(max_one_list_len)"
      ],
      "execution_count": null,
      "outputs": []
    },
    {
      "cell_type": "markdown",
      "metadata": {
        "id": "L0UXnLuCF5WO"
      },
      "source": [
        "**LeetCode 287.** Find the Duplicate Number\r\n",
        "\r\n",
        "https://leetcode.com/problems/find-the-duplicate-number/\r\n",
        "\r\n",
        "Tag: Array, Two Pointers, Binary Search, Bloomberg"
      ]
    },
    {
      "cell_type": "code",
      "metadata": {
        "id": "_duNrJCEGIhY"
      },
      "source": [
        "class Solution:\r\n",
        "    def findDuplicate(self, nums: List[int]) -> int:\r\n",
        "        if len(nums) == 0:\r\n",
        "            return \r\n",
        "        \r\n",
        "        nums_counter = Counter(nums)\r\n",
        "        \r\n",
        "        for k in nums_counter.keys():\r\n",
        "            if nums_counter[k] > 1:\r\n",
        "                return k\r\n",
        "        \r\n",
        "        return "
      ],
      "execution_count": null,
      "outputs": []
    },
    {
      "cell_type": "markdown",
      "metadata": {
        "id": "TEVYQwdkQD9s"
      },
      "source": [
        "**LeetCode 1248.** Count Number of Nice Subarrays\r\n",
        "\r\n",
        "https://leetcode.com/problems/count-number-of-nice-subarrays/\r\n",
        "\r\n",
        "Tag: Two Pointers, Sliding Window, Roblox\r\n"
      ]
    },
    {
      "cell_type": "code",
      "metadata": {
        "id": "4Ut88lXaj4Ik"
      },
      "source": [
        "# class Solution:\r\n",
        "#     def numberOfSubarrays(self, nums: List[int], k: int) -> int:\r\n",
        "#         if len(nums) == 0 or k ==0:\r\n",
        "#             return 0\r\n",
        "        \r\n",
        "#         output = []\r\n",
        "        \r\n",
        "#         for i in range(len(nums)):\r\n",
        "#             temp_list = []\r\n",
        "#             temp_k = k\r\n",
        "#             j = i\r\n",
        "#             while temp_k > 0 and j < len(nums):\r\n",
        "#                 temp_list.append(nums[j])\r\n",
        "#                 if nums[j] % 2 == 1:\r\n",
        "#                     temp_k -= 1\r\n",
        "#                 j += 1\r\n",
        "#                 curr_k = temp_k\r\n",
        "#             if len(temp_list) != 0 and curr_k == 0:\r\n",
        "#                 output.append(temp_list)\r\n",
        "        \r\n",
        "#         print(output)\r\n",
        "        \r\n",
        "#         return len(output)\r\n",
        "\r\n",
        "class Solution:\r\n",
        "    def numberOfSubarrays(self, nums: List[int], k: int) -> int:\r\n",
        "        dic = { 0: 1 }\r\n",
        "        # cnt: accumulated odd numbers in list\r\n",
        "        # res: result\r\n",
        "        cnt = res = 0\r\n",
        "        for idx, num in enumerate(nums):\r\n",
        "            if num % 2 == 1:\r\n",
        "                cnt += 1\r\n",
        "\r\n",
        "            if cnt - k in dic:\r\n",
        "                res += dic[cnt-k]\r\n",
        "\r\n",
        "            dic[cnt] = dic.get(cnt, 0) + 1\r\n",
        "            print('---')\r\n",
        "            print(dic)\r\n",
        "            print(res)\r\n",
        "\r\n",
        "        return res\r\n"
      ],
      "execution_count": null,
      "outputs": []
    },
    {
      "cell_type": "markdown",
      "metadata": {
        "id": "WyezFwk7vLUz"
      },
      "source": [
        "**LeetCode 1229**. Meeting Scheduler\n",
        "\n",
        "https://leetcode.com/problems/meeting-scheduler/\n",
        "\n",
        "Tag: Two Pointer, Paypal"
      ]
    },
    {
      "cell_type": "code",
      "metadata": {
        "id": "-P7Wvk6uvR7s"
      },
      "source": [
        "class Solution:\n",
        "    def minAvailableDuration(self, slots1: List[List[int]], slots2: List[List[int]], duration: int) -> List[int]:\n",
        "        if len(slots1) == 0 or len(slots2) == 0:\n",
        "            return []\n",
        "        \n",
        "        slots1.sort()\n",
        "        slots2.sort()\n",
        "        \n",
        "        i = 0 # index for slots1\n",
        "        j = 0 # index for slots2\n",
        "        output = []\n",
        "        \n",
        "        \n",
        "        while i < len(slots1) and j < len(slots2):\n",
        "            left = max(slots1[i][0], slots2[j][0])\n",
        "            right = min(slots1[i][1], slots2[j][1])\n",
        "            if left <= right:\n",
        "                output.append([left, right])\n",
        "            if slots1[i][1] < slots2[j][1]:\n",
        "                i += 1\n",
        "            else:\n",
        "                j += 1\n",
        "        \n",
        "        print(output)\n",
        "        for s in output:\n",
        "            if s[1]-s[0] >= duration:\n",
        "                return [s[0], s[0]+duration]\n",
        "        \n",
        "        return []"
      ],
      "execution_count": null,
      "outputs": []
    },
    {
      "cell_type": "markdown",
      "metadata": {
        "id": "k_tfhiRgvgjb"
      },
      "source": [
        "**LeetCode 11**. Container With Most Water\n",
        "\n",
        "https://leetcode.com/problems/container-with-most-water/\n",
        "\n",
        "Tag: Two Pointers, Bloomberg"
      ]
    },
    {
      "cell_type": "code",
      "metadata": {
        "id": "48IPEmIEvxFN"
      },
      "source": [
        "class Solution:\n",
        "    def maxArea(self, height: List[int]) -> int:\n",
        "        # might needt an alog to reduce from o(n^2) to o(nlogn) - guess\n",
        "        # actually below algo reduce to o(n)\n",
        "        if len(height) == 0:\n",
        "            return 0\n",
        "        \n",
        "        # the orinal max water we could get using the most left and right heights\n",
        "        water = min(height[0], height[-1])*(len(height)-1)\n",
        "        \n",
        "        i = 0\n",
        "        j = -1\n",
        "        \n",
        "        while i < len(height) and abs(j) < len(height):\n",
        "            if height[i] < height[j]:\n",
        "                i += 1\n",
        "            else:\n",
        "                j -= 1\n",
        "            water = max(water, min(height[i], height[j])*(len(height)+j-i))\n",
        "            \n",
        "        return water\n",
        "        \n",
        "#         # o(n^2) will cause TLE\n",
        "#         if len(height) == 0:\n",
        "#             return 0\n",
        "        \n",
        "#         container = []\n",
        "        \n",
        "#         for i in range(len(height)):\n",
        "#             for j in range(i, len(height)):\n",
        "#                 size = (j-i)*min(height[i], height[j])\n",
        "#                 container.append(size)\n",
        "        \n",
        "#         return max(container)\n",
        "            "
      ],
      "execution_count": null,
      "outputs": []
    },
    {
      "cell_type": "markdown",
      "metadata": {
        "id": "BWk6OgKmwVcW"
      },
      "source": [
        "**LeetCode 159**. Longest Substring with At Most Two Distinct Characters\n",
        "\n",
        "https://leetcode.com/problems/longest-substring-with-at-most-two-distinct-characters/\n",
        "\n",
        "Tag: Two Pointers, Sliding Windows, Google"
      ]
    },
    {
      "cell_type": "code",
      "metadata": {
        "id": "oqGRyuNiwiUI"
      },
      "source": [
        "class Solution:\n",
        "    def lengthOfLongestSubstringTwoDistinct(self, s: str) -> int:\n",
        "        ## RC ##\n",
        "        ## APPROACH : SLIDING WINDOW ##\n",
        "        ## Similar to Leetcode : 424. Longest Repeating Character Replacement ##\n",
        "        ## Similar to Leetcode : 904. Fruit Into Basket ##\n",
        "        ## SAME CODE : 340. Longest Substring with At Most K Distinct Characters ##\n",
        "\t\t\n",
        "        ## TIME COMPLEXICITY : O(N) ## (?)\n",
        "\t\t    ## SPACE COMPLEXICITY : O(N) ##\n",
        "        if len(s) == 0 or len(s) == 1:\n",
        "            return len(s)\n",
        "        \n",
        "        subStr_dict = collections.defaultdict(int)\n",
        "        left = right = 0\n",
        "        max_len = float('-inf')\n",
        "        k = 2\n",
        "        \n",
        "        while right < len(s):\n",
        "            subStr_dict[s[right]] += 1\n",
        "            # move right pointer to left\n",
        "            right += 1\n",
        "            while len(subStr_dict) > k:\n",
        "                subStr_dict[s[left]] -= 1\n",
        "                if subStr_dict[s[left]] == 0:\n",
        "                    del subStr_dict[s[left]]\n",
        "                left += 1\n",
        "            max_len = max(max_len, right-left)\n",
        "            \n",
        "        return max_len\n",
        "            "
      ],
      "execution_count": null,
      "outputs": []
    },
    {
      "cell_type": "markdown",
      "metadata": {
        "id": "AcW-ykjA-VaY"
      },
      "source": [
        "**LeetCode 424**. Longest Repeating Character Replacement\n",
        "\n",
        "https://leetcode.com/problems/longest-repeating-character-replacement/\n",
        "\n",
        "Tag: Two Pointers, Sliding Window, "
      ]
    },
    {
      "cell_type": "code",
      "metadata": {
        "id": "9QZcqJPn-n3Y"
      },
      "source": [
        "class Solution:\n",
        "    def characterReplacement(self, s: str, k: int) -> int:\n",
        "        if len(s) == 0 or len(s) == 1:\n",
        "            return len(s)\n",
        "        \n",
        "        \n",
        "        subStr_dict = collections.defaultdict(int)\n",
        "        left = right = 0\n",
        "        max_len = 0\n",
        "        max_repeated = 0\n",
        "        \n",
        "        while right < len(s):\n",
        "            # move right pointer\n",
        "            subStr_dict[s[right]] += 1\n",
        "            max_repeated = max(max_repeated, subStr_dict[s[right]])\n",
        "            right += 1\n",
        "            \n",
        "            # move left pointer\n",
        "            if (right - left - max_repeated) > k:\n",
        "                subStr_dict[s[left]] -= 1\n",
        "                if subStr_dict[s[left]] == 0:\n",
        "                    del subStr_dict[s[left]]\n",
        "                left += 1\n",
        "            max_len = max(max_len, right - left)\n",
        "            \n",
        "        return max_len"
      ],
      "execution_count": null,
      "outputs": []
    },
    {
      "cell_type": "markdown",
      "metadata": {
        "id": "3G3ub6GO-yCQ"
      },
      "source": [
        "**LeetCode 904.** Fruit Into Baskets\n",
        "\n",
        "https://leetcode.com/problems/fruit-into-baskets/\n",
        "\n",
        "Tag: Two Pointers, Sliding Windows, Google"
      ]
    },
    {
      "cell_type": "code",
      "metadata": {
        "id": "kU6kWCWs-5H4"
      },
      "source": [
        "class Solution:\n",
        "    def totalFruit(self, tree: List[int]) -> int:\n",
        "\n",
        "        tracker = collections.defaultdict(int)\n",
        "        start = result = 0\n",
        "        \n",
        "        for end in range(len(tree)):\n",
        "            tracker[tree[end]] += 1\n",
        "            while len(tracker) > 2:\n",
        "                tracker[tree[start]] -= 1\n",
        "                if tracker[tree[start]] == 0: del tracker[tree[start]]\n",
        "                start += 1\n",
        "            result = max(result, end - start + 1)\n",
        "        \n",
        "        return result\n"
      ],
      "execution_count": null,
      "outputs": []
    },
    {
      "cell_type": "markdown",
      "metadata": {
        "id": "tRHVEekryEZz"
      },
      "source": [
        "**LeetCode 1695.** Maximum Erasure Value\r\n",
        "\r\n",
        "https://leetcode.com/problems/maximum-erasure-value/\r\n",
        "\r\n",
        "Tag: Two Pointers, Sliding Windows, Cashfree"
      ]
    },
    {
      "cell_type": "code",
      "metadata": {
        "id": "GyoF1iGwycV_"
      },
      "source": [
        "class Solution:\r\n",
        "    def maximumUniqueSubarray(self, nums: List[int]) -> int:\r\n",
        "        # if len(nums) == 0:\r\n",
        "        #     return 0\r\n",
        "        # if len(nums) == 1:\r\n",
        "        #     return nums[0]\r\n",
        "        \r\n",
        "        subStr_dict = collections.defaultdict(int)\r\n",
        "        subStr_total = 0\r\n",
        "        curr_total = 0\r\n",
        "        left = right = 0\r\n",
        "        \r\n",
        "        while right < len(nums):\r\n",
        "            # right pointer\r\n",
        "            subStr_dict[nums[right]] += 1\r\n",
        "            curr_total += nums[right]\r\n",
        "            \r\n",
        "            # left pointer\r\n",
        "            while subStr_dict[nums[right]] > 1: # there are some duplicate character \r\n",
        "                subStr_dict[nums[left]] -= 1 # remove nums[left] from sub string\r\n",
        "                curr_total -= nums[left]\r\n",
        "                if subStr_dict[nums[left]] == 0:\r\n",
        "                    del subStr_dict[nums[left]]\r\n",
        "                left += 1\r\n",
        "            right += 1\r\n",
        "            subStr_total = max(subStr_total, curr_total)\r\n",
        "        return subStr_total\r\n",
        "                "
      ],
      "execution_count": null,
      "outputs": []
    },
    {
      "cell_type": "markdown",
      "metadata": {
        "id": "ElynvUeRz9vo"
      },
      "source": [
        "**LeetCode 424**. Longest Repeating Character Replacement\n",
        "\n",
        "https://leetcode.com/problems/longest-repeating-character-replacement/\n",
        "\n",
        "Tag: Two Pointers, Sliding Window"
      ]
    },
    {
      "cell_type": "code",
      "metadata": {
        "id": "Yy2WdNHFIs-_"
      },
      "source": [
        "class Solution:\n",
        "    def characterReplacement(self, s: str, k: int) -> int:\n",
        "        if len(s) == 0:\n",
        "            return 0\n",
        "        \n",
        "        left = 0\n",
        "        right = len(s) - 1\n",
        "        temp_k = k\n",
        "        max_subStr_len = 0\n",
        "        \n",
        "        subStr_dict = collections.defaultdict(int) # store the frequency and char\n",
        "        left = right = 0\n",
        "        max_char_freq = 0\n",
        "        while right < len(s):\n",
        "            # right pointer: easy one\n",
        "            subStr_dict[s[right]] += 1\n",
        "            \n",
        "            # left pointer: hard one\n",
        "            max_char_freq = max(max_char_freq, subStr_dict[s[right]]) # always pick the most frequent char\n",
        "            if (right-left+1) - max_char_freq > k: # we have more char need to be replaced. we will need to move left pointer to next position\n",
        "                subStr_dict[s[left]] -= 1 \n",
        "                left += 1\n",
        "            else:\n",
        "                # we could replace all different char (#<k). the length of subString will be (right-left+1)\n",
        "                max_subStr_len = max(max_subStr_len, (right-left+1))\n",
        "\n",
        "            right += 1\n",
        "        return max_subStr_len"
      ],
      "execution_count": null,
      "outputs": []
    },
    {
      "cell_type": "markdown",
      "metadata": {
        "id": "yT5h-vUPMicC"
      },
      "source": [
        "487. Max Consecutive Ones II"
      ]
    },
    {
      "cell_type": "code",
      "metadata": {
        "id": "u33cTeRJMi2J"
      },
      "source": [
        "class Solution:\n",
        "    def findMaxConsecutiveOnes(self, nums: List[int]) -> int:\n",
        "        if len(nums) == 0:\n",
        "            return 0\n",
        "        \n",
        "        left = right = 0\n",
        "        max_subString_len = 0\n",
        "        subString_dict = collections.defaultdict(int)\n",
        "        max_1_freq = 0\n",
        "        \n",
        "        while right < len(nums):\n",
        "            # right pointer\n",
        "            subString_dict[nums[right]] += 1\n",
        "            max_1_freq = max(max_1_freq, subString_dict[1])\n",
        "            \n",
        "            # left pointer\n",
        "            if (right-left+1)-max_1_freq > 1:\n",
        "                # move left pointer to next position\n",
        "                subString_dict[nums[left]] -= 1\n",
        "                left += 1\n",
        "            else:\n",
        "                max_subString_len = max(max_subString_len, (right-left+1))\n",
        "            \n",
        "            right += 1\n",
        "        \n",
        "        return max_subString_len"
      ],
      "execution_count": null,
      "outputs": []
    },
    {
      "cell_type": "markdown",
      "metadata": {
        "id": "golRoZRiuar8"
      },
      "source": [
        ""
      ]
    },
    {
      "cell_type": "code",
      "metadata": {
        "id": "m_Bj6WDYua7k"
      },
      "source": [
        "class Solution:\n",
        "    def lengthOfLongestSubstringKDistinct(self, s: str, k: int) -> int:\n",
        "        if len(s) == 0:\n",
        "            return 0\n",
        "        \n",
        "        subStr_dict = collections.defaultdict(int)\n",
        "        left = right = 0\n",
        "        max_subStr_len = 0\n",
        "        \n",
        "        \n",
        "        while right < len(s):\n",
        "            # right pointer\n",
        "            # print('---')\n",
        "            # print(subStr_dict)\n",
        "            subStr_dict[s[right]] += 1\n",
        "            \n",
        "            # left pointer\n",
        "            if len(subStr_dict) > k:\n",
        "                # move left pointer to next position, given more than k distince characters\n",
        "                subStr_dict[s[left]] -= 1\n",
        "                if subStr_dict[s[left]] == 0:\n",
        "                    del subStr_dict[s[left]]\n",
        "                left += 1\n",
        "            max_subStr_len = max(max_subStr_len, right-left+1)\n",
        "            right += 1\n",
        "        \n",
        "        return max_subStr_len\n",
        "                "
      ],
      "execution_count": null,
      "outputs": []
    },
    {
      "cell_type": "markdown",
      "metadata": {
        "id": "PsJzwfm8Arzl"
      },
      "source": [
        "**LeetCode 209**. Minimum Size Subarray Sum\r\n",
        "\r\n",
        "https://leetcode.com/problems/minimum-size-subarray-sum/\r\n",
        "\r\n",
        "Tag: Two Pointers, Facebook"
      ]
    },
    {
      "cell_type": "code",
      "metadata": {
        "id": "74e1ulRCBC9B"
      },
      "source": [
        "class Solution:\r\n",
        "    def minSubArrayLen(self, target: int, nums: List[int]) -> int:\r\n",
        "        if len(nums) == 0:\r\n",
        "            return 0\r\n",
        "        \r\n",
        "        \r\n",
        "        left = right = 0\r\n",
        "        subStr_sum = 0\r\n",
        "        subStr_len = float('inf')\r\n",
        "        \r\n",
        "        for right in range(len(nums)):\r\n",
        "            subStr_sum += nums[right]\r\n",
        "            \r\n",
        "            while subStr_sum >= target: \r\n",
        "                subStr_len = min(subStr_len, right-left+1)\r\n",
        "                subStr_sum -= nums[left]\r\n",
        "                left += 1\r\n",
        "            # right += 1\r\n",
        "            \r\n",
        "        if subStr_len == float('inf'):\r\n",
        "            return 0\r\n",
        "        else:\r\n",
        "            return subStr_len\r\n",
        "            "
      ],
      "execution_count": null,
      "outputs": []
    },
    {
      "cell_type": "markdown",
      "metadata": {
        "id": "9Ap24uyOBZH-"
      },
      "source": [
        "LeetCode 713. Subarray Product Less Than K\r\n",
        "\r\n",
        "https://leetcode.com/problems/subarray-product-less-than-k/\r\n",
        "\r\n",
        "Tag:Two Pointers"
      ]
    },
    {
      "cell_type": "code",
      "metadata": {
        "id": "E4Hgs_74Bd5R"
      },
      "source": [
        "class Solution:\r\n",
        "    def numSubarrayProductLessThanK(self, nums: List[int], k: int) -> int:\r\n",
        "        if len(nums) == 0:\r\n",
        "            return 0\r\n",
        "        \r\n",
        "        subStr_prod = 1\r\n",
        "        \r\n",
        "        left = 0\r\n",
        "        result = 0\r\n",
        "        \r\n",
        "        for right in range(len(nums)):\r\n",
        "            subStr_prod *= nums[right]\r\n",
        "            if subStr_prod >= k: \r\n",
        "                while subStr_prod >= k and left <= right: \r\n",
        "                    subStr_prod /= nums[left]\r\n",
        "                    left += 1\r\n",
        "            result += right-left+1\r\n",
        "        \r\n",
        "        return result "
      ],
      "execution_count": null,
      "outputs": []
    },
    {
      "cell_type": "markdown",
      "metadata": {
        "id": "WKztASnj9Ozm"
      },
      "source": [
        "**LeetCode 1234**. Replace the Substring for Balanced String\n",
        "\n",
        "https://leetcode.com/problems/replace-the-substring-for-balanced-string/\n",
        "\n",
        "Tag: Two Pointers, Sliding Window, Sub String"
      ]
    },
    {
      "cell_type": "code",
      "metadata": {
        "id": "eMZaMDfc9PHp"
      },
      "source": [
        "def compare(remainingHash, windowHash):\n",
        "    # remainingHash: 四个元素对应的多余的#\n",
        "    # windowHash: 目前sliding window中的四个元素对应的#\n",
        "    \n",
        "    for r in remainingHash:\n",
        "        # 如果remainingHash里面某一个元素的频数大于sliding window中的元素的频数，那么我们还是需要通过移动right pointer to put more data to sliding window\n",
        "        if remainingHash[r] > windowHash[r]: \n",
        "            return False # not move sliding window\n",
        "    # 如果remainingHash里面所有元素的# 都小于sliding window中的元素的#，说明sliding window选大了，那么就需要通过move sliding window看是否能变小一点\n",
        "    return True # move sliding window\n",
        "    \n",
        "class Solution:\n",
        "    def balancedString(self, s: str) -> int:\n",
        "        \n",
        "        intervals = len(s) / 4 \n",
        "        sHash = collections.Counter(s)\n",
        "             \n",
        "        remainingHash = {}\n",
        "        \n",
        "        for c in sHash:\n",
        "            if sHash[c] > intervals:\n",
        "                remainingHash[c] = sHash[c] - intervals\n",
        "        \n",
        "        # remaining table里面存的是四个元素对应多余的#\n",
        "        # QQQQ的remaining table里面就应该是\n",
        "        # Q:3; W:0; E:0; R:0\n",
        "        \n",
        "        if not remainingHash:\n",
        "            return 0\n",
        "                \n",
        "        leftPointer, rightPointer, minimum = 0,0, len(s)\n",
        "        \n",
        "        windowHash = {'Q':0,'W':0,'E':0,'R':0}\n",
        "        \n",
        "        \n",
        "        while rightPointer < len(s):\n",
        "            # right pointer\n",
        "            windowHash[s[rightPointer]] += 1\n",
        "            rightPointer += 1\n",
        "            \n",
        "            # left pointer\n",
        "            while compare(remainingHash, windowHash):\n",
        "                minimum = min(minimum, rightPointer - leftPointer)\n",
        "                windowHash[s[leftPointer]] -= 1\n",
        "                leftPointer += 1\n",
        "            \n",
        "        return minimum"
      ],
      "execution_count": null,
      "outputs": []
    },
    {
      "cell_type": "markdown",
      "metadata": {
        "id": "fAwHkBjCAFjp"
      },
      "source": [
        "**LeetCode 1658**. Minimum Operations to Reduce X to Zero\n",
        "\n",
        "https://leetcode.com/problems/minimum-operations-to-reduce-x-to-zero/\n",
        "\n",
        "Tag: Two Pointers, sub String"
      ]
    },
    {
      "cell_type": "code",
      "metadata": {
        "id": "kCIkZ59xAXY-"
      },
      "source": [
        "# my initial answer but TLE\n",
        "class Solution:\n",
        "    def minOperations(self, nums: List[int], x: int) -> int:\n",
        "        if len(nums) == 0:\n",
        "            return -1\n",
        "        \n",
        "        left_sum = []\n",
        "        right_sum = []\n",
        "        \n",
        "        l = 0\n",
        "        for i in nums:\n",
        "            l += i\n",
        "            left_sum.append(l)\n",
        "        left_sum = [0] + left_sum\n",
        "        \n",
        "        print(left_sum)\n",
        "        \n",
        "        r = 0\n",
        "        for j in range(len(nums)-1,-1,-1):\n",
        "            r += nums[j]\n",
        "            right_sum.append(r)\n",
        "        right_sum = [0] + right_sum\n",
        "        print(right_sum)\n",
        "        \n",
        "        l = 0\n",
        "        min_ops = float('inf')\n",
        "        \n",
        "        for l in range(len(left_sum)):\n",
        "            if x - left_sum[l]  in right_sum:\n",
        "                r = len(nums) - right_sum.index(x-left_sum[l])\n",
        "                print('l: ', l)\n",
        "                print('r: ', right_sum.index(x-left_sum[l]))\n",
        "                # 确保两个pointer不相交\n",
        "                if l <= r:\n",
        "                    min_ops = min(min_ops, (l)+(right_sum.index(x-left_sum[l])))\n",
        "        \n",
        "        if min_ops == float('inf'):\n",
        "            return -1\n",
        "        else:\n",
        "            return min_ops\n",
        "                \n",
        "            "
      ],
      "execution_count": null,
      "outputs": []
    },
    {
      "cell_type": "code",
      "metadata": {
        "id": "wYYNR41qJq4c"
      },
      "source": [
        "class Solution:\n",
        "    def minOperations(self, nums: List[int], x: int) -> int:\n",
        "        # 把问题转换成了找sum是target的substring的问题。。。就是说，把从找两段分开的substring的问题，通过一个减法，变成找中间那段连续的，sum=target的substring的问题。。。\n",
        "        target = sum(nums) - x\n",
        "        if target < 0: return \"-1\"\n",
        "        if target == 0: return len(nums)\n",
        "\n",
        "        left = 0\n",
        "        cur_sum = 0\n",
        "        finded_target_length = -1\n",
        "\n",
        "        for i in range(len(nums)):\n",
        "            if cur_sum < target:\n",
        "                cur_sum = cur_sum + nums[i]\n",
        "            while cur_sum >= target:\n",
        "                if cur_sum == target:\n",
        "                    finded_target_length = max(finded_target_length, i - left + 1)\n",
        "                cur_sum = cur_sum - nums[left]\n",
        "                left += 1\n",
        "        return len(nums) - finded_target_length if finded_target_length != -1 else -1\n",
        "                \n",
        "            "
      ],
      "execution_count": null,
      "outputs": []
    },
    {
      "cell_type": "markdown",
      "metadata": {
        "id": "FpRFwXPQMDta"
      },
      "source": [
        "# Summary of Sliding Windows\n",
        "\n",
        "这类问题一般都是求一个string里面满足某些特定条件的substring. 但整体的结构如下：\n",
        "\n",
        "1. 利用collections.defaultdict构建一个不会出现因为没有key而导致报错的dictionary\n",
        "\n",
        "2. 遍历整个string\n",
        "\n",
        "3. 移动右边的pointer: 一般而言，移动右边的指针比较简单，没有什么特别要求。但最后在移动right pointer，因为如果之前就移动right pointer的话，后面再用right pointer的话，就不是指向我们原来的位置了。\n",
        "\n",
        "4. 移动左边的pointer： 问题的难度在于如何移动左边的pointer。同时可以通过del删除dictionary中的一些元素以节约space（不一定要做,但也要看具体的情况，有时候必须得做）。要考虑在什么情况需要移动left pointer。如果有k的话，不要改动k，而且通过substring作为一个整体去看怎么能和k联系起来。基本上几种常见的判断，一个是判断整个字典的len，一个是判断字典中频数和k之间的关系。\n"
      ]
    },
    {
      "cell_type": "markdown",
      "metadata": {
        "id": "y7O5tbZqNfnj"
      },
      "source": [
        "**LeetCode 75**. Sort Colors\r\n",
        "\r\n",
        "https://leetcode.com/problems/sort-colors/\r\n",
        "\r\n",
        "Tag: Two Pointers, Facebook, Microsoft"
      ]
    },
    {
      "cell_type": "code",
      "metadata": {
        "id": "ThRjr8XJNe6W"
      },
      "source": [
        "class Solution:\r\n",
        "    def sortColors(self, nums: List[int]) -> None:\r\n",
        "        \"\"\"\r\n",
        "        Do not return anything, modify nums in-place instead.\r\n",
        "        \"\"\"\r\n",
        "        # nums.sort()\r\n",
        "        # return nums\r\n",
        "        \r\n",
        "        if len(nums) == 0:\r\n",
        "            return 0\r\n",
        "        \r\n",
        "        if len(nums) == 1:\r\n",
        "            return nums\r\n",
        "        \r\n",
        "        idx_0 = 0 # idx to put next 0\r\n",
        "        idx_2 = len(nums) - 1 # idx to put next 2\r\n",
        "        idx = 0\r\n",
        "        \r\n",
        "        while idx < idx_2: # 注意终止条件\r\n",
        "            if nums[idx] == 0: # 如果遇到0，那么就把nums[idx]和nums[idx_0]交换\r\n",
        "                nums[idx], nums[idx_0] = nums[idx_0], nums[idx]\r\n",
        "                idx_0 += 1 # move to next position for 0\r\n",
        "                \r\n",
        "            if nums[idx] == 2: # 如果遇到2，那么就把nums[idx]和nums[idx_2]交换\r\n",
        "                nums[idx], nums[idx_2] = nums[idx_2], nums[idx]\r\n",
        "                idx_2 -= 1 # move to next position for 2\r\n",
        "                idx -= 1 # 但有一个问题，如果之前的nums[idx_2]也是2，那么它就被换到前面去了。所以这个时候，我们就要往前退一个，这样我们就能再次check idx了（这个时候的nums[idx]可能是换过来的2）\r\n",
        "            idx += 1 \r\n",
        "        \r\n",
        "        return nums"
      ],
      "execution_count": null,
      "outputs": []
    },
    {
      "cell_type": "markdown",
      "metadata": {
        "id": "k0HklqYPOWmH"
      },
      "source": [
        "**LeetCode 524**. Longest Word in Dictionary through Deleting\r\n",
        "\r\n",
        "https://leetcode.com/problems/longest-word-in-dictionary-through-deleting/\r\n",
        "\r\n",
        "Tag: Two Pointers, Google"
      ]
    },
    {
      "cell_type": "code",
      "metadata": {
        "id": "wq3SUoe7Ocw5"
      },
      "source": [
        "class Solution:\r\n",
        "    # check if s is a substring of t\r\n",
        "    def isSubString(self, s: str, t:str) -> bool:\r\n",
        "        if len(s) == 0 or len(t) == 0 or len(s)> len(t):\r\n",
        "            return False\r\n",
        "\r\n",
        "        for i in range(len(s)):\r\n",
        "            try:\r\n",
        "                idx = t.index(s[i]) # always return the smaller index if duplicates\r\n",
        "            except ValueError:\r\n",
        "                return False # doesn't find that char, return False\r\n",
        "\r\n",
        "            t = t[idx+1:] # move to rest of t\r\n",
        "\r\n",
        "        return True # no error happens, s is subtring of t\r\n",
        "    \r\n",
        "    def findLongestWord(self, s: str, d: List[str]) -> str:\r\n",
        "        if len(s) == 0 or len(d) == 0:\r\n",
        "            return \"\"\r\n",
        "        \r\n",
        "        # create a ordered dictionary for d by its word + lengh of each word\r\n",
        "        d = sorted(d, key=len, reverse=True)\r\n",
        "        \r\n",
        "        output = []\r\n",
        "        max_subStr_len = 0\r\n",
        "        \r\n",
        "        for word in d:\r\n",
        "            if self.isSubString(word, s) and len(word) >= max_subStr_len:\r\n",
        "                output.append(word)\r\n",
        "                max_subStr_len = max(max_subStr_len, len(word))\r\n",
        "        if not output:\r\n",
        "            return \"\"\r\n",
        "        else:\r\n",
        "            output.sort()\r\n",
        "            return output[0]\r\n",
        "        "
      ],
      "execution_count": null,
      "outputs": []
    },
    {
      "cell_type": "markdown",
      "metadata": {
        "id": "56FFzggVrI2X"
      },
      "source": [
        "**LeetCode 259**. 3Sum Smaller\n",
        "\n",
        "https://leetcode.com/problems/3sum-smaller/\n",
        "\n",
        "Tag: Google, Two Pointers"
      ]
    },
    {
      "cell_type": "code",
      "metadata": {
        "id": "rV69PlcMrJK5"
      },
      "source": [
        "class Solution:\n",
        "    def threeSumSmaller(self, nums: List[int], target: int) -> int:\n",
        "        # nums is not sorted and cannot change order\n",
        "        # corner case\n",
        "        if len(nums) == 0:\n",
        "            return 0\n",
        "        \n",
        "        nums.sort() # that is the 1st key\n",
        "        output = 0\n",
        "        for x in range(len(nums)):\n",
        "            y = x+1\n",
        "            z = len(nums)-1\n",
        "            while y < z:\n",
        "                curr = nums[x]+nums[y]+nums[z]\n",
        "                if curr < target:\n",
        "                    output += (z-y) # that is the 2nd key. z-y的所有元素都是满足条件的\n",
        "                    y += 1 \n",
        "                else:\n",
        "                    z -= 1\n",
        "        return output\n",
        "                \n",
        "        \n",
        "        # o(n^3)\n",
        "#         output = 0\n",
        "        \n",
        "#         for x in range(len(nums)):\n",
        "#             for y in range(x+1, len(nums)):\n",
        "#                 for z in range(y+1, len(nums)):\n",
        "#                     if nums[x] + nums[y] + nums[z] < target:\n",
        "#                         output += 1\n",
        "#         return output"
      ],
      "execution_count": null,
      "outputs": []
    },
    {
      "cell_type": "markdown",
      "metadata": {
        "id": "5L3uyopI1D4H"
      },
      "source": [
        "**LeetCode 16**. 3Sum Closest\r\n",
        "\r\n",
        "https://leetcode.com/problems/3sum-closest/\r\n",
        "\r\n",
        "Tag: Two Pointers, Sliding Windows, Bloomberg"
      ]
    },
    {
      "cell_type": "code",
      "metadata": {
        "id": "FSDPtIoh1ELH"
      },
      "source": [
        "class Solution:\r\n",
        "    def threeSumClosest(self, nums: List[int], target: int) -> int:\r\n",
        "        if len(nums) == 0:\r\n",
        "            return 0 \r\n",
        "        # 3 sum一般都需要排序\r\n",
        "        nums.sort()\r\n",
        "        diff = float('inf')\r\n",
        "        \r\n",
        "        for idx, n in enumerate(nums): # 1st index \r\n",
        "          # other two index is one next to 1st index and the last index\r\n",
        "            low, high = idx+1, len(nums)-1\r\n",
        "            while low < high:\r\n",
        "                curr_total = nums[idx] + nums[low] + nums[high]\r\n",
        "                # we find a combine that has lower gap from target\r\n",
        "                if abs(target-curr_total) < abs(diff):\r\n",
        "                  # new difference\r\n",
        "                    diff = target - curr_total\r\n",
        "                \r\n",
        "                if curr_total < target:\r\n",
        "                    low += 1\r\n",
        "                else:\r\n",
        "                    high -= 1\r\n",
        "            # 这是最理想的状态，curr_total 和 target一样\r\n",
        "            if diff == 0:\r\n",
        "                break\r\n",
        "            \r\n",
        "        \r\n",
        "        return target - diff"
      ],
      "execution_count": null,
      "outputs": []
    },
    {
      "cell_type": "markdown",
      "metadata": {
        "id": "0si5jOQNH2Rw"
      },
      "source": [
        "**LeetCode 923**. 3Sum With Multiplicity\n",
        "\n",
        "https://leetcode.com/problems/3sum-with-multiplicity/\n",
        "\n",
        "Tag: Two Pointers"
      ]
    },
    {
      "cell_type": "code",
      "metadata": {
        "id": "1LKMR-nuIA6I"
      },
      "source": [
        "class Solution:\n",
        "     def threeSumMulti(self, A: List[int], target: int) -> int: \n",
        "        cnt = collections.Counter(A)\n",
        "        keys = sorted(cnt)\n",
        "        s = 0\n",
        "        for i, ki in enumerate(keys):\n",
        "            n = cnt[ki]\n",
        "            # 如果三个元素中有一个比target都大了，那肯定不行了。所以只能break了\n",
        "            if ki>target: \n",
        "                break\n",
        "            elif 3*ki==target:                                      # case1 A[i] == A[j] == A[k]\n",
        "                s += n*(n-1)*(n-2)//6 if n>=3 else 0                # combination Cr(n, 3)\n",
        "            elif target-2*ki in keys:                               # case2 A[i] == A[j] != A[k] or A[i] != A[j] == A[k]\n",
        "                s += cnt[target-2*ki]*n*(n-1)//2 if n>=2 else 0     # combination Cr(n, 2)\n",
        "            for j, kj in enumerate(keys[i+1:], i+1):                # i+1 是起始的index\n",
        "                num = target-ki-kj\n",
        "                if num<0: \n",
        "                    break\n",
        "                elif num in keys[j+1:]:                             # case3 A[i] != A[j] != A[k]\n",
        "                    s += n*cnt[kj]*cnt[num]\n",
        "        return s%(10**9+7)"
      ],
      "execution_count": null,
      "outputs": []
    },
    {
      "cell_type": "markdown",
      "metadata": {
        "id": "2QSahAGK_hw-"
      },
      "source": [
        "**LeetCode 18**. 4Sum\n",
        "\n",
        "https://leetcode.com/problems/4sum/\n",
        "\n",
        "Tag: Two Pointers, n Sum"
      ]
    },
    {
      "cell_type": "code",
      "metadata": {
        "id": "zd--Sb4A_iKr"
      },
      "source": [
        "class Solution:\n",
        "    def fourSum(self, nums: List[int], target: int) -> List[List[int]]:\n",
        "        if len(nums) < 4:\n",
        "            return \n",
        "    \n",
        "        nums.sort()\n",
        "        result = set()\n",
        "        \n",
        "        for idx_1 in range(len(nums)):\n",
        "            for idx_2 in range(idx_1+1, len(nums)):\n",
        "                idx_3 = idx_2 + 1\n",
        "                idx_4 = len(nums)-1\n",
        "                while idx_3 < idx_4:\n",
        "                    curr_sum = nums[idx_1] + nums[idx_2] + nums[idx_3] + nums[idx_4]\n",
        "                    if curr_sum == target: \n",
        "                        result.add((nums[idx_1], nums[idx_2], nums[idx_3], nums[idx_4]))\n",
        "                        idx_3 += 1\n",
        "                        idx_4 -= 1\n",
        "                    elif curr_sum < target:\n",
        "                        idx_3 += 1\n",
        "                    else:\n",
        "                        idx_4 -= 1\n",
        "                \n",
        "        return list(result)"
      ],
      "execution_count": null,
      "outputs": []
    },
    {
      "cell_type": "markdown",
      "metadata": {
        "id": "jDtchvq2F1Ht"
      },
      "source": [
        "# n-Sum Problems Summary\r\n",
        "\r\n",
        "*   n-Sum问题一般都需要对原来的list进行排序，这样才能利用大小关系移动left， right pointers\r\n",
        "\r\n"
      ]
    },
    {
      "cell_type": "markdown",
      "metadata": {
        "id": "lc4d_2STrrCF"
      },
      "source": [
        "**LeetCode 881**. Boats to Save People\n",
        "\n",
        "https://leetcode.com/problems/boats-to-save-people/\n",
        "\n",
        "Tag: Two Pointers, Greedy"
      ]
    },
    {
      "cell_type": "code",
      "metadata": {
        "id": "BXBqwFcGr0lT"
      },
      "source": [
        "class Solution:\n",
        "    def numRescueBoats(self, people: List[int], limit: int) -> int:\n",
        "        if len(people) == 0 or limit == 0:\n",
        "            return 0\n",
        "        \n",
        "        people.sort()\n",
        "        \n",
        "        boat = 0\n",
        "        \n",
        "        left = 0 \n",
        "        right = len(people)-1\n",
        "        \n",
        "        while left < right:\n",
        "            if people[left] + people[right] <= limit:\n",
        "                # need a new boat\n",
        "                boat += 1\n",
        "                left += 1\n",
        "                right -= 1\n",
        "            else:\n",
        "                # two people are too heavy. then just put right people on boat\n",
        "                boat += 1\n",
        "                right -= 1\n",
        "        \n",
        "        if left == right:\n",
        "            boat += 1\n",
        "        return boat\n",
        "                "
      ],
      "execution_count": null,
      "outputs": []
    },
    {
      "cell_type": "markdown",
      "metadata": {
        "id": "ykM9Gejbpc8u"
      },
      "source": [
        "**LeetCode 948**. Bag of Tokens\n",
        "\n",
        "https://leetcode.com/problems/bag-of-tokens/\n",
        "\n",
        "Tag: Two Pointers, Google"
      ]
    },
    {
      "cell_type": "code",
      "metadata": {
        "id": "InmpOrzipdN9"
      },
      "source": [
        "class Solution:\n",
        "    def bagOfTokensScore(self, tokens: List[int], P: int) -> int:\n",
        "        if len(tokens) == 0:\n",
        "            return 0\n",
        "        \n",
        "        tokens.sort()\n",
        "        score = 0\n",
        "        l = 0\n",
        "        r = len(tokens)-1\n",
        "        # the general strategy is to face up smaller token to gain score and face down larger token to gain power. \n",
        "        while l <= r and (score or P>= tokens[l]):\n",
        "            # if P >= tokens[l]\n",
        "            if P >= tokens[l]:\n",
        "                score += 1\n",
        "                P -= tokens[l]\n",
        "                l += 1\n",
        "            elif l != r:\n",
        "                score -= 1\n",
        "                P += tokens[r]\n",
        "                r -= 1\n",
        "            \n",
        "            else:\n",
        "                break\n",
        "        return score"
      ],
      "execution_count": null,
      "outputs": []
    },
    {
      "cell_type": "markdown",
      "metadata": {
        "id": "C8J0w5_CBZ22"
      },
      "source": [
        "**LeetCode567**. Permutation in String\n",
        "\n",
        "https://leetcode.com/problems/permutation-in-string/\n",
        "\n",
        "Tag: Two Pointer, Sliding Windows, Permutation"
      ]
    },
    {
      "cell_type": "code",
      "metadata": {
        "id": "qC_58BzUBaRF"
      },
      "source": [
        "class Solution:\n",
        "    def checkInclusion(self, s1: str, s2: str) -> bool:\n",
        "        if len(s1) == 0 or len(s2) == 0:\n",
        "            return False\n",
        "        \n",
        "        new_target_str = ''.join(sorted(s1)) # we user sorted to avoid the order issue due to permutation. but it will be very slow\n",
        "        curr_str = ''\n",
        "        \n",
        "        for s in s2:\n",
        "            curr_str += s\n",
        "            # only the length of curr_str = lenght of target_str, we start to look into it\n",
        "            if len(curr_str) == len(s1): \n",
        "                if ''.join(sorted(curr_str)) == ''.join(sorted(s1)):\n",
        "                    return True\n",
        "                curr_str = curr_str[1:]\n",
        "            \n",
        "        return False\n"
      ],
      "execution_count": null,
      "outputs": []
    },
    {
      "cell_type": "markdown",
      "metadata": {
        "id": "Zfic0S4oBm_g"
      },
      "source": [
        "**LeetCode 142**. Linked List Cycle II\r\n",
        "\r\n",
        "https://leetcode.com/problems/linked-list-cycle-ii/\r\n",
        "\r\n",
        "Tag: Two Pointers"
      ]
    },
    {
      "cell_type": "code",
      "metadata": {
        "id": "onvRULY7BrlE"
      },
      "source": [
        "# Definition for singly-linked list.\r\n",
        "# class ListNode:\r\n",
        "#     def __init__(self, x):\r\n",
        "#         self.val = x\r\n",
        "#         self.next = None\r\n",
        "\r\n",
        "class Solution:\r\n",
        "    def isCycle(self, head: ListNode) -> ListNode:\r\n",
        "        slow_pointer = head\r\n",
        "        fast_pointer = head\r\n",
        "        while fast_pointer and fast_pointer.next: # must use fast_pointer, given fast_pointer is ahead of slow_pointer\r\n",
        "            slow_pointer = slow_pointer.next\r\n",
        "            fast_pointer = fast_pointer.next.next\r\n",
        "            if slow_pointer == fast_pointer:\r\n",
        "                return True, slow_pointer\r\n",
        "        return False, slow_pointer\r\n",
        "    \r\n",
        "    def detectCycle(self, head: ListNode) -> ListNode:\r\n",
        "        cycle_flag, fast = self.isCycle(head)\r\n",
        "        \r\n",
        "        # print(cycle_flag, fast)\r\n",
        "        \r\n",
        "        if cycle_flag:\r\n",
        "            while head != fast:\r\n",
        "                head = head.next\r\n",
        "                fast = fast.next\r\n",
        "            return head\r\n",
        "        return None\r\n",
        "        \r\n",
        "        "
      ],
      "execution_count": null,
      "outputs": []
    },
    {
      "cell_type": "markdown",
      "metadata": {
        "id": "v2krjMMX9071"
      },
      "source": [
        "**LeetCode 19**. Remove Nth Node From End of List\n",
        "\n",
        "https://leetcode.com/problems/remove-nth-node-from-end-of-list/\n",
        "\n",
        "Tag: Two Pointers, Linked List"
      ]
    },
    {
      "cell_type": "code",
      "metadata": {
        "id": "0gayTWJL-BQC"
      },
      "source": [
        "# Definition for singly-linked list.\n",
        "# class ListNode:\n",
        "#     def __init__(self, val=0, next=None):\n",
        "#         self.val = val\n",
        "#         self.next = next\n",
        "class Solution:\n",
        "    def removeNthFromEnd(self, head: ListNode, n: int) -> ListNode:\n",
        "        slow = head\n",
        "        fast = head\n",
        "        \n",
        "        for i in range(n):\n",
        "            fast = fast.next\n",
        "            \n",
        "        # 如果fast直接跑到终点(None)了，那么只需要往后移动一位就好了\n",
        "        if not fast:\n",
        "            return head.next\n",
        "        \n",
        "        while fast.next:\n",
        "            slow = slow.next\n",
        "            fast = fast.next\n",
        "            \n",
        "        slow.next = slow.next.next\n",
        "    \n",
        "        return head"
      ],
      "execution_count": null,
      "outputs": []
    },
    {
      "cell_type": "markdown",
      "metadata": {
        "id": "M9EoSpCe-I-E"
      },
      "source": [
        "# Summary of Linked List\n",
        "\n",
        "*   Linked List的指针一般是slow pointer和fast pointer\n",
        "\n"
      ]
    },
    {
      "cell_type": "markdown",
      "metadata": {
        "id": "kuQfkrDIB2uD"
      },
      "source": [
        "**LeetCode 826**. Most Profit Assigning Work\r\n",
        "\r\n",
        "https://leetcode.com/problems/most-profit-assigning-work/\r\n",
        "\r\n",
        "Tag: Two Pointers"
      ]
    },
    {
      "cell_type": "code",
      "metadata": {
        "id": "fGloOcvsB3Mu"
      },
      "source": [
        "class Solution:\r\n",
        "    def maxProfitAssignment(self, difficulty: List[int], profit: List[int], worker: List[int]) -> int:\r\n",
        "        for i in range(len(difficulty)):\r\n",
        "            difficulty[i] = (difficulty[i], profit[i])\r\n",
        "        # difficulty.sort(key = lambda x:x[0]) # O(NlogN)\r\n",
        "        difficulty.sort()\r\n",
        "        print(difficulty)\r\n",
        "        i, L = 0, len(difficulty)\r\n",
        "        ans, most = 0, 0\r\n",
        "        for wker in sorted(worker):\r\n",
        "            while i < L and difficulty[i][0] <= wker:\r\n",
        "                most = max(most, difficulty[i][1])\r\n",
        "                i += 1\r\n",
        "            ans += most\r\n",
        "        return ans"
      ],
      "execution_count": null,
      "outputs": []
    },
    {
      "cell_type": "markdown",
      "metadata": {
        "id": "h7mCtfF7r8Eh"
      },
      "source": [
        "**LeetCode 1616**. Split Two Strings to Make Palindrome\n",
        "\n",
        "https://leetcode.com/problems/split-two-strings-to-make-palindrome/\n",
        "\n",
        "Tag: Two Pointers, Palindrome"
      ]
    },
    {
      "cell_type": "code",
      "metadata": {
        "id": "9tqE8iJWsMun"
      },
      "source": [
        "class Solution:\n",
        "# Following method will TLE\n",
        "#     def checkPalindrome(self, a):\n",
        "#         i = 0\n",
        "#         j = len(a)-1\n",
        "#         while i <= j:\n",
        "#             if a[i] != a[j]:\n",
        "#                 return False\n",
        "#             i += 1\n",
        "#             j -= 1\n",
        "#         return True\n",
        "#     def checkPalindromeFormation(self, a: str, b: str) -> bool:\n",
        "#         if len(a) == 0 or len(a) != len(b):\n",
        "#             return False\n",
        "        \n",
        "#         if len(a) == 1:\n",
        "#             return True\n",
        "        \n",
        "#         for i in range(len(a)):\n",
        "#             # print(a[:i+1]+b[i+1:], ' - ', b[:i+1]+a[i+1:])\n",
        "#             flag = self.checkPalindrome(a[:i+1]+b[i+1:]) or self.checkPalindrome(b[:i+1]+a[i+1:])  \n",
        "#             if flag:\n",
        "#                 return flag\n",
        "#         return False\n",
        "\n",
        "    def check(self, a:str, b:str) -> bool:\n",
        "        i = 0\n",
        "        j = len(a)-1\n",
        "        while i < j and a[i]==b[j]:\n",
        "            i+=1\n",
        "            j-=1\n",
        "        return a[i:j+1]==a[i:j+1][::-1] or b[i:j+1]==b[i:j+1][::-1]\n",
        "        \n",
        "    def checkPalindromeFormation(self, a: str, b: str) -> bool:\n",
        "        return self.check(a, b) or self.check (b, a)"
      ],
      "execution_count": null,
      "outputs": []
    }
  ]
}