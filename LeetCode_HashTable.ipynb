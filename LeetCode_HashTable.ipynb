{
  "nbformat": 4,
  "nbformat_minor": 0,
  "metadata": {
    "colab": {
      "name": "LeetCode_HashTable.ipynb",
      "provenance": [],
      "authorship_tag": "ABX9TyMB96bDCt2ALs+BGtSHFtFr",
      "include_colab_link": true
    },
    "kernelspec": {
      "name": "python3",
      "display_name": "Python 3"
    }
  },
  "cells": [
    {
      "cell_type": "markdown",
      "metadata": {
        "id": "view-in-github",
        "colab_type": "text"
      },
      "source": [
        "<a href=\"https://colab.research.google.com/github/dguo4/LeetCode/blob/master/LeetCode_HashTable.ipynb\" target=\"_parent\"><img src=\"https://colab.research.google.com/assets/colab-badge.svg\" alt=\"Open In Colab\"/></a>"
      ]
    },
    {
      "cell_type": "markdown",
      "metadata": {
        "id": "gS_XIvai3fpZ"
      },
      "source": [
        "LeetCode771. Jewels and Stones\n",
        "\n",
        "https://leetcode.com/problems/jewels-and-stones/\n",
        "\n",
        "Tag: "
      ]
    },
    {
      "cell_type": "code",
      "metadata": {
        "id": "ld6STr5424XG"
      },
      "source": [
        "class Solution:\n",
        "    def numJewelsInStones(self, jewels: str, stones: str) -> int:\n",
        "        if len(jewels) == 0 or len(stones) == 0:\n",
        "            return 0 \n",
        "        \n",
        "        stones_dict = collections.Counter(stones)\n",
        "        result = 0\n",
        "        \n",
        "        \n",
        "        for k in stones_dict.keys():\n",
        "            if k in jewels:\n",
        "                result += stones_dict[k]\n",
        "                \n",
        "        return result"
      ],
      "execution_count": null,
      "outputs": []
    },
    {
      "cell_type": "markdown",
      "metadata": {
        "id": "V8SJnBZy3rn8"
      },
      "source": [
        "LeetCode1512. Number of Good Pairs\n",
        "\n",
        "https://leetcode.com/problems/number-of-good-pairs/\n",
        "\n",
        "Tag: "
      ]
    },
    {
      "cell_type": "code",
      "metadata": {
        "id": "gm0E2xto3zff"
      },
      "source": [
        "class Solution:\n",
        "    def numIdenticalPairs(self, nums: List[int]) -> int:\n",
        "        if len(nums) < 2:\n",
        "            return 0\n",
        "        \n",
        "        result = 0\n",
        "        \n",
        "        for i in range(len(nums)-1):\n",
        "            for j in range(i+1, len(nums)):\n",
        "                if nums[i] == nums[j]:\n",
        "                    result += 1\n",
        "                    # print(i, ' ', j)\n",
        "        \n",
        "        return result"
      ],
      "execution_count": null,
      "outputs": []
    },
    {
      "cell_type": "markdown",
      "metadata": {
        "id": "sGJsJ0Ca31_D"
      },
      "source": [
        "LeetCode1365. How Many Numbers Are Smaller Than the Current Number\n",
        "\n",
        "https://leetcode.com/problems/how-many-numbers-are-smaller-than-the-current-number/\n",
        "\n",
        "Tag:"
      ]
    },
    {
      "cell_type": "code",
      "metadata": {
        "id": "sE-0o6vj37-D"
      },
      "source": [
        "class Solution:\n",
        "    def smallerNumbersThanCurrent(self, nums: List[int]) -> List[int]:\n",
        "        if len(nums) == 0:\n",
        "            return \n",
        "        \n",
        "        nums_dict = dict(sorted(collections.Counter(nums).items())) \n",
        "        # dict(sorted(d.items(), key=lambda item: item[0])) # sort a dictionary by key\n",
        "        # dict(sorted(d.items(), key=lambda item: item[1])) # sort a dictionary by value\n",
        "        # print(nums_dict)\n",
        "        nums_dict_key = list(nums_dict.keys())\n",
        "        \n",
        "        for i in range(len(nums_dict)):\n",
        "            k = nums_dict_key[i]\n",
        "            if i == 0:\n",
        "                nums_dict[k] = [nums_dict[k], 0]\n",
        "            else:\n",
        "                prev_k = nums_dict_key[i-1]\n",
        "                nums_dict[k] = [nums_dict[k], nums_dict[prev_k][0]+nums_dict[prev_k][1]]\n",
        "        # print(nums_dict)\n",
        "        result = [nums_dict[nums[i]][1] for i in range(len(nums))]\n",
        "\n",
        "        return result \n"
      ],
      "execution_count": null,
      "outputs": []
    },
    {
      "cell_type": "markdown",
      "metadata": {
        "id": "jCocLGLr3_cJ"
      },
      "source": [
        "LeetCode 760. Find Anagram Mappings\n",
        "\n",
        "https://leetcode.com/problems/find-anagram-mappings/\n",
        "\n",
        "Tag: "
      ]
    },
    {
      "cell_type": "code",
      "metadata": {
        "id": "oEUO0jy94FEk"
      },
      "source": [
        "class Solution:\n",
        "    def anagramMappings(self, A: List[int], B: List[int]) -> List[int]:\n",
        "        if len(A) == 0 or len(B) == 0:\n",
        "            return 0\n",
        "        \n",
        "        result = []\n",
        "        B_dict = {}\n",
        "        \n",
        "        # build the index dictionary\n",
        "        for idx, b in enumerate(B):\n",
        "            if b not in B_dict:\n",
        "                B_dict[b] = []\n",
        "                B_dict[b].append(idx)\n",
        "            else:\n",
        "                B_dict[b].append(idx)\n",
        "        \n",
        "        # print(B_dict)\n",
        "        \n",
        "        # walk through A\n",
        "        for a in A:\n",
        "            result.append(B_dict[a].pop())\n",
        "                \n",
        "        return result"
      ],
      "execution_count": null,
      "outputs": []
    },
    {
      "cell_type": "markdown",
      "metadata": {
        "id": "GJpSt9NX4Kru"
      },
      "source": [
        "LeetCode 1213. Intersection of Three Sorted Arrays\n",
        "\n",
        "https://leetcode.com/problems/intersection-of-three-sorted-arrays/\n",
        "\n",
        "Tag: "
      ]
    },
    {
      "cell_type": "code",
      "metadata": {
        "id": "5pK6FrOx4HO-"
      },
      "source": [
        ""
      ],
      "execution_count": null,
      "outputs": []
    }
  ]
}