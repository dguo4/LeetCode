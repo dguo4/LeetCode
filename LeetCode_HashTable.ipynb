{
  "nbformat": 4,
  "nbformat_minor": 0,
  "metadata": {
    "colab": {
      "name": "LeetCode_HashTable.ipynb",
      "provenance": [],
      "authorship_tag": "ABX9TyNSAhFTMQWJHdaAcbKc0AaI",
      "include_colab_link": true
    },
    "kernelspec": {
      "name": "python3",
      "display_name": "Python 3"
    }
  },
  "cells": [
    {
      "cell_type": "markdown",
      "metadata": {
        "id": "view-in-github",
        "colab_type": "text"
      },
      "source": [
        "<a href=\"https://colab.research.google.com/github/dguo4/LeetCode/blob/master/LeetCode_HashTable.ipynb\" target=\"_parent\"><img src=\"https://colab.research.google.com/assets/colab-badge.svg\" alt=\"Open In Colab\"/></a>"
      ]
    },
    {
      "cell_type": "markdown",
      "metadata": {
        "id": "gS_XIvai3fpZ"
      },
      "source": [
        "LeetCode771. Jewels and Stones\n",
        "\n",
        "https://leetcode.com/problems/jewels-and-stones/\n",
        "\n",
        "Tag: "
      ]
    },
    {
      "cell_type": "code",
      "metadata": {
        "id": "ld6STr5424XG"
      },
      "source": [
        "class Solution:\n",
        "    def numJewelsInStones(self, jewels: str, stones: str) -> int:\n",
        "        if len(jewels) == 0 or len(stones) == 0:\n",
        "            return 0 \n",
        "        \n",
        "        stones_dict = collections.Counter(stones)\n",
        "        result = 0\n",
        "        \n",
        "        \n",
        "        for k in stones_dict.keys():\n",
        "            if k in jewels:\n",
        "                result += stones_dict[k]\n",
        "                \n",
        "        return result"
      ],
      "execution_count": null,
      "outputs": []
    },
    {
      "cell_type": "markdown",
      "metadata": {
        "id": "V8SJnBZy3rn8"
      },
      "source": [
        "LeetCode1512. Number of Good Pairs\n",
        "\n",
        "https://leetcode.com/problems/number-of-good-pairs/\n",
        "\n",
        "Tag: "
      ]
    },
    {
      "cell_type": "code",
      "metadata": {
        "id": "gm0E2xto3zff"
      },
      "source": [
        "class Solution:\n",
        "    def numIdenticalPairs(self, nums: List[int]) -> int:\n",
        "        if len(nums) < 2:\n",
        "            return 0\n",
        "        \n",
        "        result = 0\n",
        "        \n",
        "        for i in range(len(nums)-1):\n",
        "            for j in range(i+1, len(nums)):\n",
        "                if nums[i] == nums[j]:\n",
        "                    result += 1\n",
        "                    # print(i, ' ', j)\n",
        "        \n",
        "        return result"
      ],
      "execution_count": null,
      "outputs": []
    },
    {
      "cell_type": "markdown",
      "metadata": {
        "id": "sGJsJ0Ca31_D"
      },
      "source": [
        "LeetCode1365. How Many Numbers Are Smaller Than the Current Number\n",
        "\n",
        "https://leetcode.com/problems/how-many-numbers-are-smaller-than-the-current-number/\n",
        "\n",
        "Tag:"
      ]
    },
    {
      "cell_type": "code",
      "metadata": {
        "id": "sE-0o6vj37-D"
      },
      "source": [
        "class Solution:\n",
        "    def smallerNumbersThanCurrent(self, nums: List[int]) -> List[int]:\n",
        "        if len(nums) == 0:\n",
        "            return \n",
        "        \n",
        "        nums_dict = dict(sorted(collections.Counter(nums).items())) \n",
        "        # dict(sorted(d.items(), key=lambda item: item[0])) # sort a dictionary by key\n",
        "        # dict(sorted(d.items(), key=lambda item: item[1])) # sort a dictionary by value\n",
        "        # print(nums_dict)\n",
        "        nums_dict_key = list(nums_dict.keys())\n",
        "        \n",
        "        for i in range(len(nums_dict)):\n",
        "            k = nums_dict_key[i]\n",
        "            if i == 0:\n",
        "                nums_dict[k] = [nums_dict[k], 0]\n",
        "            else:\n",
        "                prev_k = nums_dict_key[i-1]\n",
        "                nums_dict[k] = [nums_dict[k], nums_dict[prev_k][0]+nums_dict[prev_k][1]]\n",
        "        # print(nums_dict)\n",
        "        result = [nums_dict[nums[i]][1] for i in range(len(nums))]\n",
        "\n",
        "        return result \n"
      ],
      "execution_count": null,
      "outputs": []
    },
    {
      "cell_type": "markdown",
      "metadata": {
        "id": "jCocLGLr3_cJ"
      },
      "source": [
        "LeetCode 760. Find Anagram Mappings\n",
        "\n",
        "https://leetcode.com/problems/find-anagram-mappings/\n",
        "\n",
        "Tag: "
      ]
    },
    {
      "cell_type": "code",
      "metadata": {
        "id": "oEUO0jy94FEk"
      },
      "source": [
        "class Solution:\n",
        "    def anagramMappings(self, A: List[int], B: List[int]) -> List[int]:\n",
        "        if len(A) == 0 or len(B) == 0:\n",
        "            return 0\n",
        "        \n",
        "        result = []\n",
        "        B_dict = {}\n",
        "        \n",
        "        # build the index dictionary\n",
        "        for idx, b in enumerate(B):\n",
        "            if b not in B_dict:\n",
        "                B_dict[b] = []\n",
        "                B_dict[b].append(idx)\n",
        "            else:\n",
        "                B_dict[b].append(idx)\n",
        "        \n",
        "        # print(B_dict)\n",
        "        \n",
        "        # walk through A\n",
        "        for a in A:\n",
        "            result.append(B_dict[a].pop())\n",
        "                \n",
        "        return result"
      ],
      "execution_count": null,
      "outputs": []
    },
    {
      "cell_type": "markdown",
      "metadata": {
        "id": "GJpSt9NX4Kru"
      },
      "source": [
        "LeetCode 1213. Intersection of Three Sorted Arrays\n",
        "\n",
        "https://leetcode.com/problems/intersection-of-three-sorted-arrays/\n",
        "\n",
        "Tag: HashTable, Two Pointers, Facebook"
      ]
    },
    {
      "cell_type": "code",
      "metadata": {
        "id": "5pK6FrOx4HO-"
      },
      "source": [
        "class Solution:\n",
        "    def arraysIntersection(self, arr1: List[int], arr2: List[int], arr3: List[int]) -> List[int]:\n",
        "        mix_array = arr1 + arr2 + arr3\n",
        "        mix_dict = collections.Counter(mix_array)\n",
        "        \n",
        "        result = []\n",
        "        \n",
        "        for k in mix_dict.keys():\n",
        "            if mix_dict[k] == 3:\n",
        "                result.append(k)\n",
        "        \n",
        "        return result "
      ],
      "execution_count": null,
      "outputs": []
    },
    {
      "cell_type": "markdown",
      "metadata": {
        "id": "M4jceE_KE_wD"
      },
      "source": [
        "LeetCode 1086. High Five\n",
        "\n",
        "https://leetcode.com/problems/high-five/\n",
        "\n",
        "Tag: HashTable, Sort, Amazon"
      ]
    },
    {
      "cell_type": "code",
      "metadata": {
        "id": "hcjDiNa9FACx"
      },
      "source": [
        "class Solution:\n",
        "    def highFive(self, items: List[List[int]]) -> List[List[int]]:\n",
        "        items_dict = {}\n",
        "        \n",
        "        for i in items:\n",
        "            if i[0] not in items_dict:\n",
        "                items_dict[i[0]] = []\n",
        "            items_dict[i[0]].append(i[1])\n",
        "        \n",
        "        # print(items_dict)\n",
        "        \n",
        "        result  = []\n",
        "        for k in items_dict.keys():\n",
        "            result.append([k, int(sum(sorted(items_dict[k],reverse=True)[:5])/5)])\n",
        "\n",
        "        return sorted(result)\n",
        "            "
      ],
      "execution_count": null,
      "outputs": []
    },
    {
      "cell_type": "markdown",
      "metadata": {
        "id": "txnvp7J0FLJV"
      },
      "source": [
        "LeetCode 1748. Sum of Unique Elements\n",
        "\n",
        "https://leetcode.com/problems/sum-of-unique-elements/\n",
        "\n",
        "Tag: HashTable, Facebook"
      ]
    },
    {
      "cell_type": "code",
      "metadata": {
        "id": "TPiqk2yHFLcW"
      },
      "source": [
        "class Solution:\n",
        "    def sumOfUnique(self, nums: List[int]) -> int:\n",
        "        nums_dict = collections.Counter(nums)\n",
        "        \n",
        "        result = 0\n",
        "        \n",
        "        for k in nums_dict.keys():\n",
        "            if nums_dict[k] == 1:\n",
        "                result += k\n",
        "        \n",
        "        return result "
      ],
      "execution_count": null,
      "outputs": []
    },
    {
      "cell_type": "markdown",
      "metadata": {
        "id": "2fJM2M5PFXdE"
      },
      "source": [
        "LeetCode 961. N-Repeated Element in Size 2N Array\n",
        "\n",
        "https://leetcode.com/problems/n-repeated-element-in-size-2n-array/\n",
        "\n",
        "Tag:HashTable"
      ]
    },
    {
      "cell_type": "code",
      "metadata": {
        "id": "dQjOVFPoFXyX"
      },
      "source": [
        "class Solution:\n",
        "    def repeatedNTimes(self, A: List[int]) -> int:\n",
        "        A_list = collections.Counter(A)\n",
        "        N = len(A)/2\n",
        "        \n",
        "        for k in A_list.keys():\n",
        "            if A_list[k] == N:\n",
        "                return k"
      ],
      "execution_count": null,
      "outputs": []
    }
  ]
}